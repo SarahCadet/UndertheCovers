{
 "cells": [
  {
   "cell_type": "code",
   "execution_count": 8,
   "id": "a14a903f-0eed-4e2b-bcc1-93ac488dd91e",
   "metadata": {
    "jupyter": {
     "source_hidden": true
    },
    "slideshow": {
     "slide_type": "skip"
    },
    "tags": []
   },
   "outputs": [],
   "source": [
    "%run -i ../python/common.py\n",
    "UC_SKIPTERMS=True\n",
    "%run -i ../python/ln_preamble.py"
   ]
  },
  {
   "cell_type": "markdown",
   "id": "cd159d82-a854-41ec-abc9-d2320613d0ba",
   "metadata": {
    "slideshow": {
     "slide_type": "slide"
    },
    "tags": []
   },
   "source": [
    "# SLS Lecture 16 : Caches : Constructing them from first principles"
   ]
  },
  {
   "cell_type": "code",
   "execution_count": 9,
   "id": "d7322daf-1329-467a-90bc-d740e9095bce",
   "metadata": {
    "jupyter": {
     "source_hidden": true
    },
    "slideshow": {
     "slide_type": "skip"
    },
    "tags": []
   },
   "outputs": [
    {
     "data": {
      "text/markdown": [
       "\n",
       "- create a directory `mkdir cache; cd cache`\n",
       "- copy examples\n",
       "- add a `Makefile` to automate assembling and linking\n",
       "    - we are going run the commands by hand this time to highlight the details\n"
      ],
      "text/plain": [
       "<IPython.core.display.Markdown object>"
      ]
     },
     "metadata": {},
     "output_type": "display_data"
    },
    {
     "data": {
      "application/vnd.jupyter.widget-view+json": {
       "model_id": "119b240d7e66438ea3d9b65166349cd5",
       "version_major": 2,
       "version_minor": 0
      },
      "text/plain": [
       "Output(layout=Layout(border='1px solid black', height='100%', overflow_y='scroll'))"
      ]
     },
     "metadata": {},
     "output_type": "display_data"
    }
   ],
   "source": [
    "# setup for sumit examples\n",
    "appdir=os.getenv('HOME')\n",
    "appdir=appdir + \"/caches\"\n",
    "#print(movdir)\n",
    "output=runTermCmd(\"[[ -d \" + appdir + \" ]] &&  rm -rf \"+ appdir + \n",
    "             \";mkdir \" + appdir + \n",
    "             \";cp ../src/SOL6502/Makefile ../src/SOL6502/sum.s ../src/SOL6502/sum.txt ../src/SOL6502/SOL6502.cfg \" + appdir)\n",
    "\n",
    "display(Markdown('''\n",
    "- create a directory `mkdir cache; cd cache`\n",
    "- copy examples\n",
    "- add a `Makefile` to automate assembling and linking\n",
    "    - we are going run the commands by hand this time to highlight the details\n",
    "'''))\n",
    "TermShellCmd(\"ls \" + appdir)"
   ]
  },
  {
   "cell_type": "markdown",
   "id": "4659ec64-3ef0-4bca-8ec2-a277136c0882",
   "metadata": {
    "slideshow": {
     "slide_type": "slide"
    },
    "tags": []
   },
   "source": [
    "## Remember this picture\n",
    "<img src=\"../images/ASSEMBLY-VNA-THECPU/ASSEMBLY-VNA-THECPU.017.png\">"
   ]
  },
  {
   "cell_type": "markdown",
   "id": "affa0168-19bd-4fb5-afe8-85557d9bf7bc",
   "metadata": {
    "slideshow": {
     "slide_type": "slide"
    },
    "tags": []
   },
   "source": [
    "### What is the physical Reality \n",
    "\n",
    "<img src=\"../images/motherboard.png\">"
   ]
  },
  {
   "cell_type": "markdown",
   "id": "aa02f090-c209-4027-a142-f192c521e4f9",
   "metadata": {
    "slideshow": {
     "slide_type": "slide"
    },
    "tags": []
   },
   "source": [
    "## Lets build our Computer\n",
    "\n",
    "<img src=\"../images/6502mb.png\">"
   ]
  },
  {
   "cell_type": "markdown",
   "id": "7b12d354-1b05-44ab-8232-e08d8b351bdc",
   "metadata": {
    "slideshow": {
     "slide_type": "slide"
    },
    "tags": []
   },
   "source": [
    "## A nice Simple CPU - Only 6 registers and no MMU\n",
    "<img src=\"../images/6502Registers.png\">"
   ]
  },
  {
   "cell_type": "markdown",
   "id": "a42ba261-3869-4b7c-aea2-1f7900f63c2f",
   "metadata": {
    "slideshow": {
     "slide_type": "slide"
    },
    "tags": []
   },
   "source": [
    "## Simple Main Memory\n",
    "\n",
    "- Physical Memory : $2^{16} = 65536 \\ \\text{Bytes} = 64 \\ \\text{KiloBytes (Kb)} $\n",
    "- NO Virtual Memory!\n"
   ]
  },
  {
   "cell_type": "markdown",
   "id": "ee375adb-b5b4-4cb3-abd4-5fb3f774480a",
   "metadata": {
    "slideshow": {
     "slide_type": "slide"
    },
    "tags": []
   },
   "source": [
    "## The Code\n",
    "\n",
    "Code we have come to love: A 6502 version of sumit!"
   ]
  },
  {
   "cell_type": "code",
   "execution_count": 10,
   "id": "5704d6d5-24a4-4aed-90bd-c693c8dcbbbb",
   "metadata": {
    "jupyter": {
     "source_hidden": true
    },
    "tags": []
   },
   "outputs": [
    {
     "data": {
      "text/markdown": [
       "<b>CODE: 6502 asm - sum.s\n",
       "<div style=\"width:107em; height:100%; font-size:inherit; overflow: auto;\" >\n",
       "\n",
       "\n",
       "``` gas\n",
       "\t.org $0000     ; starting at address 0x0000\n",
       "\t;; We place things in memory locations by hand \n",
       "\t;; Fill memory 0x0000 - 0xE000 with zeros\n",
       "\t.repeat $E000\n",
       "\t.byte $00\n",
       "\t.endrep\n",
       "\n",
       "\t;; Put our data at 0xE000 \n",
       "\t.byte 10      \t\t; 0xE000 Array length\n",
       "\t.byte 1                 ; Array[0] = 1\n",
       "\t.byte 2\t\t\t; Array[1] = 2\n",
       "\t.byte 3\t\t\t; Array[2] = 3\n",
       "\t.byte 4\t\t\t; Array[3] = 4\n",
       "\t.byte 5\t\t\t; Array[4] = 5\n",
       "\t.byte 6\t\t\t; Array[5] = 6\n",
       "\t.byte 7\t\t\t; Array[6] = 7\n",
       "\t.byte 8\t\t\t; Array[7] = 8\n",
       "\t.byte 9\t\t\t; Array[8] = 9\n",
       "\t.byte 10\t\t; Array[9] = 10\n",
       "\n",
       "\t;; Fill memory from end of data to 0xF000 with zero\n",
       "\t.repeat $1000-11\n",
       "\t.byte $00\n",
       "\t.endrep\n",
       "\t\n",
       "\t;; Put our code at 0xF000\n",
       "\t;; Set address to F000 (this is where our code will live)\n",
       "\t.ORG $F000    \t\t\n",
       "\tLDA #0        ; load A register with 0\n",
       "\tLDX #0\t      ; load X register with 0\n",
       "LOOP:\n",
       "\tCPX $E000     ; compare value in X register with value at E000 (length of Array)\n",
       "\tBEQ DONE      ; if equal then jump to done\n",
       "\tADC $E001,X   ; add value in memory  at M[0xE001 + X register] : A = A + Array[X]\n",
       "\tINX           ; X=X+1\n",
       "\tJMP LOOP      \n",
       "DONE:\n",
       "\tBRK    \n",
       "\n",
       "```\n",
       "\n",
       "\n",
       "</div>\n"
      ],
      "text/plain": [
       "<IPython.core.display.Markdown object>"
      ]
     },
     "metadata": {},
     "output_type": "display_data"
    }
   ],
   "source": [
    "display(Markdown(FileCodeBox(\n",
    "    file=\"../src/SOL6502/sum.s\", \n",
    "    lang=\"gas\", \n",
    "    title=\"<b>CODE: 6502 asm - sum.s\",\n",
    "    h=\"100%\", \n",
    "    w=\"107em\"\n",
    ")))"
   ]
  },
  {
   "cell_type": "markdown",
   "id": "82e4d7cf-1882-40ec-8b90-8beb270b9278",
   "metadata": {
    "slideshow": {
     "slide_type": "slide"
    },
    "tags": []
   },
   "source": [
    "## Our old friends : Assembler and linker\n",
    "\n",
    "- ca65 - assembler different syntax but same idea\n",
    "- ld65 - linker but only using for symbol resolution we are taking care of placing things in memory"
   ]
  },
  {
   "cell_type": "code",
   "execution_count": 11,
   "id": "d9022a55-fe27-4cee-a847-4bcff7d6778b",
   "metadata": {
    "jupyter": {
     "source_hidden": true
    },
    "tags": []
   },
   "outputs": [
    {
     "data": {
      "application/vnd.jupyter.widget-view+json": {
       "model_id": "817ce6f59cf4440f8820cf587ac38761",
       "version_major": 2,
       "version_minor": 0
      },
      "text/plain": [
       "Output(layout=Layout(border='1px solid black', height='100%', overflow_y='scroll'))"
      ]
     },
     "metadata": {},
     "output_type": "display_data"
    }
   ],
   "source": [
    "TermShellCmd(\"make sum.img\", cwd=appdir, prompt='')"
   ]
  },
  {
   "cell_type": "code",
   "execution_count": 12,
   "id": "a47e6225-ab5e-400f-ba2d-9269edf23263",
   "metadata": {
    "jupyter": {
     "source_hidden": true
    },
    "slideshow": {
     "slide_type": "slide"
    },
    "tags": []
   },
   "outputs": [
    {
     "data": {
      "text/markdown": [
       "<b>CODE: 6502 asm listing file\n",
       "<div style=\"width:107em; height:100%; font-size:inherit; overflow: auto;\" >\n",
       "\n",
       "\n",
       "``` gas\n",
       "ca65 V2.18 - Ubuntu 2.18-1\n",
       "Main file   : sum.s\n",
       "Current file: sum.s\n",
       "\n",
       "000000r 1               \t.org $0000     ; starting at address 0x0000\n",
       "000000  1               \t;; We place things in memory locations by hand\n",
       "000000  1               \t;; Fill memory 0x0000 - 0xE000 with zeros\n",
       "000000  1  00 00 00 00  \t.repeat $E000\n",
       "000004  1  00 00 00 00  \n",
       "000008  1  00 00 00 00  \n",
       "00E000  1               \t.byte $00\n",
       "00E000  1               \t.endrep\n",
       "00E000  1               \n",
       "00E000  1               \t;; Put our data at 0xE000\n",
       "00E000  1  0A           \t.byte 10      \t\t; 0xE000 Array length\n",
       "00E001  1  01           \t.byte 1                 ; Array[0] = 1\n",
       "00E002  1  02           \t.byte 2\t\t\t; Array[1] = 2\n",
       "00E003  1  03           \t.byte 3\t\t\t; Array[2] = 3\n",
       "00E004  1  04           \t.byte 4\t\t\t; Array[3] = 4\n",
       "00E005  1  05           \t.byte 5\t\t\t; Array[4] = 5\n",
       "00E006  1  06           \t.byte 6\t\t\t; Array[5] = 6\n",
       "00E007  1  07           \t.byte 7\t\t\t; Array[6] = 7\n",
       "00E008  1  08           \t.byte 8\t\t\t; Array[7] = 8\n",
       "00E009  1  09           \t.byte 9\t\t\t; Array[8] = 9\n",
       "00E00A  1  0A           \t.byte 10\t\t; Array[9] = 10\n",
       "00E00B  1               \n",
       "00E00B  1               \t;; Fill memory from end of data to 0xF000 with zero\n",
       "00E00B  1  00 00 00 00  \t.repeat $1000-11\n",
       "00E00F  1  00 00 00 00  \n",
       "00E013  1  00 00 00 00  \n",
       "00F000  1               \t.byte $00\n",
       "00F000  1               \t.endrep\n",
       "00F000  1               \n",
       "00F000  1               \t;; Put our code at 0xF000\n",
       "00F000  1               \t;; Set address to F000 (this is where our code will live)\n",
       "00F000  1               \t.ORG $F000\n",
       "00F000  1  A9 00        \tLDA #0        ; load A register with 0\n",
       "00F002  1  A2 00        \tLDX #0\t      ; load X register with 0\n",
       "00F004  1               LOOP:\n",
       "00F004  1  EC 00 E0     \tCPX $E000     ; compare value in X register with value at E000 (length of Array)\n",
       "00F007  1  F0 07        \tBEQ DONE      ; if equal then jump to done\n",
       "00F009  1  7D 01 E0     \tADC $E001,X   ; add value in memory  at M[0xE001 + X register] : A = A + Array[X]\n",
       "00F00C  1  E8           \tINX           ; X=X+1\n",
       "00F00D  1  4C 04 F0     \tJMP LOOP\n",
       "00F010  1               DONE:\n",
       "00F010  1  00           \tBRK\n",
       "00F010  1               \n",
       "\n",
       "```\n",
       "\n",
       "\n",
       "</div>\n"
      ],
      "text/plain": [
       "<IPython.core.display.Markdown object>"
      ]
     },
     "metadata": {},
     "output_type": "display_data"
    }
   ],
   "source": [
    "display(Markdown(FileCodeBox(\n",
    "    file= appdir + \"/sum.o.lst\", \n",
    "    lang=\"gas\", \n",
    "    title=\"<b>CODE: 6502 asm listing file\",\n",
    "    h=\"100%\", \n",
    "    w=\"107em\"\n",
    ")))"
   ]
  },
  {
   "cell_type": "markdown",
   "id": "91db6dee-50ea-4a0b-bb94-e8003fe31832",
   "metadata": {},
   "source": [
    "### The \"binary\": A Simple Image file\n",
    "\n",
    "The linker produce a simple binary image file that is an exact copy of memory to load \n"
   ]
  },
  {
   "cell_type": "code",
   "execution_count": 13,
   "id": "341ece83-fd85-468d-9289-af94d9dea748",
   "metadata": {
    "jupyter": {
     "source_hidden": true
    },
    "tags": []
   },
   "outputs": [
    {
     "data": {
      "application/vnd.jupyter.widget-view+json": {
       "model_id": "7ee40f6e8b2f4b2ba44c7e618d2c4d3f",
       "version_major": 2,
       "version_minor": 0
      },
      "text/plain": [
       "Output(layout=Layout(border='1px solid black', height='100%', overflow_y='scroll'))"
      ]
     },
     "metadata": {},
     "output_type": "display_data"
    }
   ],
   "source": [
    "TermShellCmd(\"od -Ax -t x1  sum.img\", cwd=appdir, prompt='$ ')"
   ]
  },
  {
   "cell_type": "markdown",
   "id": "0b3582b2-4e4b-4915-81e8-4d8183df9d72",
   "metadata": {},
   "source": [
    "### Ok Now What?"
   ]
  },
  {
   "cell_type": "code",
   "execution_count": 14,
   "id": "2f0e778c-7c41-4e99-8d60-959ddf831782",
   "metadata": {
    "jupyter": {
     "source_hidden": true
    },
    "tags": []
   },
   "outputs": [
    {
     "data": {
      "text/markdown": [
       "<b>CODE: 6502 Loop\n",
       "<div style=\"width:107em; height:100%; font-size:inherit; overflow: auto;\" >\n",
       "\n",
       "\n",
       "``` gas\n",
       "Fetch:\n",
       "a) Buses : Read Addr = PC -> Value\n",
       "           IR = Value\n",
       "\t   \n",
       "Decode:\n",
       "a) lookup IR and tell execute what to do\n",
       "A9 : LDA IMM    \n",
       "A2 : LDX        \n",
       "EC : CPX ABS    \n",
       "F0 : BEQ PC Rel  \n",
       "7D : ADC ABS     \n",
       "E8 : INX         \n",
       "4C : JMP ABS     \n",
       "00 : BRK         \n",
       "\n",
       "\n",
       "\n",
       "\n",
       "\n",
       "\n",
       "\n",
       "Execute\n",
       "LDA IMM :\n",
       "a) Buses : Read Addr = PC +1 -> Value\t      \n",
       "b) A = Value\t\t\t\t      \n",
       "c) PC = PC + 2\n",
       "\n",
       "LDX :                                                      \n",
       "a) Buses : Read Addr = PC +1 -> Value\t      \n",
       "b) X = Value\t\t\t\t      \n",
       "c) PC = PC + 2\t\t\t\t      \n",
       "\n",
       "CPX ABS :\n",
       "a) Buses : Read Addr = PC + 1 -> Value\t      \n",
       "b) TempAddr Low Byte = Value\t\t      \n",
       "c) Buses : Read Addr = PC + 2 -> Value\t      \n",
       "d) TempAddr High Byte = Value\t\t      \n",
       "e) Buses : Read Addr = TempAddr -> Value      \n",
       "f) Compare : TempVal = X - Value\t      \n",
       "g) Set P flags : if TempVal == 0 then P.Z = 1 else P.Z = 0  \n",
       "h) PC = PC + 3\t\t\t\t      \n",
       "\n",
       "BEQ PC Rel :\n",
       "a) if P.Z == 1 then\t\t\t      \n",
       "   b) Buses : Read Addr = PC + 1 -> Value     \n",
       "   c) PC = PC + Value\t\t\t      \n",
       "d) else\t\t\t\t\t      \n",
       "   e) PC = PC + 2\t\t\t      \n",
       "                                              \n",
       "ADC ABS :                                                   \n",
       "a) Buses : Read Addr = PC + 1 -> Value\t      \n",
       "b) TempAddr Low Byte = Value\t\t      \n",
       "c) Buses : Read Addr = PC + 2 -> Value\t      \n",
       "d) TempAddr High Byte = Value\t\t      \n",
       "e) Buses : Read Addr = TempAddr + X -> Value  \n",
       "f) Add : A = A + Value\t\t\t      \n",
       "g) PC = PC + 3\t\t\t\t      \n",
       "\n",
       "INX :        \n",
       "a) X = X + 1\t\t\t\t      \n",
       "b) PC = PC + 1\t\t\t\t      \n",
       "\n",
       "JMP ABS :\n",
       "a) Buses : Read Addr = PC + 1 -> Value\t      \n",
       "b) TempAddr Low Byte = Value\t\t      \n",
       "c) Buses : Read Addr = PC + 2 -> Value\t      \n",
       "d) TempAddr High Byte = Value\t\t      \n",
       "e) PC = TempAddr\t\t\t      \n",
       "                                              \n",
       "BRK:                                     \n",
       "a) STOP!!!                                    \n",
       "\n",
       "```\n",
       "\n",
       "\n",
       "</div>\n"
      ],
      "text/plain": [
       "<IPython.core.display.Markdown object>"
      ]
     },
     "metadata": {},
     "output_type": "display_data"
    }
   ],
   "source": [
    "display(Markdown(FileCodeBox(\n",
    "    file=\"../src/SOL6502/sum.txt\", \n",
    "    lang=\"gas\", \n",
    "    title=\"<b>CODE: 6502 Loop\",\n",
    "    h=\"100%\", \n",
    "    w=\"107em\"\n",
    ")))"
   ]
  },
  {
   "cell_type": "markdown",
   "id": "e9859141-cf15-47c0-893e-460e740651c3",
   "metadata": {},
   "source": [
    "## Processor Caches\n",
    "\n",
    "Modern CPU's are very fast and memory is \"far away\" and relatively slow.\n",
    "\n",
    "- Notice that a lot of what a program is accessing memory\n",
    "- Since memory is \"slow\" most of our CPU time is spent \"IDLE\" waiting for memory!\n",
    "- Caches are critical to achieving high performance on a modern CPU\n",
    "\n",
    "https://ark.intel.com/content/www/us/en/ark/products/203908/intel-core-i710700e-processor-16m-cache-up-to-4-50-ghz.html\n",
    "\n"
   ]
  }
 ],
 "metadata": {
  "hide_input": false,
  "kernelspec": {
   "display_name": "Python 3 (ipykernel)",
   "language": "python",
   "name": "python3"
  },
  "language_info": {
   "codemirror_mode": {
    "name": "ipython",
    "version": 3
   },
   "file_extension": ".py",
   "mimetype": "text/x-python",
   "name": "python",
   "nbconvert_exporter": "python",
   "pygments_lexer": "ipython3",
   "version": "3.10.5"
  },
  "rise": {
   "autolaunch": false,
   "enable_chalkboard": true,
   "footer": "UC-SLS -- Lecture 16",
   "header": "Cache Memory",
   "height": "100%",
   "scroll": true,
   "start_slideshow_at": "selected",
   "transition": "none",
   "width": "100%"
  }
 },
 "nbformat": 4,
 "nbformat_minor": 5
}
