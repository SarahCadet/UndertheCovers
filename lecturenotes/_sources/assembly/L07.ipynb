{
 "cells": [
  {
   "cell_type": "code",
   "execution_count": 1,
   "id": "576bed6d-fb7a-44aa-98da-16da4015bcec",
   "metadata": {
    "hide_input": true,
    "jupyter": {
     "source_hidden": true
    },
    "slideshow": {
     "slide_type": "skip"
    },
    "tags": [
     "remove-cell"
    ]
   },
   "outputs": [],
   "source": [
    "%run -i ../python/common.py\n",
    "UC_SKIPTERMS=True\n",
    "closeAllOpenTtySessions()\n",
    "bash = BashSession()\n",
    "%run -i ../python/ln_preamble.py"
   ]
  },
  {
   "cell_type": "markdown",
   "id": "f971af4d-437a-4e31-9b2f-2339a3469b18",
   "metadata": {
    "cell_style": "center",
    "slideshow": {
     "slide_type": "slide"
    }
   },
   "source": [
    "# SLS Lecture 7 : Assembly Programming Introduction \n",
    "\n",
    "Processes and Binaries \n"
   ]
  },
  {
   "cell_type": "markdown",
   "id": "94cd3e49",
   "metadata": {
    "hide_input": true,
    "slideshow": {
     "slide_type": "slide"
    }
   },
   "source": [
    "## Revisit Processes"
   ]
  },
  {
   "cell_type": "markdown",
   "id": "6162dad1",
   "metadata": {
    "hide_input": true,
    "slideshow": {
     "slide_type": "slide"
    },
    "tags": [
     "remove-input"
    ]
   },
   "source": [
    "<center>\n",
    "<img src=\"../images/Processes/Processes.004.png\">\n",
    "</center>"
   ]
  },
  {
   "cell_type": "markdown",
   "id": "3cf46281",
   "metadata": {
    "slideshow": {
     "slide_type": "slide"
    }
   },
   "source": [
    "<center>\n",
    "<img src=\"../images/Processes/Processes.005.png\">\n",
    "</center>"
   ]
  },
  {
   "cell_type": "markdown",
   "id": "b7a0b44f",
   "metadata": {
    "slideshow": {
     "slide_type": "slide"
    }
   },
   "source": [
    "### A Process is a Running executable but what really is an executable???\n",
    "\n",
    "Let's see what we can figure out poking at the file a little "
   ]
  },
  {
   "cell_type": "code",
   "execution_count": 2,
   "id": "f308e8e1",
   "metadata": {
    "cell_style": "center",
    "hide_input": true,
    "jupyter": {
     "source_hidden": true
    },
    "slideshow": {
     "slide_type": "-"
    },
    "tags": [
     "remove-input"
    ]
   },
   "outputs": [
    {
     "data": {
      "application/vnd.jupyter.widget-view+json": {
       "model_id": "5095c2e23eff4dcc8e9d8a87dfe46865",
       "version_major": 2,
       "version_minor": 0
      },
      "text/plain": [
       "Output(layout=Layout(border='1px solid black', height='100%', overflow_y='scroll'))"
      ]
     },
     "metadata": {},
     "output_type": "display_data"
    }
   ],
   "source": [
    "#TermShellCmd(\"ls -l /bin/ls\", width=\"50em\", markdown=False)\n",
    "bash.run(\"ls -l /bin/ls\")"
   ]
  },
  {
   "cell_type": "markdown",
   "id": "c5765d12",
   "metadata": {
    "slideshow": {
     "slide_type": "-"
    }
   },
   "source": [
    "- So it is marked as a executable \"x\" in the permissions bits\n",
    "- How big is it?\n",
    "- Lets see if we can look at its contents"
   ]
  },
  {
   "cell_type": "markdown",
   "id": "3c710894",
   "metadata": {
    "slideshow": {
     "slide_type": "slide"
    }
   },
   "source": [
    "Why did `cat /bin/ls` not help?"
   ]
  },
  {
   "cell_type": "markdown",
   "id": "2d0159fb",
   "metadata": {},
   "source": [
    "- Because whatever is in it its is not ASCII encode.\n",
    "\n",
    "How about looking trying to dump its contents by look at the values of its bytes\n",
    "  - there are several utilities that we can use to \"dump\" a file's contents \n",
    "    - These programs read the file and convert the bytes into ascii representations of the value for each byte\n",
    "        - you can use `man -k dump` to see commands that have the word dump in their names\n",
    "          - the one we will focus on are `xxd` but two others that are really useful are `od` (octal dump) and `hd` (hexdump)\n",
    "          "
   ]
  },
  {
   "cell_type": "code",
   "execution_count": 3,
   "id": "38c67fdb",
   "metadata": {
    "hide_input": true,
    "jupyter": {
     "source_hidden": true
    },
    "slideshow": {
     "slide_type": "slide"
    },
    "tags": [
     "remove-input"
    ]
   },
   "outputs": [
    {
     "data": {
      "application/vnd.jupyter.widget-view+json": {
       "model_id": "6295f0a5cf2d431080f14e6d1b445d85",
       "version_major": 2,
       "version_minor": 0
      },
      "text/plain": [
       "Output(layout=Layout(border='1px solid black', height='600px', overflow_y='scroll'))"
      ]
     },
     "metadata": {},
     "output_type": "display_data"
    }
   ],
   "source": [
    "#TermShellCmd(\"man xxd | head -20\", width=\"50em\", markdown=False)\n",
    "bash.run(\"man xxd\", height=\"600px\")"
   ]
  },
  {
   "cell_type": "markdown",
   "id": "b3c19f08",
   "metadata": {
    "slideshow": {
     "slide_type": "slide"
    }
   },
   "source": [
    "#### Lets use xxd to look at the first 80 bytes of the /bin/ls \n",
    "\n",
    "First in hexadecimal notation and then in binary (base 2)\n",
    "\n",
    "xxd command to display first 80 bytes (-l 80) of the file in units/groups of 1 byte (-g 1) values with 8 units per line (-c 8):\n",
    "\n",
    "`xxd -l 80 -g 1 -c 8 /bin/ls` \n",
    "\n",
    "and \n",
    "\n",
    "same as above but using binary (base 2) notation (-b) for each value:\n",
    "\n",
    "`xxd -l 80 -g 1 -c 8 -b /bin/ls`"
   ]
  },
  {
   "cell_type": "code",
   "execution_count": 4,
   "id": "3421a1d2",
   "metadata": {
    "hide_input": false,
    "jupyter": {
     "source_hidden": true
    },
    "slideshow": {
     "slide_type": "slide"
    },
    "tags": [
     "remove-input"
    ]
   },
   "outputs": [
    {
     "data": {
      "application/vnd.jupyter.widget-view+json": {
       "model_id": "f3ff0ea4e2a846f985ce43db49e6d757",
       "version_major": 2,
       "version_minor": 0
      },
      "text/plain": [
       "Output(layout=Layout(border='1px solid black', height='100%', overflow_y='scroll'))"
      ]
     },
     "metadata": {},
     "output_type": "display_data"
    }
   ],
   "source": [
    "#TermShellCmd(\"xxd -l 80 -g 1 -c 8 /bin/ls;xxd -l 80 -g 1 -c 8 -b /bin/ls\",  width=\"52em\", markdown=False)\n",
    "bash.run('''xxd -l 80 -g 1 -c 8 /bin/ls\n",
    "xxd -l 80 -g 1 -c 8 -b /bin/ls''')"
   ]
  },
  {
   "cell_type": "markdown",
   "id": "b18f61f2",
   "metadata": {
    "hide_input": false,
    "slideshow": {
     "slide_type": "slide"
    }
   },
   "source": [
    "Ok so while that's a cool party trick ... so what do they mean?\n",
    "What else can we do?\n",
    "- Lets see what the `file` command can tell us."
   ]
  },
  {
   "cell_type": "code",
   "execution_count": 5,
   "id": "d7ac62a2",
   "metadata": {
    "hide_input": false,
    "jupyter": {
     "source_hidden": true
    },
    "slideshow": {
     "slide_type": "slide"
    },
    "tags": [
     "remove-input"
    ]
   },
   "outputs": [
    {
     "data": {
      "application/vnd.jupyter.widget-view+json": {
       "model_id": "aeebcc6bccb64b06a9493320addf71c4",
       "version_major": 2,
       "version_minor": 0
      },
      "text/plain": [
       "Output(layout=Layout(border='1px solid black', height='600px', overflow_y='scroll'))"
      ]
     },
     "metadata": {},
     "output_type": "display_data"
    }
   ],
   "source": [
    "#TermShellCmd(\"man file | head -20\", width=\"52em\", height=\"22em\",markdown=False)\n",
    "bash.run(\"man file\", height=\"600px\")"
   ]
  },
  {
   "cell_type": "code",
   "execution_count": 6,
   "id": "9c30da68",
   "metadata": {
    "hide_input": false,
    "jupyter": {
     "source_hidden": true
    },
    "slideshow": {
     "slide_type": "slide"
    },
    "tags": [
     "remove-input"
    ]
   },
   "outputs": [
    {
     "data": {
      "application/vnd.jupyter.widget-view+json": {
       "model_id": "2836385275b04918acd79e8fb3420895",
       "version_major": 2,
       "version_minor": 0
      },
      "text/plain": [
       "Output(layout=Layout(border='1px solid black', height='100%', overflow_y='scroll'))"
      ]
     },
     "metadata": {},
     "output_type": "display_data"
    }
   ],
   "source": [
    "#TermShellCmd(\"file /bin/ls\", width=\"52em\",  height=\"6em\", markdown=False)\n",
    "bash.run(\"file /bin/ls\")"
   ]
  },
  {
   "cell_type": "markdown",
   "id": "ee756497",
   "metadata": {
    "slideshow": {
     "slide_type": "slide"
    }
   },
   "source": [
    "Ok it is an ELF file let's see what, if anything, the manual has to say about `elf`."
   ]
  },
  {
   "cell_type": "code",
   "execution_count": 7,
   "id": "6137ba65",
   "metadata": {
    "hide_input": true,
    "jupyter": {
     "source_hidden": true
    },
    "slideshow": {
     "slide_type": "slide"
    },
    "tags": [
     "remove-input"
    ]
   },
   "outputs": [
    {
     "data": {
      "application/vnd.jupyter.widget-view+json": {
       "model_id": "08981b6d5f7e46af84779e8d388892c2",
       "version_major": 2,
       "version_minor": 0
      },
      "text/plain": [
       "Output(layout=Layout(border='1px solid black', height='600px', overflow_y='scroll'))"
      ]
     },
     "metadata": {},
     "output_type": "display_data"
    }
   ],
   "source": [
    "#TermShellCmd(\"man elf | head -20\", width=\"52em\", height=\"24em\", markdown=False)\n",
    "bash.run(\"man elf\", height=\"600px\")"
   ]
  },
  {
   "cell_type": "markdown",
   "id": "9dd2eddb",
   "metadata": {
    "slideshow": {
     "slide_type": "slide"
    }
   },
   "source": [
    "We could keep going down this road to poke at its contents using command designed to decode the elf file and dump information about it \n",
    "\n",
    "`readelf --all /bin/ls`\n",
    "\n",
    "`objdump --all /bin/ls`\n",
    "\n",
    "But let's try another approach before we stand back and put the pieces together.\n",
    "\n",
    "Let's lookup what the OS kernel function for \"executing\" a binary file has to say\n"
   ]
  },
  {
   "cell_type": "code",
   "execution_count": 8,
   "id": "72867439",
   "metadata": {
    "hide_input": false,
    "jupyter": {
     "source_hidden": true
    },
    "slideshow": {
     "slide_type": "slide"
    },
    "tags": [
     "remove-input"
    ]
   },
   "outputs": [
    {
     "data": {
      "application/vnd.jupyter.widget-view+json": {
       "model_id": "1f0169ca4f974929a579f618fe8c5126",
       "version_major": 2,
       "version_minor": 0
      },
      "text/plain": [
       "Output(layout=Layout(border='1px solid black', height='600px', overflow_y='scroll'))"
      ]
     },
     "metadata": {},
     "output_type": "display_data"
    }
   ],
   "source": [
    "#TermShellCmd(\"man 3 exec | head -30\", width=\"52em\", markdown=False)\n",
    "bash.run(\"man 3 exec\", height=\"600px\")"
   ]
  },
  {
   "cell_type": "code",
   "execution_count": 9,
   "id": "11b12050",
   "metadata": {
    "hide_input": true,
    "jupyter": {
     "source_hidden": true
    },
    "slideshow": {
     "slide_type": "slide"
    },
    "tags": [
     "remove-input"
    ]
   },
   "outputs": [
    {
     "data": {
      "application/vnd.jupyter.widget-view+json": {
       "model_id": "4b7235ca5ceb4118ae2989edb5051216",
       "version_major": 2,
       "version_minor": 0
      },
      "text/plain": [
       "Output(layout=Layout(border='1px solid black', height='600px', overflow_y='scroll'))"
      ]
     },
     "metadata": {},
     "output_type": "display_data"
    }
   ],
   "source": [
    "#TermShellCmd(\"man 2 execve | head -21\", width=\"52em\", height=\"24em\", markdown=False) \n",
    "bash.run(\"man 2 execve\", height=\"600px\")"
   ]
  },
  {
   "cell_type": "markdown",
   "id": "65b04ce9",
   "metadata": {
    "slideshow": {
     "slide_type": "slide"
    }
   },
   "source": [
    "## Executables as \"Process Images\" "
   ]
  },
  {
   "cell_type": "markdown",
   "id": "258a11b5",
   "metadata": {},
   "source": [
    "Remember what the Hardware looks like.\n",
    "\n",
    "<img src=\"../images/HW.png\">\n",
    "\n",
    "Remember that the OS Kernel is designed to make it easier to use the hardware to run programs.\n",
    "\n",
    "Now we need to dig into this idea more carefully.  "
   ]
  },
  {
   "cell_type": "markdown",
   "id": "44a47cb6",
   "metadata": {
    "slideshow": {
     "slide_type": "slide"
    }
   },
   "source": [
    "### Processes As CPU and Memory context \n",
    "\n",
    "A process is the way that the Operating System let our programs use the CPU and Memory in a controlled way.\n",
    "\n",
    "Each Process is independent \"Context\" to execute a program.  Where a context provides a program with its own view of Memory and the CPU"
   ]
  },
  {
   "cell_type": "markdown",
   "id": "e66a5403",
   "metadata": {
    "slideshow": {
     "slide_type": "slide"
    }
   },
   "source": [
    "<img src=\"../images/ProcessContexts.png\">"
   ]
  },
  {
   "cell_type": "markdown",
   "id": "0e927778",
   "metadata": {
    "slideshow": {
     "slide_type": "slide"
    }
   },
   "source": [
    "### Process as a Context for using the CPU and Memory\n",
    "\n",
    "A process is a way for us to use the CPU and memory through the programs we write \n",
    "  - But not the I/O devices -- Only the OS can directly access the I/O devices\n",
    "    - as we will see later the only way for our programs to do I/O will be make calls to the OS\n",
    "\n",
    "\n",
    "To understand what we are doing when we write assembly code to create a program \n",
    "  - we need to understand how the CPU works and Memory together as programmable system"
   ]
  },
  {
   "cell_type": "markdown",
   "id": "652bcc4b",
   "metadata": {
    "slideshow": {
     "slide_type": "slide"
    }
   },
   "source": [
    "<img src=\"../images/ASSEMBLY-VNA-THECPU/ASSEMBLY-VNA-THECPU.003.png\">"
   ]
  },
  {
   "cell_type": "markdown",
   "id": "924962de",
   "metadata": {
    "slideshow": {
     "slide_type": "notes"
    }
   },
   "source": [
    "Let's start with a quick overview of the basic Von Neumman computer model and how the CPU and memory work together.  "
   ]
  },
  {
   "cell_type": "markdown",
   "id": "dc7547e1",
   "metadata": {
    "slideshow": {
     "slide_type": "slide"
    }
   },
   "source": [
    "<img src=\"../images/ASSEMBLY-VNA-THECPU/ASSEMBLY-VNA-THECPU.005.png\">"
   ]
  },
  {
   "cell_type": "markdown",
   "id": "a4cd0839",
   "metadata": {
    "slideshow": {
     "slide_type": "slide"
    }
   },
   "source": [
    "<img src=\"../images/ASSEMBLY-VNA-THECPU/ASSEMBLY-VNA-THECPU.007.png\">"
   ]
  },
  {
   "cell_type": "markdown",
   "id": "c86f28c1",
   "metadata": {
    "slideshow": {
     "slide_type": "slide"
    }
   },
   "source": [
    "<img src=\"../images/ASSEMBLY-VNA-THECPU/ASSEMBLY-VNA-THECPU.008.png\">"
   ]
  },
  {
   "cell_type": "markdown",
   "id": "5d2465e5",
   "metadata": {
    "slideshow": {
     "slide_type": "slide"
    }
   },
   "source": [
    "<img src=\"../images/ASSEMBLY-VNA-THECPU/ASSEMBLY-VNA-THECPU.009.png\">"
   ]
  },
  {
   "cell_type": "markdown",
   "id": "51c0f4a0",
   "metadata": {
    "slideshow": {
     "slide_type": "skip"
    },
    "tags": []
   },
   "source": [
    "Or lets play with a computer\n",
    "\n",
    "[SOL6502](http://jappavoo.github.io/SOL6502)"
   ]
  },
  {
   "cell_type": "markdown",
   "id": "0eb0b82a",
   "metadata": {
    "slideshow": {
     "slide_type": "slide"
    }
   },
   "source": [
    "<img src=\"../images/ASSEMBLY-VNA-THECPU/ASSEMBLY-VNA-THECPU.010.png\">"
   ]
  },
  {
   "cell_type": "markdown",
   "id": "d930e94e",
   "metadata": {
    "slideshow": {
     "slide_type": "slide"
    }
   },
   "source": [
    "<img src=\"../images/ASSEMBLY-VNA-THECPU/ASSEMBLY-VNA-THECPU.011.png\">"
   ]
  },
  {
   "cell_type": "markdown",
   "id": "cd2863df",
   "metadata": {
    "slideshow": {
     "slide_type": "slide"
    }
   },
   "source": [
    "<img src=\"../images/ASSEMBLY-VNA-THECPU/ASSEMBLY-VNA-THECPU.012.png\">"
   ]
  },
  {
   "cell_type": "markdown",
   "id": "b6060958",
   "metadata": {
    "slideshow": {
     "slide_type": "slide"
    }
   },
   "source": [
    "<img src=\"../images/ASSEMBLY-VNA-THECPU/ASSEMBLY-VNA-THECPU.013.png\">"
   ]
  },
  {
   "cell_type": "markdown",
   "id": "fddfd3f7",
   "metadata": {
    "slideshow": {
     "slide_type": "slide"
    }
   },
   "source": [
    "<img src=\"../images/ASSEMBLY-VNA-THECPU/ASSEMBLY-VNA-THECPU.014.png\">"
   ]
  },
  {
   "cell_type": "markdown",
   "id": "e5ab8061",
   "metadata": {
    "slideshow": {
     "slide_type": "slide"
    }
   },
   "source": [
    "<img src=\"../images/ASSEMBLY-VNA-THECPU/ASSEMBLY-VNA-THECPU.015.png\">"
   ]
  },
  {
   "cell_type": "markdown",
   "id": "a2bfcfc0",
   "metadata": {
    "slideshow": {
     "slide_type": "slide"
    }
   },
   "source": [
    "<img src=\"../images/ASSEMBLY-VNA-THECPU/ASSEMBLY-VNA-THECPU.016.png\">"
   ]
  },
  {
   "cell_type": "markdown",
   "id": "dfa26fdc",
   "metadata": {
    "slideshow": {
     "slide_type": "slide"
    }
   },
   "source": [
    "<img src=\"../images/ASSEMBLY-VNA-THECPU/ASSEMBLY-VNA-THECPU.017.png\">"
   ]
  },
  {
   "cell_type": "markdown",
   "id": "e228bf44",
   "metadata": {
    "slideshow": {
     "slide_type": "slide"
    }
   },
   "source": [
    "<img src=\"../images/ASSEMBLY-VNA-THECPU/ASSEMBLY-VNA-THECPU.018.png\">"
   ]
  },
  {
   "cell_type": "markdown",
   "id": "be5a6cf8",
   "metadata": {
    "slideshow": {
     "slide_type": "slide"
    }
   },
   "source": [
    "<img src=\"../images/ASSEMBLY-VNA-THECPU/ASSEMBLY-VNA-THECPU.019.png\">"
   ]
  },
  {
   "cell_type": "markdown",
   "id": "22a56c24",
   "metadata": {
    "slideshow": {
     "slide_type": "slide"
    }
   },
   "source": [
    "<img src=\"../images/ASSEMBLY-VNA-THECPU/ASSEMBLY-VNA-THECPU.020.png\">"
   ]
  },
  {
   "cell_type": "markdown",
   "id": "373d7e47",
   "metadata": {
    "slideshow": {
     "slide_type": "slide"
    }
   },
   "source": [
    "<img src=\"../images/ASSEMBLY-VNA-THECPU/ASSEMBLY-VNA-THECPU.021.png\">"
   ]
  },
  {
   "cell_type": "markdown",
   "id": "9275a339",
   "metadata": {
    "slideshow": {
     "slide_type": "slide"
    }
   },
   "source": [
    "<img src=\"../images/ASSEMBLY-VNA-THECPU/ASSEMBLY-VNA-THECPU.022.png\">"
   ]
  },
  {
   "cell_type": "markdown",
   "id": "a4d6ab3e",
   "metadata": {
    "slideshow": {
     "slide_type": "slide"
    }
   },
   "source": [
    "<img src=\"../images/ASSEMBLY-VNA-THECPU/ASSEMBLY-VNA-THECPU.023.png\">"
   ]
  },
  {
   "cell_type": "markdown",
   "id": "d806ff49",
   "metadata": {
    "slideshow": {
     "slide_type": "slide"
    }
   },
   "source": [
    "<img src=\"../images/ASSEMBLY-VNA-THECPU/ASSEMBLY-VNA-THECPU.024.png\">"
   ]
  },
  {
   "cell_type": "markdown",
   "id": "a45cc1fa",
   "metadata": {
    "slideshow": {
     "slide_type": "slide"
    }
   },
   "source": [
    "<img src=\"../images/ASSEMBLY-VNA-THECPU/ASSEMBLY-VNA-THECPU.025.png\">"
   ]
  },
  {
   "cell_type": "markdown",
   "id": "02de39d8",
   "metadata": {
    "slideshow": {
     "slide_type": "slide"
    }
   },
   "source": [
    "<img src=\"../images/ASSEMBLY-VNA-THECPU/ASSEMBLY-VNA-THECPU.026.png\">"
   ]
  },
  {
   "cell_type": "markdown",
   "id": "1a6232e0",
   "metadata": {
    "slideshow": {
     "slide_type": "slide"
    }
   },
   "source": [
    "<img src=\"../images/ASSEMBLY-VNA-THECPU/ASSEMBLY-VNA-THECPU.027.png\">"
   ]
  },
  {
   "cell_type": "markdown",
   "id": "6b4e5b0a",
   "metadata": {
    "slideshow": {
     "slide_type": "slide"
    }
   },
   "source": [
    "<img src=\"../images/ASSEMBLY-VNA-THECPU/ASSEMBLY-VNA-THECPU.028.png\">"
   ]
  },
  {
   "cell_type": "markdown",
   "id": "cf576dbd",
   "metadata": {
    "slideshow": {
     "slide_type": "slide"
    }
   },
   "source": [
    "<img src=\"../images/ASSEMBLY-VNA-THECPU/ASSEMBLY-VNA-THECPU.029.png\">"
   ]
  },
  {
   "cell_type": "markdown",
   "id": "4a9cd4b1",
   "metadata": {
    "slideshow": {
     "slide_type": "slide"
    }
   },
   "source": [
    "<img src=\"../images/ASSEMBLY-VNA-THECPU/ASSEMBLY-VNA-THECPU.030.png\">"
   ]
  },
  {
   "cell_type": "markdown",
   "id": "b800e0ae",
   "metadata": {
    "slideshow": {
     "slide_type": "slide"
    }
   },
   "source": [
    "<img src=\"../images/ASSEMBLY-VNA-THECPU/ASSEMBLY-VNA-THECPU.031.png\">"
   ]
  },
  {
   "cell_type": "markdown",
   "id": "4c03291b",
   "metadata": {
    "slideshow": {
     "slide_type": "slide"
    }
   },
   "source": [
    "<img src=\"../images/ASSEMBLY-VNA-THECPU/ASSEMBLY-VNA-THECPU.032.png\">"
   ]
  },
  {
   "cell_type": "markdown",
   "id": "3c6e7261",
   "metadata": {
    "slideshow": {
     "slide_type": "slide"
    }
   },
   "source": [
    "<img src=\"../images/ASSEMBLY-VNA-THECPU/ASSEMBLY-VNA-THECPU.033.png\">"
   ]
  },
  {
   "cell_type": "markdown",
   "id": "dbdc119d",
   "metadata": {
    "slideshow": {
     "slide_type": "slide"
    }
   },
   "source": [
    "So a Process is :\n",
    "- an OS provided context that lets us \n",
    "  - direct the CPU via a binary program file \n",
    "    - that is loaded into the RAM memory array when we \"run\" it! (exec)\n",
    "- A binary \"contains\" the initial contents of memory that the OS \"loads\" into our process's memory. \n",
    "  - \"memory image\" -- the exact byte values and where they go into memory\n",
    "- A process's memory is called the process's address space.  "
   ]
  },
  {
   "cell_type": "markdown",
   "id": "84964aa1",
   "metadata": {
    "slideshow": {
     "slide_type": "slide"
    }
   },
   "source": [
    "## The Tools and how to use them\n",
    "\n",
    "1. Preparing / creating binaries \n",
    "  1. Assembler: Tool that translates a programmer's description of what to put into memory into fragments of an executable file \n",
    "  2. Linker: Tool that combines the fragments into an complete executable that the OS can load\n",
    "2. Process inspection and manipulation\n",
    "  1. A Debugger that allows us to look at and control a Process "
   ]
  },
  {
   "cell_type": "markdown",
   "id": "30810bb6",
   "metadata": {
    "slideshow": {
     "slide_type": "slide"
    }
   },
   "source": [
    "### Assembler and Linker"
   ]
  },
  {
   "cell_type": "markdown",
   "id": "98006a20",
   "metadata": {
    "hide_input": true,
    "slideshow": {
     "slide_type": "slide"
    }
   },
   "source": [
    "<center>\n",
    "<img src=\"../images/ASSEMBLY-VNA-SOFTWARE/ASSEMBLY-VNA-SOFTWARE.026.png\" width=\"100%\">\n",
    "</center>"
   ]
  },
  {
   "cell_type": "markdown",
   "id": "cff734e2",
   "metadata": {
    "slideshow": {
     "slide_type": "slide"
    }
   },
   "source": [
    "<center>\n",
    "<img src=\"../images/ASSEMBLY-VNA-SOFTWARE/ASSEMBLY-VNA-SOFTWARE.027.png\" width=\"100%\">\n",
    "</center>"
   ]
  },
  {
   "cell_type": "markdown",
   "id": "66447f20",
   "metadata": {
    "slideshow": {
     "slide_type": "slide"
    }
   },
   "source": [
    "<center>\n",
    "<img src=\"../images/ASSEMBLY-VNA-SOFTWARE/ASSEMBLY-VNA-SOFTWARE.028.png\" width=\"100%\">\n",
    "</center>"
   ]
  },
  {
   "cell_type": "markdown",
   "id": "4b5f24df",
   "metadata": {
    "slideshow": {
     "slide_type": "slide"
    }
   },
   "source": [
    "<center>\n",
    "<img src=\"../images/ASSEMBLY-VNA-SOFTWARE/ASSEMBLY-VNA-SOFTWARE.029.png\" width=\"100%\">\n",
    "</center>"
   ]
  },
  {
   "cell_type": "markdown",
   "id": "13dc6276",
   "metadata": {
    "slideshow": {
     "slide_type": "slide"
    }
   },
   "source": [
    "<center>\n",
    "<img src=\"../images/ASSEMBLY-VNA-SOFTWARE/ASSEMBLY-VNA-SOFTWARE.030.png\" width=\"100%\">\n",
    "</center>    "
   ]
  },
  {
   "cell_type": "markdown",
   "id": "8fbb525b",
   "metadata": {
    "slideshow": {
     "slide_type": "slide"
    }
   },
   "source": [
    "### Debugger\n",
    "\n",
    "Provides us a way of looking inside a process, freezing its execution, examining and modify the cpu registers and memory. "
   ]
  },
  {
   "cell_type": "markdown",
   "id": "9db1c9bf",
   "metadata": {
    "slideshow": {
     "slide_type": "slide"
    }
   },
   "source": [
    "<img src=\"../images/gdbsurgery/gdbsurgery.001.png\">"
   ]
  },
  {
   "cell_type": "markdown",
   "id": "db27858d",
   "metadata": {
    "slideshow": {
     "slide_type": "slide"
    }
   },
   "source": [
    "<img src=\"../images/gdbsurgery/gdbsurgery.002.png\">"
   ]
  },
  {
   "cell_type": "markdown",
   "id": "1198f5de",
   "metadata": {
    "slideshow": {
     "slide_type": "slide"
    }
   },
   "source": [
    "<img src=\"../images/gdbProcess.png\">"
   ]
  },
  {
   "cell_type": "markdown",
   "id": "54833056",
   "metadata": {
    "cell_style": "center"
   },
   "source": [
    "### GDB Manual\n",
    "\n",
    "https://www.gnu.org/software/gdb/documentation/\n"
   ]
  },
  {
   "cell_type": "code",
   "execution_count": 10,
   "id": "e2f888bb",
   "metadata": {
    "cell_style": "center",
    "hide_input": true,
    "jupyter": {
     "source_hidden": true
    },
    "slideshow": {
     "slide_type": "slide"
    },
    "tags": [
     "remove-cell"
    ]
   },
   "outputs": [
    {
     "data": {
      "text/markdown": [
       "<b>Edit</b>"
      ],
      "text/plain": [
       "<IPython.core.display.Markdown object>"
      ]
     },
     "metadata": {},
     "output_type": "display_data"
    }
   ],
   "source": [
    "display(showET(\"Editor\"))"
   ]
  },
  {
   "cell_type": "code",
   "execution_count": 11,
   "id": "ca5bc5bb",
   "metadata": {
    "cell_style": "center",
    "hide_input": true,
    "jupyter": {
     "source_hidden": true
    },
    "slideshow": {
     "slide_type": "-"
    },
    "tags": [
     "remove-input"
    ]
   },
   "outputs": [
    {
     "data": {
      "text/markdown": [
       "<b>CODE: asm - The 'Empty' assembly program\n",
       "<div style=\"width:100%; height:100%; font-size:inherit; overflow: auto;\" >\n",
       "\n",
       "\n",
       "``` gas\n",
       "/*  General antomy of a assembly program line\n",
       "[lablel]:   <directive or opcode> [operands]  # comment\n",
       "*/\n",
       "\t.intel_syntax noprefix        # assembler syntax to use <directive>\n",
       "\t                              # set assembly language format to intel  \n",
       "\n",
       "\t.text                         # linker section <directive>\n",
       "\t                              # let the linker know that what follows are cpu instructions to\n",
       "\t                              # to be executed -- uposed to values that represent data.\n",
       "\t                              # For historical reasons cpu instructions are called \"text\"\n",
       "\t                         \n",
       "\t.global _start                # linker symbol type <directive> \n",
       "\t                              # makes the symbol _start in this case visible to the linker\n",
       "\t                              # The linker looks for an _start symbol so that it knows address\n",
       "\t                              # of the first instruction of our program\n",
       "\n",
       "_start:                               # introduce a symbolic (human readable) label for \"this\" address\n",
       "\t                              # associates the address of this point in our program with the\n",
       "\t                              # name following the ':' -- in our case _start\n",
       "\t                              # In our program or in the debugger we can use this name to\n",
       "\t                              # to refer to this location -- address.  And thus the values\n",
       "\t                              # that end up here.\n",
       "\t.byte 0x00, 0x00, 0x00, 0x00  # .byte directive place value at successive locations in memory\n",
       "\t.byte 0x00, 0x00, 0x00, 0x00  # (https://sourceware.org/binutils/docs/as/Byte.html#Byte)\n",
       "\n",
       "```\n",
       "\n",
       "\n",
       "</div>\n"
      ],
      "text/plain": [
       "<IPython.core.display.Markdown object>"
      ]
     },
     "metadata": {},
     "output_type": "display_data"
    }
   ],
   "source": [
    "display(Markdown(FileCodeBox(\n",
    "    file=\"../src/empty.s\", \n",
    "    lang=\"gas\", \n",
    "    title=\"<b>CODE: asm - The 'Empty' assembly program\",\n",
    "    w=\"100%\"\n",
    ")))"
   ]
  },
  {
   "cell_type": "markdown",
   "id": "ea6b6c5e",
   "metadata": {
    "slideshow": {
     "slide_type": "notes"
    }
   },
   "source": [
    "The OS lets us have access to parts of the CPU and Memory via a Process.  For everything else we will need to make calls to the OS Kernel functions to do.  \n",
    "\n",
    "Let's use the standard tools to build a \"empty\" binary, create a process from it and use gdb to explore the parts of the machine that a Process lets us control.  Eg  use the debugger to read, write memory, explore the internals of the cpu and control it!\n",
    "\n",
    "setup\n",
    "```\n",
    "cd\n",
    "mkdir empty\n",
    "cd empty\n",
    "# of course at this point it would be a good idea to setup a git repository but we will skip\n",
    "```\n",
    "\n",
    "lets write some code!!!!\n",
    "\n",
    "\n",
    "\n",
    "`.fill` can be used to fill memory ;-) `repeat, size, value`\n",
    "\n",
    "``` gas\n",
    "      .fill 16, 1, 0x00             // .fill directive fills memory with n copies of values\n",
    "                                    // (https://sourceware.org/binutils/docs/as/Fill.html#Fill)\n",
    "```\n"
   ]
  },
  {
   "cell_type": "code",
   "execution_count": 12,
   "id": "c7ffa1ff",
   "metadata": {
    "cell_style": "center",
    "hide_input": false,
    "jupyter": {
     "source_hidden": true
    },
    "slideshow": {
     "slide_type": "slide"
    },
    "tags": [
     "remove-cell"
    ]
   },
   "outputs": [
    {
     "data": {
      "text/markdown": [
       "<b>Build</b>"
      ],
      "text/plain": [
       "<IPython.core.display.Markdown object>"
      ]
     },
     "metadata": {},
     "output_type": "display_data"
    }
   ],
   "source": [
    "display(showBT(\"Build\"))"
   ]
  },
  {
   "cell_type": "code",
   "execution_count": 13,
   "id": "79b1c329",
   "metadata": {
    "cell_style": "center",
    "hide_input": true,
    "jupyter": {
     "source_hidden": true
    },
    "tags": [
     "remove-input"
    ]
   },
   "outputs": [
    {
     "data": {
      "text/markdown": [
       "<b>NOTES: on building empty\n",
       "<div style=\"width:60em; height:100%; font-size:inherit; overflow: auto;\" >\n",
       "\n",
       "\n",
       "``` shell\n",
       "# To assemble the code we will use the following command:\n",
       "as empty.s -o empty.o\n",
       "\n",
       "# ok lets see what happened\n",
       "ls\n",
       "\n",
       "# lets link it up\n",
       "ld empty.o -o empty\n",
       "\n",
       "ls\n",
       "\n",
       "# lets examine this elf file\n",
       "file empty\n",
       "ls -l empty\n",
       "\n",
       "# still pretty big given that we only asked to load 4 bytes of zeros into memory\n",
       "# all the other stuff necessary to describe to the OS and other tools the program image\n",
       "\n",
       "# use objdump tool to print out ascii data from the executable file\n",
       "# -s\n",
       "# --full-contents\n",
       "# Display the full contents of any sections requested. By default all non-empty\n",
       "# sections are displayed.\n",
       "objdump -s empty\n",
       "\n",
       "# Display the symbol table the locations that each \"symbol\" got assigned to by the linker\n",
       "#  This is the kind of extra information that make the elf file larger than just the contents\n",
       "#  note where _start got assigned to\n",
       "objdump -t empty\n",
       "\n",
       "# ok lets got to the debugger\n",
       "\n",
       "```\n",
       "\n",
       "\n",
       "</div>\n"
      ],
      "text/plain": [
       "<IPython.core.display.Markdown object>"
      ]
     },
     "metadata": {},
     "output_type": "display_data"
    }
   ],
   "source": [
    "display(Markdown(FileCodeBox(\n",
    "    file=\"empty_build.sh\", \n",
    "    lang=\"shell\", \n",
    "    title=\"<b>NOTES: on building empty\", \n",
    "    h=\"100%\", \n",
    "    w=\"60em\")))"
   ]
  },
  {
   "cell_type": "code",
   "execution_count": 14,
   "id": "4042b99b",
   "metadata": {
    "hide_input": true,
    "jupyter": {
     "source_hidden": true
    },
    "slideshow": {
     "slide_type": "-"
    },
    "tags": [
     "remove-cell"
    ]
   },
   "outputs": [
    {
     "data": {
      "text/markdown": [
       "<b>Debug</b>"
      ],
      "text/plain": [
       "<IPython.core.display.Markdown object>"
      ]
     },
     "metadata": {},
     "output_type": "display_data"
    }
   ],
   "source": [
    "display(showDT(\"Debugger\"))"
   ]
  },
  {
   "cell_type": "code",
   "execution_count": 15,
   "id": "47727bac",
   "metadata": {
    "cell_style": "center",
    "hide_input": true,
    "jupyter": {
     "source_hidden": true
    },
    "tags": [
     "remove-input"
    ]
   },
   "outputs": [
    {
     "data": {
      "text/markdown": [
       "\n",
       "<div style=\"width:60em; height:100%; font-size:inherit; overflow: auto;\" >\n",
       "\n",
       "\n",
       "``` shell\n",
       "# Let use gdb command to poke around empty\n",
       "# To get the debugger going:\n",
       "gdb -x setup.gdb empty\n",
       "\n",
       "# To setup the assembly syntax to intel: \n",
       "set disassembly-flavor intel\n",
       "\n",
       " \n",
       "# at this point no process has been created yet\n",
       "# we are just exploring the binary file\n",
       "p _start\n",
       "x /4xb _start\n",
       "\n",
       "# to get things running we use the run command\n",
       "# but we don't want to execute any instructions so\n",
       "# we first place a breakpoint at the location of _start\n",
       "b _start\n",
       "\n",
       "# now run\n",
       "run\n",
       "\n",
       "# lets see if a process was created\n",
       "!ps auxgww | grep empty\n",
       "info proc\n",
       "\n",
       "# ok lets poke around the process\n",
       "# lets examine the cpu\n",
       "info registers\n",
       "\n",
       "# we can print out the value of an individual register with\n",
       "# variables in gdb $<name> there are convience variables for each\n",
       "# of the registers \n",
       "p /x $rax\n",
       "p /t $rax\n",
       "p /d $rax\n",
       "p /x $rip \n",
       "\n",
       "# lets examine the memory : peek\n",
       "\n",
       "x/8xb 0x401000\n",
       "x/2i\n",
       "\n",
       "\n",
       "# lets write some bytes into memory\n",
       "# lets write and instruction at _start\n",
       "#  we will try and use the popcnt instruction\n",
       "# popcnt rbx, rax -- rbx = population count of rax\n",
       "# see intel sdm volume 2B popcnt\n",
       "# tells use how to encode the instruction via\n",
       "# opcode encoding.\n",
       "# as we load the memory we will ask gdb to try and interpret\n",
       "# the opcode for us and see how the values change what\n",
       "# the cpu will do when we have it fetch the instruction\n",
       "# rex.w = 0x48 -- 64 bit operand\n",
       "# D8 -- encodes which registers are the operands\n",
       "\n",
       "set {unsigned char}(_start) = 0xF3\n",
       "x/5xb _start\n",
       "disas _start\n",
       "set {unsigned char}(_start+1} = 0x48\n",
       "set {unsigned char}(_start+2) = 0x0F\n",
       "set {unsigned char}(_start+3) = 0xB8\n",
       "set {unsigned char}(_start+4) = 0xC3\n",
       "x/5xb _start\n",
       "x/5tb _start\n",
       "x/5db _start\n",
       "x/5ub _start\n",
       "x/1i _start\n",
       "\n",
       "# lets execute the instruction and play\n",
       "# around with the register values\n",
       "# to make life easier we will use the gdb text uit support\n",
       "# Configure a layout that is more friendly to assembly code:\n",
       "tui new-layout mylayout regs 3 {src 1 asm 1} 2 cmd 1 status 0\n",
       "# Switch to the new layout: \n",
       "layout mylayout\n",
       "winh cmd 4\n",
       "focus cmd\n",
       "\n",
       "# run one interation of the processor loop:\n",
       "stepi\n",
       "\n",
       "# look what happened to the registers\n",
       "set $rax = 0b1011\n",
       "p /t $rax\n",
       "\n",
       "# how do we reexecute the instruction?\n",
       "\n",
       "set $pc = _start\n",
       "stepi\n",
       "\n",
       "```\n",
       "\n",
       "\n",
       "</div>\n"
      ],
      "text/plain": [
       "<IPython.core.display.Markdown object>"
      ]
     },
     "metadata": {},
     "output_type": "display_data"
    }
   ],
   "source": [
    "display(Markdown(FileCodeBox(\n",
    "    file=\"empty_gdb.txt\", \n",
    "    lang=\"shell\", \n",
    "    title=\"\", \n",
    "    h=\"100%\", \n",
    "    w=\"60em\")))"
   ]
  },
  {
   "cell_type": "markdown",
   "id": "8f955418",
   "metadata": {
    "cell_style": "center"
   },
   "source": [
    "<center>\n",
    "<img src=\"../images/popcnt.png\" width=\"60%\">\n",
    "</center>"
   ]
  },
  {
   "cell_type": "markdown",
   "id": "e1822013",
   "metadata": {
    "slideshow": {
     "slide_type": "slide"
    }
   },
   "source": [
    "<img src=\"../images/ASSEMBLY-VNA-THECPU/ASSEMBLY-VNA-THECPU.041.png\">"
   ]
  },
  {
   "cell_type": "markdown",
   "id": "678d477e",
   "metadata": {
    "slideshow": {
     "slide_type": "slide"
    }
   },
   "source": [
    "<img src=\"../images/ASSEMBLY-VNA-THECPU/ASSEMBLY-VNA-THECPU.042.png\">"
   ]
  },
  {
   "cell_type": "markdown",
   "id": "20f62fce",
   "metadata": {
    "slideshow": {
     "slide_type": "slide"
    }
   },
   "source": [
    "<img src=\"../images/ASSEMBLY-VNA-THECPU/ASSEMBLY-VNA-THECPU.043.png\">"
   ]
  },
  {
   "cell_type": "markdown",
   "id": "c0d7569b",
   "metadata": {
    "slideshow": {
     "slide_type": "slide"
    }
   },
   "source": [
    "## Intel Manuals\n",
    "\n",
    "Freely available online:\n",
    "https://software.intel.com/content/www/us/en/develop/articles/intel-sdm.html\n",
    "\n",
    "\n",
    "1. Volume 1: Topics regarding general purpose programming\n",
    "  - largely what we will focus on\n",
    "2. Volume 2: Is a reference of all the instructions which we can consult as needed\n",
    "\n",
    "I usually grab the very large manual that combines volumes 1,2,3,4 \n",
    "https://software.intel.com/content/www/us/en/develop/articles/intel-sdm.html#combined\n",
    "\n",
    "Which include Volumes 3 and 4.  These focus on the systems programming features necessary to write operating systems kernels.  But these are not necessary for normal user application programming. "
   ]
  },
  {
   "cell_type": "markdown",
   "id": "e8b13b3c",
   "metadata": {
    "slideshow": {
     "slide_type": "slide"
    }
   },
   "source": [
    "## Extra info about Intel\n",
    "\n",
    "<img src=\"../images/ASSEMBLY-VNA-THECPU/ASSEMBLY-VNA-THECPU.045.png\">"
   ]
  },
  {
   "cell_type": "markdown",
   "id": "698b6055",
   "metadata": {
    "slideshow": {
     "slide_type": "slide"
    }
   },
   "source": [
    "<img src=\"../images/ASSEMBLY-VNA-THECPU/ASSEMBLY-VNA-THECPU.046.png\">"
   ]
  },
  {
   "cell_type": "markdown",
   "id": "b8eeeaac",
   "metadata": {
    "slideshow": {
     "slide_type": "slide"
    }
   },
   "source": [
    "<img src=\"../images/ASSEMBLY-VNA-THECPU/ASSEMBLY-VNA-THECPU.047.png\">"
   ]
  }
 ],
 "metadata": {
  "celltoolbar": "Slideshow",
  "hide_input": true,
  "kernelspec": {
   "display_name": "Python 3 (ipykernel)",
   "language": "python",
   "name": "python3"
  },
  "language_info": {
   "codemirror_mode": {
    "name": "ipython",
    "version": 3
   },
   "file_extension": ".py",
   "mimetype": "text/x-python",
   "name": "python",
   "nbconvert_exporter": "python",
   "pygments_lexer": "ipython3",
   "version": "3.10.5"
  },
  "rise": {
   "autolaunch": false,
   "enable_chalkboard": true,
   "footer": "UC-SLS -- Lecture 7",
   "header": "Assembly: Assembly Introduction",
   "height": "100%",
   "scroll": true,
   "start_slideshow_at": "selected",
   "transition": "none",
   "width": "100%"
  }
 },
 "nbformat": 4,
 "nbformat_minor": 5
}
