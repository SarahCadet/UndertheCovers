{
 "cells": [
  {
   "cell_type": "code",
   "execution_count": 1,
   "id": "56a393c7",
   "metadata": {
    "hide_input": false,
    "jupyter": {
     "source_hidden": true
    },
    "slideshow": {
     "slide_type": "skip"
    },
    "tags": [
     "remove-cell"
    ]
   },
   "outputs": [],
   "source": [
    "%run -i ../python/common.py\n",
    "UC_SKIPTERMS=True\n",
    "%run -i ../python/ln_preamble.py"
   ]
  },
  {
   "cell_type": "markdown",
   "id": "d6e680aa-e70d-4812-9191-f7587da59946",
   "metadata": {
    "slideshow": {
     "slide_type": "slide"
    }
   },
   "source": [
    "# SLS Lecture 13 : Program Anatomy IV: The Tree of Bytes and Data Structures "
   ]
  },
  {
   "cell_type": "code",
   "execution_count": 2,
   "id": "7dc25b09",
   "metadata": {
    "hide_input": false,
    "jupyter": {
     "source_hidden": true
    },
    "tags": [
     "remove-input"
    ]
   },
   "outputs": [
    {
     "data": {
      "text/markdown": [
       "\n",
       "- create a directory `mkdir datastructs; cd datastructs`\n",
       "- copy examples\n",
       "- add a `Makefile` to automate assembling and linking\n",
       "    - we are going run the commands by hand this time to highlight the details\n",
       "- add our `setup.gdb` and `tree.gdb` to make working in gdb easier\n",
       "- normally you would want to track everything in git\n"
      ],
      "text/plain": [
       "<IPython.core.display.Markdown object>"
      ]
     },
     "metadata": {},
     "output_type": "display_data"
    },
    {
     "data": {
      "application/vnd.jupyter.widget-view+json": {
       "model_id": "f27295820bcb464189d0b58a4d124b13",
       "version_major": 2,
       "version_minor": 0
      },
      "text/plain": [
       "Output(layout=Layout(border='1px solid black', height='100%', overflow_y='scroll'))"
      ]
     },
     "metadata": {},
     "output_type": "display_data"
    }
   ],
   "source": [
    "# setup for sumit examples\n",
    "appdir=os.getenv('HOME')\n",
    "appdir=appdir + \"/datastructs\"\n",
    "#print(movdir)\n",
    "output=runTermCmd(\"[[ -d \" + appdir + \" ]] &&  rm -rf \"+ appdir + \n",
    "             \";mkdir \" + appdir + \n",
    "             \";cp ../src/Makefile ../src/setup.gdb ../src/tree.S ../src/tree.gdb ../src/tree_bb.S ../src/playertest.S ../src/findplayer.S \" + appdir)\n",
    "\n",
    "display(Markdown('''\n",
    "- create a directory `mkdir datastructs; cd datastructs`\n",
    "- copy examples\n",
    "- add a `Makefile` to automate assembling and linking\n",
    "    - we are going run the commands by hand this time to highlight the details\n",
    "- add our `setup.gdb` and `tree.gdb` to make working in gdb easier\n",
    "- normally you would want to track everything in git\n",
    "'''))\n",
    "TermShellCmd(\"ls \" + appdir)"
   ]
  },
  {
   "cell_type": "markdown",
   "id": "b53f46f7",
   "metadata": {
    "slideshow": {
     "slide_type": "slide"
    }
   },
   "source": [
    "<center>\n",
    "<img src=\"../images/ASSEMBLY-PGMV/ASSEMBLY-PGMV.001.png\" >\n",
    "</center>"
   ]
  },
  {
   "cell_type": "markdown",
   "id": "4606b2ba",
   "metadata": {
    "slideshow": {
     "slide_type": "slide"
    }
   },
   "source": [
    "<center>\n",
    "<img src=\"../images/ASSEMBLY-PGMV/ASSEMBLY-PGMV.002.png\" >\n",
    "</center>"
   ]
  },
  {
   "cell_type": "markdown",
   "id": "ccfc637c",
   "metadata": {
    "slideshow": {
     "slide_type": "slide"
    }
   },
   "source": [
    "<center>\n",
    "<img src=\"../images/ASSEMBLY-PGMV/ASSEMBLY-PGMV.003.png\" >\n",
    "</center>"
   ]
  },
  {
   "cell_type": "markdown",
   "id": "2a838828",
   "metadata": {
    "slideshow": {
     "slide_type": "slide"
    }
   },
   "source": [
    "<center>\n",
    "<img src=\"../images/ASSEMBLY-PGMV/ASSEMBLY-PGMV.004.png\" >\n",
    "</center>"
   ]
  },
  {
   "cell_type": "markdown",
   "id": "71ebbc60",
   "metadata": {
    "slideshow": {
     "slide_type": "slide"
    }
   },
   "source": [
    "<center>\n",
    "<img src=\"../images/ASSEMBLY-PGMV/ASSEMBLY-PGMV.005.png\" >\n",
    "</center>"
   ]
  },
  {
   "cell_type": "markdown",
   "id": "b7bd5d69",
   "metadata": {
    "slideshow": {
     "slide_type": "slide"
    }
   },
   "source": [
    "<center>\n",
    "<img src=\"../images/ASSEMBLY-PGMV/ASSEMBLY-PGMV.006.png\" >\n",
    "</center>"
   ]
  },
  {
   "cell_type": "markdown",
   "id": "a70dc56f",
   "metadata": {
    "slideshow": {
     "slide_type": "slide"
    }
   },
   "source": [
    "<center>\n",
    "<img src=\"../images/ASSEMBLY-PGMV/ASSEMBLY-PGMV.007.png\" >\n",
    "</center>"
   ]
  },
  {
   "cell_type": "markdown",
   "id": "37c1e541",
   "metadata": {
    "slideshow": {
     "slide_type": "slide"
    }
   },
   "source": [
    "<center>\n",
    "<img src=\"../images/ASSEMBLY-PGMV/ASSEMBLY-PGMV.008.png\" >\n",
    "</center>"
   ]
  },
  {
   "cell_type": "markdown",
   "id": "dabda358",
   "metadata": {
    "slideshow": {
     "slide_type": "slide"
    }
   },
   "source": [
    "<center>\n",
    "<img src=\"../images/ASSEMBLY-PGMV/ASSEMBLY-PGMV.009.png\" >\n",
    "</center>"
   ]
  },
  {
   "cell_type": "markdown",
   "id": "7ddf7422",
   "metadata": {
    "slideshow": {
     "slide_type": "slide"
    }
   },
   "source": [
    "<center>\n",
    "<img src=\"../images/ASSEMBLY-PGMV/ASSEMBLY-PGMV.010.png\" >\n",
    "</center>"
   ]
  },
  {
   "cell_type": "markdown",
   "id": "7248bb59",
   "metadata": {
    "slideshow": {
     "slide_type": "slide"
    }
   },
   "source": [
    "<center>\n",
    "<img src=\"../images/ASSEMBLY-PGMV/ASSEMBLY-PGMV.011.png\" >\n",
    "</center>"
   ]
  },
  {
   "cell_type": "markdown",
   "id": "8fbf71a3",
   "metadata": {},
   "source": [
    "## Overview\n",
    "\n",
    "\n",
    "REMEMBER A DATA STRUCTURE ENDS UP AS ...\n",
    "\n",
    "- Bytes in memory\n",
    "   - At particular locations -- Memory Address\n",
    "   - taking up some number of **contiguous**  bytes\n",
    "- Intrinsic types : groups of bytes that the processor has built in \"interpretations\" for\n",
    "   - bit vectors of various lengths (1,2,4,8,16,...)\n",
    "   - signed and unsigned integers (1,2,4,8,16,...)\n",
    "   - floating point number (IEEE 754)\n",
    "- Complex data structures often are broken into pieces \n",
    "   - each piece connected to others \n",
    "   - connections formed via Addresses\n",
    "   - pieces record the address of the pieces it connects to\n",
    " "
   ]
  },
  {
   "cell_type": "markdown",
   "id": "cea2e061",
   "metadata": {
    "slideshow": {
     "slide_type": "slide"
    }
   },
   "source": [
    "<center>\n",
    "<img src=\"../images/ASSEMBLY-PGMV/ASSEMBLY-PGMV.012.png\" >\n",
    "</center>"
   ]
  },
  {
   "cell_type": "markdown",
   "id": "c75c1655",
   "metadata": {
    "slideshow": {
     "slide_type": "slide"
    }
   },
   "source": [
    "<center>\n",
    "<img src=\"../images/ASSEMBLY-PGMV/ASSEMBLY-PGMV.013.png\" >\n",
    "</center>"
   ]
  },
  {
   "cell_type": "markdown",
   "id": "8489a73f",
   "metadata": {
    "slideshow": {
     "slide_type": "slide"
    }
   },
   "source": [
    "<center>\n",
    "<img src=\"../images/ASSEMBLY-PGMV/ASSEMBLY-PGMV.014.png\" >\n",
    "</center>"
   ]
  },
  {
   "cell_type": "markdown",
   "id": "896689ff",
   "metadata": {
    "slideshow": {
     "slide_type": "slide"
    }
   },
   "source": [
    "<center>\n",
    "<img src=\"../images/ASSEMBLY-PGMV/ASSEMBLY-PGMV.015.png\" >\n",
    "</center>"
   ]
  },
  {
   "cell_type": "markdown",
   "id": "2c5a42e7",
   "metadata": {
    "slideshow": {
     "slide_type": "slide"
    }
   },
   "source": [
    "<center>\n",
    "<img src=\"../images/ASSEMBLY-PGMV/ASSEMBLY-PGMV.016.png\" >\n",
    "</center>"
   ]
  },
  {
   "cell_type": "markdown",
   "id": "974c43fa",
   "metadata": {
    "slideshow": {
     "slide_type": "slide"
    }
   },
   "source": [
    "<center>\n",
    "<img src=\"../images/ASSEMBLY-PGMV/ASSEMBLY-PGMV.017.png\" >\n",
    "</center>"
   ]
  },
  {
   "cell_type": "markdown",
   "id": "c0554eb3",
   "metadata": {
    "slideshow": {
     "slide_type": "slide"
    }
   },
   "source": [
    "<center>\n",
    "<img src=\"../images/ASSEMBLY-PGMV/ASSEMBLY-PGMV.018.png\" >\n",
    "</center>"
   ]
  },
  {
   "cell_type": "markdown",
   "id": "e934780f",
   "metadata": {
    "slideshow": {
     "slide_type": "slide"
    }
   },
   "source": [
    "<center>\n",
    "<img src=\"../images/ASSEMBLY-PGMV/ASSEMBLY-PGMV.019.png\" >\n",
    "</center>"
   ]
  },
  {
   "cell_type": "markdown",
   "id": "b0284948",
   "metadata": {
    "slideshow": {
     "slide_type": "slide"
    }
   },
   "source": [
    "<center>\n",
    "<img src=\"../images/ASSEMBLY-PGMV/ASSEMBLY-PGMV.020.png\" >\n",
    "</center>"
   ]
  },
  {
   "cell_type": "markdown",
   "id": "17a3ef73",
   "metadata": {
    "slideshow": {
     "slide_type": "slide"
    }
   },
   "source": [
    "<center>\n",
    "<img src=\"../images/ASSEMBLY-PGMV/ASSEMBLY-PGMV.021.png\" >\n",
    "</center>"
   ]
  },
  {
   "cell_type": "markdown",
   "id": "d2046884",
   "metadata": {
    "slideshow": {
     "slide_type": "slide"
    }
   },
   "source": [
    "<center>\n",
    "<img src=\"../images/ASSEMBLY-PGMV/ASSEMBLY-PGMV.022.png\" >\n",
    "</center>"
   ]
  },
  {
   "cell_type": "markdown",
   "id": "0c2862b8",
   "metadata": {
    "slideshow": {
     "slide_type": "slide"
    }
   },
   "source": [
    "<center>\n",
    "<img src=\"../images/ASSEMBLY-PGMV/ASSEMBLY-PGMV.023.png\" >\n",
    "</center>"
   ]
  },
  {
   "cell_type": "markdown",
   "id": "0d28e8ac",
   "metadata": {
    "slideshow": {
     "slide_type": "slide"
    }
   },
   "source": [
    "<center>\n",
    "<img src=\"../images/ASSEMBLY-PGMV/ASSEMBLY-PGMV.024.png\" >\n",
    "</center>"
   ]
  },
  {
   "cell_type": "markdown",
   "id": "a5807064",
   "metadata": {
    "slideshow": {
     "slide_type": "slide"
    }
   },
   "source": [
    "<center>\n",
    "<img src=\"../images/ASSEMBLY-PGMV/ASSEMBLY-PGMV.025.png\" >\n",
    "</center>"
   ]
  },
  {
   "cell_type": "markdown",
   "id": "fd529f03",
   "metadata": {
    "slideshow": {
     "slide_type": "slide"
    }
   },
   "source": [
    "<center>\n",
    "<img src=\"../images/ASSEMBLY-PGMV/ASSEMBLY-PGMV.026.png\" >\n",
    "</center>"
   ]
  },
  {
   "cell_type": "markdown",
   "id": "ad4eb6fd",
   "metadata": {
    "slideshow": {
     "slide_type": "slide"
    }
   },
   "source": [
    "<center>\n",
    "<img src=\"../images/ASSEMBLY-PGMV/ASSEMBLY-PGMV.027.png\" >\n",
    "</center>"
   ]
  },
  {
   "cell_type": "markdown",
   "id": "ac0de7d4",
   "metadata": {
    "slideshow": {
     "slide_type": "slide"
    }
   },
   "source": [
    "<center>\n",
    "<img src=\"../images/ASSEMBLY-PGMV/ASSEMBLY-PGMV.028.png\" >\n",
    "</center>"
   ]
  },
  {
   "cell_type": "markdown",
   "id": "683eb308",
   "metadata": {
    "slideshow": {
     "slide_type": "slide"
    }
   },
   "source": [
    "<center>\n",
    "<img src=\"../images/ASSEMBLY-PGMV/ASSEMBLY-PGMV.029.png\" >\n",
    "</center>"
   ]
  },
  {
   "cell_type": "markdown",
   "id": "2e187e0a",
   "metadata": {
    "slideshow": {
     "slide_type": "slide"
    }
   },
   "source": [
    "<center>\n",
    "<img src=\"../images/ASSEMBLY-PGMV/ASSEMBLY-PGMV.030.png\" >\n",
    "</center>"
   ]
  },
  {
   "cell_type": "markdown",
   "id": "d5a57e7d",
   "metadata": {
    "slideshow": {
     "slide_type": "slide"
    }
   },
   "source": [
    "<center>\n",
    "<img src=\"../images/ASSEMBLY-PGMV/ASSEMBLY-PGMV.031.png\" >\n",
    "</center>"
   ]
  },
  {
   "cell_type": "markdown",
   "id": "1f55799c",
   "metadata": {
    "slideshow": {
     "slide_type": "slide"
    }
   },
   "source": [
    "<center>\n",
    "<img src=\"../images/ASSEMBLY-PGMV/ASSEMBLY-PGMV.032.png\" >\n",
    "</center>"
   ]
  },
  {
   "cell_type": "markdown",
   "id": "09b7f006",
   "metadata": {
    "slideshow": {
     "slide_type": "slide"
    }
   },
   "source": [
    "<center>\n",
    "<img src=\"../images/ASSEMBLY-PGMV/ASSEMBLY-PGMV.033.png\" >\n",
    "</center>"
   ]
  },
  {
   "cell_type": "markdown",
   "id": "60f99e76",
   "metadata": {
    "slideshow": {
     "slide_type": "slide"
    }
   },
   "source": [
    "<center>\n",
    "<img src=\"../images/ASSEMBLY-PGMV/ASSEMBLY-PGMV.034.png\" >\n",
    "</center>"
   ]
  },
  {
   "cell_type": "markdown",
   "id": "09856977",
   "metadata": {
    "slideshow": {
     "slide_type": "skip"
    },
    "tags": [
     "remove-cell"
    ]
   },
   "source": [
    "<center>\n",
    "<img src=\"../images/ASSEMBLY-PGMV/ASSEMBLY-PGMV.035.png\" >\n",
    "</center>"
   ]
  },
  {
   "cell_type": "markdown",
   "id": "e331d25d",
   "metadata": {
    "slideshow": {
     "slide_type": "slide"
    }
   },
   "source": [
    "## Worth carefully examining the assembly for this example\n",
    "\n",
    "Understanding this code is a great test of your knowledge \n"
   ]
  },
  {
   "cell_type": "code",
   "execution_count": 3,
   "id": "425423e7",
   "metadata": {
    "hide_input": false,
    "jupyter": {
     "source_hidden": true
    },
    "tags": [
     "remove-input"
    ]
   },
   "outputs": [
    {
     "data": {
      "text/markdown": [
       "<b>CODE: asm - tree.S\n",
       "<div style=\"width:107em; height:100%; font-size:inherit; overflow: auto;\" >\n",
       "\n",
       "\n",
       "``` gas\n",
       "\t.intel_syntax noprefix\n",
       "        # TREE NODE STRUCTURE IN MEMORY\n",
       "\t# A NODE is composed of 3, 8 byte values\n",
       "\t# First 8 bytes is an 8 byte signed value\n",
       "\t# Second 8 bytes is a pointer to the left child (another node)\n",
       "\t# Third 8 bytes is a pointer to the right child (another node)\n",
       "\t# a 0 value pointer means there are no nodes in that direction\n",
       "\n",
       "\t#  node.VAL\n",
       "\t#  node.LEFT\n",
       "\t#  node.RIGHT\n",
       "\t.equ VAL, 0       # tree node value 8 bytes (offset 0)\n",
       "\t.equ LEFT, 8      # pointer to left child 8 bytes (offset 8)\n",
       "\t.equ RIGHT, 16    # pointer to right child 8 bytes (offset 16)\n",
       "\n",
       "\t.section .text\n",
       "\t.global _start\n",
       "_start:\n",
       "\tmov rax, QWORD PTR [ROOT]  # pointer to root node is in a memory location ROOT\n",
       "loop:\n",
       "\tmov rbx, QWORD PTR [rax + LEFT]  # rbx = left child location\n",
       "\tmov rdx, QWORD PTR [rax + RIGHT] # rdx = right child location\n",
       "\tcmp QWORD PTR [rax + VAL], 0     # compare node's value to zero\n",
       "\tcmovl  rax, rbx                  # if val < 0 then rax = rbx -- left child\n",
       "\tcmovge rax, rdx                  # if val >= 0 then rax = rdx -- right child\n",
       "\tcmp rax, 0                       # if location of next node is 0 we are done\n",
       "\tjne loop                         # otherwise keep walking the tree\n",
       "\n",
       "\tint3\n",
       "\n",
       "\t.section .data\n",
       "ROOT:\n",
       "\t.quad N0               # ROOT global variable stores address of\n",
       "\t# N0 node &N0 (eg points to N0)\n",
       "\n",
       "\t# A BUNCH OF NODES CONNECTED TO FORM A TREE LIKE STRUCTURE\n",
       "N0:\n",
       "\t.quad 8                # N0.VAL   = 8\n",
       "\t.quad N1               # N0.LEFT  = &N1\n",
       "\t.quad N2               # N0.RIGHT = &N2\n",
       "\n",
       "N1:\n",
       "\t.quad 0                # N1.VAL   = 0\n",
       "\t.quad N3               # N1.LEFT  = &N3\n",
       "\t.quad N4               # N1.RIGHT = &N4\n",
       "\n",
       "N2:\n",
       "\t.quad -5               # N2.VAL   = -5\n",
       "\t.quad N5               # N2.LEFT  = &N5\n",
       "\t.quad N6               # N2.RIGHT = &N6\n",
       "\n",
       "N3:\n",
       "\t.quad 6                # N3.VAL   = 6\n",
       "\t.quad 0                # N3.LEFT  = 0\n",
       "\t.quad 0                # N3.RIGHT = 0\n",
       "\n",
       "N4:\n",
       "\t.quad 90               # N4.VAL   = 90\n",
       "\t.quad N7               # N4.LEFT  = &N7\n",
       "\t.quad 0                # N4.RIGHT = 0\n",
       "\n",
       "N5:\n",
       "\t.quad -3               # N5.VAL   = -3\n",
       "\t.quad N7               # N5.LEFT  = &N7\n",
       "\t.quad 0                # N5.RIGHT = 0\n",
       "\n",
       "N6:\n",
       "\t.quad 567              # N6.VAL   = 567\n",
       "\t.quad 0                # N6.LEFT  = 0\n",
       "\t.quad 0                # N6.RIGHT = 0\n",
       "\n",
       "N7:\n",
       "\t.quad -8               # N7.VAL   = -8\n",
       "\t.quad 0                # N7.LEFT  = 0\n",
       "\t.quad 0                # N7.RIGHT = 0\n",
       "\t\n",
       "\n",
       "```\n",
       "\n",
       "\n",
       "</div>\n"
      ],
      "text/plain": [
       "<IPython.core.display.Markdown object>"
      ]
     },
     "metadata": {},
     "output_type": "display_data"
    }
   ],
   "source": [
    "display(Markdown(FileCodeBox(\n",
    "    file=\"../src/tree.S\", \n",
    "    lang=\"gas\", \n",
    "    title=\"<b>CODE: asm - tree.S\",\n",
    "    h=\"100%\", \n",
    "    w=\"107em\"\n",
    ")))"
   ]
  },
  {
   "cell_type": "markdown",
   "id": "a47e8181",
   "metadata": {},
   "source": [
    "### To assemble and link"
   ]
  },
  {
   "cell_type": "code",
   "execution_count": 4,
   "id": "26a85b16",
   "metadata": {
    "hide_input": true,
    "jupyter": {
     "source_hidden": true
    },
    "tags": [
     "remove-input"
    ]
   },
   "outputs": [
    {
     "data": {
      "application/vnd.jupyter.widget-view+json": {
       "model_id": "b0067af66327493cbafd56b7676894a2",
       "version_major": 2,
       "version_minor": 0
      },
      "text/plain": [
       "Output(layout=Layout(border='1px solid black', height='100%', overflow_y='scroll'))"
      ]
     },
     "metadata": {},
     "output_type": "display_data"
    }
   ],
   "source": [
    "TermShellCmd(\"make tree\", cwd=appdir, prompt='')"
   ]
  },
  {
   "cell_type": "markdown",
   "id": "38b843a3",
   "metadata": {},
   "source": [
    "### Exploring the tree with gdb"
   ]
  },
  {
   "cell_type": "code",
   "execution_count": 5,
   "id": "5cb8009e",
   "metadata": {
    "hide_input": true,
    "jupyter": {
     "source_hidden": true
    },
    "tags": [
     "remove-input"
    ]
   },
   "outputs": [
    {
     "data": {
      "text/markdown": [
       "\n",
       "<div style=\"width:107em; height:100%; font-size:inherit; overflow: auto;\" >\n",
       "\n",
       "\n",
       "``` gas\n",
       "set pagination off\n",
       "set disassembly-flavor intel\n",
       "x/1gx &ROOT\n",
       "x/16xb 0x402008\n",
       "x/8xh 0x402008\n",
       "x/4xw 0x402008\n",
       "x/2xg 0x402008\n",
       "\n",
       "x/9i _start\n",
       "\n",
       "b _start\n",
       "run\n",
       "display /x $rax\n",
       "display /1dg $rax + 0\n",
       "display /2gx $rax + 8\n",
       "\n",
       "b loop\n",
       "c\n",
       "c\n",
       "c\n",
       "c\n",
       "c\n",
       "\n",
       "\n",
       "\n",
       "\n",
       "```\n",
       "\n",
       "\n",
       "</div>\n"
      ],
      "text/plain": [
       "<IPython.core.display.Markdown object>"
      ]
     },
     "metadata": {},
     "output_type": "display_data"
    }
   ],
   "source": [
    "display(Markdown(FileCodeBox(\n",
    "    file=\"../src/tree.gdb\", \n",
    "    lang=\"gas\", \n",
    "    h=\"100%\", \n",
    "    w=\"107em\"\n",
    ")))"
   ]
  },
  {
   "cell_type": "markdown",
   "id": "72b0e8c5",
   "metadata": {
    "slideshow": {
     "slide_type": "slide"
    }
   },
   "source": [
    "<center>\n",
    "<img src=\"../images/ASSEMBLY-PGMV/ASSEMBLY-PGMV.036.png\" >\n",
    "</center>"
   ]
  },
  {
   "cell_type": "markdown",
   "id": "87a049f6",
   "metadata": {
    "slideshow": {
     "slide_type": "slide"
    }
   },
   "source": [
    "<center>\n",
    "<img src=\"../images/ASSEMBLY-PGMV/ASSEMBLY-PGMV.037.png\" >\n",
    "</center>"
   ]
  },
  {
   "cell_type": "markdown",
   "id": "fba791b8",
   "metadata": {
    "slideshow": {
     "slide_type": "skip"
    },
    "tags": [
     "remove-cell"
    ]
   },
   "source": [
    "<center>\n",
    "<img src=\"../images/ASSEMBLY-PGMV/ASSEMBLY-PGMV.038.png\" >\n",
    "</center>"
   ]
  },
  {
   "cell_type": "markdown",
   "id": "bafe03e7",
   "metadata": {
    "slideshow": {
     "slide_type": "slide"
    }
   },
   "source": [
    "## A more complex example\n",
    "\n",
    "This example should help to get your creative juices flowing and get a deeper appreciation for how we use the computer to write the kind of code you are used to.\n",
    "\n",
    "Note I have not tested this much.  I encourage you to try the exercises and test the code out."
   ]
  },
  {
   "cell_type": "markdown",
   "id": "6dcb09d0",
   "metadata": {},
   "source": [
    "### The Story: An Array of Players\n",
    "\n",
    "1. Lets assume in our program we have an array of \"Players\" \n",
    "2. Our program will have routines that work on the array and on individual players\n",
    "3. In our example we will layout a static version of the array with a few players\n",
    "\n",
    "Remember to draw things out to ensure you are understanding things\n",
    "\n",
    "#### A Player\n",
    "\n",
    "- Lets use a chuck of memory to represent a player\n",
    "- Each player has:\n",
    "  1. ID: A binary value that can fit in 8 bytes to uniquely identify a player\n",
    "  2. Name: A \"string\" : An array of ascii characters with 0 to mark the end of the string\n",
    "     - maximum length of the string array is 80\n",
    "  3. Score: A four byte signed integer value\n",
    "  4. Age: A single byte unsigned integer value\n",
    "  \n",
    "#### The Array of Players\n",
    "\n",
    "- Lets assume there is one global Array for the players\n",
    "  - One symbol `PLAYER_ARRAY` should mark the beginning of the player Array\n",
    "  - One symbol `PLAYER_ARRAY_END` should mark the end of the  player Array"
   ]
  },
  {
   "cell_type": "markdown",
   "id": "06f33d60",
   "metadata": {
    "slideshow": {
     "slide_type": "slide"
    }
   },
   "source": [
    "### Our \"main\" program\n",
    "\n",
    "- The following is our main program that has the \"entry point\"\n",
    "  - in this case it will simply call our `find_player` \n",
    "- It also lays out the memory for the static global player array\n",
    "  - It initializes the players with some hard code players\n",
    "- When done exits passing the return value for find player as the process exit code"
   ]
  },
  {
   "cell_type": "code",
   "execution_count": 6,
   "id": "09cde9c4",
   "metadata": {
    "jupyter": {
     "source_hidden": true
    },
    "tags": [
     "remove-input"
    ]
   },
   "outputs": [
    {
     "data": {
      "text/markdown": [
       "<b>CODE: asm - playertest.S\n",
       "<div style=\"width:107em; height:100%; font-size:inherit; overflow: auto;\" >\n",
       "\n",
       "\n",
       "``` gas\n",
       "\t.intel_syntax noprefix\n",
       "\t.section .text\n",
       "\n",
       "\t.global _start\n",
       "_start:\n",
       "\tmov rdi, OFFSET PLAYER_ARRAY\n",
       "\tmov rsi, (PLAYER_ARRAY_END - PLAYER_ARRAY)/93   #ugly magic number\n",
       "\t\n",
       "\tcall find_player\n",
       "\n",
       "\tmov rdi, rax\n",
       "\tmov rax, 60\n",
       "\tsyscall \n",
       "\n",
       "        .data\n",
       "PLAYER_ARRAY:\n",
       "\t.quad   7            # id\n",
       "\t.string \"The Doctor\" # name\n",
       "\t.zero   80 - 11      # fill rest of name array with 0\n",
       "\t.int    42           # score \n",
       "\t.byte   255          # age\n",
       "\n",
       "\t.quad   37           # id\n",
       "\t.string \"Bugs Bunny\" # name\n",
       "\t.zero   80 - 11      # fill rest of name array with 0\n",
       "\t.int    -4           # score \n",
       "\t.byte   9            # age\n",
       "PLAYER_ARRAY_END:\t\n",
       "\n",
       "\n",
       "```\n",
       "\n",
       "\n",
       "</div>\n"
      ],
      "text/plain": [
       "<IPython.core.display.Markdown object>"
      ]
     },
     "metadata": {},
     "output_type": "display_data"
    }
   ],
   "source": [
    "display(Markdown(FileCodeBox(\n",
    "    file=\"../src/playertest.S\", \n",
    "    lang=\"gas\", \n",
    "    title=\"<b>CODE: asm - playertest.S\",\n",
    "    h=\"100%\", \n",
    "    w=\"107em\"\n",
    ")))"
   ]
  },
  {
   "cell_type": "markdown",
   "id": "32478888",
   "metadata": {},
   "source": [
    "### `find_player`\n",
    "\n",
    "This routine searches an Array of Players:\n",
    "- starting from the beginning of array \n",
    "- find the first player with capital 'B' in their name\n",
    "- Either returns the index of the found player or -1\n",
    "\n",
    "Arguments: Address of the Array and length of the Array"
   ]
  },
  {
   "cell_type": "code",
   "execution_count": 7,
   "id": "c1f242c0",
   "metadata": {
    "hide_input": false,
    "jupyter": {
     "source_hidden": true
    },
    "tags": [
     "remove-input"
    ]
   },
   "outputs": [
    {
     "data": {
      "text/markdown": [
       "<b>CODE: asm - findplayer.S\n",
       "<div style=\"width:107em; height:100%; font-size:inherit; overflow: auto;\" >\n",
       "\n",
       "\n",
       "``` gas\n",
       "\t.intel_syntax noprefix\n",
       "\t# EXAMPLE ASSEMBLY CODE OF SOMETHING A LITTE MORE REALISTIC\n",
       "        #   NOTE THIS IS BY NO MEANS MEANT TO BE THE MOST EFFICIENT\n",
       "\t#   OR ADVANCE WAY OF WRITING THIS CODE.  RATHER IT IS MEANT\n",
       "\t#   TO BE SIMPLE AND HOPEFULLY CORRECT\n",
       "\t\n",
       "\t# Player Structure\n",
       "\t#   id   : 8 byte id\n",
       "\t#   name : 80 byte ascii encoded name\n",
       "\t#   score: 4  byte score\n",
       "\t#   age  : 1  byte age\n",
       "\t#  total number of bytes for a player is 8 + 80 + 4 + 1 = 93\n",
       "        .equ PLAYER_STRUCT_SIZE, 93   # size of player structure in bytes\n",
       "\t\n",
       "\t# offsets to start of each field\n",
       "\t.equ PLAYER_ID_OFFSET,0       # offset 8 byte unsigned id \n",
       "\t.equ PLAYER_NAME_OFFSET,8     # offset 80 byte ascii name\n",
       "\t.equ PLAYER_SCORE_OFFSET, 88  # offset 4 byte score\n",
       "\t.equ PLAYER_AGE_OFFSET, 92    # offset 1 Byte unsigned age\n",
       "\n",
       "\t\n",
       "\t#  Routine to search an array of player structures\n",
       "\t#  to find first player who's name contains a 'B'\n",
       "\t#  We assume the location of the array is passed in %rdi\n",
       "\t#  and %rsi contains the length of the array.\n",
       "\t#  Each element of the array is a player structure\n",
       "\t#  When done the index of the first player found that\n",
       "\t#  has a B in its name shoud be left in %rax.\n",
       "\t#  if not found then %rax should contain -1\n",
       "\n",
       "\t# INPUTS\n",
       "\t# rdi -> array : address of player array\n",
       "\t# rsi -> len   : length of player array\n",
       "\t# OUTPUTS\n",
       "\t# rax -> i : index of player with B in name or -1 if none found\n",
       "\n",
       "\t# REGISTER USED AS TEMPORARIES\n",
       "\t# rdx -> player_ptr : pointer to the ith player structure\n",
       "\t# r8  -> j        : temporary integer used to seach name\n",
       "\t# r9b -> tmpc     : temporary byte used to hold the jth charater of the current\n",
       "        #                 : player's name\n",
       "\t.global find_player\n",
       "find_player:\n",
       "\txor rax, rax                 #  i = 0 \n",
       "\n",
       "\tjmp find_player_loop_condition     \n",
       "find_player_loop:\n",
       "\tmov  rdx, rax                  # player_ptr = i    \n",
       "\timul rdx, PLAYER_STRUCT_SIZE   # player_ptr = i * size of player stucture\n",
       "        add  rdx, rdi                  # player_ptr += array starting address\n",
       "\t                               # rdx now holds the address of the ith player\n",
       "\txor  r8, r8                    # j=0\n",
       "name_search_loop:\n",
       "\t# tmpc = player->name[j]\n",
       "\tmov  r9b, BYTE PTR [rdx +  r8 + PLAYER_NAME_OFFSET]\n",
       "\t\n",
       "        cmp r9b, 'B'                 # compare tmpc to 'B'\n",
       "\tje  find_player_done         # found a 'B' in the ith player name\n",
       "\tcmp r9b, 0                   # is the current character 0 if so end of name\n",
       "        je  name_search_loop_end     # done searching this player's name exit name loop\n",
       "\tinc r8                     # j++\n",
       "\tjmp name_search_loop          # goto top of name search loop to examine next byte in name \n",
       "name_search_loop_end:\n",
       "\t\n",
       "\tinc rax                     # i++\n",
       "find_player_loop_condition:\t\n",
       "\tcmp rax,  rsi                # if i < len\n",
       "\tjl find_player_loop\n",
       "\n",
       "find_player_notfound:\n",
       "\tmov rax, -1\n",
       "\t\n",
       "find_player_done:\t\n",
       "\tret\n",
       "\n",
       "```\n",
       "\n",
       "\n",
       "</div>\n"
      ],
      "text/plain": [
       "<IPython.core.display.Markdown object>"
      ]
     },
     "metadata": {},
     "output_type": "display_data"
    }
   ],
   "source": [
    "display(Markdown(FileCodeBox(\n",
    "    file=\"../src/findplayer.S\", \n",
    "    lang=\"gas\", \n",
    "    title=\"<b>CODE: asm - findplayer.S\",\n",
    "    h=\"100%\", \n",
    "    w=\"107em\"\n",
    ")))"
   ]
  },
  {
   "cell_type": "markdown",
   "id": "7bbd0cbe",
   "metadata": {},
   "source": [
    "### Assemble and link"
   ]
  },
  {
   "cell_type": "code",
   "execution_count": 8,
   "id": "49ba5f7b",
   "metadata": {
    "hide_input": true,
    "jupyter": {
     "source_hidden": true
    },
    "tags": [
     "remove-input"
    ]
   },
   "outputs": [
    {
     "data": {
      "application/vnd.jupyter.widget-view+json": {
       "model_id": "cd8d605505314001a6393293e38883b3",
       "version_major": 2,
       "version_minor": 0
      },
      "text/plain": [
       "Output(layout=Layout(border='1px solid black', height='100%', overflow_y='scroll'))"
      ]
     },
     "metadata": {},
     "output_type": "display_data"
    }
   ],
   "source": [
    "TermShellCmd(\"make playertest\", cwd=appdir, prompt='')"
   ]
  },
  {
   "cell_type": "markdown",
   "id": "5d36e130",
   "metadata": {
    "hide_input": true
   },
   "source": [
    "### Exercises\n",
    "\n",
    "1. Modify the find routine to taking the search character as a parameter\n",
    "2. Add more players\n",
    "3. Write a routine to update a player's score\n",
    "4. Replace the Array with a list\n",
    "    - convert static array with static list (see tree example for inspiration)\n",
    "    - rewrite `find_player` to search a list"
   ]
  }
 ],
 "metadata": {
  "celltoolbar": "Tags",
  "hide_input": true,
  "kernelspec": {
   "display_name": "Python 3 (ipykernel)",
   "language": "python",
   "name": "python3"
  },
  "language_info": {
   "codemirror_mode": {
    "name": "ipython",
    "version": 3
   },
   "file_extension": ".py",
   "mimetype": "text/x-python",
   "name": "python",
   "nbconvert_exporter": "python",
   "pygments_lexer": "ipython3",
   "version": "3.10.5"
  },
  "rise": {
   "autolaunch": false,
   "enable_chalkboard": true,
   "footer": "UC-SLS -- Lecture 13",
   "header": "Assembly: Program Anatomy V",
   "height": "100%",
   "scroll": true,
   "start_slideshow_at": "selected",
   "transition": "none",
   "width": "100%"
  }
 },
 "nbformat": 4,
 "nbformat_minor": 5
}
