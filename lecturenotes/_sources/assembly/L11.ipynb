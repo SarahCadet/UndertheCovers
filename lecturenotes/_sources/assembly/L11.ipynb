{
 "cells": [
  {
   "cell_type": "code",
   "execution_count": 1,
   "id": "1a5c5d25",
   "metadata": {
    "hide_input": true,
    "jupyter": {
     "source_hidden": true
    },
    "slideshow": {
     "slide_type": "skip"
    },
    "tags": [
     "remove-cell"
    ]
   },
   "outputs": [],
   "source": [
    "%run -i ../python/common.py\n",
    "UC_SKIPTERMS=True\n",
    "%run -i ../python/ln_preamble.py"
   ]
  },
  {
   "cell_type": "markdown",
   "id": "74946512-d109-4aef-a47d-2e442d0b4aae",
   "metadata": {
    "slideshow": {
     "slide_type": "slide"
    }
   },
   "source": [
    "# SLS Lecture 11 :  Program Anatomy II : Functions "
   ]
  },
  {
   "cell_type": "code",
   "execution_count": 2,
   "id": "75b29773",
   "metadata": {
    "hide_input": true,
    "jupyter": {
     "source_hidden": true
    },
    "tags": [
     "remove-input"
    ]
   },
   "outputs": [
    {
     "data": {
      "text/markdown": [
       "\n",
       "- create a directory `mkdir sum; cd sum`\n",
       "- copy sumit and usesumit code examples\n",
       "- add a `Makefile` to automate assembling and linking\n",
       "    - we are going run the commands by hand this time to highlight the details\n",
       "- add our `setup.gdb` and `usesumABC.gdb` to make working in gdb easier\n",
       "- normally you would want to track everything in git\n"
      ],
      "text/plain": [
       "<IPython.core.display.Markdown object>"
      ]
     },
     "metadata": {},
     "output_type": "display_data"
    }
   ],
   "source": [
    "# setup for sumit examples\n",
    "appdir=os.getenv('HOME')\n",
    "appdir=appdir + \"/sum\"\n",
    "#print(movdir)\n",
    "output=runTermCmd(\"[[ -d \" + appdir + \" ]] &&  rm -rf \"+ appdir + \n",
    "             \";mkdir \" + appdir + \n",
    "             \";cp ../src/Makefile ../src/*.bin ../src/setup.gdb ../src/usesumABC.gdb ../src/usesum*.s ../src/sumit*.s \" + appdir)\n",
    "#TermShellCmd(\"ls\", cwd=appdir)\n",
    "display(Markdown('''\n",
    "- create a directory `mkdir sum; cd sum`\n",
    "- copy sumit and usesumit code examples\n",
    "- add a `Makefile` to automate assembling and linking\n",
    "    - we are going run the commands by hand this time to highlight the details\n",
    "- add our `setup.gdb` and `usesumABC.gdb` to make working in gdb easier\n",
    "- normally you would want to track everything in git\n",
    "'''))"
   ]
  },
  {
   "cell_type": "markdown",
   "id": "0960c68e",
   "metadata": {
    "hide_input": false,
    "slideshow": {
     "slide_type": "slide"
    }
   },
   "source": [
    "<center>\n",
    "<img src=../images/ASSEMBLY-PGMIII/ASSEMBLY-PGMIII.001.png>\n",
    "</center>"
   ]
  },
  {
   "cell_type": "markdown",
   "id": "75784de6",
   "metadata": {
    "slideshow": {
     "slide_type": "slide"
    }
   },
   "source": [
    "<center>\n",
    "<img src=../images/ASSEMBLY-PGMIII/ASSEMBLY-PGMIII.002.png>\n",
    "</center>"
   ]
  },
  {
   "cell_type": "markdown",
   "id": "a0e772e4",
   "metadata": {
    "slideshow": {
     "slide_type": "slide"
    }
   },
   "source": [
    "<center>\n",
    "<img src=../images/ASSEMBLY-PGMIII/ASSEMBLY-PGMIII.003.png>\n",
    "</center>"
   ]
  },
  {
   "cell_type": "markdown",
   "id": "ea3302a2",
   "metadata": {
    "slideshow": {
     "slide_type": "slide"
    }
   },
   "source": [
    "<center>\n",
    "<img src=../images/ASSEMBLY-PGMIII/ASSEMBLY-PGMIII.004.png>\n",
    "</center>"
   ]
  },
  {
   "cell_type": "markdown",
   "id": "9d7b2bd9",
   "metadata": {
    "slideshow": {
     "slide_type": "slide"
    }
   },
   "source": [
    "<center>\n",
    "<img src=../images/ASSEMBLY-PGMIII/ASSEMBLY-PGMIII.005.png>\n",
    "</center>"
   ]
  },
  {
   "cell_type": "markdown",
   "id": "f8dd0652",
   "metadata": {
    "slideshow": {
     "slide_type": "slide"
    }
   },
   "source": [
    "<center>\n",
    "<img src=../images/ASSEMBLY-PGMIII/ASSEMBLY-PGMIII.006.png>\n",
    "</center>"
   ]
  },
  {
   "cell_type": "markdown",
   "id": "a7fbbf36",
   "metadata": {
    "slideshow": {
     "slide_type": "slide"
    }
   },
   "source": [
    "<center>\n",
    "<img src=../images/ASSEMBLY-PGMIII/ASSEMBLY-PGMIII.007.png>\n",
    "</center>"
   ]
  },
  {
   "cell_type": "markdown",
   "id": "5fd6d312",
   "metadata": {
    "slideshow": {
     "slide_type": "slide"
    }
   },
   "source": [
    "<center>\n",
    "<img src=../images/ASSEMBLY-PGMIII/ASSEMBLY-PGMIII.008.png>\n",
    "</center>"
   ]
  },
  {
   "cell_type": "markdown",
   "id": "3d035719",
   "metadata": {
    "slideshow": {
     "slide_type": "slide"
    }
   },
   "source": [
    "<center>\n",
    "<img src=../images/ASSEMBLY-PGMIII/ASSEMBLY-PGMIII.009.png>\n",
    "</center>"
   ]
  },
  {
   "cell_type": "markdown",
   "id": "b142895b",
   "metadata": {
    "slideshow": {
     "slide_type": "slide"
    }
   },
   "source": [
    "<center>\n",
    "<img src=../images/ASSEMBLY-PGMIII/ASSEMBLY-PGMIII.010.png>\n",
    "</center>"
   ]
  },
  {
   "cell_type": "markdown",
   "id": "bb38e300",
   "metadata": {
    "slideshow": {
     "slide_type": "slide"
    }
   },
   "source": [
    "<center>\n",
    "<img src=../images/ASSEMBLY-PGMIII/ASSEMBLY-PGMIII.011.png>\n",
    "</center>"
   ]
  },
  {
   "cell_type": "markdown",
   "id": "43dd7fcb",
   "metadata": {
    "slideshow": {
     "slide_type": "slide"
    }
   },
   "source": [
    "<center>\n",
    "<img src=../images/ASSEMBLY-PGMIII/ASSEMBLY-PGMIII.012.png>\n",
    "</center>"
   ]
  },
  {
   "cell_type": "markdown",
   "id": "21b162b5",
   "metadata": {
    "slideshow": {
     "slide_type": "slide"
    }
   },
   "source": [
    "<center>\n",
    "<img src=../images/ASSEMBLY-PGMIII/ASSEMBLY-PGMIII.013.png>\n",
    "</center>"
   ]
  },
  {
   "cell_type": "markdown",
   "id": "06afc653",
   "metadata": {
    "slideshow": {
     "slide_type": "slide"
    }
   },
   "source": [
    "<center>\n",
    "<img src=../images/ASSEMBLY-PGMIII/ASSEMBLY-PGMIII.014.png>\n",
    "</center>"
   ]
  },
  {
   "cell_type": "markdown",
   "id": "378bfa9a",
   "metadata": {
    "slideshow": {
     "slide_type": "slide"
    }
   },
   "source": [
    "<center>\n",
    "<img src=../images/ASSEMBLY-PGMIII/ASSEMBLY-PGMIII.015.png>\n",
    "</center>"
   ]
  },
  {
   "cell_type": "markdown",
   "id": "8d8f6c81",
   "metadata": {
    "slideshow": {
     "slide_type": "slide"
    }
   },
   "source": [
    "<center>\n",
    "<img src=../images/ASSEMBLY-PGMIII/ASSEMBLY-PGMIII.016.png>\n",
    "</center>"
   ]
  },
  {
   "cell_type": "markdown",
   "id": "6c3fc81c",
   "metadata": {
    "slideshow": {
     "slide_type": "slide"
    }
   },
   "source": [
    "<center>\n",
    "<img src=../images/ASSEMBLY-PGMIII/ASSEMBLY-PGMIII.017.png>\n",
    "</center>"
   ]
  },
  {
   "cell_type": "markdown",
   "id": "c25d37d7",
   "metadata": {
    "slideshow": {
     "slide_type": "slide"
    }
   },
   "source": [
    "<center>\n",
    "<img src=../images/ASSEMBLY-PGMIII/ASSEMBLY-PGMIII.018.png>\n",
    "</center>"
   ]
  },
  {
   "cell_type": "markdown",
   "id": "0ad4c042",
   "metadata": {
    "slideshow": {
     "slide_type": "slide"
    }
   },
   "source": [
    "<center>\n",
    "<img src=../images/ASSEMBLY-PGMIII/ASSEMBLY-PGMIII.019.png>\n",
    "</center>"
   ]
  },
  {
   "cell_type": "markdown",
   "id": "32fca191",
   "metadata": {
    "slideshow": {
     "slide_type": "slide"
    }
   },
   "source": [
    "<center>\n",
    "<img src=../images/ASSEMBLY-PGMIII/ASSEMBLY-PGMIII.020.png>\n",
    "</center>"
   ]
  },
  {
   "cell_type": "markdown",
   "id": "a1e6f0b7",
   "metadata": {
    "slideshow": {
     "slide_type": "slide"
    }
   },
   "source": [
    "<center>\n",
    "<img src=../images/ASSEMBLY-PGMIII/ASSEMBLY-PGMIII.021.png>\n",
    "</center>"
   ]
  },
  {
   "cell_type": "markdown",
   "id": "da52fdbb",
   "metadata": {
    "slideshow": {
     "slide_type": "slide"
    }
   },
   "source": [
    "<center>\n",
    "<img src=../images/ASSEMBLY-PGMIII/ASSEMBLY-PGMIII.022.png>\n",
    "</center>"
   ]
  },
  {
   "cell_type": "markdown",
   "id": "41ae3ec8",
   "metadata": {
    "slideshow": {
     "slide_type": "slide"
    }
   },
   "source": [
    "<center>\n",
    "<img src=../images/ASSEMBLY-PGMIII/ASSEMBLY-PGMIII.023.png>\n",
    "</center>"
   ]
  },
  {
   "cell_type": "markdown",
   "id": "8418f9e7",
   "metadata": {
    "slideshow": {
     "slide_type": "slide"
    }
   },
   "source": [
    "<center>\n",
    "<img src=../images/ASSEMBLY-PGMIII/ASSEMBLY-PGMIII.024.png>\n",
    "</center>"
   ]
  },
  {
   "cell_type": "markdown",
   "id": "4c08f806",
   "metadata": {
    "slideshow": {
     "slide_type": "slide"
    }
   },
   "source": [
    "<center>\n",
    "<img src=../images/ASSEMBLY-PGMIII/ASSEMBLY-PGMIII.025.png>\n",
    "</center>"
   ]
  },
  {
   "cell_type": "markdown",
   "id": "5f7ae957",
   "metadata": {
    "slideshow": {
     "slide_type": "slide"
    }
   },
   "source": [
    "<center>\n",
    "<img src=../images/ASSEMBLY-PGMIII/ASSEMBLY-PGMIII.026.png>\n",
    "</center>"
   ]
  },
  {
   "cell_type": "markdown",
   "id": "b1edf6b3",
   "metadata": {
    "slideshow": {
     "slide_type": "slide"
    }
   },
   "source": [
    "<center>\n",
    "<img src=../images/ASSEMBLY-PGMIII/ASSEMBLY-PGMIII.027.png>\n",
    "</center>"
   ]
  },
  {
   "cell_type": "markdown",
   "id": "d99f911d",
   "metadata": {
    "slideshow": {
     "slide_type": "slide"
    },
    "tags": []
   },
   "source": [
    "<center>\n",
    "<img src=../images/ASSEMBLY-PGMIII/ASSEMBLY-PGMIII.028.png>\n",
    "</center>"
   ]
  },
  {
   "cell_type": "markdown",
   "id": "ef67a07e",
   "metadata": {
    "slideshow": {
     "slide_type": "slide"
    }
   },
   "source": [
    "<center>\n",
    "<img src=../images/ASSEMBLY-PGMIII/ASSEMBLY-PGMIII.029.png>\n",
    "</center>"
   ]
  },
  {
   "cell_type": "markdown",
   "id": "a08c2072",
   "metadata": {
    "slideshow": {
     "slide_type": "slide"
    },
    "tags": []
   },
   "source": [
    "<center>\n",
    "<img src=../images/ASSEMBLY-PGMIII/ASSEMBLY-PGMIII.030.png>\n",
    "</center>"
   ]
  },
  {
   "cell_type": "markdown",
   "id": "1cfe9393",
   "metadata": {
    "slideshow": {
     "slide_type": "slide"
    }
   },
   "source": [
    "<center>\n",
    "<img src=../images/ASSEMBLY-PGMIII/ASSEMBLY-PGMIII.031.png>\n",
    "</center>"
   ]
  },
  {
   "cell_type": "markdown",
   "id": "63f6c498",
   "metadata": {
    "slideshow": {
     "slide_type": "slide"
    }
   },
   "source": [
    "<center>\n",
    "<img src=../images/ASSEMBLY-PGMIII/ASSEMBLY-PGMIII.033.png>\n",
    "</center>"
   ]
  },
  {
   "cell_type": "markdown",
   "id": "3f20bec8",
   "metadata": {
    "slideshow": {
     "slide_type": "slide"
    }
   },
   "source": [
    "<center>\n",
    "<img src=../images/ASSEMBLY-PGMIII/ASSEMBLY-PGMIII.034.png>\n",
    "</center>"
   ]
  },
  {
   "cell_type": "markdown",
   "id": "9c7acbcc",
   "metadata": {},
   "source": [
    "<center>\n",
    "<img src=../images/ASSEMBLY-PGMIII/ASSEMBLY-PGMIII.035.png>\n",
    "</center>"
   ]
  },
  {
   "cell_type": "markdown",
   "id": "edff3231",
   "metadata": {
    "slideshow": {
     "slide_type": "slide"
    }
   },
   "source": [
    "<center>\n",
    "<img src=../images/ASSEMBLY-PGMIII/ASSEMBLY-PGMIII.036.png>\n",
    "</center>"
   ]
  },
  {
   "cell_type": "markdown",
   "id": "d1f7b270",
   "metadata": {
    "slideshow": {
     "slide_type": "slide"
    }
   },
   "source": [
    "<center>\n",
    "<img src=../images/ASSEMBLY-PGMIII/ASSEMBLY-PGMIII.037.png>\n",
    "</center>"
   ]
  },
  {
   "cell_type": "markdown",
   "id": "c3d94e92",
   "metadata": {
    "slideshow": {
     "slide_type": "slide"
    }
   },
   "source": [
    "<center>\n",
    "<img src=../images/ASSEMBLY-PGMIII/ASSEMBLY-PGMIII.038.png>\n",
    "</center>"
   ]
  },
  {
   "cell_type": "markdown",
   "id": "947c7caf",
   "metadata": {
    "slideshow": {
     "slide_type": "slide"
    }
   },
   "source": [
    "<center>\n",
    "<img src=../images/stack-Stack.png width=100%>\n",
    "</center>"
   ]
  },
  {
   "cell_type": "markdown",
   "id": "ff67acac",
   "metadata": {
    "slideshow": {
     "slide_type": "slide"
    }
   },
   "source": [
    "<center>\n",
    "<img src=../images/stack-Push.png>\n",
    "</center>"
   ]
  },
  {
   "cell_type": "markdown",
   "id": "8fe13c40",
   "metadata": {
    "slideshow": {
     "slide_type": "slide"
    }
   },
   "source": [
    "<center>\n",
    "<img src=../images/stack-Pop.png>\n",
    "</center>"
   ]
  },
  {
   "cell_type": "markdown",
   "id": "73f1b47e",
   "metadata": {
    "slideshow": {
     "slide_type": "slide"
    }
   },
   "source": [
    "<center>\n",
    "<img src=../images/ASSEMBLY-PGMIII/ASSEMBLY-PGMIII.042.png>\n",
    "</center>"
   ]
  },
  {
   "cell_type": "markdown",
   "id": "e4a0e1de",
   "metadata": {
    "slideshow": {
     "slide_type": "slide"
    }
   },
   "source": [
    "<center>\n",
    "<img src=../images/ASSEMBLY-PGMIII/ASSEMBLY-PGMIII.043.png>\n",
    "</center>"
   ]
  },
  {
   "cell_type": "markdown",
   "id": "686a3f37",
   "metadata": {
    "slideshow": {
     "slide_type": "slide"
    }
   },
   "source": [
    "<center>\n",
    "<img src=../images/ASSEMBLY-PGMIII/ASSEMBLY-PGMIII.044.png>\n",
    "</center>"
   ]
  },
  {
   "cell_type": "markdown",
   "id": "4fbe2b61",
   "metadata": {
    "slideshow": {
     "slide_type": "slide"
    }
   },
   "source": [
    "<center>\n",
    "<img src=../images/ASSEMBLY-PGMIII/ASSEMBLY-PGMIII.045.png>\n",
    "</center>"
   ]
  },
  {
   "cell_type": "markdown",
   "id": "ac6f996c",
   "metadata": {
    "slideshow": {
     "slide_type": "slide"
    }
   },
   "source": [
    "<center>\n",
    "<img src=../images/ASSEMBLY-PGMIII/ASSEMBLY-PGMIII.046.png>\n",
    "</center>"
   ]
  },
  {
   "cell_type": "markdown",
   "id": "40040f1a",
   "metadata": {
    "slideshow": {
     "slide_type": "slide"
    }
   },
   "source": [
    "<center>\n",
    "<img src=../images/ASSEMBLY-PGMIII/ASSEMBLY-PGMIII.047.png>\n",
    "</center>"
   ]
  },
  {
   "cell_type": "markdown",
   "id": "5c38bffe",
   "metadata": {
    "slideshow": {
     "slide_type": "slide"
    }
   },
   "source": [
    "<center>\n",
    "<img src=../images/ASSEMBLY-PGMIII/ASSEMBLY-PGMIII.048.png>\n",
    "</center>"
   ]
  },
  {
   "cell_type": "markdown",
   "id": "0cefeb76",
   "metadata": {
    "slideshow": {
     "slide_type": "slide"
    }
   },
   "source": [
    "<center>\n",
    "<img src=../images/ASSEMBLY-PGMIII/ASSEMBLY-PGMIII.049.png>\n",
    "</center>"
   ]
  },
  {
   "cell_type": "markdown",
   "id": "c3415c2a",
   "metadata": {
    "slideshow": {
     "slide_type": "slide"
    }
   },
   "source": [
    "<center>\n",
    "<img src=../images/ASSEMBLY-PGMIII/ASSEMBLY-PGMIII.050.png>\n",
    "</center>"
   ]
  },
  {
   "cell_type": "markdown",
   "id": "ccd6a30b",
   "metadata": {
    "slideshow": {
     "slide_type": "slide"
    }
   },
   "source": [
    "<center>\n",
    "<img src=../images/ASSEMBLY-PGMIII/ASSEMBLY-PGMIII.051.png>\n",
    "</center>"
   ]
  },
  {
   "cell_type": "markdown",
   "id": "d0c1edd8",
   "metadata": {
    "slideshow": {
     "slide_type": "slide"
    }
   },
   "source": [
    "<center>\n",
    "<img src=../images/ASSEMBLY-PGMIII/ASSEMBLY-PGMIII.052.png>\n",
    "</center>"
   ]
  },
  {
   "cell_type": "markdown",
   "id": "e4658de5",
   "metadata": {
    "slideshow": {
     "slide_type": "slide"
    }
   },
   "source": [
    "<center>\n",
    "<img src=../images/ASSEMBLY-PGMIII/ASSEMBLY-PGMIII.053.png>\n",
    "</center>"
   ]
  },
  {
   "cell_type": "markdown",
   "id": "1358c1b3",
   "metadata": {
    "slideshow": {
     "slide_type": "slide"
    }
   },
   "source": [
    "<center>\n",
    "<img src=../images/ASSEMBLY-PGMIII/ASSEMBLY-PGMIII.054.png>\n",
    "</center>"
   ]
  },
  {
   "cell_type": "markdown",
   "id": "bbcb3eac",
   "metadata": {
    "slideshow": {
     "slide_type": "slide"
    }
   },
   "source": [
    "<center>\n",
    "<img src=../images/ASSEMBLY-PGMIII/ASSEMBLY-PGMIII.055.png>\n",
    "</center>"
   ]
  },
  {
   "cell_type": "markdown",
   "id": "e92e3286",
   "metadata": {
    "slideshow": {
     "slide_type": "slide"
    }
   },
   "source": [
    "<center>\n",
    "<img src=../images/ASSEMBLY-PGMIII/ASSEMBLY-PGMIII.056.png>\n",
    "</center>"
   ]
  },
  {
   "cell_type": "markdown",
   "id": "91608ba3",
   "metadata": {
    "slideshow": {
     "slide_type": "slide"
    }
   },
   "source": [
    "<center>\n",
    "<img src=../images/ASSEMBLY-PGMIII/ASSEMBLY-PGMIII.057.png>\n",
    "</center>"
   ]
  },
  {
   "cell_type": "markdown",
   "id": "50dac3b8",
   "metadata": {
    "slideshow": {
     "slide_type": "slide"
    }
   },
   "source": [
    "<center>\n",
    "<img src=../images/ASSEMBLY-PGMIII/ASSEMBLY-PGMIII.058.png>\n",
    "</center>"
   ]
  },
  {
   "cell_type": "markdown",
   "id": "a9f03671",
   "metadata": {
    "slideshow": {
     "slide_type": "slide"
    }
   },
   "source": [
    "<center>\n",
    "<img src=../images/ASSEMBLY-PGMIII/ASSEMBLY-PGMIII.059.png>\n",
    "</center>"
   ]
  },
  {
   "cell_type": "markdown",
   "id": "bbfa6b41",
   "metadata": {
    "slideshow": {
     "slide_type": "slide"
    }
   },
   "source": [
    "<center>\n",
    "<img src=../images/ASSEMBLY-PGMIII/ASSEMBLY-PGMIII.060.png>\n",
    "</center>"
   ]
  },
  {
   "cell_type": "markdown",
   "id": "63ecdd95",
   "metadata": {
    "slideshow": {
     "slide_type": "slide"
    }
   },
   "source": [
    "<center>\n",
    "<img src=../images/ASSEMBLY-PGMIII/ASSEMBLY-PGMIII.061.png>\n",
    "</center>"
   ]
  },
  {
   "cell_type": "markdown",
   "id": "1921607d",
   "metadata": {
    "slideshow": {
     "slide_type": "slide"
    }
   },
   "source": [
    "<center>\n",
    "<img src=../images/ASSEMBLY-PGMIII/ASSEMBLY-PGMIII.062.png>\n",
    "</center>"
   ]
  },
  {
   "cell_type": "markdown",
   "id": "a5294921",
   "metadata": {
    "slideshow": {
     "slide_type": "slide"
    }
   },
   "source": [
    "<center>\n",
    "<img src=../images/ASSEMBLY-PGMIII/ASSEMBLY-PGMIII.063.png>\n",
    "</center>"
   ]
  },
  {
   "cell_type": "markdown",
   "id": "47c92a94",
   "metadata": {
    "slideshow": {
     "slide_type": "slide"
    }
   },
   "source": [
    "<center>\n",
    "<img src=../images/ASSEMBLY-PGMIII/ASSEMBLY-PGMIII.064.png>\n",
    "</center>"
   ]
  },
  {
   "cell_type": "markdown",
   "id": "85aefdfb",
   "metadata": {
    "slideshow": {
     "slide_type": "slide"
    }
   },
   "source": [
    "<center>\n",
    "<img src=../images/ASSEMBLY-PGMIII/ASSEMBLY-PGMIII.065.png>\n",
    "</center>"
   ]
  },
  {
   "cell_type": "markdown",
   "id": "0a46ba70",
   "metadata": {
    "slideshow": {
     "slide_type": "slide"
    }
   },
   "source": [
    "<center>\n",
    "<img src=../images/ASSEMBLY-PGMIII/ASSEMBLY-PGMIII.066.png>\n",
    "</center>"
   ]
  },
  {
   "cell_type": "markdown",
   "id": "3c402ee7",
   "metadata": {
    "slideshow": {
     "slide_type": "slide"
    }
   },
   "source": [
    "<center>\n",
    "<img src=../images/ASSEMBLY-PGMIII/ASSEMBLY-PGMIII.067.png>\n",
    "</center>"
   ]
  },
  {
   "cell_type": "markdown",
   "id": "b2639794",
   "metadata": {
    "slideshow": {
     "slide_type": "slide"
    }
   },
   "source": [
    "<center>\n",
    "<img src=../images/ASSEMBLY-PGMIII/ASSEMBLY-PGMIII.068.png>\n",
    "</center>"
   ]
  },
  {
   "cell_type": "markdown",
   "id": "044e35ce",
   "metadata": {
    "slideshow": {
     "slide_type": "slide"
    }
   },
   "source": [
    "<center>\n",
    "<img src=../images/ASSEMBLY-PGMIII/ASSEMBLY-PGMIII.069.png>\n",
    "</center>"
   ]
  },
  {
   "cell_type": "markdown",
   "id": "1d09979b",
   "metadata": {
    "slideshow": {
     "slide_type": "slide"
    }
   },
   "source": [
    "<center>\n",
    "<img src=../images/ASSEMBLY-PGMIII/ASSEMBLY-PGMIII.070.png>\n",
    "</center>"
   ]
  },
  {
   "cell_type": "markdown",
   "id": "36fdee73",
   "metadata": {
    "slideshow": {
     "slide_type": "slide"
    }
   },
   "source": [
    "<center>\n",
    "<img src=../images/ASSEMBLY-PGMIII/ASSEMBLY-PGMIII.071.png>\n",
    "</center>"
   ]
  },
  {
   "cell_type": "markdown",
   "id": "10e6bcd4",
   "metadata": {
    "slideshow": {
     "slide_type": "slide"
    }
   },
   "source": [
    "<center>\n",
    "<img src=../images/ASSEMBLY-PGMIII/ASSEMBLY-PGMIII.072.png>\n",
    "</center>"
   ]
  },
  {
   "cell_type": "markdown",
   "id": "0eab7a35",
   "metadata": {
    "hide_input": false,
    "slideshow": {
     "slide_type": "slide"
    }
   },
   "source": [
    "## Examples used in previous slides\n",
    "### `sumit` as per last lecture\n",
    "\n",
    "Hardcode `int3` stops us from saving our sum as we would like"
   ]
  },
  {
   "cell_type": "code",
   "execution_count": 3,
   "id": "8a96021e",
   "metadata": {
    "hide_input": true,
    "jupyter": {
     "source_hidden": true
    },
    "tags": [
     "remove-input"
    ]
   },
   "outputs": [
    {
     "data": {
      "text/markdown": [
       "<b>CODE: asm - sumit.s : Version 1\n",
       "<div style=\"width:107em; height:100%; font-size:inherit; overflow: auto;\" >\n",
       "\n",
       "\n",
       "``` gas\n",
       "\t.intel_syntax noprefix\n",
       "\n",
       "\t.section .text\n",
       "\n",
       "\t# tell linker that sumIt symbol can be referenced in other files\n",
       "\t.global sumIt  \n",
       "\n",
       "\t# code to sum data at XARRAY\n",
       "\t# we assume rbx has length  rbx -> len\n",
       "\t# and that we will leave final sum in rax\n",
       "sumIt:\t                         # label that marks where this code begins\n",
       "\txor  rax, rax            # rax -> sum : sum = 0\n",
       "\txor  rdi, rdi            # rdi -> i : i = 0\n",
       "\n",
       "\t# code to sum data at XARRAY\n",
       "\t# we assume rbx has length  rbx -> len\n",
       "\t# and that we will leave final sum in rax\n",
       "loop_start:\n",
       "\tcmp  rbx, rdi                          # rbx - rdi\n",
       "\tjz   loop_done                         # if above is zero (they are equal) jump\n",
       "\tadd  rax, QWORD PTR [XARRAY + rdi * 8] # add the i'th value to the sum\n",
       "\tinc  rdi                               # i=i+1\n",
       "\tjmp   loop_start                       # go back to the start of the loop\n",
       "loop_done:\n",
       "\tint3                                   # don't know where to go next\n",
       "\t                                       # give up and \"trap\" to the debugger\n",
       "\n",
       "\n",
       "```\n",
       "\n",
       "\n",
       "</div>\n"
      ],
      "text/plain": [
       "<IPython.core.display.Markdown object>"
      ]
     },
     "metadata": {},
     "output_type": "display_data"
    },
    {
     "data": {
      "text/markdown": [
       "**Corresponding: usesum**"
      ],
      "text/plain": [
       "<IPython.core.display.Markdown object>"
      ]
     },
     "metadata": {},
     "output_type": "display_data"
    },
    {
     "data": {
      "text/markdown": [
       "<b>CODE: asm - sumit.s : Version 1\n",
       "<div style=\"width:107em; height:100%; font-size:inherit; overflow: auto;\" >\n",
       "\n",
       "\n",
       "``` gas\n",
       "\t.intel_syntax noprefix\n",
       "\t\n",
       "\t.section .data\n",
       "\t#  a place for us to store how much data is in the XARRAY\n",
       "\t#  initalized it to 0\n",
       "XARRAY_LEN:\n",
       "\t.quad 0x0\n",
       "\t# reserve enough space for 1024 8 byte values\n",
       "\t#  third argument is alignment.... turns out cpu\n",
       "\t#  cpu is more efficient if things are located at address\n",
       "\t#  of a particular 'alignment (see intel manual)\n",
       "\t.comm XARRAY, 8*1024, 8\t\n",
       "\t.comm sum, 8, 8 \t# space to store final sum\n",
       "\n",
       "\t.section .text\n",
       "\t.global _start \n",
       "_start:\n",
       "\tmov rbx, QWORD PTR [XARRAY_LEN]\n",
       "\n",
       "\tjmp sumIt\n",
       "\tmov QWORD PTR [sum], rax\n",
       "\n",
       "\tint3\n",
       "\n",
       "```\n",
       "\n",
       "\n",
       "</div>\n"
      ],
      "text/plain": [
       "<IPython.core.display.Markdown object>"
      ]
     },
     "metadata": {},
     "output_type": "display_data"
    }
   ],
   "source": [
    "display(Markdown(FileCodeBox(\n",
    "    file=\"../src/sumit.s\", \n",
    "    lang=\"gas\", \n",
    "    title=\"<b>CODE: asm - sumit.s : Version 1\",\n",
    "    h=\"100%\", \n",
    "    w=\"107em\"\n",
    ")))\n",
    "display(Markdown(\"**Corresponding: usesum**\"))\n",
    "display(Markdown(FileCodeBox(\n",
    "    file=\"../src/usesum.s\", \n",
    "    lang=\"gas\", \n",
    "    title=\"<b>CODE: asm - sumit.s : Version 1\",\n",
    "    h=\"100%\", \n",
    "    w=\"107em\"\n",
    ")))"
   ]
  },
  {
   "cell_type": "code",
   "execution_count": 4,
   "id": "50afdacc",
   "metadata": {
    "hide_input": false,
    "jupyter": {
     "source_hidden": true
    },
    "tags": [
     "remove-input"
    ]
   },
   "outputs": [
    {
     "data": {
      "application/vnd.jupyter.widget-view+json": {
       "model_id": "741b2bfbe8ab4f0d8b63be030a61504d",
       "version_major": 2,
       "version_minor": 0
      },
      "text/plain": [
       "Output(layout=Layout(border='1px solid black', height='100%', overflow_y='scroll'))"
      ]
     },
     "metadata": {},
     "output_type": "display_data"
    }
   ],
   "source": [
    "TermShellCmd(\"make ASFLAGS= LDFLAGS= usesum\", cwd=appdir, prompt='')"
   ]
  },
  {
   "cell_type": "markdown",
   "id": "ccaa8398",
   "metadata": {},
   "source": [
    "see last lecture notes to in terms of how to use `gdb` to run and play with `usesum`\n"
   ]
  },
  {
   "cell_type": "markdown",
   "id": "8c06cbcb",
   "metadata": {
    "slideshow": {
     "slide_type": "slide"
    }
   },
   "source": [
    "### Made `sumit` more generic but ...\n",
    "\n",
    "1. Make the address of the array a parameter passed to `sumit`. \n",
    "2. Changed `sumit` code to use this instead of `XARRAY`\n",
    "3. Now have `usesum` leave space for three arrays and have three jumps to `sumit`\n",
    "4. remove `int3` from `sumit` and replace it with a `jmp` back to the address after the first \n",
    "   jump.\n",
    "5. BUT WE HAVE PROBLEMS IN `sumit`:\n",
    "  - how do we `jump` back to the right spot?"
   ]
  },
  {
   "cell_type": "code",
   "execution_count": 5,
   "id": "39e70db8",
   "metadata": {
    "jupyter": {
     "source_hidden": true
    },
    "tags": [
     "remove-input"
    ]
   },
   "outputs": [
    {
     "data": {
      "text/markdown": [
       "<b>CODE: asm - sumit2.s : Version 2\n",
       "<div style=\"width:107em; height:100%; font-size:inherit; overflow: auto;\" >\n",
       "\n",
       "\n",
       "``` gas\n",
       "\t.intel_syntax noprefix\n",
       "\t\n",
       "\t.section .text\n",
       "\t\n",
       "\t# tell linker that sumIt symbol can be referenced in other files\t\n",
       "\t.global sumIt\t      \t      \n",
       "\n",
       "\t# code to sum data in array who's address is in rcx\n",
       "\t# we assume rbx has length  rbx -> len\n",
       "\t# and that we will leave final sum in rax\n",
       "sumIt:\t                         # label that marks where this code begins\n",
       "\txor  rax, rax            # rax -> sum : sum = 0\n",
       "\txor  rdi, rdi            # rdi -> i : i = 0\n",
       "\n",
       "\t# code to sum data at value in rcx\n",
       "\t# we assume rbx has length  rbx -> len\n",
       "\t# and that we will leave final sum in rax\n",
       "loop_start:        \n",
       "\tcmp  rbx, rdi                       # rbx - rdi\n",
       "\tjz   loop_done                      # if above is zero (they are equal) jump\n",
       "\tadd  rax, QWORD PTR [rcx + rdi * 8] # add the i'th value to the sum\n",
       "\tinc  rdi                            # i=i+1\n",
       "\tjmp   loop_start                    # go back to the start of the loop\n",
       "loop_done:\n",
       "\tjmp RETURN_1                        # jump back to hard coded location\n",
       "\n",
       "\n",
       "```\n",
       "\n",
       "\n",
       "</div>\n"
      ],
      "text/plain": [
       "<IPython.core.display.Markdown object>"
      ]
     },
     "metadata": {},
     "output_type": "display_data"
    },
    {
     "data": {
      "text/markdown": [
       "**Corresponding: usesum**"
      ],
      "text/plain": [
       "<IPython.core.display.Markdown object>"
      ]
     },
     "metadata": {},
     "output_type": "display_data"
    },
    {
     "data": {
      "text/markdown": [
       "<b>CODE: asm - usesum2.s : Version 2\n",
       "<div style=\"width:107em; height:100%; font-size:inherit; overflow: auto;\" >\n",
       "\n",
       "\n",
       "``` gas\n",
       "\t.intel_syntax noprefix\n",
       "\t.data\t\n",
       "\t.comm A_SUM, 8, 8\n",
       "\t.comm A_LEN, 8, 8\n",
       "\t.comm A, 8*1024, 8\t\n",
       "\n",
       "\t.comm B_SUM, 8, 8\n",
       "\t.comm B_LEN, 8, 8\n",
       "\t.comm B, 8*1024, 8\t\n",
       "\n",
       "\t.comm C_SUM, 8, 8\n",
       "\t.comm C_LEN, 8, 8\n",
       "\t.comm C, 8*1024, 8\t\n",
       "\n",
       "\t.text\n",
       "\t.global _start \n",
       "_start:\n",
       "\tmov rbx, QWORD PTR [A_LEN]\n",
       "\tmov rcx, OFFSET A\n",
       "\tjmp sumIt\n",
       "RETURN_1:\t\n",
       "\tmov QWORD PTR [A_SUM], rax\n",
       "\n",
       "\tmov rbx, QWORD PTR [B_LEN]\n",
       "\tmov rcx, OFFSET B\n",
       "\tjmp sumIt\n",
       "RETURN_2:\t\n",
       "\tmov QWORD PTR [B_SUM], rax\n",
       "\n",
       "\tmov rbx, QWORD PTR [C_LEN]\n",
       "\tmov rcx, OFFSET C\n",
       "\tjmp sumIt\n",
       "RETURN_3:\t\n",
       "\tmov QWORD PTR [C_SUM], rax\n",
       "\tint3\n",
       "\n",
       "\t.global RETURN_1\n",
       "\t.global RETURN_2\n",
       "\t.global RETURN_3\n",
       "\n",
       "```\n",
       "\n",
       "\n",
       "</div>\n"
      ],
      "text/plain": [
       "<IPython.core.display.Markdown object>"
      ]
     },
     "metadata": {},
     "output_type": "display_data"
    }
   ],
   "source": [
    "display(Markdown(FileCodeBox(\n",
    "    file=\"../src/sumit2.s\", \n",
    "    lang=\"gas\", \n",
    "    title=\"<b>CODE: asm - sumit2.s : Version 2\",\n",
    "    h=\"100%\", \n",
    "    w=\"107em\"\n",
    ")))\n",
    "display(Markdown(\"**Corresponding: usesum**\"))\n",
    "display(Markdown(FileCodeBox(\n",
    "    file=\"../src/usesum2.s\", \n",
    "    lang=\"gas\", \n",
    "    title=\"<b>CODE: asm - usesum2.s : Version 2\",\n",
    "    h=\"100%\", \n",
    "    w=\"107em\"\n",
    ")))"
   ]
  },
  {
   "cell_type": "code",
   "execution_count": 6,
   "id": "31fdafcd",
   "metadata": {
    "jupyter": {
     "source_hidden": true
    },
    "tags": [
     "remove-input"
    ]
   },
   "outputs": [
    {
     "data": {
      "application/vnd.jupyter.widget-view+json": {
       "model_id": "aef5cab2dc174532be27bb07b60a729f",
       "version_major": 2,
       "version_minor": 0
      },
      "text/plain": [
       "Output(layout=Layout(border='1px solid black', height='100%', overflow_y='scroll'))"
      ]
     },
     "metadata": {},
     "output_type": "display_data"
    }
   ],
   "source": [
    "TermShellCmd(\"make LDFLAGS= ASFLAGS= usesum2\", cwd=appdir, prompt='')"
   ]
  },
  {
   "cell_type": "code",
   "execution_count": 7,
   "id": "92f0e54b",
   "metadata": {
    "jupyter": {
     "source_hidden": true
    },
    "tags": [
     "remove-input"
    ]
   },
   "outputs": [
    {
     "data": {
      "text/markdown": [
       "<b>GDB commands to use\n",
       "<div style=\"width:107em; height:100%; font-size:inherit; overflow: auto;\" >\n",
       "\n",
       "\n",
       "``` gdb\n",
       "b _start\n",
       "run\n",
       "restore A.bin binary &A\n",
       "set *((long long *)&A_LEN)=10\n",
       "restore B.bin binary &B\n",
       "set *((long long *)&B_LEN)=10\n",
       "restore C.bin binary &C\n",
       "set *((long long *)&C_LEN)=10\n",
       "\n",
       "display /d { (long long)A_SUM, (long long)B_SUM, (long long)C_SUM }\n",
       "\n",
       "\n",
       "```\n",
       "\n",
       "\n",
       "</div>\n"
      ],
      "text/plain": [
       "<IPython.core.display.Markdown object>"
      ]
     },
     "metadata": {},
     "output_type": "display_data"
    }
   ],
   "source": [
    "display(Markdown(FileCodeBox(\n",
    "    file=\"../src/usesumABC.gdb\", \n",
    "    lang=\"gdb\", \n",
    "    title=\"<b>GDB commands to use\",\n",
    "    h=\"100%\", \n",
    "    w=\"107em\"\n",
    ")))"
   ]
  },
  {
   "cell_type": "markdown",
   "id": "bdcdd4b3",
   "metadata": {
    "tags": [
     "remove-input"
    ]
   },
   "source": [
    "Now you can single step or continue as you like"
   ]
  },
  {
   "cell_type": "markdown",
   "id": "4944ef8d",
   "metadata": {
    "slideshow": {
     "slide_type": "slide"
    }
   },
   "source": [
    "### Version 3:  Fix our problem by passing in the return address in a register.  In our case we use 'rdx' and jump back via this register.\n",
    "\n",
    "Note this approach requires one register for each call to hold the return address.  This has problems if we were to nest calls."
   ]
  },
  {
   "cell_type": "code",
   "execution_count": 8,
   "id": "6e068670",
   "metadata": {
    "jupyter": {
     "source_hidden": true
    },
    "tags": [
     "remove-input"
    ]
   },
   "outputs": [
    {
     "data": {
      "text/markdown": [
       "<b>CODE: asm - sumit3.s : Version 3\n",
       "<div style=\"width:107em; height:100%; font-size:inherit; overflow: auto;\" >\n",
       "\n",
       "\n",
       "``` gas\n",
       "\t.intel_syntax noprefix\n",
       "\n",
       "\t.section .text\n",
       "\n",
       "\t# tell linker that sumIt symbol can be referenced in other files\n",
       "\t.global sumIt\t      \t     \n",
       "\n",
       "\t# code to sum data in array who's address is in rcx\n",
       "\t# we assume rdx has the address to jump back too\n",
       "\t# we assume rbx has length  rbx -> len\n",
       "\t# and that we will leave final sum in rax\n",
       "sumIt:\t                         # label that marks where this code begins\n",
       "\txor  rax, rax            # rax -> sum : sum = 0\n",
       "\txor  rdi, rdi            # rdi -> i : i = 0\n",
       "\n",
       "\t# code to sum data at value in rcx\n",
       "\t# we assume rbx has length  rbx -> len\n",
       "\t# and that we will leave final sum in rax\n",
       "loop_start:\n",
       "\tcmp  rbx, rdi                       # rbx - rdi\n",
       "\tjz   loop_done                      # if above is zero (they are equal) jump\n",
       "\tadd  rax, QWORD PTR [rcx + rdi * 8] # add the i'th value to the sum\n",
       "\tinc  rdi                            # i=i+1\n",
       "\tjmp   loop_start                    # go back to the start of the loop\n",
       "loop_done:\n",
       "\tjmp rdx                             # jump back to location held in rdx\n",
       "\n",
       "\n",
       "```\n",
       "\n",
       "\n",
       "</div>\n"
      ],
      "text/plain": [
       "<IPython.core.display.Markdown object>"
      ]
     },
     "metadata": {},
     "output_type": "display_data"
    },
    {
     "data": {
      "text/markdown": [
       "**Corresponding: usesum**"
      ],
      "text/plain": [
       "<IPython.core.display.Markdown object>"
      ]
     },
     "metadata": {},
     "output_type": "display_data"
    },
    {
     "data": {
      "text/markdown": [
       "<b>CODE: asm - usesum3.s : Version 3\n",
       "<div style=\"width:107em; height:100%; font-size:inherit; overflow: auto;\" >\n",
       "\n",
       "\n",
       "``` gas\n",
       "\t.intel_syntax noprefix\n",
       "\t.data\t\n",
       "\t.comm A_SUM, 8, 8\n",
       "\t.comm A_LEN, 8, 8\n",
       "\t.comm A, 8*1024, 8\t\n",
       "\n",
       "\t.comm B_SUM, 8, 8\n",
       "\t.comm B_LEN, 8, 8\n",
       "\t.comm B, 8*1024, 8\t\n",
       "\n",
       "\t.comm C_SUM, 8, 8\n",
       "\t.comm C_LEN, 8, 8\n",
       "\t.comm C, 8*1024, 8\t\n",
       "\n",
       "\t.text\n",
       "\t.global _start \n",
       "_start:\n",
       "\tmov rbx, QWORD PTR [A_LEN]\n",
       "\tmov rcx, OFFSET A\n",
       "\tmov rdx, OFFSET RETURN_1\n",
       "\tjmp sumIt\n",
       "RETURN_1:\t\n",
       "\tmov QWORD PTR [A_SUM], rax\n",
       "\n",
       "\tmov rbx, QWORD PTR [B_LEN]\n",
       "\tmov rcx, OFFSET B\n",
       "\tmov rdx, OFFSET RETURN_2\n",
       "\tjmp sumIt\n",
       "RETURN_2:\t\n",
       "\tmov QWORD PTR [B_SUM], rax\n",
       "\n",
       "\tmov rbx, QWORD PTR [C_LEN]\n",
       "\tmov rcx, OFFSET C\n",
       "\tmov rdx, OFFSET RETURN_3\t\n",
       "\tjmp sumIt\n",
       "RETURN_3:\t\n",
       "\tmov QWORD PTR [C_SUM], rax\n",
       "\tint3\n",
       "\n",
       "\t.global RETURN_1\n",
       "\t.global RETURN_2\n",
       "\t.global RETURN_3\n",
       "\n",
       "```\n",
       "\n",
       "\n",
       "</div>\n"
      ],
      "text/plain": [
       "<IPython.core.display.Markdown object>"
      ]
     },
     "metadata": {},
     "output_type": "display_data"
    }
   ],
   "source": [
    "display(Markdown(FileCodeBox(\n",
    "    file=\"../src/sumit3.s\", \n",
    "    lang=\"gas\", \n",
    "    title=\"<b>CODE: asm - sumit3.s : Version 3\",\n",
    "    h=\"100%\", \n",
    "    w=\"107em\"\n",
    ")))\n",
    "display(Markdown(\"**Corresponding: usesum**\"))\n",
    "display(Markdown(FileCodeBox(\n",
    "    file=\"../src/usesum3.s\", \n",
    "    lang=\"gas\", \n",
    "    title=\"<b>CODE: asm - usesum3.s : Version 3\",\n",
    "    h=\"100%\", \n",
    "    w=\"107em\"\n",
    ")))"
   ]
  },
  {
   "cell_type": "code",
   "execution_count": 9,
   "id": "d0c0a661",
   "metadata": {
    "jupyter": {
     "source_hidden": true
    },
    "tags": [
     "remove-input"
    ]
   },
   "outputs": [
    {
     "data": {
      "application/vnd.jupyter.widget-view+json": {
       "model_id": "867887a9b1774a6abed523fd620c5f20",
       "version_major": 2,
       "version_minor": 0
      },
      "text/plain": [
       "Output(layout=Layout(border='1px solid black', height='100%', overflow_y='scroll'))"
      ]
     },
     "metadata": {},
     "output_type": "display_data"
    }
   ],
   "source": [
    "TermShellCmd(\"make LDFLAGS= ASFLAGS= usesum3\", cwd=appdir, prompt='')"
   ]
  },
  {
   "cell_type": "markdown",
   "id": "3ca21fca",
   "metadata": {
    "slideshow": {
     "slide_type": "slide"
    }
   },
   "source": [
    "### Version 4:  Use stack to spill `rdx` before making any call.  \n",
    "\n",
    "Although we don't use it this would allow us to make nested calls assuming we always used the same register to pass the return address in.  In our case `rdx`.  This approach effectively uses the stack to spill `rdx` before we use it to make a call.  In this way the caller is using the stack to hang on to where it needs to return before making a new call.\n"
   ]
  },
  {
   "cell_type": "code",
   "execution_count": 10,
   "id": "92fe2ba1",
   "metadata": {
    "hide_input": true,
    "jupyter": {
     "source_hidden": true
    },
    "tags": [
     "remove-input"
    ]
   },
   "outputs": [
    {
     "data": {
      "text/markdown": [
       "<b>CODE: asm - sumit3.s : Version 4 no change use version 3\n",
       "<div style=\"width:107em; height:100%; font-size:inherit; overflow: auto;\" >\n",
       "\n",
       "\n",
       "``` gas\n",
       "\t.intel_syntax noprefix\n",
       "\n",
       "\t.section .text\n",
       "\n",
       "\t# tell linker that sumIt symbol can be referenced in other files\n",
       "\t.global sumIt\t      \t     \n",
       "\n",
       "\t# code to sum data in array who's address is in rcx\n",
       "\t# we assume rdx has the address to jump back too\n",
       "\t# we assume rbx has length  rbx -> len\n",
       "\t# and that we will leave final sum in rax\n",
       "sumIt:\t                         # label that marks where this code begins\n",
       "\txor  rax, rax            # rax -> sum : sum = 0\n",
       "\txor  rdi, rdi            # rdi -> i : i = 0\n",
       "\n",
       "\t# code to sum data at value in rcx\n",
       "\t# we assume rbx has length  rbx -> len\n",
       "\t# and that we will leave final sum in rax\n",
       "loop_start:\n",
       "\tcmp  rbx, rdi                       # rbx - rdi\n",
       "\tjz   loop_done                      # if above is zero (they are equal) jump\n",
       "\tadd  rax, QWORD PTR [rcx + rdi * 8] # add the i'th value to the sum\n",
       "\tinc  rdi                            # i=i+1\n",
       "\tjmp   loop_start                    # go back to the start of the loop\n",
       "loop_done:\n",
       "\tjmp rdx                             # jump back to location held in rdx\n",
       "\n",
       "\n",
       "```\n",
       "\n",
       "\n",
       "</div>\n"
      ],
      "text/plain": [
       "<IPython.core.display.Markdown object>"
      ]
     },
     "metadata": {},
     "output_type": "display_data"
    },
    {
     "data": {
      "text/markdown": [
       "**Corresponding: usesum**"
      ],
      "text/plain": [
       "<IPython.core.display.Markdown object>"
      ]
     },
     "metadata": {},
     "output_type": "display_data"
    },
    {
     "data": {
      "text/markdown": [
       "<b>CODE: asm - usesum4.s : Version 4\n",
       "<div style=\"width:107em; height:100%; font-size:inherit; overflow: auto;\" >\n",
       "\n",
       "\n",
       "``` gas\n",
       "\t.intel_syntax noprefix\n",
       "\t.data\t\n",
       "\t.comm A_SUM, 8, 8\n",
       "\t.comm A_LEN, 8, 8\n",
       "\t.comm A, 8*1024, 8\t\n",
       "\n",
       "\t.comm B_SUM, 8, 8\n",
       "\t.comm B_LEN, 8, 8\n",
       "\t.comm B, 8*1024, 8\t\n",
       "\n",
       "\t.comm C_SUM, 8, 8\n",
       "\t.comm C_LEN, 8, 8\n",
       "\t.comm C, 8*1024, 8\t\n",
       "\n",
       "\t.text\n",
       "\t.global _start \n",
       "_start:\n",
       "\tmov rbx, QWORD PTR [A_LEN]\n",
       "\tmov rcx, OFFSET A\n",
       "\tpush rdx\n",
       "\tmov rdx, OFFSET RETURN_1\n",
       "\tjmp sumIt\n",
       "RETURN_1:\n",
       "\tpop rdx\n",
       "\tmov QWORD PTR [A_SUM], rax\n",
       "\n",
       "\tmov rbx, QWORD PTR [B_LEN]\n",
       "\tmov rcx, OFFSET B\n",
       "\tpush rdx\n",
       "\tmov rdx, OFFSET RETURN_2\n",
       "\tjmp sumIt\n",
       "RETURN_2:\n",
       "\tpop rdx\n",
       "\tmov QWORD PTR [B_SUM], rax\n",
       "\n",
       "\tmov rbx, QWORD PTR [C_LEN]\n",
       "\tmov rcx, OFFSET C\n",
       "\tpush rdx\n",
       "\tmov rdx, OFFSET RETURN_3\t\n",
       "\tjmp sumIt\n",
       "RETURN_3:\n",
       "\tpop rdx\n",
       "\tmov QWORD PTR [C_SUM], rax\n",
       "\tint3\n",
       "\n",
       "\t.global RETURN_1\n",
       "\t.global RETURN_2\n",
       "\t.global RETURN_3\n",
       "\n",
       "```\n",
       "\n",
       "\n",
       "</div>\n"
      ],
      "text/plain": [
       "<IPython.core.display.Markdown object>"
      ]
     },
     "metadata": {},
     "output_type": "display_data"
    }
   ],
   "source": [
    "display(Markdown(FileCodeBox(\n",
    "    file=\"../src/sumit3.s\", \n",
    "    lang=\"gas\", \n",
    "    title=\"<b>CODE: asm - sumit3.s : Version 4 no change use version 3\",\n",
    "    h=\"100%\", \n",
    "    w=\"107em\"\n",
    ")))\n",
    "display(Markdown(\"**Corresponding: usesum**\"))\n",
    "display(Markdown(FileCodeBox(\n",
    "    file=\"../src/usesum4.s\", \n",
    "    lang=\"gas\", \n",
    "    title=\"<b>CODE: asm - usesum4.s : Version 4\",\n",
    "    h=\"100%\", \n",
    "    w=\"107em\"\n",
    ")))"
   ]
  },
  {
   "cell_type": "code",
   "execution_count": 11,
   "id": "21d822e9",
   "metadata": {
    "jupyter": {
     "source_hidden": true
    },
    "tags": [
     "remove-input"
    ]
   },
   "outputs": [
    {
     "data": {
      "application/vnd.jupyter.widget-view+json": {
       "model_id": "6005517b94c8417581b3785ed967e14a",
       "version_major": 2,
       "version_minor": 0
      },
      "text/plain": [
       "Output(layout=Layout(border='1px solid black', height='100%', overflow_y='scroll'))"
      ]
     },
     "metadata": {},
     "output_type": "display_data"
    }
   ],
   "source": [
    "TermShellCmd(\"make ASFLAGS= LDFLAGS= usesum4\", cwd=appdir, prompt='')"
   ]
  },
  {
   "cell_type": "markdown",
   "id": "34a709e0",
   "metadata": {
    "slideshow": {
     "slide_type": "slide"
    }
   },
   "source": [
    "### Version 5: Use `call` and `ret` instructions to turn our code into an \"real\" X86 function"
   ]
  },
  {
   "cell_type": "code",
   "execution_count": 12,
   "id": "8b53da6b",
   "metadata": {
    "hide_input": true,
    "jupyter": {
     "source_hidden": true
    },
    "tags": [
     "remove-input"
    ]
   },
   "outputs": [
    {
     "data": {
      "text/markdown": [
       "<b>CODE: asm - sumit5.s : Version 5\n",
       "<div style=\"width:107em; height:100%; font-size:inherit; overflow: auto;\" >\n",
       "\n",
       "\n",
       "``` gas\n",
       "\t.intel_syntax noprefix\n",
       "\n",
       "\t.section .text\n",
       "\t\n",
       "\t# tell linker that sumIt symbol can be referenced in other files\t\n",
       "\t.global sumIt\t \n",
       "\n",
       "\t# code to sum data in array who's address is in rcx\n",
       "\t# we assume we were started with call so return address on stack\n",
       "\t# we assume rbx has length  rbx -> len\n",
       "\t# and that we will leave final sum in rax\n",
       "sumIt:\t                         # label that marks where this code begins\n",
       "\txor  rax, rax            # rax -> sum : sum = 0\n",
       "\txor  rdi, rdi            # rdi -> i : i = 0\n",
       "\n",
       "\t# code to sum data at value in rcx\n",
       "\t# we assume rbx has length  rbx -> len\n",
       "\t# and that we will leave final sum in rax\n",
       "loop_start:\n",
       "\tcmp  rbx, rdi                       # rbx - rdi\n",
       "\tjz   loop_done                      # if above is zero (they are equal) jump\n",
       "\tadd  rax, QWORD PTR [rcx + rdi * 8] # add the i'th value to the sum\n",
       "\tinc  rdi                            # i=i+1\n",
       "\tjmp   loop_start                    # go back to the start of the loop\n",
       "loop_done:\n",
       "\tret                                 # use return to pop value off the stack\n",
       "\t                                    # and jump to that location\n",
       "\n",
       "\n",
       "```\n",
       "\n",
       "\n",
       "</div>\n"
      ],
      "text/plain": [
       "<IPython.core.display.Markdown object>"
      ]
     },
     "metadata": {},
     "output_type": "display_data"
    },
    {
     "data": {
      "text/markdown": [
       "**Corresponding: usesum**"
      ],
      "text/plain": [
       "<IPython.core.display.Markdown object>"
      ]
     },
     "metadata": {},
     "output_type": "display_data"
    },
    {
     "data": {
      "text/markdown": [
       "<b>CODE: asm - usesum5.s : Version 5\n",
       "<div style=\"width:107em; height:100%; font-size:inherit; overflow: auto;\" >\n",
       "\n",
       "\n",
       "``` gas\n",
       "\t.intel_syntax noprefix\n",
       "\t.data\t\n",
       "\t.comm A_SUM, 8, 8\n",
       "\t.comm A_LEN, 8, 8\n",
       "\t.comm A, 8*1024, 8\t\n",
       "\n",
       "\t.comm B_SUM, 8, 8\n",
       "\t.comm B_LEN, 8, 8\n",
       "\t.comm B, 8*1024, 8\t\n",
       "\n",
       "\t.comm C_SUM, 8, 8\n",
       "\t.comm C_LEN, 8, 8\n",
       "\t.comm C, 8*1024, 8\t\n",
       "\n",
       "\t.text\n",
       "\t.global _start \n",
       "_start:\n",
       "\tmov rbx, QWORD PTR [A_LEN]\n",
       "\tmov rcx, OFFSET A\n",
       "\tcall sumIt\n",
       "\tmov QWORD PTR [A_SUM], rax\n",
       "\n",
       "\tmov rbx, QWORD PTR [B_LEN]\n",
       "\tmov rcx, OFFSET B\n",
       "\tcall sumIt\n",
       "\tmov QWORD PTR [B_SUM], rax\n",
       "\n",
       "\tmov rbx, QWORD PTR [C_LEN]\n",
       "\tmov rcx, OFFSET C\n",
       "\tcall sumIt\n",
       "\tmov QWORD PTR [C_SUM], rax\n",
       "\tint3\n",
       "\n",
       "```\n",
       "\n",
       "\n",
       "</div>\n"
      ],
      "text/plain": [
       "<IPython.core.display.Markdown object>"
      ]
     },
     "metadata": {},
     "output_type": "display_data"
    }
   ],
   "source": [
    "display(Markdown(FileCodeBox(\n",
    "    file=\"../src/sumit5.s\", \n",
    "    lang=\"gas\", \n",
    "    title=\"<b>CODE: asm - sumit5.s : Version 5\",\n",
    "    h=\"100%\", \n",
    "    w=\"107em\"\n",
    ")))\n",
    "display(Markdown(\"**Corresponding: usesum**\"))\n",
    "display(Markdown(FileCodeBox(\n",
    "    file=\"../src/usesum5.s\", \n",
    "    lang=\"gas\", \n",
    "    title=\"<b>CODE: asm - usesum5.s : Version 5\",\n",
    "    h=\"100%\", \n",
    "    w=\"107em\"\n",
    ")))"
   ]
  },
  {
   "cell_type": "code",
   "execution_count": 13,
   "id": "70d4cfea",
   "metadata": {
    "jupyter": {
     "source_hidden": true
    },
    "tags": [
     "remove-input"
    ]
   },
   "outputs": [
    {
     "data": {
      "application/vnd.jupyter.widget-view+json": {
       "model_id": "5e815572bc504d11a3711e000d6adf7e",
       "version_major": 2,
       "version_minor": 0
      },
      "text/plain": [
       "Output(layout=Layout(border='1px solid black', height='100%', overflow_y='scroll'))"
      ]
     },
     "metadata": {},
     "output_type": "display_data"
    }
   ],
   "source": [
    "TermShellCmd(\"make ASFLAGS= LDFLAGS= usesum5\", cwd=appdir, prompt='')"
   ]
  },
  {
   "cell_type": "markdown",
   "id": "5cd5d396",
   "metadata": {
    "slideshow": {
     "slide_type": "slide"
    }
   },
   "source": [
    "### Version 6 improving code by \"spilling\" `rdi` in `sumIt`"
   ]
  },
  {
   "cell_type": "code",
   "execution_count": 14,
   "id": "b89efea1",
   "metadata": {
    "hide_input": true,
    "jupyter": {
     "source_hidden": true
    },
    "tags": [
     "remove-input"
    ]
   },
   "outputs": [
    {
     "data": {
      "text/markdown": [
       "<b>CODE: asm - sumit6.s : Version 6\n",
       "<div style=\"width:107em; height:100%; font-size:inherit; overflow: auto;\" >\n",
       "\n",
       "\n",
       "``` gas\n",
       "\t.intel_syntax noprefix\n",
       "\n",
       "\t.section .text\n",
       "\n",
       "\t# tell linker that sumIt symbol can be referenced in other files\t\n",
       "\t.global sumIt\t  \n",
       "\n",
       "\t# code to sum data in array who's address is in rcx\n",
       "\t# we assume we were started with call so return address on stack\n",
       "\t# we assume rbx has length  rbx -> len\n",
       "\t# and that we will leave final sum in rax\n",
       "sumIt:\t                         # label that marks where this code begins\n",
       "\txor  rax, rax            # rax -> sum : sum = 0\n",
       "\tpush rdi                 # spill current value of rdi before we use it\n",
       "\txor  rdi, rdi            # rdi -> i : i = 0\n",
       "\t\n",
       "\t# code to sum data in array who's address is in rcx\n",
       "\t# we assume we were started with call so return address on stack\n",
       "\t# we assume rbx has length  rbx -> len\n",
       "\t# and that we will leave final sum in rax\n",
       "loop_start:                                 \n",
       "\tcmp  rbx, rdi                       # rbx - rdi\n",
       "\tjz   loop_done                      # if above is zero (they are equal) jump\n",
       "\tadd  rax, QWORD PTR [rcx + rdi * 8] # add the i'th value to the sum\n",
       "\tinc  rdi                            # i=i+1\n",
       "\tjmp  loop_start                     # go back to the start of the loop\n",
       "loop_done:\n",
       "\tpop  rdi                            # restore rdi back to its original value\n",
       "\tret                                 # use return to pop value off the stack\n",
       "\t                                    # and jump to that location\n",
       "\n",
       "\n",
       "```\n",
       "\n",
       "\n",
       "</div>\n"
      ],
      "text/plain": [
       "<IPython.core.display.Markdown object>"
      ]
     },
     "metadata": {},
     "output_type": "display_data"
    },
    {
     "data": {
      "text/markdown": [
       "**Corresponding: usesum**"
      ],
      "text/plain": [
       "<IPython.core.display.Markdown object>"
      ]
     },
     "metadata": {},
     "output_type": "display_data"
    },
    {
     "data": {
      "text/markdown": [
       "<b>CODE: asm - usesum5.s : Version 6 no change to usesum use Version 5\n",
       "<div style=\"width:107em; height:100%; font-size:inherit; overflow: auto;\" >\n",
       "\n",
       "\n",
       "``` gas\n",
       "\t.intel_syntax noprefix\n",
       "\t.data\t\n",
       "\t.comm A_SUM, 8, 8\n",
       "\t.comm A_LEN, 8, 8\n",
       "\t.comm A, 8*1024, 8\t\n",
       "\n",
       "\t.comm B_SUM, 8, 8\n",
       "\t.comm B_LEN, 8, 8\n",
       "\t.comm B, 8*1024, 8\t\n",
       "\n",
       "\t.comm C_SUM, 8, 8\n",
       "\t.comm C_LEN, 8, 8\n",
       "\t.comm C, 8*1024, 8\t\n",
       "\n",
       "\t.text\n",
       "\t.global _start \n",
       "_start:\n",
       "\tmov rbx, QWORD PTR [A_LEN]\n",
       "\tmov rcx, OFFSET A\n",
       "\tcall sumIt\n",
       "\tmov QWORD PTR [A_SUM], rax\n",
       "\n",
       "\tmov rbx, QWORD PTR [B_LEN]\n",
       "\tmov rcx, OFFSET B\n",
       "\tcall sumIt\n",
       "\tmov QWORD PTR [B_SUM], rax\n",
       "\n",
       "\tmov rbx, QWORD PTR [C_LEN]\n",
       "\tmov rcx, OFFSET C\n",
       "\tcall sumIt\n",
       "\tmov QWORD PTR [C_SUM], rax\n",
       "\tint3\n",
       "\n",
       "```\n",
       "\n",
       "\n",
       "</div>\n"
      ],
      "text/plain": [
       "<IPython.core.display.Markdown object>"
      ]
     },
     "metadata": {},
     "output_type": "display_data"
    }
   ],
   "source": [
    "display(Markdown(FileCodeBox(\n",
    "    file=\"../src/sumit6.s\", \n",
    "    lang=\"gas\", \n",
    "    title=\"<b>CODE: asm - sumit6.s : Version 6\",\n",
    "    h=\"100%\", \n",
    "    w=\"107em\"\n",
    ")))\n",
    "display(Markdown(\"**Corresponding: usesum**\"))\n",
    "display(Markdown(FileCodeBox(\n",
    "    file=\"../src/usesum5.s\", \n",
    "    lang=\"gas\", \n",
    "    title=\"<b>CODE: asm - usesum5.s : Version 6 no change to usesum use Version 5\",\n",
    "    h=\"100%\", \n",
    "    w=\"107em\"\n",
    ")))"
   ]
  },
  {
   "cell_type": "code",
   "execution_count": 15,
   "id": "35ea4150",
   "metadata": {
    "jupyter": {
     "source_hidden": true
    },
    "tags": [
     "remove-input"
    ]
   },
   "outputs": [
    {
     "data": {
      "application/vnd.jupyter.widget-view+json": {
       "model_id": "76a7da3e04f94677aa6834da2b39c585",
       "version_major": 2,
       "version_minor": 0
      },
      "text/plain": [
       "Output(layout=Layout(border='1px solid black', height='100%', overflow_y='scroll'))"
      ]
     },
     "metadata": {},
     "output_type": "display_data"
    }
   ],
   "source": [
    "TermShellCmd(\"make ASFLAGS= LDFLAGS= usesum6\", cwd=appdir, prompt='')"
   ]
  }
 ],
 "metadata": {
  "celltoolbar": "Tags",
  "hide_input": true,
  "kernelspec": {
   "display_name": "Python 3 (ipykernel)",
   "language": "python",
   "name": "python3"
  },
  "language_info": {
   "codemirror_mode": {
    "name": "ipython",
    "version": 3
   },
   "file_extension": ".py",
   "mimetype": "text/x-python",
   "name": "python",
   "nbconvert_exporter": "python",
   "pygments_lexer": "ipython3",
   "version": "3.10.5"
  },
  "rise": {
   "autolaunch": false,
   "enable_chalkboard": true,
   "footer": "UC-SLS -- Lecture 11",
   "header": "Assembly: Program Anatomy II",
   "height": "100%",
   "scroll": true,
   "start_slideshow_at": "selected",
   "transition": "none",
   "width": "100%"
  }
 },
 "nbformat": 4,
 "nbformat_minor": 5
}
