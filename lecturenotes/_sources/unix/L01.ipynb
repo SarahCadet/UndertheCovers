{
 "cells": [
  {
   "cell_type": "code",
   "execution_count": 21,
   "id": "919e2464",
   "metadata": {
    "hide_input": true,
    "slideshow": {
     "slide_type": "skip"
    },
    "tags": [
     "remove-cell"
    ]
   },
   "outputs": [],
   "source": [
    "%run -i ../python/common.py\n",
    "bash = BashSession()"
   ]
  },
  {
   "cell_type": "markdown",
   "id": "19379863",
   "metadata": {
    "hide_input": true,
    "slideshow": {
     "slide_type": "slide"
    }
   },
   "source": [
    "# SLS: Part I - UNIX : Introduction &  Preliminaries "
   ]
  },
  {
   "cell_type": "markdown",
   "id": "c4cf088c-430b-4918-8de7-7c5b1b5d12d4",
   "metadata": {
    "slideshow": {
     "slide_type": "skip"
    },
    "tags": []
   },
   "source": [
    "<hr>"
   ]
  },
  {
   "cell_type": "markdown",
   "id": "aab0fa4d",
   "metadata": {
    "slideshow": {
     "slide_type": "notes"
    }
   },
   "source": [
    "**Notes**\n",
    "\n",
    "- In general our goal is not to just learn a bunch of facts or commands.  \n",
    "- Rather it is to understand how thing work \n",
    "  - developing a mental model \n",
    "  - to this end we will often try and develop visualizations\n",
    "- To this end we will start our exploration of UNIX by developing a way of visualizing how the layers of software and hardware relate and interact.\n"
   ]
  },
  {
   "cell_type": "markdown",
   "id": "410af07c",
   "metadata": {
    "slideshow": {
     "slide_type": "slide"
    }
   },
   "source": [
    "## UNIX is an operating system\n",
    "\n",
    "- But what is an operating system?\n",
    "> A collection of software that makes a ***computer*** ***useful***.\n"
   ]
  },
  {
   "cell_type": "markdown",
   "id": "872af688-553d-47dd-8485-bb0a39197e18",
   "metadata": {
    "slideshow": {
     "slide_type": "skip"
    },
    "tags": []
   },
   "source": [
    "<hr>"
   ]
  },
  {
   "cell_type": "markdown",
   "id": "67c7e449",
   "metadata": {
    "hide_input": true,
    "slideshow": {
     "slide_type": "slide"
    }
   },
   "source": [
    "<center>\n",
    "\n",
    "## Computer?  \n",
    "\n",
    "</center>"
   ]
  },
  {
   "cell_type": "markdown",
   "id": "f31efa6c",
   "metadata": {
    "slideshow": {
     "slide_type": "notes"
    }
   },
   "source": [
    "**Notes**\n",
    "\n",
    "- On the practical side computers are hardware devices that are programmable \n",
    "    - we will focus on those that conform to a \"Classic\" model of programmable device called a von Neuman Architecture \n",
    "        - today this encompasses Laptops, smart phones, tablets, smart watches, desktops, servers, supercomputers, and thousands of embedded systems around you\n",
    "\n",
    "FIXME: Add some images"
   ]
  },
  {
   "cell_type": "markdown",
   "id": "42da641f",
   "metadata": {
    "hide_input": true,
    "slideshow": {
     "slide_type": "fragment"
    }
   },
   "source": [
    "### An Organized  Collection of Hardware "
   ]
  },
  {
   "cell_type": "markdown",
   "id": "235e8d60-edbf-44df-bb32-54b32b3fcbb8",
   "metadata": {
    "hide_input": false,
    "slideshow": {
     "slide_type": "-"
    },
    "tags": [
     "remove-input"
    ]
   },
   "source": [
    "<img src=\"../images/SLS_TheMachine.png\" width=\"1024\" style=\"border:0px; margin: 0px 0px; background-color: #00000000; display: block; margin-left: auto; margin-right: auto;\">"
   ]
  },
  {
   "cell_type": "markdown",
   "id": "0a97b7b8",
   "metadata": {
    "slideshow": {
     "slide_type": "notes"
    }
   },
   "source": [
    "**Notes**\n",
    "\n",
    "- We will learn much more later but for the moment we need a working model:\n",
    "    - three core components \n",
    "        - CPU \n",
    "            - the smart bits that \"execute\" the instructions of software -- performs calculations\n",
    "        - Memory \n",
    "            - the devices that hold the instructions and data that make up the running software\n",
    "            - physically directly connected to the CPU -- often referred to as RAM and ROM, main memory, etc\n",
    "            - fast, power hungry. and volatile\n",
    "        - I/O devices - for the moment two main categories\n",
    "            - Storage devices\n",
    "                - hard drives, ssd's, flash memory, flash drives/usb sticks, etc\n",
    "                - slow and large compared to main memory\n",
    "                - non-volatile\n",
    "            - Communication devices\n",
    "                - allow connections to the outside world \n",
    "                - networks, terminals, usb devices -- keyboards, mice, etc.\n",
    "                "
   ]
  },
  {
   "cell_type": "markdown",
   "id": "15b6b5a5-250f-496d-b8da-803f8a11fa3f",
   "metadata": {
    "slideshow": {
     "slide_type": "skip"
    },
    "tags": []
   },
   "source": [
    "<hr>"
   ]
  },
  {
   "cell_type": "markdown",
   "id": "352f7490",
   "metadata": {
    "slideshow": {
     "slide_type": "slide"
    },
    "tags": []
   },
   "source": [
    "<center>\n",
    "    \n",
    "## Useful?\n",
    "    \n",
    "</center>"
   ]
  },
  {
   "cell_type": "markdown",
   "id": "68ab914f",
   "metadata": {
    "slideshow": {
     "slide_type": "notes"
    }
   },
   "source": [
    "- Hardware is like the raw parts \n",
    "    - not really useful until we add software to have it do stuff\n",
    "        - aka run programs/apps\n",
    "        - but what stuff\n",
    "- For most people they want to run programs that allow them to use the computer to:\n",
    "    - surf the web\n",
    "    - read and write email\n",
    "    - record, view and edit audio, pictures and video\n",
    "    - compose documents\n",
    "    - analyze and visualize data\n",
    "    - play games\n",
    "    - etc ...\n",
    "- but for some of us, programmers, our primary goal is to write programs "
   ]
  },
  {
   "cell_type": "markdown",
   "id": "b0d9762a-d0c8-493b-9210-af121bcd2abc",
   "metadata": {
    "slideshow": {
     "slide_type": "skip"
    },
    "tags": []
   },
   "source": [
    "<hr>"
   ]
  },
  {
   "cell_type": "markdown",
   "id": "704a47fc",
   "metadata": {
    "slideshow": {
     "slide_type": "slide"
    }
   },
   "source": [
    "### The \"Kernel\" -- Unique to Every OS"
   ]
  },
  {
   "cell_type": "markdown",
   "id": "d95cea82-5a01-42d6-aa31-6a310569db51",
   "metadata": {
    "cell_style": "split",
    "hide_input": true,
    "slideshow": {
     "slide_type": "-"
    },
    "tags": [
     "remove-input"
    ]
   },
   "source": [
    "\n",
    "\n",
    "<table>\n",
    "<tr>\n",
    "   <td width=\"600\">\n",
    "       \n",
    "<img src=\"../images/kerneldef.png\">\n",
    "    \n",
    "   <td> \n",
    "      <p>\n",
    "          \n",
    "1. Bootstraps the HW and has direct access to all of it\n",
    "1. Bottom layer that enables other programs to run\n",
    "2. A unique collection of functions that programs can invoke\n",
    "                           </p>\n",
    "    </td>\n",
    "    </tr>\n",
    "</table>    "
   ]
  },
  {
   "cell_type": "markdown",
   "id": "9260a616",
   "metadata": {
    "cell_style": "split",
    "slideshow": {
     "slide_type": "-"
    }
   },
   "source": [
    "Not useful on its own only useful and accessed by running other programs."
   ]
  },
  {
   "cell_type": "markdown",
   "id": "e95c06cc-d7e4-44fb-9cce-ad119cb165e7",
   "metadata": {
    "slideshow": {
     "slide_type": "skip"
    },
    "tags": []
   },
   "source": [
    "<hr>"
   ]
  },
  {
   "cell_type": "markdown",
   "id": "3f674efd",
   "metadata": {
    "slideshow": {
     "slide_type": "slide"
    }
   },
   "source": [
    "## Hardware + Kernel"
   ]
  },
  {
   "cell_type": "markdown",
   "id": "afbe1cdd-17ef-46fe-846c-d22fcedb6e0e",
   "metadata": {
    "slideshow": {
     "slide_type": "skip"
    },
    "tags": []
   },
   "source": [
    "<hr>"
   ]
  },
  {
   "cell_type": "code",
   "execution_count": 22,
   "id": "c5eb96a0",
   "metadata": {
    "hide_input": true,
    "jupyter": {
     "source_hidden": true
    },
    "slideshow": {
     "slide_type": "slide"
    },
    "tags": [
     "remove-input"
    ]
   },
   "outputs": [
    {
     "data": {
      "text/markdown": [
       "<!-- produced by: \n",
       "htmlFig(\"['../images/src/SLS_WPIM.svg', '../images/src/SLS_TheMachine.svg']\", \n",
       "        id=\"\", \n",
       "        align=\"center\", \n",
       "        width=\"1024\",\n",
       "        margin=\"auto auto auto auto\",\n",
       "        caption=\"\", \n",
       "        captionalign=\"left\")\n",
       "-->\n",
       "<table align=\"center\" width=\"1024\" cellpadding=\"0\" cellspacing=\"0\" border=\"0\" style=\"border-collapse: collapse; margin: auto auto auto auto\">\n",
       "    <tr style=\"padding: 0; margin: 0;\"> \n",
       "        <td colspan=\"1\" width=\"100%\" style=\"padding: 0; margin: 0 0 0 0; background-color:inherit;\">\n",
       "            <div style=\"padding: 0; margin: 0 0 0 0;\">\n",
       "              <figure style=\"padding: 0; margin: 0 0 0 0; width:100%;\">\n",
       "                   <img src=\"../images/src/SLS_WPIM.svg\" width=\"100%\" style=\"padding: 0; margin: 0;\">\n",
       "                </figure>\n",
       "            </div>\n",
       "        </td>\n",
       "    </tr>\n",
       "    <tr style=\"padding: 0; margin: 0;\"> \n",
       "        <td colspan=\"1\" width=\"100%\" style=\"padding: 0; margin: 0 0 0 0; background-color:inherit;\">\n",
       "            <div style=\"padding: 0; margin: 0 0 0 0;\">\n",
       "              <figure style=\"padding: 0; margin: 0 0 0 0; width:100%;\">\n",
       "                   <img src=\"../images/src/SLS_TheMachine.svg\" width=\"100%\" style=\"padding: 0; margin: 0;\">\n",
       "                </figure>\n",
       "            </div>\n",
       "        </td>\n",
       "    </tr>\n",
       "</table>\n"
      ],
      "text/plain": [
       "<IPython.core.display.Markdown object>"
      ]
     },
     "metadata": {},
     "output_type": "display_data"
    }
   ],
   "source": [
    "display(Markdown(htmlFig([\"../images/src/SLS_WPIM.svg\", \"../images/src/SLS_TheMachine.svg\"],width=\"1024\")))"
   ]
  },
  {
   "cell_type": "markdown",
   "id": "fa2cfb35",
   "metadata": {
    "cell_style": "center",
    "hide_input": true,
    "slideshow": {
     "slide_type": "notes"
    }
   },
   "source": [
    "- bottom layer of the software that has direct access to all the hardware\n",
    "- single instance that bootstraps the hardware\n",
    "- provides means for starting application/user programs\n",
    "    - enables several to run at a time\n",
    "    - keeps them isolated from each other\n",
    "    - program can start and end  \n",
    "        - but kernel is always present and running \n",
    "        - facilities for managing the running user programs\n",
    "            - listing, pausing, terminating, etc.\n",
    "- a collection of ever present functions and objects that programs/programmers can rely on\n",
    "    - provides core \"software\" \"abstraction\" such as files \n",
    "        - makes it easier for programs to use the hardware \n",
    "        - consistent across different hardware \n",
    "    - programs / programmers need not worry about the details of the hardware \n",
    "- programs NOT humans interact with the kernel"
   ]
  },
  {
   "cell_type": "markdown",
   "id": "97ff75af-b8ec-4c48-8c2c-b1ac17eafa8e",
   "metadata": {
    "slideshow": {
     "slide_type": "skip"
    },
    "tags": []
   },
   "source": [
    "<hr>"
   ]
  },
  {
   "cell_type": "markdown",
   "id": "f6336754-d4a2-456f-88cf-7961c3fbaea1",
   "metadata": {
    "slideshow": {
     "slide_type": "slide"
    },
    "tags": []
   },
   "source": [
    "## System calls"
   ]
  },
  {
   "cell_type": "markdown",
   "id": "d2ade98c-8164-41f9-ab79-fe7ddab03b1f",
   "metadata": {
    "slideshow": {
     "slide_type": "skip"
    },
    "tags": []
   },
   "source": [
    "<hr>"
   ]
  },
  {
   "cell_type": "markdown",
   "id": "0d005f82-dd0d-494b-a94d-687ee16931f0",
   "metadata": {
    "slideshow": {
     "slide_type": "slide"
    },
    "tags": []
   },
   "source": [
    "<img  src=\"../images/syscalls.png\" width=\"1024\" style=\"border:0px; margin: 0px 0px; background-color: #00000000; display: block; margin-left: auto; margin-right: auto;\">"
   ]
  },
  {
   "cell_type": "markdown",
   "id": "763435c6-bb3e-4ecf-85b4-a4408beaf149",
   "metadata": {
    "slideshow": {
     "slide_type": "skip"
    },
    "tags": []
   },
   "source": [
    "<hr>"
   ]
  },
  {
   "cell_type": "markdown",
   "id": "3abcb194",
   "metadata": {
    "cell_style": "center",
    "slideshow": {
     "slide_type": "slide"
    }
   },
   "source": [
    "### User Programs\n",
    "\n",
    "Programs that come with the Kernel -- all the other stuff\n",
    "\n",
    "1. Display / Interface Mangers\n",
    "2. Finders/Explores \n",
    "3. All the Other Apps/Utilities\n",
    "\n",
    "This collection is unique to every OS and depends on its target audience."
   ]
  },
  {
   "cell_type": "markdown",
   "id": "e6100436",
   "metadata": {
    "cell_style": "center",
    "hide_input": true,
    "slideshow": {
     "slide_type": "notes"
    }
   },
   "source": [
    "- a collection of programs that come pre-packaged with the OS\n",
    "    - one or more interface programs \n",
    "        - provides a human with a way of interacting with the OS to use the other programs installed. Eg. \n",
    "            - the graphical front-end of your OS aka the \"desktop\", the \"home\" screen, the car menu system\n",
    "            - text based command line\n",
    "    - programs for exploring and finding information about the other programs and data installed\n",
    "        - eg. The Windows File Explore, OSX Finder, etc.\n",
    "    - Many other utilities depending of different categories depending on the OS\n",
    "        - personal computers -- media programs, web-browsers, productivity apps, etc.\n",
    "        - tools for developing new programs:\n",
    "            - program editors\n",
    "            - programming language software: python, ruby, etc.\n",
    "            - debuggers\n",
    "    - The nature and feel of these programs is specific to the goals or target audience of the OS\n",
    "        - Most of commodity OS's are targeted at non-programmers\n",
    "        - assumes ease of use is primary and programability is secondary"
   ]
  },
  {
   "cell_type": "markdown",
   "id": "9bbeac9d-1446-4c29-a853-37e7205be0ab",
   "metadata": {
    "slideshow": {
     "slide_type": "skip"
    },
    "tags": []
   },
   "source": [
    "<hr>"
   ]
  },
  {
   "cell_type": "markdown",
   "id": "b2c4f1be",
   "metadata": {
    "slideshow": {
     "slide_type": "slide"
    }
   },
   "source": [
    "## Hardware + Kernel + User Programs"
   ]
  },
  {
   "cell_type": "markdown",
   "id": "012d3334-beb3-450d-a68a-f785a1fab29d",
   "metadata": {
    "slideshow": {
     "slide_type": "skip"
    },
    "tags": []
   },
   "source": [
    "<hr>"
   ]
  },
  {
   "cell_type": "code",
   "execution_count": 23,
   "id": "230f8121",
   "metadata": {
    "hide_input": true,
    "jupyter": {
     "source_hidden": true
    },
    "slideshow": {
     "slide_type": "slide"
    },
    "tags": [
     "remove-input"
    ]
   },
   "outputs": [
    {
     "data": {
      "text/markdown": [
       "<!-- produced by: \n",
       "htmlFig(\"[{'src': '../images/UnixRunning.png'}]\", \n",
       "        id=\"\", \n",
       "        align=\"center\", \n",
       "        width=\"1024\",\n",
       "        margin=\"auto auto auto auto\",\n",
       "        caption=\"\", \n",
       "        captionalign=\"left\")\n",
       "-->\n",
       "<table align=\"center\" width=\"1024\" cellpadding=\"0\" cellspacing=\"0\" border=\"0\" style=\"border-collapse: collapse; margin: auto auto auto auto\">\n",
       "    <tr style=\"padding: 0; margin: 0;\"> \n",
       "        <td colspan=\"1\" width=\"100%\" style=\"padding: 0; margin: 0 0 0 0; background-color:inherit;\">\n",
       "            <div style=\"padding: 0; margin: 0 0 0 0;\">\n",
       "              <figure style=\"padding: 0; margin: 0 0 0 0; width:100%;\">\n",
       "                   <img src=\"../images/UnixRunning.png\" width=\"100%\" style=\"padding: 0; margin: 0;\">\n",
       "                </figure>\n",
       "            </div>\n",
       "        </td>\n",
       "    </tr>\n",
       "</table>\n"
      ],
      "text/plain": [
       "<IPython.core.display.Markdown object>"
      ]
     },
     "metadata": {},
     "output_type": "display_data"
    }
   ],
   "source": [
    "display(Markdown(htmlFig(\"../images/UnixRunning.png\",\n",
    "             width=\"1024\", align=\"center\", \n",
    "             margin=\"auto auto auto auto\")))"
   ]
  },
  {
   "cell_type": "markdown",
   "id": "16301710-d250-45c6-aaf5-5030d5798c39",
   "metadata": {
    "slideshow": {
     "slide_type": "skip"
    },
    "tags": []
   },
   "source": [
    "<hr>"
   ]
  },
  {
   "cell_type": "markdown",
   "id": "6f36fe7e",
   "metadata": {
    "slideshow": {
     "slide_type": "slide"
    }
   },
   "source": [
    "## Why Unix?\n",
    "\n",
    "By programmers for programmers -- teaches you to think like a programmer.\n",
    "\n",
    "- automation is the name of the game -- every aspect is programmable\n",
    "- text oriented interfaces and utilities makes it easy to write programs that translate and transform information\n",
    "- it is easy to access and see what other OS's purposely hide\n",
    "\n",
    "A lot of the world around you runs on some form of Unix!"
   ]
  },
  {
   "cell_type": "markdown",
   "id": "7c4ed083",
   "metadata": {
    "slideshow": {
     "slide_type": "notes"
    }
   },
   "source": [
    "### Benefits to understanding/learning  Unix\n",
    "Unix's terminal interface and program development environment became the gold standard for university CS education\n",
    "- A programmer oriented model for interacting and using the computer -- The Shell\n",
    "- A collection of composable and extensible tools for processing ASCII documents\n",
    "  - Making it easy to write new programs \n",
    "    - including programs that translate ASCII documents into new programs\n",
    "- While it takes some effort to learn: \n",
    "  - it teaches you to think like a programmer\n",
    "    - writing little re-usable programs  \n",
    "    - incrementally evolving those as needed\n",
    "    - makes the value in decomposing and reusing existing programs obvious \n",
    "  - it unleashes your creativity by providing simple building blocks\n",
    "    - minimizes time and effort from idea to prototype \n",
    "    - provide a environment where everything can be customized and programmed\n",
    "    - automation is the name of the game\n",
    "  - it only has a few small core ideas that you need to understand to get going\n",
    "    - files, processes, I/O redirection\n",
    "  - Rich body of existing software for program development \n",
    "  - The computers of the Internet and Cloud primarily runs some form of Unix\n",
    "  - The embedded systems around you often run Unix\n",
    "  - Foundation of Open Source software is Unix based -- ala Linux"
   ]
  },
  {
   "cell_type": "markdown",
   "id": "e35b7075-c464-4a25-8a02-9937f362310b",
   "metadata": {
    "slideshow": {
     "slide_type": "skip"
    },
    "tags": []
   },
   "source": [
    "<hr>"
   ]
  },
  {
   "cell_type": "markdown",
   "id": "43127c61",
   "metadata": {
    "slideshow": {
     "slide_type": "slide"
    }
   },
   "source": [
    "## UNIX Preliminaries \n",
    "1. Files and Directories\n",
    "2. ASCII\n",
    "3. The Terminal and the Shell"
   ]
  },
  {
   "cell_type": "markdown",
   "id": "5565d9ef-3675-4ee9-b627-ebb4d76322f3",
   "metadata": {
    "slideshow": {
     "slide_type": "skip"
    },
    "tags": []
   },
   "source": [
    "<hr>"
   ]
  },
  {
   "cell_type": "markdown",
   "id": "681aa32d",
   "metadata": {
    "cell_style": "split",
    "slideshow": {
     "slide_type": "slide"
    }
   },
   "source": [
    "### Files and directories (folders)?\n",
    "\n",
    "<table>\n",
    "<tr>\n",
    "   <td width=\"600\">\n",
    "       \n",
    "<img src=\"../images/Files-Cabinets.jpg\">\n",
    "    \n",
    "   <td> \n",
    "      <p>\n",
    "OS converts HW into an information management and processing system\n",
    "\n",
    "- primitive for representing information: The File\n",
    "- primitive for organize the information:  Hierarchy of Directories          \n",
    "                           </p>\n",
    "    </td>\n",
    "    </tr>\n",
    "</table>    \n"
   ]
  },
  {
   "cell_type": "markdown",
   "id": "31f9ac44-6af4-4647-bf75-a1e8f7cf17c6",
   "metadata": {
    "slideshow": {
     "slide_type": "skip"
    },
    "tags": []
   },
   "source": [
    "<hr>"
   ]
  },
  {
   "cell_type": "markdown",
   "id": "34e9ade2",
   "metadata": {
    "cell_style": "center",
    "slideshow": {
     "slide_type": "slide"
    }
   },
   "source": [
    "### Files - But first the Byte and some notation\n",
    "- The byte \n",
    "    - basic unit of information the hardware can store and manipulate \n",
    "\n",
    "<center>\n",
    "<img  src=\"../images/8switches.png\" width=\"60%\"> \n",
    "</center>"
   ]
  },
  {
   "cell_type": "markdown",
   "id": "0a2dd204",
   "metadata": {
    "cell_style": "center",
    "slideshow": {
     "slide_type": "fragment"
    },
    "tags": []
   },
   "source": [
    "\n",
    "- A byte: 8 switches that form a single location of memory/storage"
   ]
  },
  {
   "cell_type": "markdown",
   "id": "3fe042ef",
   "metadata": {
    "cell_style": "center",
    "slideshow": {
     "slide_type": "fragment"
    }
   },
   "source": [
    "- We measure capacity or size of memory/storage in units of bytes"
   ]
  },
  {
   "cell_type": "markdown",
   "id": "9135657c",
   "metadata": {
    "cell_style": "center",
    "slideshow": {
     "slide_type": "fragment"
    }
   },
   "source": [
    "- We think of each byte of memory or data as a vector of 8 bits"
   ]
  },
  {
   "cell_type": "markdown",
   "id": "9ea98b08",
   "metadata": {
    "cell_style": "center",
    "slideshow": {
     "slide_type": "fragment"
    }
   },
   "source": [
    "\n",
    "$[b_7 b_6 b_5 b_4 b_3 b_2 b_1 b_0]$ where each $b_i$ is ${0,1}$    \n"
   ]
  },
  {
   "cell_type": "code",
   "execution_count": 24,
   "id": "8708bdfe",
   "metadata": {
    "hide_input": true,
    "jupyter": {
     "source_hidden": true
    },
    "tags": [
     "remove-input"
    ]
   },
   "outputs": [
    {
     "data": {
      "text/html": [
       "<div style=\"overflow:scroll; display: table; margin:auto auto;\"><style type=\"text/css\">\n",
       "#T_6b9b2 td {\n",
       "  border: 4px solid #cccccc;\n",
       "  font-size: 3vw;\n",
       "  text-align: center;\n",
       "  overflow-x: hidden;\n",
       "}\n",
       "#T_6b9b2 th {\n",
       "  font-size: 1.5vw;\n",
       "  text-align: center;\n",
       "  font-weight: bold;\n",
       "  border: solid #cccccc;\n",
       "  color: black;\n",
       "  background-color: white;\n",
       "}\n",
       "#T_6b9b2 td:hover {\n",
       "  background-color: white;\n",
       "  color: black;\n",
       "}\n",
       "#T_6b9b2 tr:hover {\n",
       "  background-color: #11cccccc;\n",
       "  border: 4px solid red;\n",
       "}\n",
       "#T_6b9b2 th:hover {\n",
       "  border: solid red;\n",
       "}\n",
       "#T_6b9b2 thead tr:nth-child(1) th {\n",
       "  position: sticky;\n",
       "  background-color: inherit;\n",
       "  top: 0px;\n",
       "  z-index: 2;\n",
       "}\n",
       "#T_6b9b2  {\n",
       "  margin-left: auto;\n",
       "  margin-right: auto;\n",
       "}\n",
       "</style>\n",
       "<table id=\"T_6b9b2\">\n",
       "  <thead>\n",
       "    <tr>\n",
       "      <th class=\"blank level0\" >&nbsp;</th>\n",
       "      <th id=\"T_6b9b2_level0_col0\" class=\"col_heading level0 col0\" >[<em>b<sub>7</sub></em></th>\n",
       "      <th id=\"T_6b9b2_level0_col1\" class=\"col_heading level0 col1\" ><em>b<sub>6</sub></em></th>\n",
       "      <th id=\"T_6b9b2_level0_col2\" class=\"col_heading level0 col2\" ><em>b<sub>5</sub></em></th>\n",
       "      <th id=\"T_6b9b2_level0_col3\" class=\"col_heading level0 col3\" ><em>b<sub>4</sub></em></th>\n",
       "      <th id=\"T_6b9b2_level0_col4\" class=\"col_heading level0 col4\" ><em>b<sub>3</sub></em></th>\n",
       "      <th id=\"T_6b9b2_level0_col5\" class=\"col_heading level0 col5\" ><em>b<sub>2</sub></em></th>\n",
       "      <th id=\"T_6b9b2_level0_col6\" class=\"col_heading level0 col6\" ><em>b<sub>1</sub></em></th>\n",
       "      <th id=\"T_6b9b2_level0_col7\" class=\"col_heading level0 col7\" ><em>b<sub>0</sub></em>]</th>\n",
       "    </tr>\n",
       "  </thead>\n",
       "  <tbody>\n",
       "    <tr>\n",
       "      <th id=\"T_6b9b2_level0_row0\" class=\"row_heading level0 row0\" >ALL OFF</th>\n",
       "      <td id=\"T_6b9b2_row0_col0\" class=\"data row0 col0\" >0</td>\n",
       "      <td id=\"T_6b9b2_row0_col1\" class=\"data row0 col1\" >0</td>\n",
       "      <td id=\"T_6b9b2_row0_col2\" class=\"data row0 col2\" >0</td>\n",
       "      <td id=\"T_6b9b2_row0_col3\" class=\"data row0 col3\" >0</td>\n",
       "      <td id=\"T_6b9b2_row0_col4\" class=\"data row0 col4\" >0</td>\n",
       "      <td id=\"T_6b9b2_row0_col5\" class=\"data row0 col5\" >0</td>\n",
       "      <td id=\"T_6b9b2_row0_col6\" class=\"data row0 col6\" >0</td>\n",
       "      <td id=\"T_6b9b2_row0_col7\" class=\"data row0 col7\" >0</td>\n",
       "    </tr>\n",
       "    <tr>\n",
       "      <th id=\"T_6b9b2_level0_row1\" class=\"row_heading level0 row1\" >ALL ON</th>\n",
       "      <td id=\"T_6b9b2_row1_col0\" class=\"data row1 col0\" >1</td>\n",
       "      <td id=\"T_6b9b2_row1_col1\" class=\"data row1 col1\" >1</td>\n",
       "      <td id=\"T_6b9b2_row1_col2\" class=\"data row1 col2\" >1</td>\n",
       "      <td id=\"T_6b9b2_row1_col3\" class=\"data row1 col3\" >1</td>\n",
       "      <td id=\"T_6b9b2_row1_col4\" class=\"data row1 col4\" >1</td>\n",
       "      <td id=\"T_6b9b2_row1_col5\" class=\"data row1 col5\" >1</td>\n",
       "      <td id=\"T_6b9b2_row1_col6\" class=\"data row1 col6\" >1</td>\n",
       "      <td id=\"T_6b9b2_row1_col7\" class=\"data row1 col7\" >1</td>\n",
       "    </tr>\n",
       "  </tbody>\n",
       "</table>\n",
       "</div>"
      ],
      "text/plain": [
       "<IPython.core.display.HTML object>"
      ]
     },
     "metadata": {},
     "output_type": "display_data"
    }
   ],
   "source": [
    "displayBytes([[0x00],[0xff]], labels=[\"ALL OFF\", \"ALL ON\"])"
   ]
  },
  {
   "cell_type": "markdown",
   "id": "5157fe25",
   "metadata": {
    "cell_style": "center",
    "slideshow": {
     "slide_type": "fragment"
    },
    "tags": []
   },
   "source": [
    "\n",
    "- A byte : can take on 256 unique values -- $2^8 = 256$ possible values\n"
   ]
  },
  {
   "cell_type": "markdown",
   "id": "62624f5e-4c03-4479-8b6d-c628cca0a322",
   "metadata": {
    "slideshow": {
     "slide_type": "skip"
    },
    "tags": []
   },
   "source": [
    "<hr>"
   ]
  },
  {
   "cell_type": "markdown",
   "id": "14282cfb",
   "metadata": {
    "cell_style": "center",
    "slideshow": {
     "slide_type": "slide"
    }
   },
   "source": [
    "## Hexadecimal \n",
    "\n",
    "- often times we see base 16 (hexadecimal) used to express a particular binary byte value\n",
    "  - it is easier to write down 2 base hex digits than 8 binary digits\n",
    "\n",
    "We prefix a hex value with `0x` to distinguish base 16 values (eg. `0x11`)\n",
    "\n",
    "And we use `0b` to distinguish base 2 value (eg. `0b11`).\n",
    "\n",
    "If we don't prefix we will assume it is obvious from context or we are assuming base 10."
   ]
  },
  {
   "cell_type": "markdown",
   "id": "191f4bd6-5046-4587-9628-5461cb1d8e20",
   "metadata": {
    "slideshow": {
     "slide_type": "skip"
    },
    "tags": []
   },
   "source": [
    "<hr>"
   ]
  },
  {
   "cell_type": "code",
   "execution_count": 25,
   "id": "12ead6e8",
   "metadata": {
    "hide_input": false,
    "jupyter": {
     "source_hidden": true
    },
    "slideshow": {
     "slide_type": "slide"
    },
    "tags": [
     "remove-input"
    ]
   },
   "outputs": [
    {
     "data": {
      "text/html": [
       "<div style=\"overflow:scroll; display: table; margin:auto auto;\"><style type=\"text/css\">\n",
       "#T_6d8cb td {\n",
       "  border: 4px solid #cccccc;\n",
       "  font-size: 3vw;\n",
       "  text-align: center;\n",
       "  overflow-x: hidden;\n",
       "}\n",
       "#T_6d8cb th {\n",
       "  font-size: 1.5vw;\n",
       "  text-align: center;\n",
       "  font-weight: bold;\n",
       "  border: solid #cccccc;\n",
       "  color: black;\n",
       "  background-color: white;\n",
       "}\n",
       "#T_6d8cb td:hover {\n",
       "  background-color: white;\n",
       "  color: black;\n",
       "}\n",
       "#T_6d8cb tr:hover {\n",
       "  background-color: #11cccccc;\n",
       "  border: 4px solid red;\n",
       "}\n",
       "#T_6d8cb th:hover {\n",
       "  border: solid red;\n",
       "}\n",
       "#T_6d8cb thead tr:nth-child(1) th {\n",
       "  position: sticky;\n",
       "  background-color: inherit;\n",
       "  top: 0px;\n",
       "  z-index: 2;\n",
       "}\n",
       "#T_6d8cb  {\n",
       "  margin-left: auto;\n",
       "  margin-right: auto;\n",
       "}\n",
       "</style>\n",
       "<table id=\"T_6d8cb\">\n",
       "  <thead>\n",
       "    <tr>\n",
       "      <th id=\"T_6d8cb_level0_col0\" class=\"col_heading level0 col0\" >[<em>b<sub>7</sub></em></th>\n",
       "      <th id=\"T_6d8cb_level0_col1\" class=\"col_heading level0 col1\" ><em>b<sub>6</sub></em></th>\n",
       "      <th id=\"T_6d8cb_level0_col2\" class=\"col_heading level0 col2\" ><em>b<sub>5</sub></em></th>\n",
       "      <th id=\"T_6d8cb_level0_col3\" class=\"col_heading level0 col3\" ><em>b<sub>4</sub></em></th>\n",
       "      <th id=\"T_6d8cb_level0_col4\" class=\"col_heading level0 col4\" ><em>b<sub>3</sub></em></th>\n",
       "      <th id=\"T_6d8cb_level0_col5\" class=\"col_heading level0 col5\" ><em>b<sub>2</sub></em></th>\n",
       "      <th id=\"T_6d8cb_level0_col6\" class=\"col_heading level0 col6\" ><em>b<sub>1</sub></em></th>\n",
       "      <th id=\"T_6d8cb_level0_col7\" class=\"col_heading level0 col7\" ><em>b<sub>0</sub></em>]</th>\n",
       "    </tr>\n",
       "  </thead>\n",
       "  <tbody>\n",
       "    <tr>\n",
       "      <td id=\"T_6d8cb_row0_col0\" class=\"data row0 col0\" >1</td>\n",
       "      <td id=\"T_6d8cb_row0_col1\" class=\"data row0 col1\" >0</td>\n",
       "      <td id=\"T_6d8cb_row0_col2\" class=\"data row0 col2\" >1</td>\n",
       "      <td id=\"T_6d8cb_row0_col3\" class=\"data row0 col3\" >0</td>\n",
       "      <td id=\"T_6d8cb_row0_col4\" class=\"data row0 col4\" >1</td>\n",
       "      <td id=\"T_6d8cb_row0_col5\" class=\"data row0 col5\" >1</td>\n",
       "      <td id=\"T_6d8cb_row0_col6\" class=\"data row0 col6\" >1</td>\n",
       "      <td id=\"T_6d8cb_row0_col7\" class=\"data row0 col7\" >0</td>\n",
       "    </tr>\n",
       "  </tbody>\n",
       "</table>\n",
       "</div>"
      ],
      "text/plain": [
       "<IPython.core.display.HTML object>"
      ]
     },
     "metadata": {},
     "output_type": "display_data"
    }
   ],
   "source": [
    "X=np.uint8(0xae)\n",
    "XL=np.bitwise_and(X,0xf)\n",
    "XH=np.bitwise_and(np.right_shift(X,4),0xf)\n",
    "#displayBytes(bytes=[[X]],td_font_size=\"2.5em\", th_font_size=\"1.5em\")\n",
    "displayBytes(bytes=[[X]])"
   ]
  },
  {
   "cell_type": "code",
   "execution_count": 26,
   "id": "b138a97e",
   "metadata": {
    "cell_style": "split",
    "hide_input": false,
    "jupyter": {
     "source_hidden": true
    },
    "scrolled": true,
    "slideshow": {
     "slide_type": "-"
    },
    "tags": [
     "remove-input"
    ]
   },
   "outputs": [
    {
     "data": {
      "text/html": [
       "<div style=\"overflow:scroll; display: table; margin:auto auto;\"><style type=\"text/css\">\n",
       "#T_8fa0c td {\n",
       "  border: 4px solid #cccccc;\n",
       "  font-size: 3vw;\n",
       "  text-align: center;\n",
       "  overflow-x: hidden;\n",
       "}\n",
       "#T_8fa0c th {\n",
       "  font-size: 1.5vw;\n",
       "  text-align: center;\n",
       "  font-weight: bold;\n",
       "  border: solid #cccccc;\n",
       "  color: black;\n",
       "  background-color: white;\n",
       "}\n",
       "#T_8fa0c td:hover {\n",
       "  background-color: white;\n",
       "  color: black;\n",
       "}\n",
       "#T_8fa0c tr:hover {\n",
       "  background-color: #11cccccc;\n",
       "  border: 4px solid red;\n",
       "}\n",
       "#T_8fa0c th:hover {\n",
       "  border: solid red;\n",
       "}\n",
       "#T_8fa0c thead tr:nth-child(1) th {\n",
       "  position: sticky;\n",
       "  background-color: inherit;\n",
       "  top: 0px;\n",
       "  z-index: 2;\n",
       "}\n",
       "#T_8fa0c  {\n",
       "  margin-left: auto;\n",
       "  margin-right: auto;\n",
       "}\n",
       "</style>\n",
       "<table id=\"T_8fa0c\">\n",
       "  <thead>\n",
       "    <tr>\n",
       "      <th class=\"index_name level0\" >HEX</th>\n",
       "      <th id=\"T_8fa0c_level0_col0\" class=\"col_heading level0 col0\" >[$b_3$</th>\n",
       "      <th id=\"T_8fa0c_level0_col1\" class=\"col_heading level0 col1\" >$b_2$</th>\n",
       "      <th id=\"T_8fa0c_level0_col2\" class=\"col_heading level0 col2\" >$b_1$</th>\n",
       "      <th id=\"T_8fa0c_level0_col3\" class=\"col_heading level0 col3\" >$b_0$]</th>\n",
       "    </tr>\n",
       "  </thead>\n",
       "  <tbody>\n",
       "    <tr>\n",
       "      <th id=\"T_8fa0c_level0_row0\" class=\"row_heading level0 row0\" >0</th>\n",
       "      <td id=\"T_8fa0c_row0_col0\" class=\"data row0 col0\" >0</td>\n",
       "      <td id=\"T_8fa0c_row0_col1\" class=\"data row0 col1\" >0</td>\n",
       "      <td id=\"T_8fa0c_row0_col2\" class=\"data row0 col2\" >0</td>\n",
       "      <td id=\"T_8fa0c_row0_col3\" class=\"data row0 col3\" >0</td>\n",
       "    </tr>\n",
       "    <tr>\n",
       "      <th id=\"T_8fa0c_level0_row1\" class=\"row_heading level0 row1\" >1</th>\n",
       "      <td id=\"T_8fa0c_row1_col0\" class=\"data row1 col0\" >0</td>\n",
       "      <td id=\"T_8fa0c_row1_col1\" class=\"data row1 col1\" >0</td>\n",
       "      <td id=\"T_8fa0c_row1_col2\" class=\"data row1 col2\" >0</td>\n",
       "      <td id=\"T_8fa0c_row1_col3\" class=\"data row1 col3\" >1</td>\n",
       "    </tr>\n",
       "    <tr>\n",
       "      <th id=\"T_8fa0c_level0_row2\" class=\"row_heading level0 row2\" >2</th>\n",
       "      <td id=\"T_8fa0c_row2_col0\" class=\"data row2 col0\" >0</td>\n",
       "      <td id=\"T_8fa0c_row2_col1\" class=\"data row2 col1\" >0</td>\n",
       "      <td id=\"T_8fa0c_row2_col2\" class=\"data row2 col2\" >1</td>\n",
       "      <td id=\"T_8fa0c_row2_col3\" class=\"data row2 col3\" >0</td>\n",
       "    </tr>\n",
       "    <tr>\n",
       "      <th id=\"T_8fa0c_level0_row3\" class=\"row_heading level0 row3\" >3</th>\n",
       "      <td id=\"T_8fa0c_row3_col0\" class=\"data row3 col0\" >0</td>\n",
       "      <td id=\"T_8fa0c_row3_col1\" class=\"data row3 col1\" >0</td>\n",
       "      <td id=\"T_8fa0c_row3_col2\" class=\"data row3 col2\" >1</td>\n",
       "      <td id=\"T_8fa0c_row3_col3\" class=\"data row3 col3\" >1</td>\n",
       "    </tr>\n",
       "    <tr>\n",
       "      <th id=\"T_8fa0c_level0_row4\" class=\"row_heading level0 row4\" >4</th>\n",
       "      <td id=\"T_8fa0c_row4_col0\" class=\"data row4 col0\" >0</td>\n",
       "      <td id=\"T_8fa0c_row4_col1\" class=\"data row4 col1\" >1</td>\n",
       "      <td id=\"T_8fa0c_row4_col2\" class=\"data row4 col2\" >0</td>\n",
       "      <td id=\"T_8fa0c_row4_col3\" class=\"data row4 col3\" >0</td>\n",
       "    </tr>\n",
       "    <tr>\n",
       "      <th id=\"T_8fa0c_level0_row5\" class=\"row_heading level0 row5\" >5</th>\n",
       "      <td id=\"T_8fa0c_row5_col0\" class=\"data row5 col0\" >0</td>\n",
       "      <td id=\"T_8fa0c_row5_col1\" class=\"data row5 col1\" >1</td>\n",
       "      <td id=\"T_8fa0c_row5_col2\" class=\"data row5 col2\" >0</td>\n",
       "      <td id=\"T_8fa0c_row5_col3\" class=\"data row5 col3\" >1</td>\n",
       "    </tr>\n",
       "    <tr>\n",
       "      <th id=\"T_8fa0c_level0_row6\" class=\"row_heading level0 row6\" >6</th>\n",
       "      <td id=\"T_8fa0c_row6_col0\" class=\"data row6 col0\" >0</td>\n",
       "      <td id=\"T_8fa0c_row6_col1\" class=\"data row6 col1\" >1</td>\n",
       "      <td id=\"T_8fa0c_row6_col2\" class=\"data row6 col2\" >1</td>\n",
       "      <td id=\"T_8fa0c_row6_col3\" class=\"data row6 col3\" >0</td>\n",
       "    </tr>\n",
       "    <tr>\n",
       "      <th id=\"T_8fa0c_level0_row7\" class=\"row_heading level0 row7\" >7</th>\n",
       "      <td id=\"T_8fa0c_row7_col0\" class=\"data row7 col0\" >0</td>\n",
       "      <td id=\"T_8fa0c_row7_col1\" class=\"data row7 col1\" >1</td>\n",
       "      <td id=\"T_8fa0c_row7_col2\" class=\"data row7 col2\" >1</td>\n",
       "      <td id=\"T_8fa0c_row7_col3\" class=\"data row7 col3\" >1</td>\n",
       "    </tr>\n",
       "    <tr>\n",
       "      <th id=\"T_8fa0c_level0_row8\" class=\"row_heading level0 row8\" >8</th>\n",
       "      <td id=\"T_8fa0c_row8_col0\" class=\"data row8 col0\" >1</td>\n",
       "      <td id=\"T_8fa0c_row8_col1\" class=\"data row8 col1\" >0</td>\n",
       "      <td id=\"T_8fa0c_row8_col2\" class=\"data row8 col2\" >0</td>\n",
       "      <td id=\"T_8fa0c_row8_col3\" class=\"data row8 col3\" >0</td>\n",
       "    </tr>\n",
       "    <tr>\n",
       "      <th id=\"T_8fa0c_level0_row9\" class=\"row_heading level0 row9\" >9</th>\n",
       "      <td id=\"T_8fa0c_row9_col0\" class=\"data row9 col0\" >1</td>\n",
       "      <td id=\"T_8fa0c_row9_col1\" class=\"data row9 col1\" >0</td>\n",
       "      <td id=\"T_8fa0c_row9_col2\" class=\"data row9 col2\" >0</td>\n",
       "      <td id=\"T_8fa0c_row9_col3\" class=\"data row9 col3\" >1</td>\n",
       "    </tr>\n",
       "    <tr>\n",
       "      <th id=\"T_8fa0c_level0_row10\" class=\"row_heading level0 row10\" >A</th>\n",
       "      <td id=\"T_8fa0c_row10_col0\" class=\"data row10 col0\" >1</td>\n",
       "      <td id=\"T_8fa0c_row10_col1\" class=\"data row10 col1\" >0</td>\n",
       "      <td id=\"T_8fa0c_row10_col2\" class=\"data row10 col2\" >1</td>\n",
       "      <td id=\"T_8fa0c_row10_col3\" class=\"data row10 col3\" >0</td>\n",
       "    </tr>\n",
       "    <tr>\n",
       "      <th id=\"T_8fa0c_level0_row11\" class=\"row_heading level0 row11\" >B</th>\n",
       "      <td id=\"T_8fa0c_row11_col0\" class=\"data row11 col0\" >1</td>\n",
       "      <td id=\"T_8fa0c_row11_col1\" class=\"data row11 col1\" >0</td>\n",
       "      <td id=\"T_8fa0c_row11_col2\" class=\"data row11 col2\" >1</td>\n",
       "      <td id=\"T_8fa0c_row11_col3\" class=\"data row11 col3\" >1</td>\n",
       "    </tr>\n",
       "    <tr>\n",
       "      <th id=\"T_8fa0c_level0_row12\" class=\"row_heading level0 row12\" >C</th>\n",
       "      <td id=\"T_8fa0c_row12_col0\" class=\"data row12 col0\" >1</td>\n",
       "      <td id=\"T_8fa0c_row12_col1\" class=\"data row12 col1\" >1</td>\n",
       "      <td id=\"T_8fa0c_row12_col2\" class=\"data row12 col2\" >0</td>\n",
       "      <td id=\"T_8fa0c_row12_col3\" class=\"data row12 col3\" >0</td>\n",
       "    </tr>\n",
       "    <tr>\n",
       "      <th id=\"T_8fa0c_level0_row13\" class=\"row_heading level0 row13\" >D</th>\n",
       "      <td id=\"T_8fa0c_row13_col0\" class=\"data row13 col0\" >1</td>\n",
       "      <td id=\"T_8fa0c_row13_col1\" class=\"data row13 col1\" >1</td>\n",
       "      <td id=\"T_8fa0c_row13_col2\" class=\"data row13 col2\" >0</td>\n",
       "      <td id=\"T_8fa0c_row13_col3\" class=\"data row13 col3\" >1</td>\n",
       "    </tr>\n",
       "    <tr>\n",
       "      <th id=\"T_8fa0c_level0_row14\" class=\"row_heading level0 row14\" >E</th>\n",
       "      <td id=\"T_8fa0c_row14_col0\" class=\"data row14 col0\" >1</td>\n",
       "      <td id=\"T_8fa0c_row14_col1\" class=\"data row14 col1\" >1</td>\n",
       "      <td id=\"T_8fa0c_row14_col2\" class=\"data row14 col2\" >1</td>\n",
       "      <td id=\"T_8fa0c_row14_col3\" class=\"data row14 col3\" >0</td>\n",
       "    </tr>\n",
       "    <tr>\n",
       "      <th id=\"T_8fa0c_level0_row15\" class=\"row_heading level0 row15\" >F</th>\n",
       "      <td id=\"T_8fa0c_row15_col0\" class=\"data row15 col0\" >1</td>\n",
       "      <td id=\"T_8fa0c_row15_col1\" class=\"data row15 col1\" >1</td>\n",
       "      <td id=\"T_8fa0c_row15_col2\" class=\"data row15 col2\" >1</td>\n",
       "      <td id=\"T_8fa0c_row15_col3\" class=\"data row15 col3\" >1</td>\n",
       "    </tr>\n",
       "  </tbody>\n",
       "</table>\n",
       "</div>"
      ],
      "text/plain": [
       "<IPython.core.display.HTML object>"
      ]
     },
     "metadata": {},
     "output_type": "display_data"
    }
   ],
   "source": [
    "displayBytes(bytes=[[i] for i in range(16)], numbits=4, columns=[\"[$b_3$\", \"$b_2$\", \"$b_1$\", \"$b_0$]\"], labels=[format(i,\"1X\")for i in range(16)], labelstitle=\"HEX\", center=True)"
   ]
  },
  {
   "cell_type": "code",
   "execution_count": 27,
   "id": "e72ae8e3",
   "metadata": {
    "cell_style": "split",
    "hide_input": false,
    "jupyter": {
     "source_hidden": true
    },
    "slideshow": {
     "slide_type": "fragment"
    },
    "tags": [
     "remove-input"
    ]
   },
   "outputs": [
    {
     "data": {
      "text/html": [
       "<div style=\"overflow:scroll; display: table; margin:auto auto;\"><style type=\"text/css\">\n",
       "#T_af283 td {\n",
       "  border: 4px solid #cccccc;\n",
       "  font-size: 3vw;\n",
       "  text-align: center;\n",
       "  overflow-x: hidden;\n",
       "}\n",
       "#T_af283 th {\n",
       "  font-size: 1.5vw;\n",
       "  text-align: center;\n",
       "  font-weight: bold;\n",
       "  border: solid #cccccc;\n",
       "  color: black;\n",
       "  background-color: white;\n",
       "}\n",
       "#T_af283 td:hover {\n",
       "  background-color: white;\n",
       "  color: black;\n",
       "}\n",
       "#T_af283 tr:hover {\n",
       "  background-color: #11cccccc;\n",
       "  border: 4px solid red;\n",
       "}\n",
       "#T_af283 th:hover {\n",
       "  border: solid red;\n",
       "}\n",
       "#T_af283 thead tr:nth-child(1) th {\n",
       "  position: sticky;\n",
       "  background-color: inherit;\n",
       "  top: 0px;\n",
       "  z-index: 2;\n",
       "}\n",
       "#T_af283  {\n",
       "  margin-left: auto;\n",
       "  margin-right: auto;\n",
       "}\n",
       "</style>\n",
       "<table id=\"T_af283\">\n",
       "  <thead>\n",
       "    <tr>\n",
       "      <th id=\"T_af283_level0_col0\" class=\"col_heading level0 col0\" >[$b_7$</th>\n",
       "      <th id=\"T_af283_level0_col1\" class=\"col_heading level0 col1\" >$b_6$</th>\n",
       "      <th id=\"T_af283_level0_col2\" class=\"col_heading level0 col2\" >$b_5$</th>\n",
       "      <th id=\"T_af283_level0_col3\" class=\"col_heading level0 col3\" >$b_4$]</th>\n",
       "    </tr>\n",
       "  </thead>\n",
       "  <tbody>\n",
       "    <tr>\n",
       "      <td id=\"T_af283_row0_col0\" class=\"data row0 col0\" >1</td>\n",
       "      <td id=\"T_af283_row0_col1\" class=\"data row0 col1\" >0</td>\n",
       "      <td id=\"T_af283_row0_col2\" class=\"data row0 col2\" >1</td>\n",
       "      <td id=\"T_af283_row0_col3\" class=\"data row0 col3\" >0</td>\n",
       "    </tr>\n",
       "  </tbody>\n",
       "</table>\n",
       "</div>"
      ],
      "text/plain": [
       "<IPython.core.display.HTML object>"
      ]
     },
     "metadata": {},
     "output_type": "display_data"
    }
   ],
   "source": [
    "displayBytes(bytes=[[XH]], numbits=4,columns=[\"[$b_7$\", \"$b_6$\", \"$b_5$\", \"$b_4$]\"])"
   ]
  },
  {
   "cell_type": "code",
   "execution_count": 28,
   "id": "7d7cdb44",
   "metadata": {
    "cell_style": "split",
    "hide_input": false,
    "jupyter": {
     "source_hidden": true
    },
    "slideshow": {
     "slide_type": "fragment"
    },
    "tags": [
     "remove-input"
    ]
   },
   "outputs": [
    {
     "data": {
      "text/html": [
       "<div style=\"overflow:scroll; display: table; margin:auto auto;\"><style type=\"text/css\">\n",
       "#T_2cd40 td {\n",
       "  border: 4px solid #cccccc;\n",
       "  font-size: 3vw;\n",
       "  text-align: center;\n",
       "  overflow-x: hidden;\n",
       "}\n",
       "#T_2cd40 th {\n",
       "  font-size: 1.5vw;\n",
       "  text-align: center;\n",
       "  font-weight: bold;\n",
       "  border: solid #cccccc;\n",
       "  color: black;\n",
       "  background-color: white;\n",
       "}\n",
       "#T_2cd40 td:hover {\n",
       "  background-color: white;\n",
       "  color: black;\n",
       "}\n",
       "#T_2cd40 tr:hover {\n",
       "  background-color: #11cccccc;\n",
       "  border: 4px solid red;\n",
       "}\n",
       "#T_2cd40 th:hover {\n",
       "  border: solid red;\n",
       "}\n",
       "#T_2cd40 thead tr:nth-child(1) th {\n",
       "  position: sticky;\n",
       "  background-color: inherit;\n",
       "  top: 0px;\n",
       "  z-index: 2;\n",
       "}\n",
       "#T_2cd40  {\n",
       "  margin-left: auto;\n",
       "  margin-right: auto;\n",
       "}\n",
       "</style>\n",
       "<table id=\"T_2cd40\">\n",
       "  <thead>\n",
       "    <tr>\n",
       "      <th id=\"T_2cd40_level0_col0\" class=\"col_heading level0 col0\" >[$b_3$</th>\n",
       "      <th id=\"T_2cd40_level0_col1\" class=\"col_heading level0 col1\" >$b_2$</th>\n",
       "      <th id=\"T_2cd40_level0_col2\" class=\"col_heading level0 col2\" >$b_1$</th>\n",
       "      <th id=\"T_2cd40_level0_col3\" class=\"col_heading level0 col3\" >$b_0$]</th>\n",
       "    </tr>\n",
       "  </thead>\n",
       "  <tbody>\n",
       "    <tr>\n",
       "      <td id=\"T_2cd40_row0_col0\" class=\"data row0 col0\" >1</td>\n",
       "      <td id=\"T_2cd40_row0_col1\" class=\"data row0 col1\" >1</td>\n",
       "      <td id=\"T_2cd40_row0_col2\" class=\"data row0 col2\" >1</td>\n",
       "      <td id=\"T_2cd40_row0_col3\" class=\"data row0 col3\" >0</td>\n",
       "    </tr>\n",
       "  </tbody>\n",
       "</table>\n",
       "</div>"
      ],
      "text/plain": [
       "<IPython.core.display.HTML object>"
      ]
     },
     "metadata": {},
     "output_type": "display_data"
    }
   ],
   "source": [
    "displayBytes(bytes=[[XL]], numbits=4,columns=[\"[$b_3$\", \"$b_2$\", \"$b_1$\", \"$b_0$]\"])"
   ]
  },
  {
   "cell_type": "code",
   "execution_count": 29,
   "id": "79e76a93",
   "metadata": {
    "cell_style": "split",
    "hide_input": false,
    "jupyter": {
     "source_hidden": true
    },
    "slideshow": {
     "slide_type": "fragment"
    },
    "tags": [
     "remove-input"
    ]
   },
   "outputs": [
    {
     "data": {
      "text/markdown": [
       "<div style=\"font-size: 4em;\" align=\"center\">\n",
       "A\n",
       "</div>"
      ],
      "text/plain": [
       "<IPython.core.display.Markdown object>"
      ]
     },
     "metadata": {},
     "output_type": "display_data"
    }
   ],
   "source": [
    "displayStr(format(XH,\"1X\"), size=\"4em\", align=\"center\")"
   ]
  },
  {
   "cell_type": "code",
   "execution_count": 30,
   "id": "d8a9d7ce",
   "metadata": {
    "cell_style": "split",
    "hide_input": false,
    "jupyter": {
     "source_hidden": true
    },
    "slideshow": {
     "slide_type": "fragment"
    },
    "tags": [
     "remove-input"
    ]
   },
   "outputs": [
    {
     "data": {
      "text/markdown": [
       "<div style=\"font-size: 4em;\" align=\"center\">\n",
       "E\n",
       "</div>"
      ],
      "text/plain": [
       "<IPython.core.display.Markdown object>"
      ]
     },
     "metadata": {},
     "output_type": "display_data"
    }
   ],
   "source": [
    "displayStr(format(XL,\"1X\"), size=\"4em\", align=\"center\")"
   ]
  },
  {
   "cell_type": "code",
   "execution_count": 31,
   "id": "0ddc6b92",
   "metadata": {
    "hide_input": false,
    "jupyter": {
     "source_hidden": true
    },
    "slideshow": {
     "slide_type": "fragment"
    },
    "tags": [
     "remove-input"
    ]
   },
   "outputs": [
    {
     "data": {
      "text/markdown": [
       "<div style=\"font-size: 4em;\" align=\"center\">\n",
       "0b10101110 = 0xAE\n",
       "</div>"
      ],
      "text/plain": [
       "<IPython.core.display.Markdown object>"
      ]
     },
     "metadata": {},
     "output_type": "display_data"
    }
   ],
   "source": [
    "displayStr(\"0b10101110 = 0x\"+format(X,\"02X\"), size=\"4em\", align=\"center\")"
   ]
  },
  {
   "cell_type": "markdown",
   "id": "b8d36feb",
   "metadata": {
    "cell_style": "center",
    "slideshow": {
     "slide_type": "notes"
    }
   },
   "source": [
    "In base 16 (hexadecimal) each digit has 16 possible values.  The following table shows how we map all 16 possible patterns of 4 bits to a single hex digit.  This allows us to easily express any byte value as two hex digits.  We simply rewrite the two groups of 4 bits of a byte as two hex digits.\n",
    "Use chalkboard to illustrate \n",
    "- `bin2Hex(0b00010000)` : 0b00010000 $\\rightarrow$ 0x10\n",
    "- `bin2Hex(0b10000001)` : 0b10000001 $\\rightarrow$ 0x81\n",
    "- `bin2Hex(0b10111001)` : 0b10111001 $\\rightarrow$ 0xb9\n",
    "- `bin2Hex(0b10101010)` : 0b10101010 $\\rightarrow$ 0xaa\n",
    "- `bin2Hex(0b01010101)` : 0b01010101 $\\rightarrow$ 0x55\n",
    "- `bin2Hex(0b11110111)` : 0b11110111 $\\rightarrow$ 0xf7"
   ]
  },
  {
   "cell_type": "markdown",
   "id": "317c4c84",
   "metadata": {
    "cell_style": "split",
    "slideshow": {
     "slide_type": "-"
    },
    "tags": []
   },
   "source": [
    "<font size=\"5vw\">\n",
    "    \n",
    "- 0b00010000 $\\rightarrow$ 0x ?\n",
    "- 0b10000001 $\\rightarrow$ 0x ?\n",
    "- 0b10111001 $\\rightarrow$  0x ?\n",
    "- 0b10101010 $\\rightarrow$ 0x ? \n",
    "- 0b01010101 $\\rightarrow$ 0x ?\n",
    "- 0b11110111 $\\rightarrow$ 0x ?\n",
    "    \n",
    "</font>"
   ]
  },
  {
   "cell_type": "markdown",
   "id": "2fdc3f4c-c2c0-4fbf-bdec-d9c7ac1f5c5d",
   "metadata": {
    "slideshow": {
     "slide_type": "skip"
    },
    "tags": []
   },
   "source": [
    "<hr>"
   ]
  },
  {
   "cell_type": "code",
   "execution_count": 32,
   "id": "84505c13",
   "metadata": {
    "cell_style": "split",
    "hide_input": false,
    "jupyter": {
     "source_hidden": true
    },
    "scrolled": true,
    "slideshow": {
     "slide_type": "slide"
    },
    "tags": [
     "output_scroll",
     "remove-input"
    ]
   },
   "outputs": [
    {
     "data": {
      "text/html": [
       "<div style=\"overflow:scroll; display: table; margin:auto auto;\"><style type=\"text/css\">\n",
       "#T_7a069 td {\n",
       "  border: 4px solid #cccccc;\n",
       "  font-size: 3vw;\n",
       "  text-align: center;\n",
       "  overflow-x: hidden;\n",
       "}\n",
       "#T_7a069 th {\n",
       "  font-size: 1.5vw;\n",
       "  text-align: center;\n",
       "  font-weight: bold;\n",
       "  border: solid #cccccc;\n",
       "  color: black;\n",
       "  background-color: white;\n",
       "}\n",
       "#T_7a069 td:hover {\n",
       "  background-color: white;\n",
       "  color: black;\n",
       "}\n",
       "#T_7a069 tr:hover {\n",
       "  background-color: #11cccccc;\n",
       "  border: 4px solid red;\n",
       "}\n",
       "#T_7a069 th:hover {\n",
       "  border: solid red;\n",
       "}\n",
       "#T_7a069 thead tr:nth-child(1) th {\n",
       "  position: sticky;\n",
       "  background-color: inherit;\n",
       "  top: 0px;\n",
       "  z-index: 2;\n",
       "}\n",
       "#T_7a069  {\n",
       "  margin-left: auto;\n",
       "  margin-right: auto;\n",
       "}\n",
       "</style>\n",
       "<table id=\"T_7a069\">\n",
       "  <thead>\n",
       "    <tr>\n",
       "      <th class=\"index_name level0\" >HEX (DEC)</th>\n",
       "      <th id=\"T_7a069_level0_col0\" class=\"col_heading level0 col0\" >[<em>b<sub>7</sub></em></th>\n",
       "      <th id=\"T_7a069_level0_col1\" class=\"col_heading level0 col1\" ><em>b<sub>6</sub></em></th>\n",
       "      <th id=\"T_7a069_level0_col2\" class=\"col_heading level0 col2\" ><em>b<sub>5</sub></em></th>\n",
       "      <th id=\"T_7a069_level0_col3\" class=\"col_heading level0 col3\" ><em>b<sub>4</sub></em></th>\n",
       "      <th id=\"T_7a069_level0_col4\" class=\"col_heading level0 col4\" ><em>b<sub>3</sub></em></th>\n",
       "      <th id=\"T_7a069_level0_col5\" class=\"col_heading level0 col5\" ><em>b<sub>2</sub></em></th>\n",
       "      <th id=\"T_7a069_level0_col6\" class=\"col_heading level0 col6\" ><em>b<sub>1</sub></em></th>\n",
       "      <th id=\"T_7a069_level0_col7\" class=\"col_heading level0 col7\" ><em>b<sub>0</sub></em>]</th>\n",
       "    </tr>\n",
       "  </thead>\n",
       "  <tbody>\n",
       "    <tr>\n",
       "      <th id=\"T_7a069_level0_row0\" class=\"row_heading level0 row0\" >0x00 (000)</th>\n",
       "      <td id=\"T_7a069_row0_col0\" class=\"data row0 col0\" >0</td>\n",
       "      <td id=\"T_7a069_row0_col1\" class=\"data row0 col1\" >0</td>\n",
       "      <td id=\"T_7a069_row0_col2\" class=\"data row0 col2\" >0</td>\n",
       "      <td id=\"T_7a069_row0_col3\" class=\"data row0 col3\" >0</td>\n",
       "      <td id=\"T_7a069_row0_col4\" class=\"data row0 col4\" >0</td>\n",
       "      <td id=\"T_7a069_row0_col5\" class=\"data row0 col5\" >0</td>\n",
       "      <td id=\"T_7a069_row0_col6\" class=\"data row0 col6\" >0</td>\n",
       "      <td id=\"T_7a069_row0_col7\" class=\"data row0 col7\" >0</td>\n",
       "    </tr>\n",
       "    <tr>\n",
       "      <th id=\"T_7a069_level0_row1\" class=\"row_heading level0 row1\" >0x01 (001)</th>\n",
       "      <td id=\"T_7a069_row1_col0\" class=\"data row1 col0\" >0</td>\n",
       "      <td id=\"T_7a069_row1_col1\" class=\"data row1 col1\" >0</td>\n",
       "      <td id=\"T_7a069_row1_col2\" class=\"data row1 col2\" >0</td>\n",
       "      <td id=\"T_7a069_row1_col3\" class=\"data row1 col3\" >0</td>\n",
       "      <td id=\"T_7a069_row1_col4\" class=\"data row1 col4\" >0</td>\n",
       "      <td id=\"T_7a069_row1_col5\" class=\"data row1 col5\" >0</td>\n",
       "      <td id=\"T_7a069_row1_col6\" class=\"data row1 col6\" >0</td>\n",
       "      <td id=\"T_7a069_row1_col7\" class=\"data row1 col7\" >1</td>\n",
       "    </tr>\n",
       "    <tr>\n",
       "      <th id=\"T_7a069_level0_row2\" class=\"row_heading level0 row2\" >0x02 (002)</th>\n",
       "      <td id=\"T_7a069_row2_col0\" class=\"data row2 col0\" >0</td>\n",
       "      <td id=\"T_7a069_row2_col1\" class=\"data row2 col1\" >0</td>\n",
       "      <td id=\"T_7a069_row2_col2\" class=\"data row2 col2\" >0</td>\n",
       "      <td id=\"T_7a069_row2_col3\" class=\"data row2 col3\" >0</td>\n",
       "      <td id=\"T_7a069_row2_col4\" class=\"data row2 col4\" >0</td>\n",
       "      <td id=\"T_7a069_row2_col5\" class=\"data row2 col5\" >0</td>\n",
       "      <td id=\"T_7a069_row2_col6\" class=\"data row2 col6\" >1</td>\n",
       "      <td id=\"T_7a069_row2_col7\" class=\"data row2 col7\" >0</td>\n",
       "    </tr>\n",
       "    <tr>\n",
       "      <th id=\"T_7a069_level0_row3\" class=\"row_heading level0 row3\" >0x03 (003)</th>\n",
       "      <td id=\"T_7a069_row3_col0\" class=\"data row3 col0\" >0</td>\n",
       "      <td id=\"T_7a069_row3_col1\" class=\"data row3 col1\" >0</td>\n",
       "      <td id=\"T_7a069_row3_col2\" class=\"data row3 col2\" >0</td>\n",
       "      <td id=\"T_7a069_row3_col3\" class=\"data row3 col3\" >0</td>\n",
       "      <td id=\"T_7a069_row3_col4\" class=\"data row3 col4\" >0</td>\n",
       "      <td id=\"T_7a069_row3_col5\" class=\"data row3 col5\" >0</td>\n",
       "      <td id=\"T_7a069_row3_col6\" class=\"data row3 col6\" >1</td>\n",
       "      <td id=\"T_7a069_row3_col7\" class=\"data row3 col7\" >1</td>\n",
       "    </tr>\n",
       "    <tr>\n",
       "      <th id=\"T_7a069_level0_row4\" class=\"row_heading level0 row4\" >0x04 (004)</th>\n",
       "      <td id=\"T_7a069_row4_col0\" class=\"data row4 col0\" >0</td>\n",
       "      <td id=\"T_7a069_row4_col1\" class=\"data row4 col1\" >0</td>\n",
       "      <td id=\"T_7a069_row4_col2\" class=\"data row4 col2\" >0</td>\n",
       "      <td id=\"T_7a069_row4_col3\" class=\"data row4 col3\" >0</td>\n",
       "      <td id=\"T_7a069_row4_col4\" class=\"data row4 col4\" >0</td>\n",
       "      <td id=\"T_7a069_row4_col5\" class=\"data row4 col5\" >1</td>\n",
       "      <td id=\"T_7a069_row4_col6\" class=\"data row4 col6\" >0</td>\n",
       "      <td id=\"T_7a069_row4_col7\" class=\"data row4 col7\" >0</td>\n",
       "    </tr>\n",
       "    <tr>\n",
       "      <th id=\"T_7a069_level0_row5\" class=\"row_heading level0 row5\" >0x05 (005)</th>\n",
       "      <td id=\"T_7a069_row5_col0\" class=\"data row5 col0\" >0</td>\n",
       "      <td id=\"T_7a069_row5_col1\" class=\"data row5 col1\" >0</td>\n",
       "      <td id=\"T_7a069_row5_col2\" class=\"data row5 col2\" >0</td>\n",
       "      <td id=\"T_7a069_row5_col3\" class=\"data row5 col3\" >0</td>\n",
       "      <td id=\"T_7a069_row5_col4\" class=\"data row5 col4\" >0</td>\n",
       "      <td id=\"T_7a069_row5_col5\" class=\"data row5 col5\" >1</td>\n",
       "      <td id=\"T_7a069_row5_col6\" class=\"data row5 col6\" >0</td>\n",
       "      <td id=\"T_7a069_row5_col7\" class=\"data row5 col7\" >1</td>\n",
       "    </tr>\n",
       "    <tr>\n",
       "      <th id=\"T_7a069_level0_row6\" class=\"row_heading level0 row6\" >0x06 (006)</th>\n",
       "      <td id=\"T_7a069_row6_col0\" class=\"data row6 col0\" >0</td>\n",
       "      <td id=\"T_7a069_row6_col1\" class=\"data row6 col1\" >0</td>\n",
       "      <td id=\"T_7a069_row6_col2\" class=\"data row6 col2\" >0</td>\n",
       "      <td id=\"T_7a069_row6_col3\" class=\"data row6 col3\" >0</td>\n",
       "      <td id=\"T_7a069_row6_col4\" class=\"data row6 col4\" >0</td>\n",
       "      <td id=\"T_7a069_row6_col5\" class=\"data row6 col5\" >1</td>\n",
       "      <td id=\"T_7a069_row6_col6\" class=\"data row6 col6\" >1</td>\n",
       "      <td id=\"T_7a069_row6_col7\" class=\"data row6 col7\" >0</td>\n",
       "    </tr>\n",
       "    <tr>\n",
       "      <th id=\"T_7a069_level0_row7\" class=\"row_heading level0 row7\" >0x07 (007)</th>\n",
       "      <td id=\"T_7a069_row7_col0\" class=\"data row7 col0\" >0</td>\n",
       "      <td id=\"T_7a069_row7_col1\" class=\"data row7 col1\" >0</td>\n",
       "      <td id=\"T_7a069_row7_col2\" class=\"data row7 col2\" >0</td>\n",
       "      <td id=\"T_7a069_row7_col3\" class=\"data row7 col3\" >0</td>\n",
       "      <td id=\"T_7a069_row7_col4\" class=\"data row7 col4\" >0</td>\n",
       "      <td id=\"T_7a069_row7_col5\" class=\"data row7 col5\" >1</td>\n",
       "      <td id=\"T_7a069_row7_col6\" class=\"data row7 col6\" >1</td>\n",
       "      <td id=\"T_7a069_row7_col7\" class=\"data row7 col7\" >1</td>\n",
       "    </tr>\n",
       "    <tr>\n",
       "      <th id=\"T_7a069_level0_row8\" class=\"row_heading level0 row8\" >0x08 (008)</th>\n",
       "      <td id=\"T_7a069_row8_col0\" class=\"data row8 col0\" >0</td>\n",
       "      <td id=\"T_7a069_row8_col1\" class=\"data row8 col1\" >0</td>\n",
       "      <td id=\"T_7a069_row8_col2\" class=\"data row8 col2\" >0</td>\n",
       "      <td id=\"T_7a069_row8_col3\" class=\"data row8 col3\" >0</td>\n",
       "      <td id=\"T_7a069_row8_col4\" class=\"data row8 col4\" >1</td>\n",
       "      <td id=\"T_7a069_row8_col5\" class=\"data row8 col5\" >0</td>\n",
       "      <td id=\"T_7a069_row8_col6\" class=\"data row8 col6\" >0</td>\n",
       "      <td id=\"T_7a069_row8_col7\" class=\"data row8 col7\" >0</td>\n",
       "    </tr>\n",
       "    <tr>\n",
       "      <th id=\"T_7a069_level0_row9\" class=\"row_heading level0 row9\" >0x09 (009)</th>\n",
       "      <td id=\"T_7a069_row9_col0\" class=\"data row9 col0\" >0</td>\n",
       "      <td id=\"T_7a069_row9_col1\" class=\"data row9 col1\" >0</td>\n",
       "      <td id=\"T_7a069_row9_col2\" class=\"data row9 col2\" >0</td>\n",
       "      <td id=\"T_7a069_row9_col3\" class=\"data row9 col3\" >0</td>\n",
       "      <td id=\"T_7a069_row9_col4\" class=\"data row9 col4\" >1</td>\n",
       "      <td id=\"T_7a069_row9_col5\" class=\"data row9 col5\" >0</td>\n",
       "      <td id=\"T_7a069_row9_col6\" class=\"data row9 col6\" >0</td>\n",
       "      <td id=\"T_7a069_row9_col7\" class=\"data row9 col7\" >1</td>\n",
       "    </tr>\n",
       "    <tr>\n",
       "      <th id=\"T_7a069_level0_row10\" class=\"row_heading level0 row10\" >0x0a (010)</th>\n",
       "      <td id=\"T_7a069_row10_col0\" class=\"data row10 col0\" >0</td>\n",
       "      <td id=\"T_7a069_row10_col1\" class=\"data row10 col1\" >0</td>\n",
       "      <td id=\"T_7a069_row10_col2\" class=\"data row10 col2\" >0</td>\n",
       "      <td id=\"T_7a069_row10_col3\" class=\"data row10 col3\" >0</td>\n",
       "      <td id=\"T_7a069_row10_col4\" class=\"data row10 col4\" >1</td>\n",
       "      <td id=\"T_7a069_row10_col5\" class=\"data row10 col5\" >0</td>\n",
       "      <td id=\"T_7a069_row10_col6\" class=\"data row10 col6\" >1</td>\n",
       "      <td id=\"T_7a069_row10_col7\" class=\"data row10 col7\" >0</td>\n",
       "    </tr>\n",
       "    <tr>\n",
       "      <th id=\"T_7a069_level0_row11\" class=\"row_heading level0 row11\" >0x0b (011)</th>\n",
       "      <td id=\"T_7a069_row11_col0\" class=\"data row11 col0\" >0</td>\n",
       "      <td id=\"T_7a069_row11_col1\" class=\"data row11 col1\" >0</td>\n",
       "      <td id=\"T_7a069_row11_col2\" class=\"data row11 col2\" >0</td>\n",
       "      <td id=\"T_7a069_row11_col3\" class=\"data row11 col3\" >0</td>\n",
       "      <td id=\"T_7a069_row11_col4\" class=\"data row11 col4\" >1</td>\n",
       "      <td id=\"T_7a069_row11_col5\" class=\"data row11 col5\" >0</td>\n",
       "      <td id=\"T_7a069_row11_col6\" class=\"data row11 col6\" >1</td>\n",
       "      <td id=\"T_7a069_row11_col7\" class=\"data row11 col7\" >1</td>\n",
       "    </tr>\n",
       "    <tr>\n",
       "      <th id=\"T_7a069_level0_row12\" class=\"row_heading level0 row12\" >0x0c (012)</th>\n",
       "      <td id=\"T_7a069_row12_col0\" class=\"data row12 col0\" >0</td>\n",
       "      <td id=\"T_7a069_row12_col1\" class=\"data row12 col1\" >0</td>\n",
       "      <td id=\"T_7a069_row12_col2\" class=\"data row12 col2\" >0</td>\n",
       "      <td id=\"T_7a069_row12_col3\" class=\"data row12 col3\" >0</td>\n",
       "      <td id=\"T_7a069_row12_col4\" class=\"data row12 col4\" >1</td>\n",
       "      <td id=\"T_7a069_row12_col5\" class=\"data row12 col5\" >1</td>\n",
       "      <td id=\"T_7a069_row12_col6\" class=\"data row12 col6\" >0</td>\n",
       "      <td id=\"T_7a069_row12_col7\" class=\"data row12 col7\" >0</td>\n",
       "    </tr>\n",
       "    <tr>\n",
       "      <th id=\"T_7a069_level0_row13\" class=\"row_heading level0 row13\" >0x0d (013)</th>\n",
       "      <td id=\"T_7a069_row13_col0\" class=\"data row13 col0\" >0</td>\n",
       "      <td id=\"T_7a069_row13_col1\" class=\"data row13 col1\" >0</td>\n",
       "      <td id=\"T_7a069_row13_col2\" class=\"data row13 col2\" >0</td>\n",
       "      <td id=\"T_7a069_row13_col3\" class=\"data row13 col3\" >0</td>\n",
       "      <td id=\"T_7a069_row13_col4\" class=\"data row13 col4\" >1</td>\n",
       "      <td id=\"T_7a069_row13_col5\" class=\"data row13 col5\" >1</td>\n",
       "      <td id=\"T_7a069_row13_col6\" class=\"data row13 col6\" >0</td>\n",
       "      <td id=\"T_7a069_row13_col7\" class=\"data row13 col7\" >1</td>\n",
       "    </tr>\n",
       "    <tr>\n",
       "      <th id=\"T_7a069_level0_row14\" class=\"row_heading level0 row14\" >0x0e (014)</th>\n",
       "      <td id=\"T_7a069_row14_col0\" class=\"data row14 col0\" >0</td>\n",
       "      <td id=\"T_7a069_row14_col1\" class=\"data row14 col1\" >0</td>\n",
       "      <td id=\"T_7a069_row14_col2\" class=\"data row14 col2\" >0</td>\n",
       "      <td id=\"T_7a069_row14_col3\" class=\"data row14 col3\" >0</td>\n",
       "      <td id=\"T_7a069_row14_col4\" class=\"data row14 col4\" >1</td>\n",
       "      <td id=\"T_7a069_row14_col5\" class=\"data row14 col5\" >1</td>\n",
       "      <td id=\"T_7a069_row14_col6\" class=\"data row14 col6\" >1</td>\n",
       "      <td id=\"T_7a069_row14_col7\" class=\"data row14 col7\" >0</td>\n",
       "    </tr>\n",
       "    <tr>\n",
       "      <th id=\"T_7a069_level0_row15\" class=\"row_heading level0 row15\" >0x0f (015)</th>\n",
       "      <td id=\"T_7a069_row15_col0\" class=\"data row15 col0\" >0</td>\n",
       "      <td id=\"T_7a069_row15_col1\" class=\"data row15 col1\" >0</td>\n",
       "      <td id=\"T_7a069_row15_col2\" class=\"data row15 col2\" >0</td>\n",
       "      <td id=\"T_7a069_row15_col3\" class=\"data row15 col3\" >0</td>\n",
       "      <td id=\"T_7a069_row15_col4\" class=\"data row15 col4\" >1</td>\n",
       "      <td id=\"T_7a069_row15_col5\" class=\"data row15 col5\" >1</td>\n",
       "      <td id=\"T_7a069_row15_col6\" class=\"data row15 col6\" >1</td>\n",
       "      <td id=\"T_7a069_row15_col7\" class=\"data row15 col7\" >1</td>\n",
       "    </tr>\n",
       "    <tr>\n",
       "      <th id=\"T_7a069_level0_row16\" class=\"row_heading level0 row16\" >0x10 (016)</th>\n",
       "      <td id=\"T_7a069_row16_col0\" class=\"data row16 col0\" >0</td>\n",
       "      <td id=\"T_7a069_row16_col1\" class=\"data row16 col1\" >0</td>\n",
       "      <td id=\"T_7a069_row16_col2\" class=\"data row16 col2\" >0</td>\n",
       "      <td id=\"T_7a069_row16_col3\" class=\"data row16 col3\" >1</td>\n",
       "      <td id=\"T_7a069_row16_col4\" class=\"data row16 col4\" >0</td>\n",
       "      <td id=\"T_7a069_row16_col5\" class=\"data row16 col5\" >0</td>\n",
       "      <td id=\"T_7a069_row16_col6\" class=\"data row16 col6\" >0</td>\n",
       "      <td id=\"T_7a069_row16_col7\" class=\"data row16 col7\" >0</td>\n",
       "    </tr>\n",
       "    <tr>\n",
       "      <th id=\"T_7a069_level0_row17\" class=\"row_heading level0 row17\" >0x11 (017)</th>\n",
       "      <td id=\"T_7a069_row17_col0\" class=\"data row17 col0\" >0</td>\n",
       "      <td id=\"T_7a069_row17_col1\" class=\"data row17 col1\" >0</td>\n",
       "      <td id=\"T_7a069_row17_col2\" class=\"data row17 col2\" >0</td>\n",
       "      <td id=\"T_7a069_row17_col3\" class=\"data row17 col3\" >1</td>\n",
       "      <td id=\"T_7a069_row17_col4\" class=\"data row17 col4\" >0</td>\n",
       "      <td id=\"T_7a069_row17_col5\" class=\"data row17 col5\" >0</td>\n",
       "      <td id=\"T_7a069_row17_col6\" class=\"data row17 col6\" >0</td>\n",
       "      <td id=\"T_7a069_row17_col7\" class=\"data row17 col7\" >1</td>\n",
       "    </tr>\n",
       "    <tr>\n",
       "      <th id=\"T_7a069_level0_row18\" class=\"row_heading level0 row18\" >0x12 (018)</th>\n",
       "      <td id=\"T_7a069_row18_col0\" class=\"data row18 col0\" >0</td>\n",
       "      <td id=\"T_7a069_row18_col1\" class=\"data row18 col1\" >0</td>\n",
       "      <td id=\"T_7a069_row18_col2\" class=\"data row18 col2\" >0</td>\n",
       "      <td id=\"T_7a069_row18_col3\" class=\"data row18 col3\" >1</td>\n",
       "      <td id=\"T_7a069_row18_col4\" class=\"data row18 col4\" >0</td>\n",
       "      <td id=\"T_7a069_row18_col5\" class=\"data row18 col5\" >0</td>\n",
       "      <td id=\"T_7a069_row18_col6\" class=\"data row18 col6\" >1</td>\n",
       "      <td id=\"T_7a069_row18_col7\" class=\"data row18 col7\" >0</td>\n",
       "    </tr>\n",
       "    <tr>\n",
       "      <th id=\"T_7a069_level0_row19\" class=\"row_heading level0 row19\" >0x13 (019)</th>\n",
       "      <td id=\"T_7a069_row19_col0\" class=\"data row19 col0\" >0</td>\n",
       "      <td id=\"T_7a069_row19_col1\" class=\"data row19 col1\" >0</td>\n",
       "      <td id=\"T_7a069_row19_col2\" class=\"data row19 col2\" >0</td>\n",
       "      <td id=\"T_7a069_row19_col3\" class=\"data row19 col3\" >1</td>\n",
       "      <td id=\"T_7a069_row19_col4\" class=\"data row19 col4\" >0</td>\n",
       "      <td id=\"T_7a069_row19_col5\" class=\"data row19 col5\" >0</td>\n",
       "      <td id=\"T_7a069_row19_col6\" class=\"data row19 col6\" >1</td>\n",
       "      <td id=\"T_7a069_row19_col7\" class=\"data row19 col7\" >1</td>\n",
       "    </tr>\n",
       "    <tr>\n",
       "      <th id=\"T_7a069_level0_row20\" class=\"row_heading level0 row20\" >0x14 (020)</th>\n",
       "      <td id=\"T_7a069_row20_col0\" class=\"data row20 col0\" >0</td>\n",
       "      <td id=\"T_7a069_row20_col1\" class=\"data row20 col1\" >0</td>\n",
       "      <td id=\"T_7a069_row20_col2\" class=\"data row20 col2\" >0</td>\n",
       "      <td id=\"T_7a069_row20_col3\" class=\"data row20 col3\" >1</td>\n",
       "      <td id=\"T_7a069_row20_col4\" class=\"data row20 col4\" >0</td>\n",
       "      <td id=\"T_7a069_row20_col5\" class=\"data row20 col5\" >1</td>\n",
       "      <td id=\"T_7a069_row20_col6\" class=\"data row20 col6\" >0</td>\n",
       "      <td id=\"T_7a069_row20_col7\" class=\"data row20 col7\" >0</td>\n",
       "    </tr>\n",
       "    <tr>\n",
       "      <th id=\"T_7a069_level0_row21\" class=\"row_heading level0 row21\" >0x15 (021)</th>\n",
       "      <td id=\"T_7a069_row21_col0\" class=\"data row21 col0\" >0</td>\n",
       "      <td id=\"T_7a069_row21_col1\" class=\"data row21 col1\" >0</td>\n",
       "      <td id=\"T_7a069_row21_col2\" class=\"data row21 col2\" >0</td>\n",
       "      <td id=\"T_7a069_row21_col3\" class=\"data row21 col3\" >1</td>\n",
       "      <td id=\"T_7a069_row21_col4\" class=\"data row21 col4\" >0</td>\n",
       "      <td id=\"T_7a069_row21_col5\" class=\"data row21 col5\" >1</td>\n",
       "      <td id=\"T_7a069_row21_col6\" class=\"data row21 col6\" >0</td>\n",
       "      <td id=\"T_7a069_row21_col7\" class=\"data row21 col7\" >1</td>\n",
       "    </tr>\n",
       "    <tr>\n",
       "      <th id=\"T_7a069_level0_row22\" class=\"row_heading level0 row22\" >0x16 (022)</th>\n",
       "      <td id=\"T_7a069_row22_col0\" class=\"data row22 col0\" >0</td>\n",
       "      <td id=\"T_7a069_row22_col1\" class=\"data row22 col1\" >0</td>\n",
       "      <td id=\"T_7a069_row22_col2\" class=\"data row22 col2\" >0</td>\n",
       "      <td id=\"T_7a069_row22_col3\" class=\"data row22 col3\" >1</td>\n",
       "      <td id=\"T_7a069_row22_col4\" class=\"data row22 col4\" >0</td>\n",
       "      <td id=\"T_7a069_row22_col5\" class=\"data row22 col5\" >1</td>\n",
       "      <td id=\"T_7a069_row22_col6\" class=\"data row22 col6\" >1</td>\n",
       "      <td id=\"T_7a069_row22_col7\" class=\"data row22 col7\" >0</td>\n",
       "    </tr>\n",
       "    <tr>\n",
       "      <th id=\"T_7a069_level0_row23\" class=\"row_heading level0 row23\" >0x17 (023)</th>\n",
       "      <td id=\"T_7a069_row23_col0\" class=\"data row23 col0\" >0</td>\n",
       "      <td id=\"T_7a069_row23_col1\" class=\"data row23 col1\" >0</td>\n",
       "      <td id=\"T_7a069_row23_col2\" class=\"data row23 col2\" >0</td>\n",
       "      <td id=\"T_7a069_row23_col3\" class=\"data row23 col3\" >1</td>\n",
       "      <td id=\"T_7a069_row23_col4\" class=\"data row23 col4\" >0</td>\n",
       "      <td id=\"T_7a069_row23_col5\" class=\"data row23 col5\" >1</td>\n",
       "      <td id=\"T_7a069_row23_col6\" class=\"data row23 col6\" >1</td>\n",
       "      <td id=\"T_7a069_row23_col7\" class=\"data row23 col7\" >1</td>\n",
       "    </tr>\n",
       "    <tr>\n",
       "      <th id=\"T_7a069_level0_row24\" class=\"row_heading level0 row24\" >0x18 (024)</th>\n",
       "      <td id=\"T_7a069_row24_col0\" class=\"data row24 col0\" >0</td>\n",
       "      <td id=\"T_7a069_row24_col1\" class=\"data row24 col1\" >0</td>\n",
       "      <td id=\"T_7a069_row24_col2\" class=\"data row24 col2\" >0</td>\n",
       "      <td id=\"T_7a069_row24_col3\" class=\"data row24 col3\" >1</td>\n",
       "      <td id=\"T_7a069_row24_col4\" class=\"data row24 col4\" >1</td>\n",
       "      <td id=\"T_7a069_row24_col5\" class=\"data row24 col5\" >0</td>\n",
       "      <td id=\"T_7a069_row24_col6\" class=\"data row24 col6\" >0</td>\n",
       "      <td id=\"T_7a069_row24_col7\" class=\"data row24 col7\" >0</td>\n",
       "    </tr>\n",
       "    <tr>\n",
       "      <th id=\"T_7a069_level0_row25\" class=\"row_heading level0 row25\" >0x19 (025)</th>\n",
       "      <td id=\"T_7a069_row25_col0\" class=\"data row25 col0\" >0</td>\n",
       "      <td id=\"T_7a069_row25_col1\" class=\"data row25 col1\" >0</td>\n",
       "      <td id=\"T_7a069_row25_col2\" class=\"data row25 col2\" >0</td>\n",
       "      <td id=\"T_7a069_row25_col3\" class=\"data row25 col3\" >1</td>\n",
       "      <td id=\"T_7a069_row25_col4\" class=\"data row25 col4\" >1</td>\n",
       "      <td id=\"T_7a069_row25_col5\" class=\"data row25 col5\" >0</td>\n",
       "      <td id=\"T_7a069_row25_col6\" class=\"data row25 col6\" >0</td>\n",
       "      <td id=\"T_7a069_row25_col7\" class=\"data row25 col7\" >1</td>\n",
       "    </tr>\n",
       "    <tr>\n",
       "      <th id=\"T_7a069_level0_row26\" class=\"row_heading level0 row26\" >0x1a (026)</th>\n",
       "      <td id=\"T_7a069_row26_col0\" class=\"data row26 col0\" >0</td>\n",
       "      <td id=\"T_7a069_row26_col1\" class=\"data row26 col1\" >0</td>\n",
       "      <td id=\"T_7a069_row26_col2\" class=\"data row26 col2\" >0</td>\n",
       "      <td id=\"T_7a069_row26_col3\" class=\"data row26 col3\" >1</td>\n",
       "      <td id=\"T_7a069_row26_col4\" class=\"data row26 col4\" >1</td>\n",
       "      <td id=\"T_7a069_row26_col5\" class=\"data row26 col5\" >0</td>\n",
       "      <td id=\"T_7a069_row26_col6\" class=\"data row26 col6\" >1</td>\n",
       "      <td id=\"T_7a069_row26_col7\" class=\"data row26 col7\" >0</td>\n",
       "    </tr>\n",
       "    <tr>\n",
       "      <th id=\"T_7a069_level0_row27\" class=\"row_heading level0 row27\" >0x1b (027)</th>\n",
       "      <td id=\"T_7a069_row27_col0\" class=\"data row27 col0\" >0</td>\n",
       "      <td id=\"T_7a069_row27_col1\" class=\"data row27 col1\" >0</td>\n",
       "      <td id=\"T_7a069_row27_col2\" class=\"data row27 col2\" >0</td>\n",
       "      <td id=\"T_7a069_row27_col3\" class=\"data row27 col3\" >1</td>\n",
       "      <td id=\"T_7a069_row27_col4\" class=\"data row27 col4\" >1</td>\n",
       "      <td id=\"T_7a069_row27_col5\" class=\"data row27 col5\" >0</td>\n",
       "      <td id=\"T_7a069_row27_col6\" class=\"data row27 col6\" >1</td>\n",
       "      <td id=\"T_7a069_row27_col7\" class=\"data row27 col7\" >1</td>\n",
       "    </tr>\n",
       "    <tr>\n",
       "      <th id=\"T_7a069_level0_row28\" class=\"row_heading level0 row28\" >0x1c (028)</th>\n",
       "      <td id=\"T_7a069_row28_col0\" class=\"data row28 col0\" >0</td>\n",
       "      <td id=\"T_7a069_row28_col1\" class=\"data row28 col1\" >0</td>\n",
       "      <td id=\"T_7a069_row28_col2\" class=\"data row28 col2\" >0</td>\n",
       "      <td id=\"T_7a069_row28_col3\" class=\"data row28 col3\" >1</td>\n",
       "      <td id=\"T_7a069_row28_col4\" class=\"data row28 col4\" >1</td>\n",
       "      <td id=\"T_7a069_row28_col5\" class=\"data row28 col5\" >1</td>\n",
       "      <td id=\"T_7a069_row28_col6\" class=\"data row28 col6\" >0</td>\n",
       "      <td id=\"T_7a069_row28_col7\" class=\"data row28 col7\" >0</td>\n",
       "    </tr>\n",
       "    <tr>\n",
       "      <th id=\"T_7a069_level0_row29\" class=\"row_heading level0 row29\" >0x1d (029)</th>\n",
       "      <td id=\"T_7a069_row29_col0\" class=\"data row29 col0\" >0</td>\n",
       "      <td id=\"T_7a069_row29_col1\" class=\"data row29 col1\" >0</td>\n",
       "      <td id=\"T_7a069_row29_col2\" class=\"data row29 col2\" >0</td>\n",
       "      <td id=\"T_7a069_row29_col3\" class=\"data row29 col3\" >1</td>\n",
       "      <td id=\"T_7a069_row29_col4\" class=\"data row29 col4\" >1</td>\n",
       "      <td id=\"T_7a069_row29_col5\" class=\"data row29 col5\" >1</td>\n",
       "      <td id=\"T_7a069_row29_col6\" class=\"data row29 col6\" >0</td>\n",
       "      <td id=\"T_7a069_row29_col7\" class=\"data row29 col7\" >1</td>\n",
       "    </tr>\n",
       "    <tr>\n",
       "      <th id=\"T_7a069_level0_row30\" class=\"row_heading level0 row30\" >0x1e (030)</th>\n",
       "      <td id=\"T_7a069_row30_col0\" class=\"data row30 col0\" >0</td>\n",
       "      <td id=\"T_7a069_row30_col1\" class=\"data row30 col1\" >0</td>\n",
       "      <td id=\"T_7a069_row30_col2\" class=\"data row30 col2\" >0</td>\n",
       "      <td id=\"T_7a069_row30_col3\" class=\"data row30 col3\" >1</td>\n",
       "      <td id=\"T_7a069_row30_col4\" class=\"data row30 col4\" >1</td>\n",
       "      <td id=\"T_7a069_row30_col5\" class=\"data row30 col5\" >1</td>\n",
       "      <td id=\"T_7a069_row30_col6\" class=\"data row30 col6\" >1</td>\n",
       "      <td id=\"T_7a069_row30_col7\" class=\"data row30 col7\" >0</td>\n",
       "    </tr>\n",
       "    <tr>\n",
       "      <th id=\"T_7a069_level0_row31\" class=\"row_heading level0 row31\" >0x1f (031)</th>\n",
       "      <td id=\"T_7a069_row31_col0\" class=\"data row31 col0\" >0</td>\n",
       "      <td id=\"T_7a069_row31_col1\" class=\"data row31 col1\" >0</td>\n",
       "      <td id=\"T_7a069_row31_col2\" class=\"data row31 col2\" >0</td>\n",
       "      <td id=\"T_7a069_row31_col3\" class=\"data row31 col3\" >1</td>\n",
       "      <td id=\"T_7a069_row31_col4\" class=\"data row31 col4\" >1</td>\n",
       "      <td id=\"T_7a069_row31_col5\" class=\"data row31 col5\" >1</td>\n",
       "      <td id=\"T_7a069_row31_col6\" class=\"data row31 col6\" >1</td>\n",
       "      <td id=\"T_7a069_row31_col7\" class=\"data row31 col7\" >1</td>\n",
       "    </tr>\n",
       "    <tr>\n",
       "      <th id=\"T_7a069_level0_row32\" class=\"row_heading level0 row32\" >0x20 (032)</th>\n",
       "      <td id=\"T_7a069_row32_col0\" class=\"data row32 col0\" >0</td>\n",
       "      <td id=\"T_7a069_row32_col1\" class=\"data row32 col1\" >0</td>\n",
       "      <td id=\"T_7a069_row32_col2\" class=\"data row32 col2\" >1</td>\n",
       "      <td id=\"T_7a069_row32_col3\" class=\"data row32 col3\" >0</td>\n",
       "      <td id=\"T_7a069_row32_col4\" class=\"data row32 col4\" >0</td>\n",
       "      <td id=\"T_7a069_row32_col5\" class=\"data row32 col5\" >0</td>\n",
       "      <td id=\"T_7a069_row32_col6\" class=\"data row32 col6\" >0</td>\n",
       "      <td id=\"T_7a069_row32_col7\" class=\"data row32 col7\" >0</td>\n",
       "    </tr>\n",
       "    <tr>\n",
       "      <th id=\"T_7a069_level0_row33\" class=\"row_heading level0 row33\" >0x21 (033)</th>\n",
       "      <td id=\"T_7a069_row33_col0\" class=\"data row33 col0\" >0</td>\n",
       "      <td id=\"T_7a069_row33_col1\" class=\"data row33 col1\" >0</td>\n",
       "      <td id=\"T_7a069_row33_col2\" class=\"data row33 col2\" >1</td>\n",
       "      <td id=\"T_7a069_row33_col3\" class=\"data row33 col3\" >0</td>\n",
       "      <td id=\"T_7a069_row33_col4\" class=\"data row33 col4\" >0</td>\n",
       "      <td id=\"T_7a069_row33_col5\" class=\"data row33 col5\" >0</td>\n",
       "      <td id=\"T_7a069_row33_col6\" class=\"data row33 col6\" >0</td>\n",
       "      <td id=\"T_7a069_row33_col7\" class=\"data row33 col7\" >1</td>\n",
       "    </tr>\n",
       "    <tr>\n",
       "      <th id=\"T_7a069_level0_row34\" class=\"row_heading level0 row34\" >0x22 (034)</th>\n",
       "      <td id=\"T_7a069_row34_col0\" class=\"data row34 col0\" >0</td>\n",
       "      <td id=\"T_7a069_row34_col1\" class=\"data row34 col1\" >0</td>\n",
       "      <td id=\"T_7a069_row34_col2\" class=\"data row34 col2\" >1</td>\n",
       "      <td id=\"T_7a069_row34_col3\" class=\"data row34 col3\" >0</td>\n",
       "      <td id=\"T_7a069_row34_col4\" class=\"data row34 col4\" >0</td>\n",
       "      <td id=\"T_7a069_row34_col5\" class=\"data row34 col5\" >0</td>\n",
       "      <td id=\"T_7a069_row34_col6\" class=\"data row34 col6\" >1</td>\n",
       "      <td id=\"T_7a069_row34_col7\" class=\"data row34 col7\" >0</td>\n",
       "    </tr>\n",
       "    <tr>\n",
       "      <th id=\"T_7a069_level0_row35\" class=\"row_heading level0 row35\" >0x23 (035)</th>\n",
       "      <td id=\"T_7a069_row35_col0\" class=\"data row35 col0\" >0</td>\n",
       "      <td id=\"T_7a069_row35_col1\" class=\"data row35 col1\" >0</td>\n",
       "      <td id=\"T_7a069_row35_col2\" class=\"data row35 col2\" >1</td>\n",
       "      <td id=\"T_7a069_row35_col3\" class=\"data row35 col3\" >0</td>\n",
       "      <td id=\"T_7a069_row35_col4\" class=\"data row35 col4\" >0</td>\n",
       "      <td id=\"T_7a069_row35_col5\" class=\"data row35 col5\" >0</td>\n",
       "      <td id=\"T_7a069_row35_col6\" class=\"data row35 col6\" >1</td>\n",
       "      <td id=\"T_7a069_row35_col7\" class=\"data row35 col7\" >1</td>\n",
       "    </tr>\n",
       "    <tr>\n",
       "      <th id=\"T_7a069_level0_row36\" class=\"row_heading level0 row36\" >0x24 (036)</th>\n",
       "      <td id=\"T_7a069_row36_col0\" class=\"data row36 col0\" >0</td>\n",
       "      <td id=\"T_7a069_row36_col1\" class=\"data row36 col1\" >0</td>\n",
       "      <td id=\"T_7a069_row36_col2\" class=\"data row36 col2\" >1</td>\n",
       "      <td id=\"T_7a069_row36_col3\" class=\"data row36 col3\" >0</td>\n",
       "      <td id=\"T_7a069_row36_col4\" class=\"data row36 col4\" >0</td>\n",
       "      <td id=\"T_7a069_row36_col5\" class=\"data row36 col5\" >1</td>\n",
       "      <td id=\"T_7a069_row36_col6\" class=\"data row36 col6\" >0</td>\n",
       "      <td id=\"T_7a069_row36_col7\" class=\"data row36 col7\" >0</td>\n",
       "    </tr>\n",
       "    <tr>\n",
       "      <th id=\"T_7a069_level0_row37\" class=\"row_heading level0 row37\" >0x25 (037)</th>\n",
       "      <td id=\"T_7a069_row37_col0\" class=\"data row37 col0\" >0</td>\n",
       "      <td id=\"T_7a069_row37_col1\" class=\"data row37 col1\" >0</td>\n",
       "      <td id=\"T_7a069_row37_col2\" class=\"data row37 col2\" >1</td>\n",
       "      <td id=\"T_7a069_row37_col3\" class=\"data row37 col3\" >0</td>\n",
       "      <td id=\"T_7a069_row37_col4\" class=\"data row37 col4\" >0</td>\n",
       "      <td id=\"T_7a069_row37_col5\" class=\"data row37 col5\" >1</td>\n",
       "      <td id=\"T_7a069_row37_col6\" class=\"data row37 col6\" >0</td>\n",
       "      <td id=\"T_7a069_row37_col7\" class=\"data row37 col7\" >1</td>\n",
       "    </tr>\n",
       "    <tr>\n",
       "      <th id=\"T_7a069_level0_row38\" class=\"row_heading level0 row38\" >0x26 (038)</th>\n",
       "      <td id=\"T_7a069_row38_col0\" class=\"data row38 col0\" >0</td>\n",
       "      <td id=\"T_7a069_row38_col1\" class=\"data row38 col1\" >0</td>\n",
       "      <td id=\"T_7a069_row38_col2\" class=\"data row38 col2\" >1</td>\n",
       "      <td id=\"T_7a069_row38_col3\" class=\"data row38 col3\" >0</td>\n",
       "      <td id=\"T_7a069_row38_col4\" class=\"data row38 col4\" >0</td>\n",
       "      <td id=\"T_7a069_row38_col5\" class=\"data row38 col5\" >1</td>\n",
       "      <td id=\"T_7a069_row38_col6\" class=\"data row38 col6\" >1</td>\n",
       "      <td id=\"T_7a069_row38_col7\" class=\"data row38 col7\" >0</td>\n",
       "    </tr>\n",
       "    <tr>\n",
       "      <th id=\"T_7a069_level0_row39\" class=\"row_heading level0 row39\" >0x27 (039)</th>\n",
       "      <td id=\"T_7a069_row39_col0\" class=\"data row39 col0\" >0</td>\n",
       "      <td id=\"T_7a069_row39_col1\" class=\"data row39 col1\" >0</td>\n",
       "      <td id=\"T_7a069_row39_col2\" class=\"data row39 col2\" >1</td>\n",
       "      <td id=\"T_7a069_row39_col3\" class=\"data row39 col3\" >0</td>\n",
       "      <td id=\"T_7a069_row39_col4\" class=\"data row39 col4\" >0</td>\n",
       "      <td id=\"T_7a069_row39_col5\" class=\"data row39 col5\" >1</td>\n",
       "      <td id=\"T_7a069_row39_col6\" class=\"data row39 col6\" >1</td>\n",
       "      <td id=\"T_7a069_row39_col7\" class=\"data row39 col7\" >1</td>\n",
       "    </tr>\n",
       "    <tr>\n",
       "      <th id=\"T_7a069_level0_row40\" class=\"row_heading level0 row40\" >0x28 (040)</th>\n",
       "      <td id=\"T_7a069_row40_col0\" class=\"data row40 col0\" >0</td>\n",
       "      <td id=\"T_7a069_row40_col1\" class=\"data row40 col1\" >0</td>\n",
       "      <td id=\"T_7a069_row40_col2\" class=\"data row40 col2\" >1</td>\n",
       "      <td id=\"T_7a069_row40_col3\" class=\"data row40 col3\" >0</td>\n",
       "      <td id=\"T_7a069_row40_col4\" class=\"data row40 col4\" >1</td>\n",
       "      <td id=\"T_7a069_row40_col5\" class=\"data row40 col5\" >0</td>\n",
       "      <td id=\"T_7a069_row40_col6\" class=\"data row40 col6\" >0</td>\n",
       "      <td id=\"T_7a069_row40_col7\" class=\"data row40 col7\" >0</td>\n",
       "    </tr>\n",
       "    <tr>\n",
       "      <th id=\"T_7a069_level0_row41\" class=\"row_heading level0 row41\" >0x29 (041)</th>\n",
       "      <td id=\"T_7a069_row41_col0\" class=\"data row41 col0\" >0</td>\n",
       "      <td id=\"T_7a069_row41_col1\" class=\"data row41 col1\" >0</td>\n",
       "      <td id=\"T_7a069_row41_col2\" class=\"data row41 col2\" >1</td>\n",
       "      <td id=\"T_7a069_row41_col3\" class=\"data row41 col3\" >0</td>\n",
       "      <td id=\"T_7a069_row41_col4\" class=\"data row41 col4\" >1</td>\n",
       "      <td id=\"T_7a069_row41_col5\" class=\"data row41 col5\" >0</td>\n",
       "      <td id=\"T_7a069_row41_col6\" class=\"data row41 col6\" >0</td>\n",
       "      <td id=\"T_7a069_row41_col7\" class=\"data row41 col7\" >1</td>\n",
       "    </tr>\n",
       "    <tr>\n",
       "      <th id=\"T_7a069_level0_row42\" class=\"row_heading level0 row42\" >0x2a (042)</th>\n",
       "      <td id=\"T_7a069_row42_col0\" class=\"data row42 col0\" >0</td>\n",
       "      <td id=\"T_7a069_row42_col1\" class=\"data row42 col1\" >0</td>\n",
       "      <td id=\"T_7a069_row42_col2\" class=\"data row42 col2\" >1</td>\n",
       "      <td id=\"T_7a069_row42_col3\" class=\"data row42 col3\" >0</td>\n",
       "      <td id=\"T_7a069_row42_col4\" class=\"data row42 col4\" >1</td>\n",
       "      <td id=\"T_7a069_row42_col5\" class=\"data row42 col5\" >0</td>\n",
       "      <td id=\"T_7a069_row42_col6\" class=\"data row42 col6\" >1</td>\n",
       "      <td id=\"T_7a069_row42_col7\" class=\"data row42 col7\" >0</td>\n",
       "    </tr>\n",
       "    <tr>\n",
       "      <th id=\"T_7a069_level0_row43\" class=\"row_heading level0 row43\" >0x2b (043)</th>\n",
       "      <td id=\"T_7a069_row43_col0\" class=\"data row43 col0\" >0</td>\n",
       "      <td id=\"T_7a069_row43_col1\" class=\"data row43 col1\" >0</td>\n",
       "      <td id=\"T_7a069_row43_col2\" class=\"data row43 col2\" >1</td>\n",
       "      <td id=\"T_7a069_row43_col3\" class=\"data row43 col3\" >0</td>\n",
       "      <td id=\"T_7a069_row43_col4\" class=\"data row43 col4\" >1</td>\n",
       "      <td id=\"T_7a069_row43_col5\" class=\"data row43 col5\" >0</td>\n",
       "      <td id=\"T_7a069_row43_col6\" class=\"data row43 col6\" >1</td>\n",
       "      <td id=\"T_7a069_row43_col7\" class=\"data row43 col7\" >1</td>\n",
       "    </tr>\n",
       "    <tr>\n",
       "      <th id=\"T_7a069_level0_row44\" class=\"row_heading level0 row44\" >0x2c (044)</th>\n",
       "      <td id=\"T_7a069_row44_col0\" class=\"data row44 col0\" >0</td>\n",
       "      <td id=\"T_7a069_row44_col1\" class=\"data row44 col1\" >0</td>\n",
       "      <td id=\"T_7a069_row44_col2\" class=\"data row44 col2\" >1</td>\n",
       "      <td id=\"T_7a069_row44_col3\" class=\"data row44 col3\" >0</td>\n",
       "      <td id=\"T_7a069_row44_col4\" class=\"data row44 col4\" >1</td>\n",
       "      <td id=\"T_7a069_row44_col5\" class=\"data row44 col5\" >1</td>\n",
       "      <td id=\"T_7a069_row44_col6\" class=\"data row44 col6\" >0</td>\n",
       "      <td id=\"T_7a069_row44_col7\" class=\"data row44 col7\" >0</td>\n",
       "    </tr>\n",
       "    <tr>\n",
       "      <th id=\"T_7a069_level0_row45\" class=\"row_heading level0 row45\" >0x2d (045)</th>\n",
       "      <td id=\"T_7a069_row45_col0\" class=\"data row45 col0\" >0</td>\n",
       "      <td id=\"T_7a069_row45_col1\" class=\"data row45 col1\" >0</td>\n",
       "      <td id=\"T_7a069_row45_col2\" class=\"data row45 col2\" >1</td>\n",
       "      <td id=\"T_7a069_row45_col3\" class=\"data row45 col3\" >0</td>\n",
       "      <td id=\"T_7a069_row45_col4\" class=\"data row45 col4\" >1</td>\n",
       "      <td id=\"T_7a069_row45_col5\" class=\"data row45 col5\" >1</td>\n",
       "      <td id=\"T_7a069_row45_col6\" class=\"data row45 col6\" >0</td>\n",
       "      <td id=\"T_7a069_row45_col7\" class=\"data row45 col7\" >1</td>\n",
       "    </tr>\n",
       "    <tr>\n",
       "      <th id=\"T_7a069_level0_row46\" class=\"row_heading level0 row46\" >0x2e (046)</th>\n",
       "      <td id=\"T_7a069_row46_col0\" class=\"data row46 col0\" >0</td>\n",
       "      <td id=\"T_7a069_row46_col1\" class=\"data row46 col1\" >0</td>\n",
       "      <td id=\"T_7a069_row46_col2\" class=\"data row46 col2\" >1</td>\n",
       "      <td id=\"T_7a069_row46_col3\" class=\"data row46 col3\" >0</td>\n",
       "      <td id=\"T_7a069_row46_col4\" class=\"data row46 col4\" >1</td>\n",
       "      <td id=\"T_7a069_row46_col5\" class=\"data row46 col5\" >1</td>\n",
       "      <td id=\"T_7a069_row46_col6\" class=\"data row46 col6\" >1</td>\n",
       "      <td id=\"T_7a069_row46_col7\" class=\"data row46 col7\" >0</td>\n",
       "    </tr>\n",
       "    <tr>\n",
       "      <th id=\"T_7a069_level0_row47\" class=\"row_heading level0 row47\" >0x2f (047)</th>\n",
       "      <td id=\"T_7a069_row47_col0\" class=\"data row47 col0\" >0</td>\n",
       "      <td id=\"T_7a069_row47_col1\" class=\"data row47 col1\" >0</td>\n",
       "      <td id=\"T_7a069_row47_col2\" class=\"data row47 col2\" >1</td>\n",
       "      <td id=\"T_7a069_row47_col3\" class=\"data row47 col3\" >0</td>\n",
       "      <td id=\"T_7a069_row47_col4\" class=\"data row47 col4\" >1</td>\n",
       "      <td id=\"T_7a069_row47_col5\" class=\"data row47 col5\" >1</td>\n",
       "      <td id=\"T_7a069_row47_col6\" class=\"data row47 col6\" >1</td>\n",
       "      <td id=\"T_7a069_row47_col7\" class=\"data row47 col7\" >1</td>\n",
       "    </tr>\n",
       "    <tr>\n",
       "      <th id=\"T_7a069_level0_row48\" class=\"row_heading level0 row48\" >0x30 (048)</th>\n",
       "      <td id=\"T_7a069_row48_col0\" class=\"data row48 col0\" >0</td>\n",
       "      <td id=\"T_7a069_row48_col1\" class=\"data row48 col1\" >0</td>\n",
       "      <td id=\"T_7a069_row48_col2\" class=\"data row48 col2\" >1</td>\n",
       "      <td id=\"T_7a069_row48_col3\" class=\"data row48 col3\" >1</td>\n",
       "      <td id=\"T_7a069_row48_col4\" class=\"data row48 col4\" >0</td>\n",
       "      <td id=\"T_7a069_row48_col5\" class=\"data row48 col5\" >0</td>\n",
       "      <td id=\"T_7a069_row48_col6\" class=\"data row48 col6\" >0</td>\n",
       "      <td id=\"T_7a069_row48_col7\" class=\"data row48 col7\" >0</td>\n",
       "    </tr>\n",
       "    <tr>\n",
       "      <th id=\"T_7a069_level0_row49\" class=\"row_heading level0 row49\" >0x31 (049)</th>\n",
       "      <td id=\"T_7a069_row49_col0\" class=\"data row49 col0\" >0</td>\n",
       "      <td id=\"T_7a069_row49_col1\" class=\"data row49 col1\" >0</td>\n",
       "      <td id=\"T_7a069_row49_col2\" class=\"data row49 col2\" >1</td>\n",
       "      <td id=\"T_7a069_row49_col3\" class=\"data row49 col3\" >1</td>\n",
       "      <td id=\"T_7a069_row49_col4\" class=\"data row49 col4\" >0</td>\n",
       "      <td id=\"T_7a069_row49_col5\" class=\"data row49 col5\" >0</td>\n",
       "      <td id=\"T_7a069_row49_col6\" class=\"data row49 col6\" >0</td>\n",
       "      <td id=\"T_7a069_row49_col7\" class=\"data row49 col7\" >1</td>\n",
       "    </tr>\n",
       "    <tr>\n",
       "      <th id=\"T_7a069_level0_row50\" class=\"row_heading level0 row50\" >0x32 (050)</th>\n",
       "      <td id=\"T_7a069_row50_col0\" class=\"data row50 col0\" >0</td>\n",
       "      <td id=\"T_7a069_row50_col1\" class=\"data row50 col1\" >0</td>\n",
       "      <td id=\"T_7a069_row50_col2\" class=\"data row50 col2\" >1</td>\n",
       "      <td id=\"T_7a069_row50_col3\" class=\"data row50 col3\" >1</td>\n",
       "      <td id=\"T_7a069_row50_col4\" class=\"data row50 col4\" >0</td>\n",
       "      <td id=\"T_7a069_row50_col5\" class=\"data row50 col5\" >0</td>\n",
       "      <td id=\"T_7a069_row50_col6\" class=\"data row50 col6\" >1</td>\n",
       "      <td id=\"T_7a069_row50_col7\" class=\"data row50 col7\" >0</td>\n",
       "    </tr>\n",
       "    <tr>\n",
       "      <th id=\"T_7a069_level0_row51\" class=\"row_heading level0 row51\" >0x33 (051)</th>\n",
       "      <td id=\"T_7a069_row51_col0\" class=\"data row51 col0\" >0</td>\n",
       "      <td id=\"T_7a069_row51_col1\" class=\"data row51 col1\" >0</td>\n",
       "      <td id=\"T_7a069_row51_col2\" class=\"data row51 col2\" >1</td>\n",
       "      <td id=\"T_7a069_row51_col3\" class=\"data row51 col3\" >1</td>\n",
       "      <td id=\"T_7a069_row51_col4\" class=\"data row51 col4\" >0</td>\n",
       "      <td id=\"T_7a069_row51_col5\" class=\"data row51 col5\" >0</td>\n",
       "      <td id=\"T_7a069_row51_col6\" class=\"data row51 col6\" >1</td>\n",
       "      <td id=\"T_7a069_row51_col7\" class=\"data row51 col7\" >1</td>\n",
       "    </tr>\n",
       "    <tr>\n",
       "      <th id=\"T_7a069_level0_row52\" class=\"row_heading level0 row52\" >0x34 (052)</th>\n",
       "      <td id=\"T_7a069_row52_col0\" class=\"data row52 col0\" >0</td>\n",
       "      <td id=\"T_7a069_row52_col1\" class=\"data row52 col1\" >0</td>\n",
       "      <td id=\"T_7a069_row52_col2\" class=\"data row52 col2\" >1</td>\n",
       "      <td id=\"T_7a069_row52_col3\" class=\"data row52 col3\" >1</td>\n",
       "      <td id=\"T_7a069_row52_col4\" class=\"data row52 col4\" >0</td>\n",
       "      <td id=\"T_7a069_row52_col5\" class=\"data row52 col5\" >1</td>\n",
       "      <td id=\"T_7a069_row52_col6\" class=\"data row52 col6\" >0</td>\n",
       "      <td id=\"T_7a069_row52_col7\" class=\"data row52 col7\" >0</td>\n",
       "    </tr>\n",
       "    <tr>\n",
       "      <th id=\"T_7a069_level0_row53\" class=\"row_heading level0 row53\" >0x35 (053)</th>\n",
       "      <td id=\"T_7a069_row53_col0\" class=\"data row53 col0\" >0</td>\n",
       "      <td id=\"T_7a069_row53_col1\" class=\"data row53 col1\" >0</td>\n",
       "      <td id=\"T_7a069_row53_col2\" class=\"data row53 col2\" >1</td>\n",
       "      <td id=\"T_7a069_row53_col3\" class=\"data row53 col3\" >1</td>\n",
       "      <td id=\"T_7a069_row53_col4\" class=\"data row53 col4\" >0</td>\n",
       "      <td id=\"T_7a069_row53_col5\" class=\"data row53 col5\" >1</td>\n",
       "      <td id=\"T_7a069_row53_col6\" class=\"data row53 col6\" >0</td>\n",
       "      <td id=\"T_7a069_row53_col7\" class=\"data row53 col7\" >1</td>\n",
       "    </tr>\n",
       "    <tr>\n",
       "      <th id=\"T_7a069_level0_row54\" class=\"row_heading level0 row54\" >0x36 (054)</th>\n",
       "      <td id=\"T_7a069_row54_col0\" class=\"data row54 col0\" >0</td>\n",
       "      <td id=\"T_7a069_row54_col1\" class=\"data row54 col1\" >0</td>\n",
       "      <td id=\"T_7a069_row54_col2\" class=\"data row54 col2\" >1</td>\n",
       "      <td id=\"T_7a069_row54_col3\" class=\"data row54 col3\" >1</td>\n",
       "      <td id=\"T_7a069_row54_col4\" class=\"data row54 col4\" >0</td>\n",
       "      <td id=\"T_7a069_row54_col5\" class=\"data row54 col5\" >1</td>\n",
       "      <td id=\"T_7a069_row54_col6\" class=\"data row54 col6\" >1</td>\n",
       "      <td id=\"T_7a069_row54_col7\" class=\"data row54 col7\" >0</td>\n",
       "    </tr>\n",
       "    <tr>\n",
       "      <th id=\"T_7a069_level0_row55\" class=\"row_heading level0 row55\" >0x37 (055)</th>\n",
       "      <td id=\"T_7a069_row55_col0\" class=\"data row55 col0\" >0</td>\n",
       "      <td id=\"T_7a069_row55_col1\" class=\"data row55 col1\" >0</td>\n",
       "      <td id=\"T_7a069_row55_col2\" class=\"data row55 col2\" >1</td>\n",
       "      <td id=\"T_7a069_row55_col3\" class=\"data row55 col3\" >1</td>\n",
       "      <td id=\"T_7a069_row55_col4\" class=\"data row55 col4\" >0</td>\n",
       "      <td id=\"T_7a069_row55_col5\" class=\"data row55 col5\" >1</td>\n",
       "      <td id=\"T_7a069_row55_col6\" class=\"data row55 col6\" >1</td>\n",
       "      <td id=\"T_7a069_row55_col7\" class=\"data row55 col7\" >1</td>\n",
       "    </tr>\n",
       "    <tr>\n",
       "      <th id=\"T_7a069_level0_row56\" class=\"row_heading level0 row56\" >0x38 (056)</th>\n",
       "      <td id=\"T_7a069_row56_col0\" class=\"data row56 col0\" >0</td>\n",
       "      <td id=\"T_7a069_row56_col1\" class=\"data row56 col1\" >0</td>\n",
       "      <td id=\"T_7a069_row56_col2\" class=\"data row56 col2\" >1</td>\n",
       "      <td id=\"T_7a069_row56_col3\" class=\"data row56 col3\" >1</td>\n",
       "      <td id=\"T_7a069_row56_col4\" class=\"data row56 col4\" >1</td>\n",
       "      <td id=\"T_7a069_row56_col5\" class=\"data row56 col5\" >0</td>\n",
       "      <td id=\"T_7a069_row56_col6\" class=\"data row56 col6\" >0</td>\n",
       "      <td id=\"T_7a069_row56_col7\" class=\"data row56 col7\" >0</td>\n",
       "    </tr>\n",
       "    <tr>\n",
       "      <th id=\"T_7a069_level0_row57\" class=\"row_heading level0 row57\" >0x39 (057)</th>\n",
       "      <td id=\"T_7a069_row57_col0\" class=\"data row57 col0\" >0</td>\n",
       "      <td id=\"T_7a069_row57_col1\" class=\"data row57 col1\" >0</td>\n",
       "      <td id=\"T_7a069_row57_col2\" class=\"data row57 col2\" >1</td>\n",
       "      <td id=\"T_7a069_row57_col3\" class=\"data row57 col3\" >1</td>\n",
       "      <td id=\"T_7a069_row57_col4\" class=\"data row57 col4\" >1</td>\n",
       "      <td id=\"T_7a069_row57_col5\" class=\"data row57 col5\" >0</td>\n",
       "      <td id=\"T_7a069_row57_col6\" class=\"data row57 col6\" >0</td>\n",
       "      <td id=\"T_7a069_row57_col7\" class=\"data row57 col7\" >1</td>\n",
       "    </tr>\n",
       "    <tr>\n",
       "      <th id=\"T_7a069_level0_row58\" class=\"row_heading level0 row58\" >0x3a (058)</th>\n",
       "      <td id=\"T_7a069_row58_col0\" class=\"data row58 col0\" >0</td>\n",
       "      <td id=\"T_7a069_row58_col1\" class=\"data row58 col1\" >0</td>\n",
       "      <td id=\"T_7a069_row58_col2\" class=\"data row58 col2\" >1</td>\n",
       "      <td id=\"T_7a069_row58_col3\" class=\"data row58 col3\" >1</td>\n",
       "      <td id=\"T_7a069_row58_col4\" class=\"data row58 col4\" >1</td>\n",
       "      <td id=\"T_7a069_row58_col5\" class=\"data row58 col5\" >0</td>\n",
       "      <td id=\"T_7a069_row58_col6\" class=\"data row58 col6\" >1</td>\n",
       "      <td id=\"T_7a069_row58_col7\" class=\"data row58 col7\" >0</td>\n",
       "    </tr>\n",
       "    <tr>\n",
       "      <th id=\"T_7a069_level0_row59\" class=\"row_heading level0 row59\" >0x3b (059)</th>\n",
       "      <td id=\"T_7a069_row59_col0\" class=\"data row59 col0\" >0</td>\n",
       "      <td id=\"T_7a069_row59_col1\" class=\"data row59 col1\" >0</td>\n",
       "      <td id=\"T_7a069_row59_col2\" class=\"data row59 col2\" >1</td>\n",
       "      <td id=\"T_7a069_row59_col3\" class=\"data row59 col3\" >1</td>\n",
       "      <td id=\"T_7a069_row59_col4\" class=\"data row59 col4\" >1</td>\n",
       "      <td id=\"T_7a069_row59_col5\" class=\"data row59 col5\" >0</td>\n",
       "      <td id=\"T_7a069_row59_col6\" class=\"data row59 col6\" >1</td>\n",
       "      <td id=\"T_7a069_row59_col7\" class=\"data row59 col7\" >1</td>\n",
       "    </tr>\n",
       "    <tr>\n",
       "      <th id=\"T_7a069_level0_row60\" class=\"row_heading level0 row60\" >0x3c (060)</th>\n",
       "      <td id=\"T_7a069_row60_col0\" class=\"data row60 col0\" >0</td>\n",
       "      <td id=\"T_7a069_row60_col1\" class=\"data row60 col1\" >0</td>\n",
       "      <td id=\"T_7a069_row60_col2\" class=\"data row60 col2\" >1</td>\n",
       "      <td id=\"T_7a069_row60_col3\" class=\"data row60 col3\" >1</td>\n",
       "      <td id=\"T_7a069_row60_col4\" class=\"data row60 col4\" >1</td>\n",
       "      <td id=\"T_7a069_row60_col5\" class=\"data row60 col5\" >1</td>\n",
       "      <td id=\"T_7a069_row60_col6\" class=\"data row60 col6\" >0</td>\n",
       "      <td id=\"T_7a069_row60_col7\" class=\"data row60 col7\" >0</td>\n",
       "    </tr>\n",
       "    <tr>\n",
       "      <th id=\"T_7a069_level0_row61\" class=\"row_heading level0 row61\" >0x3d (061)</th>\n",
       "      <td id=\"T_7a069_row61_col0\" class=\"data row61 col0\" >0</td>\n",
       "      <td id=\"T_7a069_row61_col1\" class=\"data row61 col1\" >0</td>\n",
       "      <td id=\"T_7a069_row61_col2\" class=\"data row61 col2\" >1</td>\n",
       "      <td id=\"T_7a069_row61_col3\" class=\"data row61 col3\" >1</td>\n",
       "      <td id=\"T_7a069_row61_col4\" class=\"data row61 col4\" >1</td>\n",
       "      <td id=\"T_7a069_row61_col5\" class=\"data row61 col5\" >1</td>\n",
       "      <td id=\"T_7a069_row61_col6\" class=\"data row61 col6\" >0</td>\n",
       "      <td id=\"T_7a069_row61_col7\" class=\"data row61 col7\" >1</td>\n",
       "    </tr>\n",
       "    <tr>\n",
       "      <th id=\"T_7a069_level0_row62\" class=\"row_heading level0 row62\" >0x3e (062)</th>\n",
       "      <td id=\"T_7a069_row62_col0\" class=\"data row62 col0\" >0</td>\n",
       "      <td id=\"T_7a069_row62_col1\" class=\"data row62 col1\" >0</td>\n",
       "      <td id=\"T_7a069_row62_col2\" class=\"data row62 col2\" >1</td>\n",
       "      <td id=\"T_7a069_row62_col3\" class=\"data row62 col3\" >1</td>\n",
       "      <td id=\"T_7a069_row62_col4\" class=\"data row62 col4\" >1</td>\n",
       "      <td id=\"T_7a069_row62_col5\" class=\"data row62 col5\" >1</td>\n",
       "      <td id=\"T_7a069_row62_col6\" class=\"data row62 col6\" >1</td>\n",
       "      <td id=\"T_7a069_row62_col7\" class=\"data row62 col7\" >0</td>\n",
       "    </tr>\n",
       "    <tr>\n",
       "      <th id=\"T_7a069_level0_row63\" class=\"row_heading level0 row63\" >0x3f (063)</th>\n",
       "      <td id=\"T_7a069_row63_col0\" class=\"data row63 col0\" >0</td>\n",
       "      <td id=\"T_7a069_row63_col1\" class=\"data row63 col1\" >0</td>\n",
       "      <td id=\"T_7a069_row63_col2\" class=\"data row63 col2\" >1</td>\n",
       "      <td id=\"T_7a069_row63_col3\" class=\"data row63 col3\" >1</td>\n",
       "      <td id=\"T_7a069_row63_col4\" class=\"data row63 col4\" >1</td>\n",
       "      <td id=\"T_7a069_row63_col5\" class=\"data row63 col5\" >1</td>\n",
       "      <td id=\"T_7a069_row63_col6\" class=\"data row63 col6\" >1</td>\n",
       "      <td id=\"T_7a069_row63_col7\" class=\"data row63 col7\" >1</td>\n",
       "    </tr>\n",
       "    <tr>\n",
       "      <th id=\"T_7a069_level0_row64\" class=\"row_heading level0 row64\" >0x40 (064)</th>\n",
       "      <td id=\"T_7a069_row64_col0\" class=\"data row64 col0\" >0</td>\n",
       "      <td id=\"T_7a069_row64_col1\" class=\"data row64 col1\" >1</td>\n",
       "      <td id=\"T_7a069_row64_col2\" class=\"data row64 col2\" >0</td>\n",
       "      <td id=\"T_7a069_row64_col3\" class=\"data row64 col3\" >0</td>\n",
       "      <td id=\"T_7a069_row64_col4\" class=\"data row64 col4\" >0</td>\n",
       "      <td id=\"T_7a069_row64_col5\" class=\"data row64 col5\" >0</td>\n",
       "      <td id=\"T_7a069_row64_col6\" class=\"data row64 col6\" >0</td>\n",
       "      <td id=\"T_7a069_row64_col7\" class=\"data row64 col7\" >0</td>\n",
       "    </tr>\n",
       "    <tr>\n",
       "      <th id=\"T_7a069_level0_row65\" class=\"row_heading level0 row65\" >0x41 (065)</th>\n",
       "      <td id=\"T_7a069_row65_col0\" class=\"data row65 col0\" >0</td>\n",
       "      <td id=\"T_7a069_row65_col1\" class=\"data row65 col1\" >1</td>\n",
       "      <td id=\"T_7a069_row65_col2\" class=\"data row65 col2\" >0</td>\n",
       "      <td id=\"T_7a069_row65_col3\" class=\"data row65 col3\" >0</td>\n",
       "      <td id=\"T_7a069_row65_col4\" class=\"data row65 col4\" >0</td>\n",
       "      <td id=\"T_7a069_row65_col5\" class=\"data row65 col5\" >0</td>\n",
       "      <td id=\"T_7a069_row65_col6\" class=\"data row65 col6\" >0</td>\n",
       "      <td id=\"T_7a069_row65_col7\" class=\"data row65 col7\" >1</td>\n",
       "    </tr>\n",
       "    <tr>\n",
       "      <th id=\"T_7a069_level0_row66\" class=\"row_heading level0 row66\" >0x42 (066)</th>\n",
       "      <td id=\"T_7a069_row66_col0\" class=\"data row66 col0\" >0</td>\n",
       "      <td id=\"T_7a069_row66_col1\" class=\"data row66 col1\" >1</td>\n",
       "      <td id=\"T_7a069_row66_col2\" class=\"data row66 col2\" >0</td>\n",
       "      <td id=\"T_7a069_row66_col3\" class=\"data row66 col3\" >0</td>\n",
       "      <td id=\"T_7a069_row66_col4\" class=\"data row66 col4\" >0</td>\n",
       "      <td id=\"T_7a069_row66_col5\" class=\"data row66 col5\" >0</td>\n",
       "      <td id=\"T_7a069_row66_col6\" class=\"data row66 col6\" >1</td>\n",
       "      <td id=\"T_7a069_row66_col7\" class=\"data row66 col7\" >0</td>\n",
       "    </tr>\n",
       "    <tr>\n",
       "      <th id=\"T_7a069_level0_row67\" class=\"row_heading level0 row67\" >0x43 (067)</th>\n",
       "      <td id=\"T_7a069_row67_col0\" class=\"data row67 col0\" >0</td>\n",
       "      <td id=\"T_7a069_row67_col1\" class=\"data row67 col1\" >1</td>\n",
       "      <td id=\"T_7a069_row67_col2\" class=\"data row67 col2\" >0</td>\n",
       "      <td id=\"T_7a069_row67_col3\" class=\"data row67 col3\" >0</td>\n",
       "      <td id=\"T_7a069_row67_col4\" class=\"data row67 col4\" >0</td>\n",
       "      <td id=\"T_7a069_row67_col5\" class=\"data row67 col5\" >0</td>\n",
       "      <td id=\"T_7a069_row67_col6\" class=\"data row67 col6\" >1</td>\n",
       "      <td id=\"T_7a069_row67_col7\" class=\"data row67 col7\" >1</td>\n",
       "    </tr>\n",
       "    <tr>\n",
       "      <th id=\"T_7a069_level0_row68\" class=\"row_heading level0 row68\" >0x44 (068)</th>\n",
       "      <td id=\"T_7a069_row68_col0\" class=\"data row68 col0\" >0</td>\n",
       "      <td id=\"T_7a069_row68_col1\" class=\"data row68 col1\" >1</td>\n",
       "      <td id=\"T_7a069_row68_col2\" class=\"data row68 col2\" >0</td>\n",
       "      <td id=\"T_7a069_row68_col3\" class=\"data row68 col3\" >0</td>\n",
       "      <td id=\"T_7a069_row68_col4\" class=\"data row68 col4\" >0</td>\n",
       "      <td id=\"T_7a069_row68_col5\" class=\"data row68 col5\" >1</td>\n",
       "      <td id=\"T_7a069_row68_col6\" class=\"data row68 col6\" >0</td>\n",
       "      <td id=\"T_7a069_row68_col7\" class=\"data row68 col7\" >0</td>\n",
       "    </tr>\n",
       "    <tr>\n",
       "      <th id=\"T_7a069_level0_row69\" class=\"row_heading level0 row69\" >0x45 (069)</th>\n",
       "      <td id=\"T_7a069_row69_col0\" class=\"data row69 col0\" >0</td>\n",
       "      <td id=\"T_7a069_row69_col1\" class=\"data row69 col1\" >1</td>\n",
       "      <td id=\"T_7a069_row69_col2\" class=\"data row69 col2\" >0</td>\n",
       "      <td id=\"T_7a069_row69_col3\" class=\"data row69 col3\" >0</td>\n",
       "      <td id=\"T_7a069_row69_col4\" class=\"data row69 col4\" >0</td>\n",
       "      <td id=\"T_7a069_row69_col5\" class=\"data row69 col5\" >1</td>\n",
       "      <td id=\"T_7a069_row69_col6\" class=\"data row69 col6\" >0</td>\n",
       "      <td id=\"T_7a069_row69_col7\" class=\"data row69 col7\" >1</td>\n",
       "    </tr>\n",
       "    <tr>\n",
       "      <th id=\"T_7a069_level0_row70\" class=\"row_heading level0 row70\" >0x46 (070)</th>\n",
       "      <td id=\"T_7a069_row70_col0\" class=\"data row70 col0\" >0</td>\n",
       "      <td id=\"T_7a069_row70_col1\" class=\"data row70 col1\" >1</td>\n",
       "      <td id=\"T_7a069_row70_col2\" class=\"data row70 col2\" >0</td>\n",
       "      <td id=\"T_7a069_row70_col3\" class=\"data row70 col3\" >0</td>\n",
       "      <td id=\"T_7a069_row70_col4\" class=\"data row70 col4\" >0</td>\n",
       "      <td id=\"T_7a069_row70_col5\" class=\"data row70 col5\" >1</td>\n",
       "      <td id=\"T_7a069_row70_col6\" class=\"data row70 col6\" >1</td>\n",
       "      <td id=\"T_7a069_row70_col7\" class=\"data row70 col7\" >0</td>\n",
       "    </tr>\n",
       "    <tr>\n",
       "      <th id=\"T_7a069_level0_row71\" class=\"row_heading level0 row71\" >0x47 (071)</th>\n",
       "      <td id=\"T_7a069_row71_col0\" class=\"data row71 col0\" >0</td>\n",
       "      <td id=\"T_7a069_row71_col1\" class=\"data row71 col1\" >1</td>\n",
       "      <td id=\"T_7a069_row71_col2\" class=\"data row71 col2\" >0</td>\n",
       "      <td id=\"T_7a069_row71_col3\" class=\"data row71 col3\" >0</td>\n",
       "      <td id=\"T_7a069_row71_col4\" class=\"data row71 col4\" >0</td>\n",
       "      <td id=\"T_7a069_row71_col5\" class=\"data row71 col5\" >1</td>\n",
       "      <td id=\"T_7a069_row71_col6\" class=\"data row71 col6\" >1</td>\n",
       "      <td id=\"T_7a069_row71_col7\" class=\"data row71 col7\" >1</td>\n",
       "    </tr>\n",
       "    <tr>\n",
       "      <th id=\"T_7a069_level0_row72\" class=\"row_heading level0 row72\" >0x48 (072)</th>\n",
       "      <td id=\"T_7a069_row72_col0\" class=\"data row72 col0\" >0</td>\n",
       "      <td id=\"T_7a069_row72_col1\" class=\"data row72 col1\" >1</td>\n",
       "      <td id=\"T_7a069_row72_col2\" class=\"data row72 col2\" >0</td>\n",
       "      <td id=\"T_7a069_row72_col3\" class=\"data row72 col3\" >0</td>\n",
       "      <td id=\"T_7a069_row72_col4\" class=\"data row72 col4\" >1</td>\n",
       "      <td id=\"T_7a069_row72_col5\" class=\"data row72 col5\" >0</td>\n",
       "      <td id=\"T_7a069_row72_col6\" class=\"data row72 col6\" >0</td>\n",
       "      <td id=\"T_7a069_row72_col7\" class=\"data row72 col7\" >0</td>\n",
       "    </tr>\n",
       "    <tr>\n",
       "      <th id=\"T_7a069_level0_row73\" class=\"row_heading level0 row73\" >0x49 (073)</th>\n",
       "      <td id=\"T_7a069_row73_col0\" class=\"data row73 col0\" >0</td>\n",
       "      <td id=\"T_7a069_row73_col1\" class=\"data row73 col1\" >1</td>\n",
       "      <td id=\"T_7a069_row73_col2\" class=\"data row73 col2\" >0</td>\n",
       "      <td id=\"T_7a069_row73_col3\" class=\"data row73 col3\" >0</td>\n",
       "      <td id=\"T_7a069_row73_col4\" class=\"data row73 col4\" >1</td>\n",
       "      <td id=\"T_7a069_row73_col5\" class=\"data row73 col5\" >0</td>\n",
       "      <td id=\"T_7a069_row73_col6\" class=\"data row73 col6\" >0</td>\n",
       "      <td id=\"T_7a069_row73_col7\" class=\"data row73 col7\" >1</td>\n",
       "    </tr>\n",
       "    <tr>\n",
       "      <th id=\"T_7a069_level0_row74\" class=\"row_heading level0 row74\" >0x4a (074)</th>\n",
       "      <td id=\"T_7a069_row74_col0\" class=\"data row74 col0\" >0</td>\n",
       "      <td id=\"T_7a069_row74_col1\" class=\"data row74 col1\" >1</td>\n",
       "      <td id=\"T_7a069_row74_col2\" class=\"data row74 col2\" >0</td>\n",
       "      <td id=\"T_7a069_row74_col3\" class=\"data row74 col3\" >0</td>\n",
       "      <td id=\"T_7a069_row74_col4\" class=\"data row74 col4\" >1</td>\n",
       "      <td id=\"T_7a069_row74_col5\" class=\"data row74 col5\" >0</td>\n",
       "      <td id=\"T_7a069_row74_col6\" class=\"data row74 col6\" >1</td>\n",
       "      <td id=\"T_7a069_row74_col7\" class=\"data row74 col7\" >0</td>\n",
       "    </tr>\n",
       "    <tr>\n",
       "      <th id=\"T_7a069_level0_row75\" class=\"row_heading level0 row75\" >0x4b (075)</th>\n",
       "      <td id=\"T_7a069_row75_col0\" class=\"data row75 col0\" >0</td>\n",
       "      <td id=\"T_7a069_row75_col1\" class=\"data row75 col1\" >1</td>\n",
       "      <td id=\"T_7a069_row75_col2\" class=\"data row75 col2\" >0</td>\n",
       "      <td id=\"T_7a069_row75_col3\" class=\"data row75 col3\" >0</td>\n",
       "      <td id=\"T_7a069_row75_col4\" class=\"data row75 col4\" >1</td>\n",
       "      <td id=\"T_7a069_row75_col5\" class=\"data row75 col5\" >0</td>\n",
       "      <td id=\"T_7a069_row75_col6\" class=\"data row75 col6\" >1</td>\n",
       "      <td id=\"T_7a069_row75_col7\" class=\"data row75 col7\" >1</td>\n",
       "    </tr>\n",
       "    <tr>\n",
       "      <th id=\"T_7a069_level0_row76\" class=\"row_heading level0 row76\" >0x4c (076)</th>\n",
       "      <td id=\"T_7a069_row76_col0\" class=\"data row76 col0\" >0</td>\n",
       "      <td id=\"T_7a069_row76_col1\" class=\"data row76 col1\" >1</td>\n",
       "      <td id=\"T_7a069_row76_col2\" class=\"data row76 col2\" >0</td>\n",
       "      <td id=\"T_7a069_row76_col3\" class=\"data row76 col3\" >0</td>\n",
       "      <td id=\"T_7a069_row76_col4\" class=\"data row76 col4\" >1</td>\n",
       "      <td id=\"T_7a069_row76_col5\" class=\"data row76 col5\" >1</td>\n",
       "      <td id=\"T_7a069_row76_col6\" class=\"data row76 col6\" >0</td>\n",
       "      <td id=\"T_7a069_row76_col7\" class=\"data row76 col7\" >0</td>\n",
       "    </tr>\n",
       "    <tr>\n",
       "      <th id=\"T_7a069_level0_row77\" class=\"row_heading level0 row77\" >0x4d (077)</th>\n",
       "      <td id=\"T_7a069_row77_col0\" class=\"data row77 col0\" >0</td>\n",
       "      <td id=\"T_7a069_row77_col1\" class=\"data row77 col1\" >1</td>\n",
       "      <td id=\"T_7a069_row77_col2\" class=\"data row77 col2\" >0</td>\n",
       "      <td id=\"T_7a069_row77_col3\" class=\"data row77 col3\" >0</td>\n",
       "      <td id=\"T_7a069_row77_col4\" class=\"data row77 col4\" >1</td>\n",
       "      <td id=\"T_7a069_row77_col5\" class=\"data row77 col5\" >1</td>\n",
       "      <td id=\"T_7a069_row77_col6\" class=\"data row77 col6\" >0</td>\n",
       "      <td id=\"T_7a069_row77_col7\" class=\"data row77 col7\" >1</td>\n",
       "    </tr>\n",
       "    <tr>\n",
       "      <th id=\"T_7a069_level0_row78\" class=\"row_heading level0 row78\" >0x4e (078)</th>\n",
       "      <td id=\"T_7a069_row78_col0\" class=\"data row78 col0\" >0</td>\n",
       "      <td id=\"T_7a069_row78_col1\" class=\"data row78 col1\" >1</td>\n",
       "      <td id=\"T_7a069_row78_col2\" class=\"data row78 col2\" >0</td>\n",
       "      <td id=\"T_7a069_row78_col3\" class=\"data row78 col3\" >0</td>\n",
       "      <td id=\"T_7a069_row78_col4\" class=\"data row78 col4\" >1</td>\n",
       "      <td id=\"T_7a069_row78_col5\" class=\"data row78 col5\" >1</td>\n",
       "      <td id=\"T_7a069_row78_col6\" class=\"data row78 col6\" >1</td>\n",
       "      <td id=\"T_7a069_row78_col7\" class=\"data row78 col7\" >0</td>\n",
       "    </tr>\n",
       "    <tr>\n",
       "      <th id=\"T_7a069_level0_row79\" class=\"row_heading level0 row79\" >0x4f (079)</th>\n",
       "      <td id=\"T_7a069_row79_col0\" class=\"data row79 col0\" >0</td>\n",
       "      <td id=\"T_7a069_row79_col1\" class=\"data row79 col1\" >1</td>\n",
       "      <td id=\"T_7a069_row79_col2\" class=\"data row79 col2\" >0</td>\n",
       "      <td id=\"T_7a069_row79_col3\" class=\"data row79 col3\" >0</td>\n",
       "      <td id=\"T_7a069_row79_col4\" class=\"data row79 col4\" >1</td>\n",
       "      <td id=\"T_7a069_row79_col5\" class=\"data row79 col5\" >1</td>\n",
       "      <td id=\"T_7a069_row79_col6\" class=\"data row79 col6\" >1</td>\n",
       "      <td id=\"T_7a069_row79_col7\" class=\"data row79 col7\" >1</td>\n",
       "    </tr>\n",
       "    <tr>\n",
       "      <th id=\"T_7a069_level0_row80\" class=\"row_heading level0 row80\" >0x50 (080)</th>\n",
       "      <td id=\"T_7a069_row80_col0\" class=\"data row80 col0\" >0</td>\n",
       "      <td id=\"T_7a069_row80_col1\" class=\"data row80 col1\" >1</td>\n",
       "      <td id=\"T_7a069_row80_col2\" class=\"data row80 col2\" >0</td>\n",
       "      <td id=\"T_7a069_row80_col3\" class=\"data row80 col3\" >1</td>\n",
       "      <td id=\"T_7a069_row80_col4\" class=\"data row80 col4\" >0</td>\n",
       "      <td id=\"T_7a069_row80_col5\" class=\"data row80 col5\" >0</td>\n",
       "      <td id=\"T_7a069_row80_col6\" class=\"data row80 col6\" >0</td>\n",
       "      <td id=\"T_7a069_row80_col7\" class=\"data row80 col7\" >0</td>\n",
       "    </tr>\n",
       "    <tr>\n",
       "      <th id=\"T_7a069_level0_row81\" class=\"row_heading level0 row81\" >0x51 (081)</th>\n",
       "      <td id=\"T_7a069_row81_col0\" class=\"data row81 col0\" >0</td>\n",
       "      <td id=\"T_7a069_row81_col1\" class=\"data row81 col1\" >1</td>\n",
       "      <td id=\"T_7a069_row81_col2\" class=\"data row81 col2\" >0</td>\n",
       "      <td id=\"T_7a069_row81_col3\" class=\"data row81 col3\" >1</td>\n",
       "      <td id=\"T_7a069_row81_col4\" class=\"data row81 col4\" >0</td>\n",
       "      <td id=\"T_7a069_row81_col5\" class=\"data row81 col5\" >0</td>\n",
       "      <td id=\"T_7a069_row81_col6\" class=\"data row81 col6\" >0</td>\n",
       "      <td id=\"T_7a069_row81_col7\" class=\"data row81 col7\" >1</td>\n",
       "    </tr>\n",
       "    <tr>\n",
       "      <th id=\"T_7a069_level0_row82\" class=\"row_heading level0 row82\" >0x52 (082)</th>\n",
       "      <td id=\"T_7a069_row82_col0\" class=\"data row82 col0\" >0</td>\n",
       "      <td id=\"T_7a069_row82_col1\" class=\"data row82 col1\" >1</td>\n",
       "      <td id=\"T_7a069_row82_col2\" class=\"data row82 col2\" >0</td>\n",
       "      <td id=\"T_7a069_row82_col3\" class=\"data row82 col3\" >1</td>\n",
       "      <td id=\"T_7a069_row82_col4\" class=\"data row82 col4\" >0</td>\n",
       "      <td id=\"T_7a069_row82_col5\" class=\"data row82 col5\" >0</td>\n",
       "      <td id=\"T_7a069_row82_col6\" class=\"data row82 col6\" >1</td>\n",
       "      <td id=\"T_7a069_row82_col7\" class=\"data row82 col7\" >0</td>\n",
       "    </tr>\n",
       "    <tr>\n",
       "      <th id=\"T_7a069_level0_row83\" class=\"row_heading level0 row83\" >0x53 (083)</th>\n",
       "      <td id=\"T_7a069_row83_col0\" class=\"data row83 col0\" >0</td>\n",
       "      <td id=\"T_7a069_row83_col1\" class=\"data row83 col1\" >1</td>\n",
       "      <td id=\"T_7a069_row83_col2\" class=\"data row83 col2\" >0</td>\n",
       "      <td id=\"T_7a069_row83_col3\" class=\"data row83 col3\" >1</td>\n",
       "      <td id=\"T_7a069_row83_col4\" class=\"data row83 col4\" >0</td>\n",
       "      <td id=\"T_7a069_row83_col5\" class=\"data row83 col5\" >0</td>\n",
       "      <td id=\"T_7a069_row83_col6\" class=\"data row83 col6\" >1</td>\n",
       "      <td id=\"T_7a069_row83_col7\" class=\"data row83 col7\" >1</td>\n",
       "    </tr>\n",
       "    <tr>\n",
       "      <th id=\"T_7a069_level0_row84\" class=\"row_heading level0 row84\" >0x54 (084)</th>\n",
       "      <td id=\"T_7a069_row84_col0\" class=\"data row84 col0\" >0</td>\n",
       "      <td id=\"T_7a069_row84_col1\" class=\"data row84 col1\" >1</td>\n",
       "      <td id=\"T_7a069_row84_col2\" class=\"data row84 col2\" >0</td>\n",
       "      <td id=\"T_7a069_row84_col3\" class=\"data row84 col3\" >1</td>\n",
       "      <td id=\"T_7a069_row84_col4\" class=\"data row84 col4\" >0</td>\n",
       "      <td id=\"T_7a069_row84_col5\" class=\"data row84 col5\" >1</td>\n",
       "      <td id=\"T_7a069_row84_col6\" class=\"data row84 col6\" >0</td>\n",
       "      <td id=\"T_7a069_row84_col7\" class=\"data row84 col7\" >0</td>\n",
       "    </tr>\n",
       "    <tr>\n",
       "      <th id=\"T_7a069_level0_row85\" class=\"row_heading level0 row85\" >0x55 (085)</th>\n",
       "      <td id=\"T_7a069_row85_col0\" class=\"data row85 col0\" >0</td>\n",
       "      <td id=\"T_7a069_row85_col1\" class=\"data row85 col1\" >1</td>\n",
       "      <td id=\"T_7a069_row85_col2\" class=\"data row85 col2\" >0</td>\n",
       "      <td id=\"T_7a069_row85_col3\" class=\"data row85 col3\" >1</td>\n",
       "      <td id=\"T_7a069_row85_col4\" class=\"data row85 col4\" >0</td>\n",
       "      <td id=\"T_7a069_row85_col5\" class=\"data row85 col5\" >1</td>\n",
       "      <td id=\"T_7a069_row85_col6\" class=\"data row85 col6\" >0</td>\n",
       "      <td id=\"T_7a069_row85_col7\" class=\"data row85 col7\" >1</td>\n",
       "    </tr>\n",
       "    <tr>\n",
       "      <th id=\"T_7a069_level0_row86\" class=\"row_heading level0 row86\" >0x56 (086)</th>\n",
       "      <td id=\"T_7a069_row86_col0\" class=\"data row86 col0\" >0</td>\n",
       "      <td id=\"T_7a069_row86_col1\" class=\"data row86 col1\" >1</td>\n",
       "      <td id=\"T_7a069_row86_col2\" class=\"data row86 col2\" >0</td>\n",
       "      <td id=\"T_7a069_row86_col3\" class=\"data row86 col3\" >1</td>\n",
       "      <td id=\"T_7a069_row86_col4\" class=\"data row86 col4\" >0</td>\n",
       "      <td id=\"T_7a069_row86_col5\" class=\"data row86 col5\" >1</td>\n",
       "      <td id=\"T_7a069_row86_col6\" class=\"data row86 col6\" >1</td>\n",
       "      <td id=\"T_7a069_row86_col7\" class=\"data row86 col7\" >0</td>\n",
       "    </tr>\n",
       "    <tr>\n",
       "      <th id=\"T_7a069_level0_row87\" class=\"row_heading level0 row87\" >0x57 (087)</th>\n",
       "      <td id=\"T_7a069_row87_col0\" class=\"data row87 col0\" >0</td>\n",
       "      <td id=\"T_7a069_row87_col1\" class=\"data row87 col1\" >1</td>\n",
       "      <td id=\"T_7a069_row87_col2\" class=\"data row87 col2\" >0</td>\n",
       "      <td id=\"T_7a069_row87_col3\" class=\"data row87 col3\" >1</td>\n",
       "      <td id=\"T_7a069_row87_col4\" class=\"data row87 col4\" >0</td>\n",
       "      <td id=\"T_7a069_row87_col5\" class=\"data row87 col5\" >1</td>\n",
       "      <td id=\"T_7a069_row87_col6\" class=\"data row87 col6\" >1</td>\n",
       "      <td id=\"T_7a069_row87_col7\" class=\"data row87 col7\" >1</td>\n",
       "    </tr>\n",
       "    <tr>\n",
       "      <th id=\"T_7a069_level0_row88\" class=\"row_heading level0 row88\" >0x58 (088)</th>\n",
       "      <td id=\"T_7a069_row88_col0\" class=\"data row88 col0\" >0</td>\n",
       "      <td id=\"T_7a069_row88_col1\" class=\"data row88 col1\" >1</td>\n",
       "      <td id=\"T_7a069_row88_col2\" class=\"data row88 col2\" >0</td>\n",
       "      <td id=\"T_7a069_row88_col3\" class=\"data row88 col3\" >1</td>\n",
       "      <td id=\"T_7a069_row88_col4\" class=\"data row88 col4\" >1</td>\n",
       "      <td id=\"T_7a069_row88_col5\" class=\"data row88 col5\" >0</td>\n",
       "      <td id=\"T_7a069_row88_col6\" class=\"data row88 col6\" >0</td>\n",
       "      <td id=\"T_7a069_row88_col7\" class=\"data row88 col7\" >0</td>\n",
       "    </tr>\n",
       "    <tr>\n",
       "      <th id=\"T_7a069_level0_row89\" class=\"row_heading level0 row89\" >0x59 (089)</th>\n",
       "      <td id=\"T_7a069_row89_col0\" class=\"data row89 col0\" >0</td>\n",
       "      <td id=\"T_7a069_row89_col1\" class=\"data row89 col1\" >1</td>\n",
       "      <td id=\"T_7a069_row89_col2\" class=\"data row89 col2\" >0</td>\n",
       "      <td id=\"T_7a069_row89_col3\" class=\"data row89 col3\" >1</td>\n",
       "      <td id=\"T_7a069_row89_col4\" class=\"data row89 col4\" >1</td>\n",
       "      <td id=\"T_7a069_row89_col5\" class=\"data row89 col5\" >0</td>\n",
       "      <td id=\"T_7a069_row89_col6\" class=\"data row89 col6\" >0</td>\n",
       "      <td id=\"T_7a069_row89_col7\" class=\"data row89 col7\" >1</td>\n",
       "    </tr>\n",
       "    <tr>\n",
       "      <th id=\"T_7a069_level0_row90\" class=\"row_heading level0 row90\" >0x5a (090)</th>\n",
       "      <td id=\"T_7a069_row90_col0\" class=\"data row90 col0\" >0</td>\n",
       "      <td id=\"T_7a069_row90_col1\" class=\"data row90 col1\" >1</td>\n",
       "      <td id=\"T_7a069_row90_col2\" class=\"data row90 col2\" >0</td>\n",
       "      <td id=\"T_7a069_row90_col3\" class=\"data row90 col3\" >1</td>\n",
       "      <td id=\"T_7a069_row90_col4\" class=\"data row90 col4\" >1</td>\n",
       "      <td id=\"T_7a069_row90_col5\" class=\"data row90 col5\" >0</td>\n",
       "      <td id=\"T_7a069_row90_col6\" class=\"data row90 col6\" >1</td>\n",
       "      <td id=\"T_7a069_row90_col7\" class=\"data row90 col7\" >0</td>\n",
       "    </tr>\n",
       "    <tr>\n",
       "      <th id=\"T_7a069_level0_row91\" class=\"row_heading level0 row91\" >0x5b (091)</th>\n",
       "      <td id=\"T_7a069_row91_col0\" class=\"data row91 col0\" >0</td>\n",
       "      <td id=\"T_7a069_row91_col1\" class=\"data row91 col1\" >1</td>\n",
       "      <td id=\"T_7a069_row91_col2\" class=\"data row91 col2\" >0</td>\n",
       "      <td id=\"T_7a069_row91_col3\" class=\"data row91 col3\" >1</td>\n",
       "      <td id=\"T_7a069_row91_col4\" class=\"data row91 col4\" >1</td>\n",
       "      <td id=\"T_7a069_row91_col5\" class=\"data row91 col5\" >0</td>\n",
       "      <td id=\"T_7a069_row91_col6\" class=\"data row91 col6\" >1</td>\n",
       "      <td id=\"T_7a069_row91_col7\" class=\"data row91 col7\" >1</td>\n",
       "    </tr>\n",
       "    <tr>\n",
       "      <th id=\"T_7a069_level0_row92\" class=\"row_heading level0 row92\" >0x5c (092)</th>\n",
       "      <td id=\"T_7a069_row92_col0\" class=\"data row92 col0\" >0</td>\n",
       "      <td id=\"T_7a069_row92_col1\" class=\"data row92 col1\" >1</td>\n",
       "      <td id=\"T_7a069_row92_col2\" class=\"data row92 col2\" >0</td>\n",
       "      <td id=\"T_7a069_row92_col3\" class=\"data row92 col3\" >1</td>\n",
       "      <td id=\"T_7a069_row92_col4\" class=\"data row92 col4\" >1</td>\n",
       "      <td id=\"T_7a069_row92_col5\" class=\"data row92 col5\" >1</td>\n",
       "      <td id=\"T_7a069_row92_col6\" class=\"data row92 col6\" >0</td>\n",
       "      <td id=\"T_7a069_row92_col7\" class=\"data row92 col7\" >0</td>\n",
       "    </tr>\n",
       "    <tr>\n",
       "      <th id=\"T_7a069_level0_row93\" class=\"row_heading level0 row93\" >0x5d (093)</th>\n",
       "      <td id=\"T_7a069_row93_col0\" class=\"data row93 col0\" >0</td>\n",
       "      <td id=\"T_7a069_row93_col1\" class=\"data row93 col1\" >1</td>\n",
       "      <td id=\"T_7a069_row93_col2\" class=\"data row93 col2\" >0</td>\n",
       "      <td id=\"T_7a069_row93_col3\" class=\"data row93 col3\" >1</td>\n",
       "      <td id=\"T_7a069_row93_col4\" class=\"data row93 col4\" >1</td>\n",
       "      <td id=\"T_7a069_row93_col5\" class=\"data row93 col5\" >1</td>\n",
       "      <td id=\"T_7a069_row93_col6\" class=\"data row93 col6\" >0</td>\n",
       "      <td id=\"T_7a069_row93_col7\" class=\"data row93 col7\" >1</td>\n",
       "    </tr>\n",
       "    <tr>\n",
       "      <th id=\"T_7a069_level0_row94\" class=\"row_heading level0 row94\" >0x5e (094)</th>\n",
       "      <td id=\"T_7a069_row94_col0\" class=\"data row94 col0\" >0</td>\n",
       "      <td id=\"T_7a069_row94_col1\" class=\"data row94 col1\" >1</td>\n",
       "      <td id=\"T_7a069_row94_col2\" class=\"data row94 col2\" >0</td>\n",
       "      <td id=\"T_7a069_row94_col3\" class=\"data row94 col3\" >1</td>\n",
       "      <td id=\"T_7a069_row94_col4\" class=\"data row94 col4\" >1</td>\n",
       "      <td id=\"T_7a069_row94_col5\" class=\"data row94 col5\" >1</td>\n",
       "      <td id=\"T_7a069_row94_col6\" class=\"data row94 col6\" >1</td>\n",
       "      <td id=\"T_7a069_row94_col7\" class=\"data row94 col7\" >0</td>\n",
       "    </tr>\n",
       "    <tr>\n",
       "      <th id=\"T_7a069_level0_row95\" class=\"row_heading level0 row95\" >0x5f (095)</th>\n",
       "      <td id=\"T_7a069_row95_col0\" class=\"data row95 col0\" >0</td>\n",
       "      <td id=\"T_7a069_row95_col1\" class=\"data row95 col1\" >1</td>\n",
       "      <td id=\"T_7a069_row95_col2\" class=\"data row95 col2\" >0</td>\n",
       "      <td id=\"T_7a069_row95_col3\" class=\"data row95 col3\" >1</td>\n",
       "      <td id=\"T_7a069_row95_col4\" class=\"data row95 col4\" >1</td>\n",
       "      <td id=\"T_7a069_row95_col5\" class=\"data row95 col5\" >1</td>\n",
       "      <td id=\"T_7a069_row95_col6\" class=\"data row95 col6\" >1</td>\n",
       "      <td id=\"T_7a069_row95_col7\" class=\"data row95 col7\" >1</td>\n",
       "    </tr>\n",
       "    <tr>\n",
       "      <th id=\"T_7a069_level0_row96\" class=\"row_heading level0 row96\" >0x60 (096)</th>\n",
       "      <td id=\"T_7a069_row96_col0\" class=\"data row96 col0\" >0</td>\n",
       "      <td id=\"T_7a069_row96_col1\" class=\"data row96 col1\" >1</td>\n",
       "      <td id=\"T_7a069_row96_col2\" class=\"data row96 col2\" >1</td>\n",
       "      <td id=\"T_7a069_row96_col3\" class=\"data row96 col3\" >0</td>\n",
       "      <td id=\"T_7a069_row96_col4\" class=\"data row96 col4\" >0</td>\n",
       "      <td id=\"T_7a069_row96_col5\" class=\"data row96 col5\" >0</td>\n",
       "      <td id=\"T_7a069_row96_col6\" class=\"data row96 col6\" >0</td>\n",
       "      <td id=\"T_7a069_row96_col7\" class=\"data row96 col7\" >0</td>\n",
       "    </tr>\n",
       "    <tr>\n",
       "      <th id=\"T_7a069_level0_row97\" class=\"row_heading level0 row97\" >0x61 (097)</th>\n",
       "      <td id=\"T_7a069_row97_col0\" class=\"data row97 col0\" >0</td>\n",
       "      <td id=\"T_7a069_row97_col1\" class=\"data row97 col1\" >1</td>\n",
       "      <td id=\"T_7a069_row97_col2\" class=\"data row97 col2\" >1</td>\n",
       "      <td id=\"T_7a069_row97_col3\" class=\"data row97 col3\" >0</td>\n",
       "      <td id=\"T_7a069_row97_col4\" class=\"data row97 col4\" >0</td>\n",
       "      <td id=\"T_7a069_row97_col5\" class=\"data row97 col5\" >0</td>\n",
       "      <td id=\"T_7a069_row97_col6\" class=\"data row97 col6\" >0</td>\n",
       "      <td id=\"T_7a069_row97_col7\" class=\"data row97 col7\" >1</td>\n",
       "    </tr>\n",
       "    <tr>\n",
       "      <th id=\"T_7a069_level0_row98\" class=\"row_heading level0 row98\" >0x62 (098)</th>\n",
       "      <td id=\"T_7a069_row98_col0\" class=\"data row98 col0\" >0</td>\n",
       "      <td id=\"T_7a069_row98_col1\" class=\"data row98 col1\" >1</td>\n",
       "      <td id=\"T_7a069_row98_col2\" class=\"data row98 col2\" >1</td>\n",
       "      <td id=\"T_7a069_row98_col3\" class=\"data row98 col3\" >0</td>\n",
       "      <td id=\"T_7a069_row98_col4\" class=\"data row98 col4\" >0</td>\n",
       "      <td id=\"T_7a069_row98_col5\" class=\"data row98 col5\" >0</td>\n",
       "      <td id=\"T_7a069_row98_col6\" class=\"data row98 col6\" >1</td>\n",
       "      <td id=\"T_7a069_row98_col7\" class=\"data row98 col7\" >0</td>\n",
       "    </tr>\n",
       "    <tr>\n",
       "      <th id=\"T_7a069_level0_row99\" class=\"row_heading level0 row99\" >0x63 (099)</th>\n",
       "      <td id=\"T_7a069_row99_col0\" class=\"data row99 col0\" >0</td>\n",
       "      <td id=\"T_7a069_row99_col1\" class=\"data row99 col1\" >1</td>\n",
       "      <td id=\"T_7a069_row99_col2\" class=\"data row99 col2\" >1</td>\n",
       "      <td id=\"T_7a069_row99_col3\" class=\"data row99 col3\" >0</td>\n",
       "      <td id=\"T_7a069_row99_col4\" class=\"data row99 col4\" >0</td>\n",
       "      <td id=\"T_7a069_row99_col5\" class=\"data row99 col5\" >0</td>\n",
       "      <td id=\"T_7a069_row99_col6\" class=\"data row99 col6\" >1</td>\n",
       "      <td id=\"T_7a069_row99_col7\" class=\"data row99 col7\" >1</td>\n",
       "    </tr>\n",
       "    <tr>\n",
       "      <th id=\"T_7a069_level0_row100\" class=\"row_heading level0 row100\" >0x64 (100)</th>\n",
       "      <td id=\"T_7a069_row100_col0\" class=\"data row100 col0\" >0</td>\n",
       "      <td id=\"T_7a069_row100_col1\" class=\"data row100 col1\" >1</td>\n",
       "      <td id=\"T_7a069_row100_col2\" class=\"data row100 col2\" >1</td>\n",
       "      <td id=\"T_7a069_row100_col3\" class=\"data row100 col3\" >0</td>\n",
       "      <td id=\"T_7a069_row100_col4\" class=\"data row100 col4\" >0</td>\n",
       "      <td id=\"T_7a069_row100_col5\" class=\"data row100 col5\" >1</td>\n",
       "      <td id=\"T_7a069_row100_col6\" class=\"data row100 col6\" >0</td>\n",
       "      <td id=\"T_7a069_row100_col7\" class=\"data row100 col7\" >0</td>\n",
       "    </tr>\n",
       "    <tr>\n",
       "      <th id=\"T_7a069_level0_row101\" class=\"row_heading level0 row101\" >0x65 (101)</th>\n",
       "      <td id=\"T_7a069_row101_col0\" class=\"data row101 col0\" >0</td>\n",
       "      <td id=\"T_7a069_row101_col1\" class=\"data row101 col1\" >1</td>\n",
       "      <td id=\"T_7a069_row101_col2\" class=\"data row101 col2\" >1</td>\n",
       "      <td id=\"T_7a069_row101_col3\" class=\"data row101 col3\" >0</td>\n",
       "      <td id=\"T_7a069_row101_col4\" class=\"data row101 col4\" >0</td>\n",
       "      <td id=\"T_7a069_row101_col5\" class=\"data row101 col5\" >1</td>\n",
       "      <td id=\"T_7a069_row101_col6\" class=\"data row101 col6\" >0</td>\n",
       "      <td id=\"T_7a069_row101_col7\" class=\"data row101 col7\" >1</td>\n",
       "    </tr>\n",
       "    <tr>\n",
       "      <th id=\"T_7a069_level0_row102\" class=\"row_heading level0 row102\" >0x66 (102)</th>\n",
       "      <td id=\"T_7a069_row102_col0\" class=\"data row102 col0\" >0</td>\n",
       "      <td id=\"T_7a069_row102_col1\" class=\"data row102 col1\" >1</td>\n",
       "      <td id=\"T_7a069_row102_col2\" class=\"data row102 col2\" >1</td>\n",
       "      <td id=\"T_7a069_row102_col3\" class=\"data row102 col3\" >0</td>\n",
       "      <td id=\"T_7a069_row102_col4\" class=\"data row102 col4\" >0</td>\n",
       "      <td id=\"T_7a069_row102_col5\" class=\"data row102 col5\" >1</td>\n",
       "      <td id=\"T_7a069_row102_col6\" class=\"data row102 col6\" >1</td>\n",
       "      <td id=\"T_7a069_row102_col7\" class=\"data row102 col7\" >0</td>\n",
       "    </tr>\n",
       "    <tr>\n",
       "      <th id=\"T_7a069_level0_row103\" class=\"row_heading level0 row103\" >0x67 (103)</th>\n",
       "      <td id=\"T_7a069_row103_col0\" class=\"data row103 col0\" >0</td>\n",
       "      <td id=\"T_7a069_row103_col1\" class=\"data row103 col1\" >1</td>\n",
       "      <td id=\"T_7a069_row103_col2\" class=\"data row103 col2\" >1</td>\n",
       "      <td id=\"T_7a069_row103_col3\" class=\"data row103 col3\" >0</td>\n",
       "      <td id=\"T_7a069_row103_col4\" class=\"data row103 col4\" >0</td>\n",
       "      <td id=\"T_7a069_row103_col5\" class=\"data row103 col5\" >1</td>\n",
       "      <td id=\"T_7a069_row103_col6\" class=\"data row103 col6\" >1</td>\n",
       "      <td id=\"T_7a069_row103_col7\" class=\"data row103 col7\" >1</td>\n",
       "    </tr>\n",
       "    <tr>\n",
       "      <th id=\"T_7a069_level0_row104\" class=\"row_heading level0 row104\" >0x68 (104)</th>\n",
       "      <td id=\"T_7a069_row104_col0\" class=\"data row104 col0\" >0</td>\n",
       "      <td id=\"T_7a069_row104_col1\" class=\"data row104 col1\" >1</td>\n",
       "      <td id=\"T_7a069_row104_col2\" class=\"data row104 col2\" >1</td>\n",
       "      <td id=\"T_7a069_row104_col3\" class=\"data row104 col3\" >0</td>\n",
       "      <td id=\"T_7a069_row104_col4\" class=\"data row104 col4\" >1</td>\n",
       "      <td id=\"T_7a069_row104_col5\" class=\"data row104 col5\" >0</td>\n",
       "      <td id=\"T_7a069_row104_col6\" class=\"data row104 col6\" >0</td>\n",
       "      <td id=\"T_7a069_row104_col7\" class=\"data row104 col7\" >0</td>\n",
       "    </tr>\n",
       "    <tr>\n",
       "      <th id=\"T_7a069_level0_row105\" class=\"row_heading level0 row105\" >0x69 (105)</th>\n",
       "      <td id=\"T_7a069_row105_col0\" class=\"data row105 col0\" >0</td>\n",
       "      <td id=\"T_7a069_row105_col1\" class=\"data row105 col1\" >1</td>\n",
       "      <td id=\"T_7a069_row105_col2\" class=\"data row105 col2\" >1</td>\n",
       "      <td id=\"T_7a069_row105_col3\" class=\"data row105 col3\" >0</td>\n",
       "      <td id=\"T_7a069_row105_col4\" class=\"data row105 col4\" >1</td>\n",
       "      <td id=\"T_7a069_row105_col5\" class=\"data row105 col5\" >0</td>\n",
       "      <td id=\"T_7a069_row105_col6\" class=\"data row105 col6\" >0</td>\n",
       "      <td id=\"T_7a069_row105_col7\" class=\"data row105 col7\" >1</td>\n",
       "    </tr>\n",
       "    <tr>\n",
       "      <th id=\"T_7a069_level0_row106\" class=\"row_heading level0 row106\" >0x6a (106)</th>\n",
       "      <td id=\"T_7a069_row106_col0\" class=\"data row106 col0\" >0</td>\n",
       "      <td id=\"T_7a069_row106_col1\" class=\"data row106 col1\" >1</td>\n",
       "      <td id=\"T_7a069_row106_col2\" class=\"data row106 col2\" >1</td>\n",
       "      <td id=\"T_7a069_row106_col3\" class=\"data row106 col3\" >0</td>\n",
       "      <td id=\"T_7a069_row106_col4\" class=\"data row106 col4\" >1</td>\n",
       "      <td id=\"T_7a069_row106_col5\" class=\"data row106 col5\" >0</td>\n",
       "      <td id=\"T_7a069_row106_col6\" class=\"data row106 col6\" >1</td>\n",
       "      <td id=\"T_7a069_row106_col7\" class=\"data row106 col7\" >0</td>\n",
       "    </tr>\n",
       "    <tr>\n",
       "      <th id=\"T_7a069_level0_row107\" class=\"row_heading level0 row107\" >0x6b (107)</th>\n",
       "      <td id=\"T_7a069_row107_col0\" class=\"data row107 col0\" >0</td>\n",
       "      <td id=\"T_7a069_row107_col1\" class=\"data row107 col1\" >1</td>\n",
       "      <td id=\"T_7a069_row107_col2\" class=\"data row107 col2\" >1</td>\n",
       "      <td id=\"T_7a069_row107_col3\" class=\"data row107 col3\" >0</td>\n",
       "      <td id=\"T_7a069_row107_col4\" class=\"data row107 col4\" >1</td>\n",
       "      <td id=\"T_7a069_row107_col5\" class=\"data row107 col5\" >0</td>\n",
       "      <td id=\"T_7a069_row107_col6\" class=\"data row107 col6\" >1</td>\n",
       "      <td id=\"T_7a069_row107_col7\" class=\"data row107 col7\" >1</td>\n",
       "    </tr>\n",
       "    <tr>\n",
       "      <th id=\"T_7a069_level0_row108\" class=\"row_heading level0 row108\" >0x6c (108)</th>\n",
       "      <td id=\"T_7a069_row108_col0\" class=\"data row108 col0\" >0</td>\n",
       "      <td id=\"T_7a069_row108_col1\" class=\"data row108 col1\" >1</td>\n",
       "      <td id=\"T_7a069_row108_col2\" class=\"data row108 col2\" >1</td>\n",
       "      <td id=\"T_7a069_row108_col3\" class=\"data row108 col3\" >0</td>\n",
       "      <td id=\"T_7a069_row108_col4\" class=\"data row108 col4\" >1</td>\n",
       "      <td id=\"T_7a069_row108_col5\" class=\"data row108 col5\" >1</td>\n",
       "      <td id=\"T_7a069_row108_col6\" class=\"data row108 col6\" >0</td>\n",
       "      <td id=\"T_7a069_row108_col7\" class=\"data row108 col7\" >0</td>\n",
       "    </tr>\n",
       "    <tr>\n",
       "      <th id=\"T_7a069_level0_row109\" class=\"row_heading level0 row109\" >0x6d (109)</th>\n",
       "      <td id=\"T_7a069_row109_col0\" class=\"data row109 col0\" >0</td>\n",
       "      <td id=\"T_7a069_row109_col1\" class=\"data row109 col1\" >1</td>\n",
       "      <td id=\"T_7a069_row109_col2\" class=\"data row109 col2\" >1</td>\n",
       "      <td id=\"T_7a069_row109_col3\" class=\"data row109 col3\" >0</td>\n",
       "      <td id=\"T_7a069_row109_col4\" class=\"data row109 col4\" >1</td>\n",
       "      <td id=\"T_7a069_row109_col5\" class=\"data row109 col5\" >1</td>\n",
       "      <td id=\"T_7a069_row109_col6\" class=\"data row109 col6\" >0</td>\n",
       "      <td id=\"T_7a069_row109_col7\" class=\"data row109 col7\" >1</td>\n",
       "    </tr>\n",
       "    <tr>\n",
       "      <th id=\"T_7a069_level0_row110\" class=\"row_heading level0 row110\" >0x6e (110)</th>\n",
       "      <td id=\"T_7a069_row110_col0\" class=\"data row110 col0\" >0</td>\n",
       "      <td id=\"T_7a069_row110_col1\" class=\"data row110 col1\" >1</td>\n",
       "      <td id=\"T_7a069_row110_col2\" class=\"data row110 col2\" >1</td>\n",
       "      <td id=\"T_7a069_row110_col3\" class=\"data row110 col3\" >0</td>\n",
       "      <td id=\"T_7a069_row110_col4\" class=\"data row110 col4\" >1</td>\n",
       "      <td id=\"T_7a069_row110_col5\" class=\"data row110 col5\" >1</td>\n",
       "      <td id=\"T_7a069_row110_col6\" class=\"data row110 col6\" >1</td>\n",
       "      <td id=\"T_7a069_row110_col7\" class=\"data row110 col7\" >0</td>\n",
       "    </tr>\n",
       "    <tr>\n",
       "      <th id=\"T_7a069_level0_row111\" class=\"row_heading level0 row111\" >0x6f (111)</th>\n",
       "      <td id=\"T_7a069_row111_col0\" class=\"data row111 col0\" >0</td>\n",
       "      <td id=\"T_7a069_row111_col1\" class=\"data row111 col1\" >1</td>\n",
       "      <td id=\"T_7a069_row111_col2\" class=\"data row111 col2\" >1</td>\n",
       "      <td id=\"T_7a069_row111_col3\" class=\"data row111 col3\" >0</td>\n",
       "      <td id=\"T_7a069_row111_col4\" class=\"data row111 col4\" >1</td>\n",
       "      <td id=\"T_7a069_row111_col5\" class=\"data row111 col5\" >1</td>\n",
       "      <td id=\"T_7a069_row111_col6\" class=\"data row111 col6\" >1</td>\n",
       "      <td id=\"T_7a069_row111_col7\" class=\"data row111 col7\" >1</td>\n",
       "    </tr>\n",
       "    <tr>\n",
       "      <th id=\"T_7a069_level0_row112\" class=\"row_heading level0 row112\" >0x70 (112)</th>\n",
       "      <td id=\"T_7a069_row112_col0\" class=\"data row112 col0\" >0</td>\n",
       "      <td id=\"T_7a069_row112_col1\" class=\"data row112 col1\" >1</td>\n",
       "      <td id=\"T_7a069_row112_col2\" class=\"data row112 col2\" >1</td>\n",
       "      <td id=\"T_7a069_row112_col3\" class=\"data row112 col3\" >1</td>\n",
       "      <td id=\"T_7a069_row112_col4\" class=\"data row112 col4\" >0</td>\n",
       "      <td id=\"T_7a069_row112_col5\" class=\"data row112 col5\" >0</td>\n",
       "      <td id=\"T_7a069_row112_col6\" class=\"data row112 col6\" >0</td>\n",
       "      <td id=\"T_7a069_row112_col7\" class=\"data row112 col7\" >0</td>\n",
       "    </tr>\n",
       "    <tr>\n",
       "      <th id=\"T_7a069_level0_row113\" class=\"row_heading level0 row113\" >0x71 (113)</th>\n",
       "      <td id=\"T_7a069_row113_col0\" class=\"data row113 col0\" >0</td>\n",
       "      <td id=\"T_7a069_row113_col1\" class=\"data row113 col1\" >1</td>\n",
       "      <td id=\"T_7a069_row113_col2\" class=\"data row113 col2\" >1</td>\n",
       "      <td id=\"T_7a069_row113_col3\" class=\"data row113 col3\" >1</td>\n",
       "      <td id=\"T_7a069_row113_col4\" class=\"data row113 col4\" >0</td>\n",
       "      <td id=\"T_7a069_row113_col5\" class=\"data row113 col5\" >0</td>\n",
       "      <td id=\"T_7a069_row113_col6\" class=\"data row113 col6\" >0</td>\n",
       "      <td id=\"T_7a069_row113_col7\" class=\"data row113 col7\" >1</td>\n",
       "    </tr>\n",
       "    <tr>\n",
       "      <th id=\"T_7a069_level0_row114\" class=\"row_heading level0 row114\" >0x72 (114)</th>\n",
       "      <td id=\"T_7a069_row114_col0\" class=\"data row114 col0\" >0</td>\n",
       "      <td id=\"T_7a069_row114_col1\" class=\"data row114 col1\" >1</td>\n",
       "      <td id=\"T_7a069_row114_col2\" class=\"data row114 col2\" >1</td>\n",
       "      <td id=\"T_7a069_row114_col3\" class=\"data row114 col3\" >1</td>\n",
       "      <td id=\"T_7a069_row114_col4\" class=\"data row114 col4\" >0</td>\n",
       "      <td id=\"T_7a069_row114_col5\" class=\"data row114 col5\" >0</td>\n",
       "      <td id=\"T_7a069_row114_col6\" class=\"data row114 col6\" >1</td>\n",
       "      <td id=\"T_7a069_row114_col7\" class=\"data row114 col7\" >0</td>\n",
       "    </tr>\n",
       "    <tr>\n",
       "      <th id=\"T_7a069_level0_row115\" class=\"row_heading level0 row115\" >0x73 (115)</th>\n",
       "      <td id=\"T_7a069_row115_col0\" class=\"data row115 col0\" >0</td>\n",
       "      <td id=\"T_7a069_row115_col1\" class=\"data row115 col1\" >1</td>\n",
       "      <td id=\"T_7a069_row115_col2\" class=\"data row115 col2\" >1</td>\n",
       "      <td id=\"T_7a069_row115_col3\" class=\"data row115 col3\" >1</td>\n",
       "      <td id=\"T_7a069_row115_col4\" class=\"data row115 col4\" >0</td>\n",
       "      <td id=\"T_7a069_row115_col5\" class=\"data row115 col5\" >0</td>\n",
       "      <td id=\"T_7a069_row115_col6\" class=\"data row115 col6\" >1</td>\n",
       "      <td id=\"T_7a069_row115_col7\" class=\"data row115 col7\" >1</td>\n",
       "    </tr>\n",
       "    <tr>\n",
       "      <th id=\"T_7a069_level0_row116\" class=\"row_heading level0 row116\" >0x74 (116)</th>\n",
       "      <td id=\"T_7a069_row116_col0\" class=\"data row116 col0\" >0</td>\n",
       "      <td id=\"T_7a069_row116_col1\" class=\"data row116 col1\" >1</td>\n",
       "      <td id=\"T_7a069_row116_col2\" class=\"data row116 col2\" >1</td>\n",
       "      <td id=\"T_7a069_row116_col3\" class=\"data row116 col3\" >1</td>\n",
       "      <td id=\"T_7a069_row116_col4\" class=\"data row116 col4\" >0</td>\n",
       "      <td id=\"T_7a069_row116_col5\" class=\"data row116 col5\" >1</td>\n",
       "      <td id=\"T_7a069_row116_col6\" class=\"data row116 col6\" >0</td>\n",
       "      <td id=\"T_7a069_row116_col7\" class=\"data row116 col7\" >0</td>\n",
       "    </tr>\n",
       "    <tr>\n",
       "      <th id=\"T_7a069_level0_row117\" class=\"row_heading level0 row117\" >0x75 (117)</th>\n",
       "      <td id=\"T_7a069_row117_col0\" class=\"data row117 col0\" >0</td>\n",
       "      <td id=\"T_7a069_row117_col1\" class=\"data row117 col1\" >1</td>\n",
       "      <td id=\"T_7a069_row117_col2\" class=\"data row117 col2\" >1</td>\n",
       "      <td id=\"T_7a069_row117_col3\" class=\"data row117 col3\" >1</td>\n",
       "      <td id=\"T_7a069_row117_col4\" class=\"data row117 col4\" >0</td>\n",
       "      <td id=\"T_7a069_row117_col5\" class=\"data row117 col5\" >1</td>\n",
       "      <td id=\"T_7a069_row117_col6\" class=\"data row117 col6\" >0</td>\n",
       "      <td id=\"T_7a069_row117_col7\" class=\"data row117 col7\" >1</td>\n",
       "    </tr>\n",
       "    <tr>\n",
       "      <th id=\"T_7a069_level0_row118\" class=\"row_heading level0 row118\" >0x76 (118)</th>\n",
       "      <td id=\"T_7a069_row118_col0\" class=\"data row118 col0\" >0</td>\n",
       "      <td id=\"T_7a069_row118_col1\" class=\"data row118 col1\" >1</td>\n",
       "      <td id=\"T_7a069_row118_col2\" class=\"data row118 col2\" >1</td>\n",
       "      <td id=\"T_7a069_row118_col3\" class=\"data row118 col3\" >1</td>\n",
       "      <td id=\"T_7a069_row118_col4\" class=\"data row118 col4\" >0</td>\n",
       "      <td id=\"T_7a069_row118_col5\" class=\"data row118 col5\" >1</td>\n",
       "      <td id=\"T_7a069_row118_col6\" class=\"data row118 col6\" >1</td>\n",
       "      <td id=\"T_7a069_row118_col7\" class=\"data row118 col7\" >0</td>\n",
       "    </tr>\n",
       "    <tr>\n",
       "      <th id=\"T_7a069_level0_row119\" class=\"row_heading level0 row119\" >0x77 (119)</th>\n",
       "      <td id=\"T_7a069_row119_col0\" class=\"data row119 col0\" >0</td>\n",
       "      <td id=\"T_7a069_row119_col1\" class=\"data row119 col1\" >1</td>\n",
       "      <td id=\"T_7a069_row119_col2\" class=\"data row119 col2\" >1</td>\n",
       "      <td id=\"T_7a069_row119_col3\" class=\"data row119 col3\" >1</td>\n",
       "      <td id=\"T_7a069_row119_col4\" class=\"data row119 col4\" >0</td>\n",
       "      <td id=\"T_7a069_row119_col5\" class=\"data row119 col5\" >1</td>\n",
       "      <td id=\"T_7a069_row119_col6\" class=\"data row119 col6\" >1</td>\n",
       "      <td id=\"T_7a069_row119_col7\" class=\"data row119 col7\" >1</td>\n",
       "    </tr>\n",
       "    <tr>\n",
       "      <th id=\"T_7a069_level0_row120\" class=\"row_heading level0 row120\" >0x78 (120)</th>\n",
       "      <td id=\"T_7a069_row120_col0\" class=\"data row120 col0\" >0</td>\n",
       "      <td id=\"T_7a069_row120_col1\" class=\"data row120 col1\" >1</td>\n",
       "      <td id=\"T_7a069_row120_col2\" class=\"data row120 col2\" >1</td>\n",
       "      <td id=\"T_7a069_row120_col3\" class=\"data row120 col3\" >1</td>\n",
       "      <td id=\"T_7a069_row120_col4\" class=\"data row120 col4\" >1</td>\n",
       "      <td id=\"T_7a069_row120_col5\" class=\"data row120 col5\" >0</td>\n",
       "      <td id=\"T_7a069_row120_col6\" class=\"data row120 col6\" >0</td>\n",
       "      <td id=\"T_7a069_row120_col7\" class=\"data row120 col7\" >0</td>\n",
       "    </tr>\n",
       "    <tr>\n",
       "      <th id=\"T_7a069_level0_row121\" class=\"row_heading level0 row121\" >0x79 (121)</th>\n",
       "      <td id=\"T_7a069_row121_col0\" class=\"data row121 col0\" >0</td>\n",
       "      <td id=\"T_7a069_row121_col1\" class=\"data row121 col1\" >1</td>\n",
       "      <td id=\"T_7a069_row121_col2\" class=\"data row121 col2\" >1</td>\n",
       "      <td id=\"T_7a069_row121_col3\" class=\"data row121 col3\" >1</td>\n",
       "      <td id=\"T_7a069_row121_col4\" class=\"data row121 col4\" >1</td>\n",
       "      <td id=\"T_7a069_row121_col5\" class=\"data row121 col5\" >0</td>\n",
       "      <td id=\"T_7a069_row121_col6\" class=\"data row121 col6\" >0</td>\n",
       "      <td id=\"T_7a069_row121_col7\" class=\"data row121 col7\" >1</td>\n",
       "    </tr>\n",
       "    <tr>\n",
       "      <th id=\"T_7a069_level0_row122\" class=\"row_heading level0 row122\" >0x7a (122)</th>\n",
       "      <td id=\"T_7a069_row122_col0\" class=\"data row122 col0\" >0</td>\n",
       "      <td id=\"T_7a069_row122_col1\" class=\"data row122 col1\" >1</td>\n",
       "      <td id=\"T_7a069_row122_col2\" class=\"data row122 col2\" >1</td>\n",
       "      <td id=\"T_7a069_row122_col3\" class=\"data row122 col3\" >1</td>\n",
       "      <td id=\"T_7a069_row122_col4\" class=\"data row122 col4\" >1</td>\n",
       "      <td id=\"T_7a069_row122_col5\" class=\"data row122 col5\" >0</td>\n",
       "      <td id=\"T_7a069_row122_col6\" class=\"data row122 col6\" >1</td>\n",
       "      <td id=\"T_7a069_row122_col7\" class=\"data row122 col7\" >0</td>\n",
       "    </tr>\n",
       "    <tr>\n",
       "      <th id=\"T_7a069_level0_row123\" class=\"row_heading level0 row123\" >0x7b (123)</th>\n",
       "      <td id=\"T_7a069_row123_col0\" class=\"data row123 col0\" >0</td>\n",
       "      <td id=\"T_7a069_row123_col1\" class=\"data row123 col1\" >1</td>\n",
       "      <td id=\"T_7a069_row123_col2\" class=\"data row123 col2\" >1</td>\n",
       "      <td id=\"T_7a069_row123_col3\" class=\"data row123 col3\" >1</td>\n",
       "      <td id=\"T_7a069_row123_col4\" class=\"data row123 col4\" >1</td>\n",
       "      <td id=\"T_7a069_row123_col5\" class=\"data row123 col5\" >0</td>\n",
       "      <td id=\"T_7a069_row123_col6\" class=\"data row123 col6\" >1</td>\n",
       "      <td id=\"T_7a069_row123_col7\" class=\"data row123 col7\" >1</td>\n",
       "    </tr>\n",
       "    <tr>\n",
       "      <th id=\"T_7a069_level0_row124\" class=\"row_heading level0 row124\" >0x7c (124)</th>\n",
       "      <td id=\"T_7a069_row124_col0\" class=\"data row124 col0\" >0</td>\n",
       "      <td id=\"T_7a069_row124_col1\" class=\"data row124 col1\" >1</td>\n",
       "      <td id=\"T_7a069_row124_col2\" class=\"data row124 col2\" >1</td>\n",
       "      <td id=\"T_7a069_row124_col3\" class=\"data row124 col3\" >1</td>\n",
       "      <td id=\"T_7a069_row124_col4\" class=\"data row124 col4\" >1</td>\n",
       "      <td id=\"T_7a069_row124_col5\" class=\"data row124 col5\" >1</td>\n",
       "      <td id=\"T_7a069_row124_col6\" class=\"data row124 col6\" >0</td>\n",
       "      <td id=\"T_7a069_row124_col7\" class=\"data row124 col7\" >0</td>\n",
       "    </tr>\n",
       "    <tr>\n",
       "      <th id=\"T_7a069_level0_row125\" class=\"row_heading level0 row125\" >0x7d (125)</th>\n",
       "      <td id=\"T_7a069_row125_col0\" class=\"data row125 col0\" >0</td>\n",
       "      <td id=\"T_7a069_row125_col1\" class=\"data row125 col1\" >1</td>\n",
       "      <td id=\"T_7a069_row125_col2\" class=\"data row125 col2\" >1</td>\n",
       "      <td id=\"T_7a069_row125_col3\" class=\"data row125 col3\" >1</td>\n",
       "      <td id=\"T_7a069_row125_col4\" class=\"data row125 col4\" >1</td>\n",
       "      <td id=\"T_7a069_row125_col5\" class=\"data row125 col5\" >1</td>\n",
       "      <td id=\"T_7a069_row125_col6\" class=\"data row125 col6\" >0</td>\n",
       "      <td id=\"T_7a069_row125_col7\" class=\"data row125 col7\" >1</td>\n",
       "    </tr>\n",
       "    <tr>\n",
       "      <th id=\"T_7a069_level0_row126\" class=\"row_heading level0 row126\" >0x7e (126)</th>\n",
       "      <td id=\"T_7a069_row126_col0\" class=\"data row126 col0\" >0</td>\n",
       "      <td id=\"T_7a069_row126_col1\" class=\"data row126 col1\" >1</td>\n",
       "      <td id=\"T_7a069_row126_col2\" class=\"data row126 col2\" >1</td>\n",
       "      <td id=\"T_7a069_row126_col3\" class=\"data row126 col3\" >1</td>\n",
       "      <td id=\"T_7a069_row126_col4\" class=\"data row126 col4\" >1</td>\n",
       "      <td id=\"T_7a069_row126_col5\" class=\"data row126 col5\" >1</td>\n",
       "      <td id=\"T_7a069_row126_col6\" class=\"data row126 col6\" >1</td>\n",
       "      <td id=\"T_7a069_row126_col7\" class=\"data row126 col7\" >0</td>\n",
       "    </tr>\n",
       "    <tr>\n",
       "      <th id=\"T_7a069_level0_row127\" class=\"row_heading level0 row127\" >0x7f (127)</th>\n",
       "      <td id=\"T_7a069_row127_col0\" class=\"data row127 col0\" >0</td>\n",
       "      <td id=\"T_7a069_row127_col1\" class=\"data row127 col1\" >1</td>\n",
       "      <td id=\"T_7a069_row127_col2\" class=\"data row127 col2\" >1</td>\n",
       "      <td id=\"T_7a069_row127_col3\" class=\"data row127 col3\" >1</td>\n",
       "      <td id=\"T_7a069_row127_col4\" class=\"data row127 col4\" >1</td>\n",
       "      <td id=\"T_7a069_row127_col5\" class=\"data row127 col5\" >1</td>\n",
       "      <td id=\"T_7a069_row127_col6\" class=\"data row127 col6\" >1</td>\n",
       "      <td id=\"T_7a069_row127_col7\" class=\"data row127 col7\" >1</td>\n",
       "    </tr>\n",
       "    <tr>\n",
       "      <th id=\"T_7a069_level0_row128\" class=\"row_heading level0 row128\" >0x80 (128)</th>\n",
       "      <td id=\"T_7a069_row128_col0\" class=\"data row128 col0\" >1</td>\n",
       "      <td id=\"T_7a069_row128_col1\" class=\"data row128 col1\" >0</td>\n",
       "      <td id=\"T_7a069_row128_col2\" class=\"data row128 col2\" >0</td>\n",
       "      <td id=\"T_7a069_row128_col3\" class=\"data row128 col3\" >0</td>\n",
       "      <td id=\"T_7a069_row128_col4\" class=\"data row128 col4\" >0</td>\n",
       "      <td id=\"T_7a069_row128_col5\" class=\"data row128 col5\" >0</td>\n",
       "      <td id=\"T_7a069_row128_col6\" class=\"data row128 col6\" >0</td>\n",
       "      <td id=\"T_7a069_row128_col7\" class=\"data row128 col7\" >0</td>\n",
       "    </tr>\n",
       "    <tr>\n",
       "      <th id=\"T_7a069_level0_row129\" class=\"row_heading level0 row129\" >0x81 (129)</th>\n",
       "      <td id=\"T_7a069_row129_col0\" class=\"data row129 col0\" >1</td>\n",
       "      <td id=\"T_7a069_row129_col1\" class=\"data row129 col1\" >0</td>\n",
       "      <td id=\"T_7a069_row129_col2\" class=\"data row129 col2\" >0</td>\n",
       "      <td id=\"T_7a069_row129_col3\" class=\"data row129 col3\" >0</td>\n",
       "      <td id=\"T_7a069_row129_col4\" class=\"data row129 col4\" >0</td>\n",
       "      <td id=\"T_7a069_row129_col5\" class=\"data row129 col5\" >0</td>\n",
       "      <td id=\"T_7a069_row129_col6\" class=\"data row129 col6\" >0</td>\n",
       "      <td id=\"T_7a069_row129_col7\" class=\"data row129 col7\" >1</td>\n",
       "    </tr>\n",
       "    <tr>\n",
       "      <th id=\"T_7a069_level0_row130\" class=\"row_heading level0 row130\" >0x82 (130)</th>\n",
       "      <td id=\"T_7a069_row130_col0\" class=\"data row130 col0\" >1</td>\n",
       "      <td id=\"T_7a069_row130_col1\" class=\"data row130 col1\" >0</td>\n",
       "      <td id=\"T_7a069_row130_col2\" class=\"data row130 col2\" >0</td>\n",
       "      <td id=\"T_7a069_row130_col3\" class=\"data row130 col3\" >0</td>\n",
       "      <td id=\"T_7a069_row130_col4\" class=\"data row130 col4\" >0</td>\n",
       "      <td id=\"T_7a069_row130_col5\" class=\"data row130 col5\" >0</td>\n",
       "      <td id=\"T_7a069_row130_col6\" class=\"data row130 col6\" >1</td>\n",
       "      <td id=\"T_7a069_row130_col7\" class=\"data row130 col7\" >0</td>\n",
       "    </tr>\n",
       "    <tr>\n",
       "      <th id=\"T_7a069_level0_row131\" class=\"row_heading level0 row131\" >0x83 (131)</th>\n",
       "      <td id=\"T_7a069_row131_col0\" class=\"data row131 col0\" >1</td>\n",
       "      <td id=\"T_7a069_row131_col1\" class=\"data row131 col1\" >0</td>\n",
       "      <td id=\"T_7a069_row131_col2\" class=\"data row131 col2\" >0</td>\n",
       "      <td id=\"T_7a069_row131_col3\" class=\"data row131 col3\" >0</td>\n",
       "      <td id=\"T_7a069_row131_col4\" class=\"data row131 col4\" >0</td>\n",
       "      <td id=\"T_7a069_row131_col5\" class=\"data row131 col5\" >0</td>\n",
       "      <td id=\"T_7a069_row131_col6\" class=\"data row131 col6\" >1</td>\n",
       "      <td id=\"T_7a069_row131_col7\" class=\"data row131 col7\" >1</td>\n",
       "    </tr>\n",
       "    <tr>\n",
       "      <th id=\"T_7a069_level0_row132\" class=\"row_heading level0 row132\" >0x84 (132)</th>\n",
       "      <td id=\"T_7a069_row132_col0\" class=\"data row132 col0\" >1</td>\n",
       "      <td id=\"T_7a069_row132_col1\" class=\"data row132 col1\" >0</td>\n",
       "      <td id=\"T_7a069_row132_col2\" class=\"data row132 col2\" >0</td>\n",
       "      <td id=\"T_7a069_row132_col3\" class=\"data row132 col3\" >0</td>\n",
       "      <td id=\"T_7a069_row132_col4\" class=\"data row132 col4\" >0</td>\n",
       "      <td id=\"T_7a069_row132_col5\" class=\"data row132 col5\" >1</td>\n",
       "      <td id=\"T_7a069_row132_col6\" class=\"data row132 col6\" >0</td>\n",
       "      <td id=\"T_7a069_row132_col7\" class=\"data row132 col7\" >0</td>\n",
       "    </tr>\n",
       "    <tr>\n",
       "      <th id=\"T_7a069_level0_row133\" class=\"row_heading level0 row133\" >0x85 (133)</th>\n",
       "      <td id=\"T_7a069_row133_col0\" class=\"data row133 col0\" >1</td>\n",
       "      <td id=\"T_7a069_row133_col1\" class=\"data row133 col1\" >0</td>\n",
       "      <td id=\"T_7a069_row133_col2\" class=\"data row133 col2\" >0</td>\n",
       "      <td id=\"T_7a069_row133_col3\" class=\"data row133 col3\" >0</td>\n",
       "      <td id=\"T_7a069_row133_col4\" class=\"data row133 col4\" >0</td>\n",
       "      <td id=\"T_7a069_row133_col5\" class=\"data row133 col5\" >1</td>\n",
       "      <td id=\"T_7a069_row133_col6\" class=\"data row133 col6\" >0</td>\n",
       "      <td id=\"T_7a069_row133_col7\" class=\"data row133 col7\" >1</td>\n",
       "    </tr>\n",
       "    <tr>\n",
       "      <th id=\"T_7a069_level0_row134\" class=\"row_heading level0 row134\" >0x86 (134)</th>\n",
       "      <td id=\"T_7a069_row134_col0\" class=\"data row134 col0\" >1</td>\n",
       "      <td id=\"T_7a069_row134_col1\" class=\"data row134 col1\" >0</td>\n",
       "      <td id=\"T_7a069_row134_col2\" class=\"data row134 col2\" >0</td>\n",
       "      <td id=\"T_7a069_row134_col3\" class=\"data row134 col3\" >0</td>\n",
       "      <td id=\"T_7a069_row134_col4\" class=\"data row134 col4\" >0</td>\n",
       "      <td id=\"T_7a069_row134_col5\" class=\"data row134 col5\" >1</td>\n",
       "      <td id=\"T_7a069_row134_col6\" class=\"data row134 col6\" >1</td>\n",
       "      <td id=\"T_7a069_row134_col7\" class=\"data row134 col7\" >0</td>\n",
       "    </tr>\n",
       "    <tr>\n",
       "      <th id=\"T_7a069_level0_row135\" class=\"row_heading level0 row135\" >0x87 (135)</th>\n",
       "      <td id=\"T_7a069_row135_col0\" class=\"data row135 col0\" >1</td>\n",
       "      <td id=\"T_7a069_row135_col1\" class=\"data row135 col1\" >0</td>\n",
       "      <td id=\"T_7a069_row135_col2\" class=\"data row135 col2\" >0</td>\n",
       "      <td id=\"T_7a069_row135_col3\" class=\"data row135 col3\" >0</td>\n",
       "      <td id=\"T_7a069_row135_col4\" class=\"data row135 col4\" >0</td>\n",
       "      <td id=\"T_7a069_row135_col5\" class=\"data row135 col5\" >1</td>\n",
       "      <td id=\"T_7a069_row135_col6\" class=\"data row135 col6\" >1</td>\n",
       "      <td id=\"T_7a069_row135_col7\" class=\"data row135 col7\" >1</td>\n",
       "    </tr>\n",
       "    <tr>\n",
       "      <th id=\"T_7a069_level0_row136\" class=\"row_heading level0 row136\" >0x88 (136)</th>\n",
       "      <td id=\"T_7a069_row136_col0\" class=\"data row136 col0\" >1</td>\n",
       "      <td id=\"T_7a069_row136_col1\" class=\"data row136 col1\" >0</td>\n",
       "      <td id=\"T_7a069_row136_col2\" class=\"data row136 col2\" >0</td>\n",
       "      <td id=\"T_7a069_row136_col3\" class=\"data row136 col3\" >0</td>\n",
       "      <td id=\"T_7a069_row136_col4\" class=\"data row136 col4\" >1</td>\n",
       "      <td id=\"T_7a069_row136_col5\" class=\"data row136 col5\" >0</td>\n",
       "      <td id=\"T_7a069_row136_col6\" class=\"data row136 col6\" >0</td>\n",
       "      <td id=\"T_7a069_row136_col7\" class=\"data row136 col7\" >0</td>\n",
       "    </tr>\n",
       "    <tr>\n",
       "      <th id=\"T_7a069_level0_row137\" class=\"row_heading level0 row137\" >0x89 (137)</th>\n",
       "      <td id=\"T_7a069_row137_col0\" class=\"data row137 col0\" >1</td>\n",
       "      <td id=\"T_7a069_row137_col1\" class=\"data row137 col1\" >0</td>\n",
       "      <td id=\"T_7a069_row137_col2\" class=\"data row137 col2\" >0</td>\n",
       "      <td id=\"T_7a069_row137_col3\" class=\"data row137 col3\" >0</td>\n",
       "      <td id=\"T_7a069_row137_col4\" class=\"data row137 col4\" >1</td>\n",
       "      <td id=\"T_7a069_row137_col5\" class=\"data row137 col5\" >0</td>\n",
       "      <td id=\"T_7a069_row137_col6\" class=\"data row137 col6\" >0</td>\n",
       "      <td id=\"T_7a069_row137_col7\" class=\"data row137 col7\" >1</td>\n",
       "    </tr>\n",
       "    <tr>\n",
       "      <th id=\"T_7a069_level0_row138\" class=\"row_heading level0 row138\" >0x8a (138)</th>\n",
       "      <td id=\"T_7a069_row138_col0\" class=\"data row138 col0\" >1</td>\n",
       "      <td id=\"T_7a069_row138_col1\" class=\"data row138 col1\" >0</td>\n",
       "      <td id=\"T_7a069_row138_col2\" class=\"data row138 col2\" >0</td>\n",
       "      <td id=\"T_7a069_row138_col3\" class=\"data row138 col3\" >0</td>\n",
       "      <td id=\"T_7a069_row138_col4\" class=\"data row138 col4\" >1</td>\n",
       "      <td id=\"T_7a069_row138_col5\" class=\"data row138 col5\" >0</td>\n",
       "      <td id=\"T_7a069_row138_col6\" class=\"data row138 col6\" >1</td>\n",
       "      <td id=\"T_7a069_row138_col7\" class=\"data row138 col7\" >0</td>\n",
       "    </tr>\n",
       "    <tr>\n",
       "      <th id=\"T_7a069_level0_row139\" class=\"row_heading level0 row139\" >0x8b (139)</th>\n",
       "      <td id=\"T_7a069_row139_col0\" class=\"data row139 col0\" >1</td>\n",
       "      <td id=\"T_7a069_row139_col1\" class=\"data row139 col1\" >0</td>\n",
       "      <td id=\"T_7a069_row139_col2\" class=\"data row139 col2\" >0</td>\n",
       "      <td id=\"T_7a069_row139_col3\" class=\"data row139 col3\" >0</td>\n",
       "      <td id=\"T_7a069_row139_col4\" class=\"data row139 col4\" >1</td>\n",
       "      <td id=\"T_7a069_row139_col5\" class=\"data row139 col5\" >0</td>\n",
       "      <td id=\"T_7a069_row139_col6\" class=\"data row139 col6\" >1</td>\n",
       "      <td id=\"T_7a069_row139_col7\" class=\"data row139 col7\" >1</td>\n",
       "    </tr>\n",
       "    <tr>\n",
       "      <th id=\"T_7a069_level0_row140\" class=\"row_heading level0 row140\" >0x8c (140)</th>\n",
       "      <td id=\"T_7a069_row140_col0\" class=\"data row140 col0\" >1</td>\n",
       "      <td id=\"T_7a069_row140_col1\" class=\"data row140 col1\" >0</td>\n",
       "      <td id=\"T_7a069_row140_col2\" class=\"data row140 col2\" >0</td>\n",
       "      <td id=\"T_7a069_row140_col3\" class=\"data row140 col3\" >0</td>\n",
       "      <td id=\"T_7a069_row140_col4\" class=\"data row140 col4\" >1</td>\n",
       "      <td id=\"T_7a069_row140_col5\" class=\"data row140 col5\" >1</td>\n",
       "      <td id=\"T_7a069_row140_col6\" class=\"data row140 col6\" >0</td>\n",
       "      <td id=\"T_7a069_row140_col7\" class=\"data row140 col7\" >0</td>\n",
       "    </tr>\n",
       "    <tr>\n",
       "      <th id=\"T_7a069_level0_row141\" class=\"row_heading level0 row141\" >0x8d (141)</th>\n",
       "      <td id=\"T_7a069_row141_col0\" class=\"data row141 col0\" >1</td>\n",
       "      <td id=\"T_7a069_row141_col1\" class=\"data row141 col1\" >0</td>\n",
       "      <td id=\"T_7a069_row141_col2\" class=\"data row141 col2\" >0</td>\n",
       "      <td id=\"T_7a069_row141_col3\" class=\"data row141 col3\" >0</td>\n",
       "      <td id=\"T_7a069_row141_col4\" class=\"data row141 col4\" >1</td>\n",
       "      <td id=\"T_7a069_row141_col5\" class=\"data row141 col5\" >1</td>\n",
       "      <td id=\"T_7a069_row141_col6\" class=\"data row141 col6\" >0</td>\n",
       "      <td id=\"T_7a069_row141_col7\" class=\"data row141 col7\" >1</td>\n",
       "    </tr>\n",
       "    <tr>\n",
       "      <th id=\"T_7a069_level0_row142\" class=\"row_heading level0 row142\" >0x8e (142)</th>\n",
       "      <td id=\"T_7a069_row142_col0\" class=\"data row142 col0\" >1</td>\n",
       "      <td id=\"T_7a069_row142_col1\" class=\"data row142 col1\" >0</td>\n",
       "      <td id=\"T_7a069_row142_col2\" class=\"data row142 col2\" >0</td>\n",
       "      <td id=\"T_7a069_row142_col3\" class=\"data row142 col3\" >0</td>\n",
       "      <td id=\"T_7a069_row142_col4\" class=\"data row142 col4\" >1</td>\n",
       "      <td id=\"T_7a069_row142_col5\" class=\"data row142 col5\" >1</td>\n",
       "      <td id=\"T_7a069_row142_col6\" class=\"data row142 col6\" >1</td>\n",
       "      <td id=\"T_7a069_row142_col7\" class=\"data row142 col7\" >0</td>\n",
       "    </tr>\n",
       "    <tr>\n",
       "      <th id=\"T_7a069_level0_row143\" class=\"row_heading level0 row143\" >0x8f (143)</th>\n",
       "      <td id=\"T_7a069_row143_col0\" class=\"data row143 col0\" >1</td>\n",
       "      <td id=\"T_7a069_row143_col1\" class=\"data row143 col1\" >0</td>\n",
       "      <td id=\"T_7a069_row143_col2\" class=\"data row143 col2\" >0</td>\n",
       "      <td id=\"T_7a069_row143_col3\" class=\"data row143 col3\" >0</td>\n",
       "      <td id=\"T_7a069_row143_col4\" class=\"data row143 col4\" >1</td>\n",
       "      <td id=\"T_7a069_row143_col5\" class=\"data row143 col5\" >1</td>\n",
       "      <td id=\"T_7a069_row143_col6\" class=\"data row143 col6\" >1</td>\n",
       "      <td id=\"T_7a069_row143_col7\" class=\"data row143 col7\" >1</td>\n",
       "    </tr>\n",
       "    <tr>\n",
       "      <th id=\"T_7a069_level0_row144\" class=\"row_heading level0 row144\" >0x90 (144)</th>\n",
       "      <td id=\"T_7a069_row144_col0\" class=\"data row144 col0\" >1</td>\n",
       "      <td id=\"T_7a069_row144_col1\" class=\"data row144 col1\" >0</td>\n",
       "      <td id=\"T_7a069_row144_col2\" class=\"data row144 col2\" >0</td>\n",
       "      <td id=\"T_7a069_row144_col3\" class=\"data row144 col3\" >1</td>\n",
       "      <td id=\"T_7a069_row144_col4\" class=\"data row144 col4\" >0</td>\n",
       "      <td id=\"T_7a069_row144_col5\" class=\"data row144 col5\" >0</td>\n",
       "      <td id=\"T_7a069_row144_col6\" class=\"data row144 col6\" >0</td>\n",
       "      <td id=\"T_7a069_row144_col7\" class=\"data row144 col7\" >0</td>\n",
       "    </tr>\n",
       "    <tr>\n",
       "      <th id=\"T_7a069_level0_row145\" class=\"row_heading level0 row145\" >0x91 (145)</th>\n",
       "      <td id=\"T_7a069_row145_col0\" class=\"data row145 col0\" >1</td>\n",
       "      <td id=\"T_7a069_row145_col1\" class=\"data row145 col1\" >0</td>\n",
       "      <td id=\"T_7a069_row145_col2\" class=\"data row145 col2\" >0</td>\n",
       "      <td id=\"T_7a069_row145_col3\" class=\"data row145 col3\" >1</td>\n",
       "      <td id=\"T_7a069_row145_col4\" class=\"data row145 col4\" >0</td>\n",
       "      <td id=\"T_7a069_row145_col5\" class=\"data row145 col5\" >0</td>\n",
       "      <td id=\"T_7a069_row145_col6\" class=\"data row145 col6\" >0</td>\n",
       "      <td id=\"T_7a069_row145_col7\" class=\"data row145 col7\" >1</td>\n",
       "    </tr>\n",
       "    <tr>\n",
       "      <th id=\"T_7a069_level0_row146\" class=\"row_heading level0 row146\" >0x92 (146)</th>\n",
       "      <td id=\"T_7a069_row146_col0\" class=\"data row146 col0\" >1</td>\n",
       "      <td id=\"T_7a069_row146_col1\" class=\"data row146 col1\" >0</td>\n",
       "      <td id=\"T_7a069_row146_col2\" class=\"data row146 col2\" >0</td>\n",
       "      <td id=\"T_7a069_row146_col3\" class=\"data row146 col3\" >1</td>\n",
       "      <td id=\"T_7a069_row146_col4\" class=\"data row146 col4\" >0</td>\n",
       "      <td id=\"T_7a069_row146_col5\" class=\"data row146 col5\" >0</td>\n",
       "      <td id=\"T_7a069_row146_col6\" class=\"data row146 col6\" >1</td>\n",
       "      <td id=\"T_7a069_row146_col7\" class=\"data row146 col7\" >0</td>\n",
       "    </tr>\n",
       "    <tr>\n",
       "      <th id=\"T_7a069_level0_row147\" class=\"row_heading level0 row147\" >0x93 (147)</th>\n",
       "      <td id=\"T_7a069_row147_col0\" class=\"data row147 col0\" >1</td>\n",
       "      <td id=\"T_7a069_row147_col1\" class=\"data row147 col1\" >0</td>\n",
       "      <td id=\"T_7a069_row147_col2\" class=\"data row147 col2\" >0</td>\n",
       "      <td id=\"T_7a069_row147_col3\" class=\"data row147 col3\" >1</td>\n",
       "      <td id=\"T_7a069_row147_col4\" class=\"data row147 col4\" >0</td>\n",
       "      <td id=\"T_7a069_row147_col5\" class=\"data row147 col5\" >0</td>\n",
       "      <td id=\"T_7a069_row147_col6\" class=\"data row147 col6\" >1</td>\n",
       "      <td id=\"T_7a069_row147_col7\" class=\"data row147 col7\" >1</td>\n",
       "    </tr>\n",
       "    <tr>\n",
       "      <th id=\"T_7a069_level0_row148\" class=\"row_heading level0 row148\" >0x94 (148)</th>\n",
       "      <td id=\"T_7a069_row148_col0\" class=\"data row148 col0\" >1</td>\n",
       "      <td id=\"T_7a069_row148_col1\" class=\"data row148 col1\" >0</td>\n",
       "      <td id=\"T_7a069_row148_col2\" class=\"data row148 col2\" >0</td>\n",
       "      <td id=\"T_7a069_row148_col3\" class=\"data row148 col3\" >1</td>\n",
       "      <td id=\"T_7a069_row148_col4\" class=\"data row148 col4\" >0</td>\n",
       "      <td id=\"T_7a069_row148_col5\" class=\"data row148 col5\" >1</td>\n",
       "      <td id=\"T_7a069_row148_col6\" class=\"data row148 col6\" >0</td>\n",
       "      <td id=\"T_7a069_row148_col7\" class=\"data row148 col7\" >0</td>\n",
       "    </tr>\n",
       "    <tr>\n",
       "      <th id=\"T_7a069_level0_row149\" class=\"row_heading level0 row149\" >0x95 (149)</th>\n",
       "      <td id=\"T_7a069_row149_col0\" class=\"data row149 col0\" >1</td>\n",
       "      <td id=\"T_7a069_row149_col1\" class=\"data row149 col1\" >0</td>\n",
       "      <td id=\"T_7a069_row149_col2\" class=\"data row149 col2\" >0</td>\n",
       "      <td id=\"T_7a069_row149_col3\" class=\"data row149 col3\" >1</td>\n",
       "      <td id=\"T_7a069_row149_col4\" class=\"data row149 col4\" >0</td>\n",
       "      <td id=\"T_7a069_row149_col5\" class=\"data row149 col5\" >1</td>\n",
       "      <td id=\"T_7a069_row149_col6\" class=\"data row149 col6\" >0</td>\n",
       "      <td id=\"T_7a069_row149_col7\" class=\"data row149 col7\" >1</td>\n",
       "    </tr>\n",
       "    <tr>\n",
       "      <th id=\"T_7a069_level0_row150\" class=\"row_heading level0 row150\" >0x96 (150)</th>\n",
       "      <td id=\"T_7a069_row150_col0\" class=\"data row150 col0\" >1</td>\n",
       "      <td id=\"T_7a069_row150_col1\" class=\"data row150 col1\" >0</td>\n",
       "      <td id=\"T_7a069_row150_col2\" class=\"data row150 col2\" >0</td>\n",
       "      <td id=\"T_7a069_row150_col3\" class=\"data row150 col3\" >1</td>\n",
       "      <td id=\"T_7a069_row150_col4\" class=\"data row150 col4\" >0</td>\n",
       "      <td id=\"T_7a069_row150_col5\" class=\"data row150 col5\" >1</td>\n",
       "      <td id=\"T_7a069_row150_col6\" class=\"data row150 col6\" >1</td>\n",
       "      <td id=\"T_7a069_row150_col7\" class=\"data row150 col7\" >0</td>\n",
       "    </tr>\n",
       "    <tr>\n",
       "      <th id=\"T_7a069_level0_row151\" class=\"row_heading level0 row151\" >0x97 (151)</th>\n",
       "      <td id=\"T_7a069_row151_col0\" class=\"data row151 col0\" >1</td>\n",
       "      <td id=\"T_7a069_row151_col1\" class=\"data row151 col1\" >0</td>\n",
       "      <td id=\"T_7a069_row151_col2\" class=\"data row151 col2\" >0</td>\n",
       "      <td id=\"T_7a069_row151_col3\" class=\"data row151 col3\" >1</td>\n",
       "      <td id=\"T_7a069_row151_col4\" class=\"data row151 col4\" >0</td>\n",
       "      <td id=\"T_7a069_row151_col5\" class=\"data row151 col5\" >1</td>\n",
       "      <td id=\"T_7a069_row151_col6\" class=\"data row151 col6\" >1</td>\n",
       "      <td id=\"T_7a069_row151_col7\" class=\"data row151 col7\" >1</td>\n",
       "    </tr>\n",
       "    <tr>\n",
       "      <th id=\"T_7a069_level0_row152\" class=\"row_heading level0 row152\" >0x98 (152)</th>\n",
       "      <td id=\"T_7a069_row152_col0\" class=\"data row152 col0\" >1</td>\n",
       "      <td id=\"T_7a069_row152_col1\" class=\"data row152 col1\" >0</td>\n",
       "      <td id=\"T_7a069_row152_col2\" class=\"data row152 col2\" >0</td>\n",
       "      <td id=\"T_7a069_row152_col3\" class=\"data row152 col3\" >1</td>\n",
       "      <td id=\"T_7a069_row152_col4\" class=\"data row152 col4\" >1</td>\n",
       "      <td id=\"T_7a069_row152_col5\" class=\"data row152 col5\" >0</td>\n",
       "      <td id=\"T_7a069_row152_col6\" class=\"data row152 col6\" >0</td>\n",
       "      <td id=\"T_7a069_row152_col7\" class=\"data row152 col7\" >0</td>\n",
       "    </tr>\n",
       "    <tr>\n",
       "      <th id=\"T_7a069_level0_row153\" class=\"row_heading level0 row153\" >0x99 (153)</th>\n",
       "      <td id=\"T_7a069_row153_col0\" class=\"data row153 col0\" >1</td>\n",
       "      <td id=\"T_7a069_row153_col1\" class=\"data row153 col1\" >0</td>\n",
       "      <td id=\"T_7a069_row153_col2\" class=\"data row153 col2\" >0</td>\n",
       "      <td id=\"T_7a069_row153_col3\" class=\"data row153 col3\" >1</td>\n",
       "      <td id=\"T_7a069_row153_col4\" class=\"data row153 col4\" >1</td>\n",
       "      <td id=\"T_7a069_row153_col5\" class=\"data row153 col5\" >0</td>\n",
       "      <td id=\"T_7a069_row153_col6\" class=\"data row153 col6\" >0</td>\n",
       "      <td id=\"T_7a069_row153_col7\" class=\"data row153 col7\" >1</td>\n",
       "    </tr>\n",
       "    <tr>\n",
       "      <th id=\"T_7a069_level0_row154\" class=\"row_heading level0 row154\" >0x9a (154)</th>\n",
       "      <td id=\"T_7a069_row154_col0\" class=\"data row154 col0\" >1</td>\n",
       "      <td id=\"T_7a069_row154_col1\" class=\"data row154 col1\" >0</td>\n",
       "      <td id=\"T_7a069_row154_col2\" class=\"data row154 col2\" >0</td>\n",
       "      <td id=\"T_7a069_row154_col3\" class=\"data row154 col3\" >1</td>\n",
       "      <td id=\"T_7a069_row154_col4\" class=\"data row154 col4\" >1</td>\n",
       "      <td id=\"T_7a069_row154_col5\" class=\"data row154 col5\" >0</td>\n",
       "      <td id=\"T_7a069_row154_col6\" class=\"data row154 col6\" >1</td>\n",
       "      <td id=\"T_7a069_row154_col7\" class=\"data row154 col7\" >0</td>\n",
       "    </tr>\n",
       "    <tr>\n",
       "      <th id=\"T_7a069_level0_row155\" class=\"row_heading level0 row155\" >0x9b (155)</th>\n",
       "      <td id=\"T_7a069_row155_col0\" class=\"data row155 col0\" >1</td>\n",
       "      <td id=\"T_7a069_row155_col1\" class=\"data row155 col1\" >0</td>\n",
       "      <td id=\"T_7a069_row155_col2\" class=\"data row155 col2\" >0</td>\n",
       "      <td id=\"T_7a069_row155_col3\" class=\"data row155 col3\" >1</td>\n",
       "      <td id=\"T_7a069_row155_col4\" class=\"data row155 col4\" >1</td>\n",
       "      <td id=\"T_7a069_row155_col5\" class=\"data row155 col5\" >0</td>\n",
       "      <td id=\"T_7a069_row155_col6\" class=\"data row155 col6\" >1</td>\n",
       "      <td id=\"T_7a069_row155_col7\" class=\"data row155 col7\" >1</td>\n",
       "    </tr>\n",
       "    <tr>\n",
       "      <th id=\"T_7a069_level0_row156\" class=\"row_heading level0 row156\" >0x9c (156)</th>\n",
       "      <td id=\"T_7a069_row156_col0\" class=\"data row156 col0\" >1</td>\n",
       "      <td id=\"T_7a069_row156_col1\" class=\"data row156 col1\" >0</td>\n",
       "      <td id=\"T_7a069_row156_col2\" class=\"data row156 col2\" >0</td>\n",
       "      <td id=\"T_7a069_row156_col3\" class=\"data row156 col3\" >1</td>\n",
       "      <td id=\"T_7a069_row156_col4\" class=\"data row156 col4\" >1</td>\n",
       "      <td id=\"T_7a069_row156_col5\" class=\"data row156 col5\" >1</td>\n",
       "      <td id=\"T_7a069_row156_col6\" class=\"data row156 col6\" >0</td>\n",
       "      <td id=\"T_7a069_row156_col7\" class=\"data row156 col7\" >0</td>\n",
       "    </tr>\n",
       "    <tr>\n",
       "      <th id=\"T_7a069_level0_row157\" class=\"row_heading level0 row157\" >0x9d (157)</th>\n",
       "      <td id=\"T_7a069_row157_col0\" class=\"data row157 col0\" >1</td>\n",
       "      <td id=\"T_7a069_row157_col1\" class=\"data row157 col1\" >0</td>\n",
       "      <td id=\"T_7a069_row157_col2\" class=\"data row157 col2\" >0</td>\n",
       "      <td id=\"T_7a069_row157_col3\" class=\"data row157 col3\" >1</td>\n",
       "      <td id=\"T_7a069_row157_col4\" class=\"data row157 col4\" >1</td>\n",
       "      <td id=\"T_7a069_row157_col5\" class=\"data row157 col5\" >1</td>\n",
       "      <td id=\"T_7a069_row157_col6\" class=\"data row157 col6\" >0</td>\n",
       "      <td id=\"T_7a069_row157_col7\" class=\"data row157 col7\" >1</td>\n",
       "    </tr>\n",
       "    <tr>\n",
       "      <th id=\"T_7a069_level0_row158\" class=\"row_heading level0 row158\" >0x9e (158)</th>\n",
       "      <td id=\"T_7a069_row158_col0\" class=\"data row158 col0\" >1</td>\n",
       "      <td id=\"T_7a069_row158_col1\" class=\"data row158 col1\" >0</td>\n",
       "      <td id=\"T_7a069_row158_col2\" class=\"data row158 col2\" >0</td>\n",
       "      <td id=\"T_7a069_row158_col3\" class=\"data row158 col3\" >1</td>\n",
       "      <td id=\"T_7a069_row158_col4\" class=\"data row158 col4\" >1</td>\n",
       "      <td id=\"T_7a069_row158_col5\" class=\"data row158 col5\" >1</td>\n",
       "      <td id=\"T_7a069_row158_col6\" class=\"data row158 col6\" >1</td>\n",
       "      <td id=\"T_7a069_row158_col7\" class=\"data row158 col7\" >0</td>\n",
       "    </tr>\n",
       "    <tr>\n",
       "      <th id=\"T_7a069_level0_row159\" class=\"row_heading level0 row159\" >0x9f (159)</th>\n",
       "      <td id=\"T_7a069_row159_col0\" class=\"data row159 col0\" >1</td>\n",
       "      <td id=\"T_7a069_row159_col1\" class=\"data row159 col1\" >0</td>\n",
       "      <td id=\"T_7a069_row159_col2\" class=\"data row159 col2\" >0</td>\n",
       "      <td id=\"T_7a069_row159_col3\" class=\"data row159 col3\" >1</td>\n",
       "      <td id=\"T_7a069_row159_col4\" class=\"data row159 col4\" >1</td>\n",
       "      <td id=\"T_7a069_row159_col5\" class=\"data row159 col5\" >1</td>\n",
       "      <td id=\"T_7a069_row159_col6\" class=\"data row159 col6\" >1</td>\n",
       "      <td id=\"T_7a069_row159_col7\" class=\"data row159 col7\" >1</td>\n",
       "    </tr>\n",
       "    <tr>\n",
       "      <th id=\"T_7a069_level0_row160\" class=\"row_heading level0 row160\" >0xa0 (160)</th>\n",
       "      <td id=\"T_7a069_row160_col0\" class=\"data row160 col0\" >1</td>\n",
       "      <td id=\"T_7a069_row160_col1\" class=\"data row160 col1\" >0</td>\n",
       "      <td id=\"T_7a069_row160_col2\" class=\"data row160 col2\" >1</td>\n",
       "      <td id=\"T_7a069_row160_col3\" class=\"data row160 col3\" >0</td>\n",
       "      <td id=\"T_7a069_row160_col4\" class=\"data row160 col4\" >0</td>\n",
       "      <td id=\"T_7a069_row160_col5\" class=\"data row160 col5\" >0</td>\n",
       "      <td id=\"T_7a069_row160_col6\" class=\"data row160 col6\" >0</td>\n",
       "      <td id=\"T_7a069_row160_col7\" class=\"data row160 col7\" >0</td>\n",
       "    </tr>\n",
       "    <tr>\n",
       "      <th id=\"T_7a069_level0_row161\" class=\"row_heading level0 row161\" >0xa1 (161)</th>\n",
       "      <td id=\"T_7a069_row161_col0\" class=\"data row161 col0\" >1</td>\n",
       "      <td id=\"T_7a069_row161_col1\" class=\"data row161 col1\" >0</td>\n",
       "      <td id=\"T_7a069_row161_col2\" class=\"data row161 col2\" >1</td>\n",
       "      <td id=\"T_7a069_row161_col3\" class=\"data row161 col3\" >0</td>\n",
       "      <td id=\"T_7a069_row161_col4\" class=\"data row161 col4\" >0</td>\n",
       "      <td id=\"T_7a069_row161_col5\" class=\"data row161 col5\" >0</td>\n",
       "      <td id=\"T_7a069_row161_col6\" class=\"data row161 col6\" >0</td>\n",
       "      <td id=\"T_7a069_row161_col7\" class=\"data row161 col7\" >1</td>\n",
       "    </tr>\n",
       "    <tr>\n",
       "      <th id=\"T_7a069_level0_row162\" class=\"row_heading level0 row162\" >0xa2 (162)</th>\n",
       "      <td id=\"T_7a069_row162_col0\" class=\"data row162 col0\" >1</td>\n",
       "      <td id=\"T_7a069_row162_col1\" class=\"data row162 col1\" >0</td>\n",
       "      <td id=\"T_7a069_row162_col2\" class=\"data row162 col2\" >1</td>\n",
       "      <td id=\"T_7a069_row162_col3\" class=\"data row162 col3\" >0</td>\n",
       "      <td id=\"T_7a069_row162_col4\" class=\"data row162 col4\" >0</td>\n",
       "      <td id=\"T_7a069_row162_col5\" class=\"data row162 col5\" >0</td>\n",
       "      <td id=\"T_7a069_row162_col6\" class=\"data row162 col6\" >1</td>\n",
       "      <td id=\"T_7a069_row162_col7\" class=\"data row162 col7\" >0</td>\n",
       "    </tr>\n",
       "    <tr>\n",
       "      <th id=\"T_7a069_level0_row163\" class=\"row_heading level0 row163\" >0xa3 (163)</th>\n",
       "      <td id=\"T_7a069_row163_col0\" class=\"data row163 col0\" >1</td>\n",
       "      <td id=\"T_7a069_row163_col1\" class=\"data row163 col1\" >0</td>\n",
       "      <td id=\"T_7a069_row163_col2\" class=\"data row163 col2\" >1</td>\n",
       "      <td id=\"T_7a069_row163_col3\" class=\"data row163 col3\" >0</td>\n",
       "      <td id=\"T_7a069_row163_col4\" class=\"data row163 col4\" >0</td>\n",
       "      <td id=\"T_7a069_row163_col5\" class=\"data row163 col5\" >0</td>\n",
       "      <td id=\"T_7a069_row163_col6\" class=\"data row163 col6\" >1</td>\n",
       "      <td id=\"T_7a069_row163_col7\" class=\"data row163 col7\" >1</td>\n",
       "    </tr>\n",
       "    <tr>\n",
       "      <th id=\"T_7a069_level0_row164\" class=\"row_heading level0 row164\" >0xa4 (164)</th>\n",
       "      <td id=\"T_7a069_row164_col0\" class=\"data row164 col0\" >1</td>\n",
       "      <td id=\"T_7a069_row164_col1\" class=\"data row164 col1\" >0</td>\n",
       "      <td id=\"T_7a069_row164_col2\" class=\"data row164 col2\" >1</td>\n",
       "      <td id=\"T_7a069_row164_col3\" class=\"data row164 col3\" >0</td>\n",
       "      <td id=\"T_7a069_row164_col4\" class=\"data row164 col4\" >0</td>\n",
       "      <td id=\"T_7a069_row164_col5\" class=\"data row164 col5\" >1</td>\n",
       "      <td id=\"T_7a069_row164_col6\" class=\"data row164 col6\" >0</td>\n",
       "      <td id=\"T_7a069_row164_col7\" class=\"data row164 col7\" >0</td>\n",
       "    </tr>\n",
       "    <tr>\n",
       "      <th id=\"T_7a069_level0_row165\" class=\"row_heading level0 row165\" >0xa5 (165)</th>\n",
       "      <td id=\"T_7a069_row165_col0\" class=\"data row165 col0\" >1</td>\n",
       "      <td id=\"T_7a069_row165_col1\" class=\"data row165 col1\" >0</td>\n",
       "      <td id=\"T_7a069_row165_col2\" class=\"data row165 col2\" >1</td>\n",
       "      <td id=\"T_7a069_row165_col3\" class=\"data row165 col3\" >0</td>\n",
       "      <td id=\"T_7a069_row165_col4\" class=\"data row165 col4\" >0</td>\n",
       "      <td id=\"T_7a069_row165_col5\" class=\"data row165 col5\" >1</td>\n",
       "      <td id=\"T_7a069_row165_col6\" class=\"data row165 col6\" >0</td>\n",
       "      <td id=\"T_7a069_row165_col7\" class=\"data row165 col7\" >1</td>\n",
       "    </tr>\n",
       "    <tr>\n",
       "      <th id=\"T_7a069_level0_row166\" class=\"row_heading level0 row166\" >0xa6 (166)</th>\n",
       "      <td id=\"T_7a069_row166_col0\" class=\"data row166 col0\" >1</td>\n",
       "      <td id=\"T_7a069_row166_col1\" class=\"data row166 col1\" >0</td>\n",
       "      <td id=\"T_7a069_row166_col2\" class=\"data row166 col2\" >1</td>\n",
       "      <td id=\"T_7a069_row166_col3\" class=\"data row166 col3\" >0</td>\n",
       "      <td id=\"T_7a069_row166_col4\" class=\"data row166 col4\" >0</td>\n",
       "      <td id=\"T_7a069_row166_col5\" class=\"data row166 col5\" >1</td>\n",
       "      <td id=\"T_7a069_row166_col6\" class=\"data row166 col6\" >1</td>\n",
       "      <td id=\"T_7a069_row166_col7\" class=\"data row166 col7\" >0</td>\n",
       "    </tr>\n",
       "    <tr>\n",
       "      <th id=\"T_7a069_level0_row167\" class=\"row_heading level0 row167\" >0xa7 (167)</th>\n",
       "      <td id=\"T_7a069_row167_col0\" class=\"data row167 col0\" >1</td>\n",
       "      <td id=\"T_7a069_row167_col1\" class=\"data row167 col1\" >0</td>\n",
       "      <td id=\"T_7a069_row167_col2\" class=\"data row167 col2\" >1</td>\n",
       "      <td id=\"T_7a069_row167_col3\" class=\"data row167 col3\" >0</td>\n",
       "      <td id=\"T_7a069_row167_col4\" class=\"data row167 col4\" >0</td>\n",
       "      <td id=\"T_7a069_row167_col5\" class=\"data row167 col5\" >1</td>\n",
       "      <td id=\"T_7a069_row167_col6\" class=\"data row167 col6\" >1</td>\n",
       "      <td id=\"T_7a069_row167_col7\" class=\"data row167 col7\" >1</td>\n",
       "    </tr>\n",
       "    <tr>\n",
       "      <th id=\"T_7a069_level0_row168\" class=\"row_heading level0 row168\" >0xa8 (168)</th>\n",
       "      <td id=\"T_7a069_row168_col0\" class=\"data row168 col0\" >1</td>\n",
       "      <td id=\"T_7a069_row168_col1\" class=\"data row168 col1\" >0</td>\n",
       "      <td id=\"T_7a069_row168_col2\" class=\"data row168 col2\" >1</td>\n",
       "      <td id=\"T_7a069_row168_col3\" class=\"data row168 col3\" >0</td>\n",
       "      <td id=\"T_7a069_row168_col4\" class=\"data row168 col4\" >1</td>\n",
       "      <td id=\"T_7a069_row168_col5\" class=\"data row168 col5\" >0</td>\n",
       "      <td id=\"T_7a069_row168_col6\" class=\"data row168 col6\" >0</td>\n",
       "      <td id=\"T_7a069_row168_col7\" class=\"data row168 col7\" >0</td>\n",
       "    </tr>\n",
       "    <tr>\n",
       "      <th id=\"T_7a069_level0_row169\" class=\"row_heading level0 row169\" >0xa9 (169)</th>\n",
       "      <td id=\"T_7a069_row169_col0\" class=\"data row169 col0\" >1</td>\n",
       "      <td id=\"T_7a069_row169_col1\" class=\"data row169 col1\" >0</td>\n",
       "      <td id=\"T_7a069_row169_col2\" class=\"data row169 col2\" >1</td>\n",
       "      <td id=\"T_7a069_row169_col3\" class=\"data row169 col3\" >0</td>\n",
       "      <td id=\"T_7a069_row169_col4\" class=\"data row169 col4\" >1</td>\n",
       "      <td id=\"T_7a069_row169_col5\" class=\"data row169 col5\" >0</td>\n",
       "      <td id=\"T_7a069_row169_col6\" class=\"data row169 col6\" >0</td>\n",
       "      <td id=\"T_7a069_row169_col7\" class=\"data row169 col7\" >1</td>\n",
       "    </tr>\n",
       "    <tr>\n",
       "      <th id=\"T_7a069_level0_row170\" class=\"row_heading level0 row170\" >0xaa (170)</th>\n",
       "      <td id=\"T_7a069_row170_col0\" class=\"data row170 col0\" >1</td>\n",
       "      <td id=\"T_7a069_row170_col1\" class=\"data row170 col1\" >0</td>\n",
       "      <td id=\"T_7a069_row170_col2\" class=\"data row170 col2\" >1</td>\n",
       "      <td id=\"T_7a069_row170_col3\" class=\"data row170 col3\" >0</td>\n",
       "      <td id=\"T_7a069_row170_col4\" class=\"data row170 col4\" >1</td>\n",
       "      <td id=\"T_7a069_row170_col5\" class=\"data row170 col5\" >0</td>\n",
       "      <td id=\"T_7a069_row170_col6\" class=\"data row170 col6\" >1</td>\n",
       "      <td id=\"T_7a069_row170_col7\" class=\"data row170 col7\" >0</td>\n",
       "    </tr>\n",
       "    <tr>\n",
       "      <th id=\"T_7a069_level0_row171\" class=\"row_heading level0 row171\" >0xab (171)</th>\n",
       "      <td id=\"T_7a069_row171_col0\" class=\"data row171 col0\" >1</td>\n",
       "      <td id=\"T_7a069_row171_col1\" class=\"data row171 col1\" >0</td>\n",
       "      <td id=\"T_7a069_row171_col2\" class=\"data row171 col2\" >1</td>\n",
       "      <td id=\"T_7a069_row171_col3\" class=\"data row171 col3\" >0</td>\n",
       "      <td id=\"T_7a069_row171_col4\" class=\"data row171 col4\" >1</td>\n",
       "      <td id=\"T_7a069_row171_col5\" class=\"data row171 col5\" >0</td>\n",
       "      <td id=\"T_7a069_row171_col6\" class=\"data row171 col6\" >1</td>\n",
       "      <td id=\"T_7a069_row171_col7\" class=\"data row171 col7\" >1</td>\n",
       "    </tr>\n",
       "    <tr>\n",
       "      <th id=\"T_7a069_level0_row172\" class=\"row_heading level0 row172\" >0xac (172)</th>\n",
       "      <td id=\"T_7a069_row172_col0\" class=\"data row172 col0\" >1</td>\n",
       "      <td id=\"T_7a069_row172_col1\" class=\"data row172 col1\" >0</td>\n",
       "      <td id=\"T_7a069_row172_col2\" class=\"data row172 col2\" >1</td>\n",
       "      <td id=\"T_7a069_row172_col3\" class=\"data row172 col3\" >0</td>\n",
       "      <td id=\"T_7a069_row172_col4\" class=\"data row172 col4\" >1</td>\n",
       "      <td id=\"T_7a069_row172_col5\" class=\"data row172 col5\" >1</td>\n",
       "      <td id=\"T_7a069_row172_col6\" class=\"data row172 col6\" >0</td>\n",
       "      <td id=\"T_7a069_row172_col7\" class=\"data row172 col7\" >0</td>\n",
       "    </tr>\n",
       "    <tr>\n",
       "      <th id=\"T_7a069_level0_row173\" class=\"row_heading level0 row173\" >0xad (173)</th>\n",
       "      <td id=\"T_7a069_row173_col0\" class=\"data row173 col0\" >1</td>\n",
       "      <td id=\"T_7a069_row173_col1\" class=\"data row173 col1\" >0</td>\n",
       "      <td id=\"T_7a069_row173_col2\" class=\"data row173 col2\" >1</td>\n",
       "      <td id=\"T_7a069_row173_col3\" class=\"data row173 col3\" >0</td>\n",
       "      <td id=\"T_7a069_row173_col4\" class=\"data row173 col4\" >1</td>\n",
       "      <td id=\"T_7a069_row173_col5\" class=\"data row173 col5\" >1</td>\n",
       "      <td id=\"T_7a069_row173_col6\" class=\"data row173 col6\" >0</td>\n",
       "      <td id=\"T_7a069_row173_col7\" class=\"data row173 col7\" >1</td>\n",
       "    </tr>\n",
       "    <tr>\n",
       "      <th id=\"T_7a069_level0_row174\" class=\"row_heading level0 row174\" >0xae (174)</th>\n",
       "      <td id=\"T_7a069_row174_col0\" class=\"data row174 col0\" >1</td>\n",
       "      <td id=\"T_7a069_row174_col1\" class=\"data row174 col1\" >0</td>\n",
       "      <td id=\"T_7a069_row174_col2\" class=\"data row174 col2\" >1</td>\n",
       "      <td id=\"T_7a069_row174_col3\" class=\"data row174 col3\" >0</td>\n",
       "      <td id=\"T_7a069_row174_col4\" class=\"data row174 col4\" >1</td>\n",
       "      <td id=\"T_7a069_row174_col5\" class=\"data row174 col5\" >1</td>\n",
       "      <td id=\"T_7a069_row174_col6\" class=\"data row174 col6\" >1</td>\n",
       "      <td id=\"T_7a069_row174_col7\" class=\"data row174 col7\" >0</td>\n",
       "    </tr>\n",
       "    <tr>\n",
       "      <th id=\"T_7a069_level0_row175\" class=\"row_heading level0 row175\" >0xaf (175)</th>\n",
       "      <td id=\"T_7a069_row175_col0\" class=\"data row175 col0\" >1</td>\n",
       "      <td id=\"T_7a069_row175_col1\" class=\"data row175 col1\" >0</td>\n",
       "      <td id=\"T_7a069_row175_col2\" class=\"data row175 col2\" >1</td>\n",
       "      <td id=\"T_7a069_row175_col3\" class=\"data row175 col3\" >0</td>\n",
       "      <td id=\"T_7a069_row175_col4\" class=\"data row175 col4\" >1</td>\n",
       "      <td id=\"T_7a069_row175_col5\" class=\"data row175 col5\" >1</td>\n",
       "      <td id=\"T_7a069_row175_col6\" class=\"data row175 col6\" >1</td>\n",
       "      <td id=\"T_7a069_row175_col7\" class=\"data row175 col7\" >1</td>\n",
       "    </tr>\n",
       "    <tr>\n",
       "      <th id=\"T_7a069_level0_row176\" class=\"row_heading level0 row176\" >0xb0 (176)</th>\n",
       "      <td id=\"T_7a069_row176_col0\" class=\"data row176 col0\" >1</td>\n",
       "      <td id=\"T_7a069_row176_col1\" class=\"data row176 col1\" >0</td>\n",
       "      <td id=\"T_7a069_row176_col2\" class=\"data row176 col2\" >1</td>\n",
       "      <td id=\"T_7a069_row176_col3\" class=\"data row176 col3\" >1</td>\n",
       "      <td id=\"T_7a069_row176_col4\" class=\"data row176 col4\" >0</td>\n",
       "      <td id=\"T_7a069_row176_col5\" class=\"data row176 col5\" >0</td>\n",
       "      <td id=\"T_7a069_row176_col6\" class=\"data row176 col6\" >0</td>\n",
       "      <td id=\"T_7a069_row176_col7\" class=\"data row176 col7\" >0</td>\n",
       "    </tr>\n",
       "    <tr>\n",
       "      <th id=\"T_7a069_level0_row177\" class=\"row_heading level0 row177\" >0xb1 (177)</th>\n",
       "      <td id=\"T_7a069_row177_col0\" class=\"data row177 col0\" >1</td>\n",
       "      <td id=\"T_7a069_row177_col1\" class=\"data row177 col1\" >0</td>\n",
       "      <td id=\"T_7a069_row177_col2\" class=\"data row177 col2\" >1</td>\n",
       "      <td id=\"T_7a069_row177_col3\" class=\"data row177 col3\" >1</td>\n",
       "      <td id=\"T_7a069_row177_col4\" class=\"data row177 col4\" >0</td>\n",
       "      <td id=\"T_7a069_row177_col5\" class=\"data row177 col5\" >0</td>\n",
       "      <td id=\"T_7a069_row177_col6\" class=\"data row177 col6\" >0</td>\n",
       "      <td id=\"T_7a069_row177_col7\" class=\"data row177 col7\" >1</td>\n",
       "    </tr>\n",
       "    <tr>\n",
       "      <th id=\"T_7a069_level0_row178\" class=\"row_heading level0 row178\" >0xb2 (178)</th>\n",
       "      <td id=\"T_7a069_row178_col0\" class=\"data row178 col0\" >1</td>\n",
       "      <td id=\"T_7a069_row178_col1\" class=\"data row178 col1\" >0</td>\n",
       "      <td id=\"T_7a069_row178_col2\" class=\"data row178 col2\" >1</td>\n",
       "      <td id=\"T_7a069_row178_col3\" class=\"data row178 col3\" >1</td>\n",
       "      <td id=\"T_7a069_row178_col4\" class=\"data row178 col4\" >0</td>\n",
       "      <td id=\"T_7a069_row178_col5\" class=\"data row178 col5\" >0</td>\n",
       "      <td id=\"T_7a069_row178_col6\" class=\"data row178 col6\" >1</td>\n",
       "      <td id=\"T_7a069_row178_col7\" class=\"data row178 col7\" >0</td>\n",
       "    </tr>\n",
       "    <tr>\n",
       "      <th id=\"T_7a069_level0_row179\" class=\"row_heading level0 row179\" >0xb3 (179)</th>\n",
       "      <td id=\"T_7a069_row179_col0\" class=\"data row179 col0\" >1</td>\n",
       "      <td id=\"T_7a069_row179_col1\" class=\"data row179 col1\" >0</td>\n",
       "      <td id=\"T_7a069_row179_col2\" class=\"data row179 col2\" >1</td>\n",
       "      <td id=\"T_7a069_row179_col3\" class=\"data row179 col3\" >1</td>\n",
       "      <td id=\"T_7a069_row179_col4\" class=\"data row179 col4\" >0</td>\n",
       "      <td id=\"T_7a069_row179_col5\" class=\"data row179 col5\" >0</td>\n",
       "      <td id=\"T_7a069_row179_col6\" class=\"data row179 col6\" >1</td>\n",
       "      <td id=\"T_7a069_row179_col7\" class=\"data row179 col7\" >1</td>\n",
       "    </tr>\n",
       "    <tr>\n",
       "      <th id=\"T_7a069_level0_row180\" class=\"row_heading level0 row180\" >0xb4 (180)</th>\n",
       "      <td id=\"T_7a069_row180_col0\" class=\"data row180 col0\" >1</td>\n",
       "      <td id=\"T_7a069_row180_col1\" class=\"data row180 col1\" >0</td>\n",
       "      <td id=\"T_7a069_row180_col2\" class=\"data row180 col2\" >1</td>\n",
       "      <td id=\"T_7a069_row180_col3\" class=\"data row180 col3\" >1</td>\n",
       "      <td id=\"T_7a069_row180_col4\" class=\"data row180 col4\" >0</td>\n",
       "      <td id=\"T_7a069_row180_col5\" class=\"data row180 col5\" >1</td>\n",
       "      <td id=\"T_7a069_row180_col6\" class=\"data row180 col6\" >0</td>\n",
       "      <td id=\"T_7a069_row180_col7\" class=\"data row180 col7\" >0</td>\n",
       "    </tr>\n",
       "    <tr>\n",
       "      <th id=\"T_7a069_level0_row181\" class=\"row_heading level0 row181\" >0xb5 (181)</th>\n",
       "      <td id=\"T_7a069_row181_col0\" class=\"data row181 col0\" >1</td>\n",
       "      <td id=\"T_7a069_row181_col1\" class=\"data row181 col1\" >0</td>\n",
       "      <td id=\"T_7a069_row181_col2\" class=\"data row181 col2\" >1</td>\n",
       "      <td id=\"T_7a069_row181_col3\" class=\"data row181 col3\" >1</td>\n",
       "      <td id=\"T_7a069_row181_col4\" class=\"data row181 col4\" >0</td>\n",
       "      <td id=\"T_7a069_row181_col5\" class=\"data row181 col5\" >1</td>\n",
       "      <td id=\"T_7a069_row181_col6\" class=\"data row181 col6\" >0</td>\n",
       "      <td id=\"T_7a069_row181_col7\" class=\"data row181 col7\" >1</td>\n",
       "    </tr>\n",
       "    <tr>\n",
       "      <th id=\"T_7a069_level0_row182\" class=\"row_heading level0 row182\" >0xb6 (182)</th>\n",
       "      <td id=\"T_7a069_row182_col0\" class=\"data row182 col0\" >1</td>\n",
       "      <td id=\"T_7a069_row182_col1\" class=\"data row182 col1\" >0</td>\n",
       "      <td id=\"T_7a069_row182_col2\" class=\"data row182 col2\" >1</td>\n",
       "      <td id=\"T_7a069_row182_col3\" class=\"data row182 col3\" >1</td>\n",
       "      <td id=\"T_7a069_row182_col4\" class=\"data row182 col4\" >0</td>\n",
       "      <td id=\"T_7a069_row182_col5\" class=\"data row182 col5\" >1</td>\n",
       "      <td id=\"T_7a069_row182_col6\" class=\"data row182 col6\" >1</td>\n",
       "      <td id=\"T_7a069_row182_col7\" class=\"data row182 col7\" >0</td>\n",
       "    </tr>\n",
       "    <tr>\n",
       "      <th id=\"T_7a069_level0_row183\" class=\"row_heading level0 row183\" >0xb7 (183)</th>\n",
       "      <td id=\"T_7a069_row183_col0\" class=\"data row183 col0\" >1</td>\n",
       "      <td id=\"T_7a069_row183_col1\" class=\"data row183 col1\" >0</td>\n",
       "      <td id=\"T_7a069_row183_col2\" class=\"data row183 col2\" >1</td>\n",
       "      <td id=\"T_7a069_row183_col3\" class=\"data row183 col3\" >1</td>\n",
       "      <td id=\"T_7a069_row183_col4\" class=\"data row183 col4\" >0</td>\n",
       "      <td id=\"T_7a069_row183_col5\" class=\"data row183 col5\" >1</td>\n",
       "      <td id=\"T_7a069_row183_col6\" class=\"data row183 col6\" >1</td>\n",
       "      <td id=\"T_7a069_row183_col7\" class=\"data row183 col7\" >1</td>\n",
       "    </tr>\n",
       "    <tr>\n",
       "      <th id=\"T_7a069_level0_row184\" class=\"row_heading level0 row184\" >0xb8 (184)</th>\n",
       "      <td id=\"T_7a069_row184_col0\" class=\"data row184 col0\" >1</td>\n",
       "      <td id=\"T_7a069_row184_col1\" class=\"data row184 col1\" >0</td>\n",
       "      <td id=\"T_7a069_row184_col2\" class=\"data row184 col2\" >1</td>\n",
       "      <td id=\"T_7a069_row184_col3\" class=\"data row184 col3\" >1</td>\n",
       "      <td id=\"T_7a069_row184_col4\" class=\"data row184 col4\" >1</td>\n",
       "      <td id=\"T_7a069_row184_col5\" class=\"data row184 col5\" >0</td>\n",
       "      <td id=\"T_7a069_row184_col6\" class=\"data row184 col6\" >0</td>\n",
       "      <td id=\"T_7a069_row184_col7\" class=\"data row184 col7\" >0</td>\n",
       "    </tr>\n",
       "    <tr>\n",
       "      <th id=\"T_7a069_level0_row185\" class=\"row_heading level0 row185\" >0xb9 (185)</th>\n",
       "      <td id=\"T_7a069_row185_col0\" class=\"data row185 col0\" >1</td>\n",
       "      <td id=\"T_7a069_row185_col1\" class=\"data row185 col1\" >0</td>\n",
       "      <td id=\"T_7a069_row185_col2\" class=\"data row185 col2\" >1</td>\n",
       "      <td id=\"T_7a069_row185_col3\" class=\"data row185 col3\" >1</td>\n",
       "      <td id=\"T_7a069_row185_col4\" class=\"data row185 col4\" >1</td>\n",
       "      <td id=\"T_7a069_row185_col5\" class=\"data row185 col5\" >0</td>\n",
       "      <td id=\"T_7a069_row185_col6\" class=\"data row185 col6\" >0</td>\n",
       "      <td id=\"T_7a069_row185_col7\" class=\"data row185 col7\" >1</td>\n",
       "    </tr>\n",
       "    <tr>\n",
       "      <th id=\"T_7a069_level0_row186\" class=\"row_heading level0 row186\" >0xba (186)</th>\n",
       "      <td id=\"T_7a069_row186_col0\" class=\"data row186 col0\" >1</td>\n",
       "      <td id=\"T_7a069_row186_col1\" class=\"data row186 col1\" >0</td>\n",
       "      <td id=\"T_7a069_row186_col2\" class=\"data row186 col2\" >1</td>\n",
       "      <td id=\"T_7a069_row186_col3\" class=\"data row186 col3\" >1</td>\n",
       "      <td id=\"T_7a069_row186_col4\" class=\"data row186 col4\" >1</td>\n",
       "      <td id=\"T_7a069_row186_col5\" class=\"data row186 col5\" >0</td>\n",
       "      <td id=\"T_7a069_row186_col6\" class=\"data row186 col6\" >1</td>\n",
       "      <td id=\"T_7a069_row186_col7\" class=\"data row186 col7\" >0</td>\n",
       "    </tr>\n",
       "    <tr>\n",
       "      <th id=\"T_7a069_level0_row187\" class=\"row_heading level0 row187\" >0xbb (187)</th>\n",
       "      <td id=\"T_7a069_row187_col0\" class=\"data row187 col0\" >1</td>\n",
       "      <td id=\"T_7a069_row187_col1\" class=\"data row187 col1\" >0</td>\n",
       "      <td id=\"T_7a069_row187_col2\" class=\"data row187 col2\" >1</td>\n",
       "      <td id=\"T_7a069_row187_col3\" class=\"data row187 col3\" >1</td>\n",
       "      <td id=\"T_7a069_row187_col4\" class=\"data row187 col4\" >1</td>\n",
       "      <td id=\"T_7a069_row187_col5\" class=\"data row187 col5\" >0</td>\n",
       "      <td id=\"T_7a069_row187_col6\" class=\"data row187 col6\" >1</td>\n",
       "      <td id=\"T_7a069_row187_col7\" class=\"data row187 col7\" >1</td>\n",
       "    </tr>\n",
       "    <tr>\n",
       "      <th id=\"T_7a069_level0_row188\" class=\"row_heading level0 row188\" >0xbc (188)</th>\n",
       "      <td id=\"T_7a069_row188_col0\" class=\"data row188 col0\" >1</td>\n",
       "      <td id=\"T_7a069_row188_col1\" class=\"data row188 col1\" >0</td>\n",
       "      <td id=\"T_7a069_row188_col2\" class=\"data row188 col2\" >1</td>\n",
       "      <td id=\"T_7a069_row188_col3\" class=\"data row188 col3\" >1</td>\n",
       "      <td id=\"T_7a069_row188_col4\" class=\"data row188 col4\" >1</td>\n",
       "      <td id=\"T_7a069_row188_col5\" class=\"data row188 col5\" >1</td>\n",
       "      <td id=\"T_7a069_row188_col6\" class=\"data row188 col6\" >0</td>\n",
       "      <td id=\"T_7a069_row188_col7\" class=\"data row188 col7\" >0</td>\n",
       "    </tr>\n",
       "    <tr>\n",
       "      <th id=\"T_7a069_level0_row189\" class=\"row_heading level0 row189\" >0xbd (189)</th>\n",
       "      <td id=\"T_7a069_row189_col0\" class=\"data row189 col0\" >1</td>\n",
       "      <td id=\"T_7a069_row189_col1\" class=\"data row189 col1\" >0</td>\n",
       "      <td id=\"T_7a069_row189_col2\" class=\"data row189 col2\" >1</td>\n",
       "      <td id=\"T_7a069_row189_col3\" class=\"data row189 col3\" >1</td>\n",
       "      <td id=\"T_7a069_row189_col4\" class=\"data row189 col4\" >1</td>\n",
       "      <td id=\"T_7a069_row189_col5\" class=\"data row189 col5\" >1</td>\n",
       "      <td id=\"T_7a069_row189_col6\" class=\"data row189 col6\" >0</td>\n",
       "      <td id=\"T_7a069_row189_col7\" class=\"data row189 col7\" >1</td>\n",
       "    </tr>\n",
       "    <tr>\n",
       "      <th id=\"T_7a069_level0_row190\" class=\"row_heading level0 row190\" >0xbe (190)</th>\n",
       "      <td id=\"T_7a069_row190_col0\" class=\"data row190 col0\" >1</td>\n",
       "      <td id=\"T_7a069_row190_col1\" class=\"data row190 col1\" >0</td>\n",
       "      <td id=\"T_7a069_row190_col2\" class=\"data row190 col2\" >1</td>\n",
       "      <td id=\"T_7a069_row190_col3\" class=\"data row190 col3\" >1</td>\n",
       "      <td id=\"T_7a069_row190_col4\" class=\"data row190 col4\" >1</td>\n",
       "      <td id=\"T_7a069_row190_col5\" class=\"data row190 col5\" >1</td>\n",
       "      <td id=\"T_7a069_row190_col6\" class=\"data row190 col6\" >1</td>\n",
       "      <td id=\"T_7a069_row190_col7\" class=\"data row190 col7\" >0</td>\n",
       "    </tr>\n",
       "    <tr>\n",
       "      <th id=\"T_7a069_level0_row191\" class=\"row_heading level0 row191\" >0xbf (191)</th>\n",
       "      <td id=\"T_7a069_row191_col0\" class=\"data row191 col0\" >1</td>\n",
       "      <td id=\"T_7a069_row191_col1\" class=\"data row191 col1\" >0</td>\n",
       "      <td id=\"T_7a069_row191_col2\" class=\"data row191 col2\" >1</td>\n",
       "      <td id=\"T_7a069_row191_col3\" class=\"data row191 col3\" >1</td>\n",
       "      <td id=\"T_7a069_row191_col4\" class=\"data row191 col4\" >1</td>\n",
       "      <td id=\"T_7a069_row191_col5\" class=\"data row191 col5\" >1</td>\n",
       "      <td id=\"T_7a069_row191_col6\" class=\"data row191 col6\" >1</td>\n",
       "      <td id=\"T_7a069_row191_col7\" class=\"data row191 col7\" >1</td>\n",
       "    </tr>\n",
       "    <tr>\n",
       "      <th id=\"T_7a069_level0_row192\" class=\"row_heading level0 row192\" >0xc0 (192)</th>\n",
       "      <td id=\"T_7a069_row192_col0\" class=\"data row192 col0\" >1</td>\n",
       "      <td id=\"T_7a069_row192_col1\" class=\"data row192 col1\" >1</td>\n",
       "      <td id=\"T_7a069_row192_col2\" class=\"data row192 col2\" >0</td>\n",
       "      <td id=\"T_7a069_row192_col3\" class=\"data row192 col3\" >0</td>\n",
       "      <td id=\"T_7a069_row192_col4\" class=\"data row192 col4\" >0</td>\n",
       "      <td id=\"T_7a069_row192_col5\" class=\"data row192 col5\" >0</td>\n",
       "      <td id=\"T_7a069_row192_col6\" class=\"data row192 col6\" >0</td>\n",
       "      <td id=\"T_7a069_row192_col7\" class=\"data row192 col7\" >0</td>\n",
       "    </tr>\n",
       "    <tr>\n",
       "      <th id=\"T_7a069_level0_row193\" class=\"row_heading level0 row193\" >0xc1 (193)</th>\n",
       "      <td id=\"T_7a069_row193_col0\" class=\"data row193 col0\" >1</td>\n",
       "      <td id=\"T_7a069_row193_col1\" class=\"data row193 col1\" >1</td>\n",
       "      <td id=\"T_7a069_row193_col2\" class=\"data row193 col2\" >0</td>\n",
       "      <td id=\"T_7a069_row193_col3\" class=\"data row193 col3\" >0</td>\n",
       "      <td id=\"T_7a069_row193_col4\" class=\"data row193 col4\" >0</td>\n",
       "      <td id=\"T_7a069_row193_col5\" class=\"data row193 col5\" >0</td>\n",
       "      <td id=\"T_7a069_row193_col6\" class=\"data row193 col6\" >0</td>\n",
       "      <td id=\"T_7a069_row193_col7\" class=\"data row193 col7\" >1</td>\n",
       "    </tr>\n",
       "    <tr>\n",
       "      <th id=\"T_7a069_level0_row194\" class=\"row_heading level0 row194\" >0xc2 (194)</th>\n",
       "      <td id=\"T_7a069_row194_col0\" class=\"data row194 col0\" >1</td>\n",
       "      <td id=\"T_7a069_row194_col1\" class=\"data row194 col1\" >1</td>\n",
       "      <td id=\"T_7a069_row194_col2\" class=\"data row194 col2\" >0</td>\n",
       "      <td id=\"T_7a069_row194_col3\" class=\"data row194 col3\" >0</td>\n",
       "      <td id=\"T_7a069_row194_col4\" class=\"data row194 col4\" >0</td>\n",
       "      <td id=\"T_7a069_row194_col5\" class=\"data row194 col5\" >0</td>\n",
       "      <td id=\"T_7a069_row194_col6\" class=\"data row194 col6\" >1</td>\n",
       "      <td id=\"T_7a069_row194_col7\" class=\"data row194 col7\" >0</td>\n",
       "    </tr>\n",
       "    <tr>\n",
       "      <th id=\"T_7a069_level0_row195\" class=\"row_heading level0 row195\" >0xc3 (195)</th>\n",
       "      <td id=\"T_7a069_row195_col0\" class=\"data row195 col0\" >1</td>\n",
       "      <td id=\"T_7a069_row195_col1\" class=\"data row195 col1\" >1</td>\n",
       "      <td id=\"T_7a069_row195_col2\" class=\"data row195 col2\" >0</td>\n",
       "      <td id=\"T_7a069_row195_col3\" class=\"data row195 col3\" >0</td>\n",
       "      <td id=\"T_7a069_row195_col4\" class=\"data row195 col4\" >0</td>\n",
       "      <td id=\"T_7a069_row195_col5\" class=\"data row195 col5\" >0</td>\n",
       "      <td id=\"T_7a069_row195_col6\" class=\"data row195 col6\" >1</td>\n",
       "      <td id=\"T_7a069_row195_col7\" class=\"data row195 col7\" >1</td>\n",
       "    </tr>\n",
       "    <tr>\n",
       "      <th id=\"T_7a069_level0_row196\" class=\"row_heading level0 row196\" >0xc4 (196)</th>\n",
       "      <td id=\"T_7a069_row196_col0\" class=\"data row196 col0\" >1</td>\n",
       "      <td id=\"T_7a069_row196_col1\" class=\"data row196 col1\" >1</td>\n",
       "      <td id=\"T_7a069_row196_col2\" class=\"data row196 col2\" >0</td>\n",
       "      <td id=\"T_7a069_row196_col3\" class=\"data row196 col3\" >0</td>\n",
       "      <td id=\"T_7a069_row196_col4\" class=\"data row196 col4\" >0</td>\n",
       "      <td id=\"T_7a069_row196_col5\" class=\"data row196 col5\" >1</td>\n",
       "      <td id=\"T_7a069_row196_col6\" class=\"data row196 col6\" >0</td>\n",
       "      <td id=\"T_7a069_row196_col7\" class=\"data row196 col7\" >0</td>\n",
       "    </tr>\n",
       "    <tr>\n",
       "      <th id=\"T_7a069_level0_row197\" class=\"row_heading level0 row197\" >0xc5 (197)</th>\n",
       "      <td id=\"T_7a069_row197_col0\" class=\"data row197 col0\" >1</td>\n",
       "      <td id=\"T_7a069_row197_col1\" class=\"data row197 col1\" >1</td>\n",
       "      <td id=\"T_7a069_row197_col2\" class=\"data row197 col2\" >0</td>\n",
       "      <td id=\"T_7a069_row197_col3\" class=\"data row197 col3\" >0</td>\n",
       "      <td id=\"T_7a069_row197_col4\" class=\"data row197 col4\" >0</td>\n",
       "      <td id=\"T_7a069_row197_col5\" class=\"data row197 col5\" >1</td>\n",
       "      <td id=\"T_7a069_row197_col6\" class=\"data row197 col6\" >0</td>\n",
       "      <td id=\"T_7a069_row197_col7\" class=\"data row197 col7\" >1</td>\n",
       "    </tr>\n",
       "    <tr>\n",
       "      <th id=\"T_7a069_level0_row198\" class=\"row_heading level0 row198\" >0xc6 (198)</th>\n",
       "      <td id=\"T_7a069_row198_col0\" class=\"data row198 col0\" >1</td>\n",
       "      <td id=\"T_7a069_row198_col1\" class=\"data row198 col1\" >1</td>\n",
       "      <td id=\"T_7a069_row198_col2\" class=\"data row198 col2\" >0</td>\n",
       "      <td id=\"T_7a069_row198_col3\" class=\"data row198 col3\" >0</td>\n",
       "      <td id=\"T_7a069_row198_col4\" class=\"data row198 col4\" >0</td>\n",
       "      <td id=\"T_7a069_row198_col5\" class=\"data row198 col5\" >1</td>\n",
       "      <td id=\"T_7a069_row198_col6\" class=\"data row198 col6\" >1</td>\n",
       "      <td id=\"T_7a069_row198_col7\" class=\"data row198 col7\" >0</td>\n",
       "    </tr>\n",
       "    <tr>\n",
       "      <th id=\"T_7a069_level0_row199\" class=\"row_heading level0 row199\" >0xc7 (199)</th>\n",
       "      <td id=\"T_7a069_row199_col0\" class=\"data row199 col0\" >1</td>\n",
       "      <td id=\"T_7a069_row199_col1\" class=\"data row199 col1\" >1</td>\n",
       "      <td id=\"T_7a069_row199_col2\" class=\"data row199 col2\" >0</td>\n",
       "      <td id=\"T_7a069_row199_col3\" class=\"data row199 col3\" >0</td>\n",
       "      <td id=\"T_7a069_row199_col4\" class=\"data row199 col4\" >0</td>\n",
       "      <td id=\"T_7a069_row199_col5\" class=\"data row199 col5\" >1</td>\n",
       "      <td id=\"T_7a069_row199_col6\" class=\"data row199 col6\" >1</td>\n",
       "      <td id=\"T_7a069_row199_col7\" class=\"data row199 col7\" >1</td>\n",
       "    </tr>\n",
       "    <tr>\n",
       "      <th id=\"T_7a069_level0_row200\" class=\"row_heading level0 row200\" >0xc8 (200)</th>\n",
       "      <td id=\"T_7a069_row200_col0\" class=\"data row200 col0\" >1</td>\n",
       "      <td id=\"T_7a069_row200_col1\" class=\"data row200 col1\" >1</td>\n",
       "      <td id=\"T_7a069_row200_col2\" class=\"data row200 col2\" >0</td>\n",
       "      <td id=\"T_7a069_row200_col3\" class=\"data row200 col3\" >0</td>\n",
       "      <td id=\"T_7a069_row200_col4\" class=\"data row200 col4\" >1</td>\n",
       "      <td id=\"T_7a069_row200_col5\" class=\"data row200 col5\" >0</td>\n",
       "      <td id=\"T_7a069_row200_col6\" class=\"data row200 col6\" >0</td>\n",
       "      <td id=\"T_7a069_row200_col7\" class=\"data row200 col7\" >0</td>\n",
       "    </tr>\n",
       "    <tr>\n",
       "      <th id=\"T_7a069_level0_row201\" class=\"row_heading level0 row201\" >0xc9 (201)</th>\n",
       "      <td id=\"T_7a069_row201_col0\" class=\"data row201 col0\" >1</td>\n",
       "      <td id=\"T_7a069_row201_col1\" class=\"data row201 col1\" >1</td>\n",
       "      <td id=\"T_7a069_row201_col2\" class=\"data row201 col2\" >0</td>\n",
       "      <td id=\"T_7a069_row201_col3\" class=\"data row201 col3\" >0</td>\n",
       "      <td id=\"T_7a069_row201_col4\" class=\"data row201 col4\" >1</td>\n",
       "      <td id=\"T_7a069_row201_col5\" class=\"data row201 col5\" >0</td>\n",
       "      <td id=\"T_7a069_row201_col6\" class=\"data row201 col6\" >0</td>\n",
       "      <td id=\"T_7a069_row201_col7\" class=\"data row201 col7\" >1</td>\n",
       "    </tr>\n",
       "    <tr>\n",
       "      <th id=\"T_7a069_level0_row202\" class=\"row_heading level0 row202\" >0xca (202)</th>\n",
       "      <td id=\"T_7a069_row202_col0\" class=\"data row202 col0\" >1</td>\n",
       "      <td id=\"T_7a069_row202_col1\" class=\"data row202 col1\" >1</td>\n",
       "      <td id=\"T_7a069_row202_col2\" class=\"data row202 col2\" >0</td>\n",
       "      <td id=\"T_7a069_row202_col3\" class=\"data row202 col3\" >0</td>\n",
       "      <td id=\"T_7a069_row202_col4\" class=\"data row202 col4\" >1</td>\n",
       "      <td id=\"T_7a069_row202_col5\" class=\"data row202 col5\" >0</td>\n",
       "      <td id=\"T_7a069_row202_col6\" class=\"data row202 col6\" >1</td>\n",
       "      <td id=\"T_7a069_row202_col7\" class=\"data row202 col7\" >0</td>\n",
       "    </tr>\n",
       "    <tr>\n",
       "      <th id=\"T_7a069_level0_row203\" class=\"row_heading level0 row203\" >0xcb (203)</th>\n",
       "      <td id=\"T_7a069_row203_col0\" class=\"data row203 col0\" >1</td>\n",
       "      <td id=\"T_7a069_row203_col1\" class=\"data row203 col1\" >1</td>\n",
       "      <td id=\"T_7a069_row203_col2\" class=\"data row203 col2\" >0</td>\n",
       "      <td id=\"T_7a069_row203_col3\" class=\"data row203 col3\" >0</td>\n",
       "      <td id=\"T_7a069_row203_col4\" class=\"data row203 col4\" >1</td>\n",
       "      <td id=\"T_7a069_row203_col5\" class=\"data row203 col5\" >0</td>\n",
       "      <td id=\"T_7a069_row203_col6\" class=\"data row203 col6\" >1</td>\n",
       "      <td id=\"T_7a069_row203_col7\" class=\"data row203 col7\" >1</td>\n",
       "    </tr>\n",
       "    <tr>\n",
       "      <th id=\"T_7a069_level0_row204\" class=\"row_heading level0 row204\" >0xcc (204)</th>\n",
       "      <td id=\"T_7a069_row204_col0\" class=\"data row204 col0\" >1</td>\n",
       "      <td id=\"T_7a069_row204_col1\" class=\"data row204 col1\" >1</td>\n",
       "      <td id=\"T_7a069_row204_col2\" class=\"data row204 col2\" >0</td>\n",
       "      <td id=\"T_7a069_row204_col3\" class=\"data row204 col3\" >0</td>\n",
       "      <td id=\"T_7a069_row204_col4\" class=\"data row204 col4\" >1</td>\n",
       "      <td id=\"T_7a069_row204_col5\" class=\"data row204 col5\" >1</td>\n",
       "      <td id=\"T_7a069_row204_col6\" class=\"data row204 col6\" >0</td>\n",
       "      <td id=\"T_7a069_row204_col7\" class=\"data row204 col7\" >0</td>\n",
       "    </tr>\n",
       "    <tr>\n",
       "      <th id=\"T_7a069_level0_row205\" class=\"row_heading level0 row205\" >0xcd (205)</th>\n",
       "      <td id=\"T_7a069_row205_col0\" class=\"data row205 col0\" >1</td>\n",
       "      <td id=\"T_7a069_row205_col1\" class=\"data row205 col1\" >1</td>\n",
       "      <td id=\"T_7a069_row205_col2\" class=\"data row205 col2\" >0</td>\n",
       "      <td id=\"T_7a069_row205_col3\" class=\"data row205 col3\" >0</td>\n",
       "      <td id=\"T_7a069_row205_col4\" class=\"data row205 col4\" >1</td>\n",
       "      <td id=\"T_7a069_row205_col5\" class=\"data row205 col5\" >1</td>\n",
       "      <td id=\"T_7a069_row205_col6\" class=\"data row205 col6\" >0</td>\n",
       "      <td id=\"T_7a069_row205_col7\" class=\"data row205 col7\" >1</td>\n",
       "    </tr>\n",
       "    <tr>\n",
       "      <th id=\"T_7a069_level0_row206\" class=\"row_heading level0 row206\" >0xce (206)</th>\n",
       "      <td id=\"T_7a069_row206_col0\" class=\"data row206 col0\" >1</td>\n",
       "      <td id=\"T_7a069_row206_col1\" class=\"data row206 col1\" >1</td>\n",
       "      <td id=\"T_7a069_row206_col2\" class=\"data row206 col2\" >0</td>\n",
       "      <td id=\"T_7a069_row206_col3\" class=\"data row206 col3\" >0</td>\n",
       "      <td id=\"T_7a069_row206_col4\" class=\"data row206 col4\" >1</td>\n",
       "      <td id=\"T_7a069_row206_col5\" class=\"data row206 col5\" >1</td>\n",
       "      <td id=\"T_7a069_row206_col6\" class=\"data row206 col6\" >1</td>\n",
       "      <td id=\"T_7a069_row206_col7\" class=\"data row206 col7\" >0</td>\n",
       "    </tr>\n",
       "    <tr>\n",
       "      <th id=\"T_7a069_level0_row207\" class=\"row_heading level0 row207\" >0xcf (207)</th>\n",
       "      <td id=\"T_7a069_row207_col0\" class=\"data row207 col0\" >1</td>\n",
       "      <td id=\"T_7a069_row207_col1\" class=\"data row207 col1\" >1</td>\n",
       "      <td id=\"T_7a069_row207_col2\" class=\"data row207 col2\" >0</td>\n",
       "      <td id=\"T_7a069_row207_col3\" class=\"data row207 col3\" >0</td>\n",
       "      <td id=\"T_7a069_row207_col4\" class=\"data row207 col4\" >1</td>\n",
       "      <td id=\"T_7a069_row207_col5\" class=\"data row207 col5\" >1</td>\n",
       "      <td id=\"T_7a069_row207_col6\" class=\"data row207 col6\" >1</td>\n",
       "      <td id=\"T_7a069_row207_col7\" class=\"data row207 col7\" >1</td>\n",
       "    </tr>\n",
       "    <tr>\n",
       "      <th id=\"T_7a069_level0_row208\" class=\"row_heading level0 row208\" >0xd0 (208)</th>\n",
       "      <td id=\"T_7a069_row208_col0\" class=\"data row208 col0\" >1</td>\n",
       "      <td id=\"T_7a069_row208_col1\" class=\"data row208 col1\" >1</td>\n",
       "      <td id=\"T_7a069_row208_col2\" class=\"data row208 col2\" >0</td>\n",
       "      <td id=\"T_7a069_row208_col3\" class=\"data row208 col3\" >1</td>\n",
       "      <td id=\"T_7a069_row208_col4\" class=\"data row208 col4\" >0</td>\n",
       "      <td id=\"T_7a069_row208_col5\" class=\"data row208 col5\" >0</td>\n",
       "      <td id=\"T_7a069_row208_col6\" class=\"data row208 col6\" >0</td>\n",
       "      <td id=\"T_7a069_row208_col7\" class=\"data row208 col7\" >0</td>\n",
       "    </tr>\n",
       "    <tr>\n",
       "      <th id=\"T_7a069_level0_row209\" class=\"row_heading level0 row209\" >0xd1 (209)</th>\n",
       "      <td id=\"T_7a069_row209_col0\" class=\"data row209 col0\" >1</td>\n",
       "      <td id=\"T_7a069_row209_col1\" class=\"data row209 col1\" >1</td>\n",
       "      <td id=\"T_7a069_row209_col2\" class=\"data row209 col2\" >0</td>\n",
       "      <td id=\"T_7a069_row209_col3\" class=\"data row209 col3\" >1</td>\n",
       "      <td id=\"T_7a069_row209_col4\" class=\"data row209 col4\" >0</td>\n",
       "      <td id=\"T_7a069_row209_col5\" class=\"data row209 col5\" >0</td>\n",
       "      <td id=\"T_7a069_row209_col6\" class=\"data row209 col6\" >0</td>\n",
       "      <td id=\"T_7a069_row209_col7\" class=\"data row209 col7\" >1</td>\n",
       "    </tr>\n",
       "    <tr>\n",
       "      <th id=\"T_7a069_level0_row210\" class=\"row_heading level0 row210\" >0xd2 (210)</th>\n",
       "      <td id=\"T_7a069_row210_col0\" class=\"data row210 col0\" >1</td>\n",
       "      <td id=\"T_7a069_row210_col1\" class=\"data row210 col1\" >1</td>\n",
       "      <td id=\"T_7a069_row210_col2\" class=\"data row210 col2\" >0</td>\n",
       "      <td id=\"T_7a069_row210_col3\" class=\"data row210 col3\" >1</td>\n",
       "      <td id=\"T_7a069_row210_col4\" class=\"data row210 col4\" >0</td>\n",
       "      <td id=\"T_7a069_row210_col5\" class=\"data row210 col5\" >0</td>\n",
       "      <td id=\"T_7a069_row210_col6\" class=\"data row210 col6\" >1</td>\n",
       "      <td id=\"T_7a069_row210_col7\" class=\"data row210 col7\" >0</td>\n",
       "    </tr>\n",
       "    <tr>\n",
       "      <th id=\"T_7a069_level0_row211\" class=\"row_heading level0 row211\" >0xd3 (211)</th>\n",
       "      <td id=\"T_7a069_row211_col0\" class=\"data row211 col0\" >1</td>\n",
       "      <td id=\"T_7a069_row211_col1\" class=\"data row211 col1\" >1</td>\n",
       "      <td id=\"T_7a069_row211_col2\" class=\"data row211 col2\" >0</td>\n",
       "      <td id=\"T_7a069_row211_col3\" class=\"data row211 col3\" >1</td>\n",
       "      <td id=\"T_7a069_row211_col4\" class=\"data row211 col4\" >0</td>\n",
       "      <td id=\"T_7a069_row211_col5\" class=\"data row211 col5\" >0</td>\n",
       "      <td id=\"T_7a069_row211_col6\" class=\"data row211 col6\" >1</td>\n",
       "      <td id=\"T_7a069_row211_col7\" class=\"data row211 col7\" >1</td>\n",
       "    </tr>\n",
       "    <tr>\n",
       "      <th id=\"T_7a069_level0_row212\" class=\"row_heading level0 row212\" >0xd4 (212)</th>\n",
       "      <td id=\"T_7a069_row212_col0\" class=\"data row212 col0\" >1</td>\n",
       "      <td id=\"T_7a069_row212_col1\" class=\"data row212 col1\" >1</td>\n",
       "      <td id=\"T_7a069_row212_col2\" class=\"data row212 col2\" >0</td>\n",
       "      <td id=\"T_7a069_row212_col3\" class=\"data row212 col3\" >1</td>\n",
       "      <td id=\"T_7a069_row212_col4\" class=\"data row212 col4\" >0</td>\n",
       "      <td id=\"T_7a069_row212_col5\" class=\"data row212 col5\" >1</td>\n",
       "      <td id=\"T_7a069_row212_col6\" class=\"data row212 col6\" >0</td>\n",
       "      <td id=\"T_7a069_row212_col7\" class=\"data row212 col7\" >0</td>\n",
       "    </tr>\n",
       "    <tr>\n",
       "      <th id=\"T_7a069_level0_row213\" class=\"row_heading level0 row213\" >0xd5 (213)</th>\n",
       "      <td id=\"T_7a069_row213_col0\" class=\"data row213 col0\" >1</td>\n",
       "      <td id=\"T_7a069_row213_col1\" class=\"data row213 col1\" >1</td>\n",
       "      <td id=\"T_7a069_row213_col2\" class=\"data row213 col2\" >0</td>\n",
       "      <td id=\"T_7a069_row213_col3\" class=\"data row213 col3\" >1</td>\n",
       "      <td id=\"T_7a069_row213_col4\" class=\"data row213 col4\" >0</td>\n",
       "      <td id=\"T_7a069_row213_col5\" class=\"data row213 col5\" >1</td>\n",
       "      <td id=\"T_7a069_row213_col6\" class=\"data row213 col6\" >0</td>\n",
       "      <td id=\"T_7a069_row213_col7\" class=\"data row213 col7\" >1</td>\n",
       "    </tr>\n",
       "    <tr>\n",
       "      <th id=\"T_7a069_level0_row214\" class=\"row_heading level0 row214\" >0xd6 (214)</th>\n",
       "      <td id=\"T_7a069_row214_col0\" class=\"data row214 col0\" >1</td>\n",
       "      <td id=\"T_7a069_row214_col1\" class=\"data row214 col1\" >1</td>\n",
       "      <td id=\"T_7a069_row214_col2\" class=\"data row214 col2\" >0</td>\n",
       "      <td id=\"T_7a069_row214_col3\" class=\"data row214 col3\" >1</td>\n",
       "      <td id=\"T_7a069_row214_col4\" class=\"data row214 col4\" >0</td>\n",
       "      <td id=\"T_7a069_row214_col5\" class=\"data row214 col5\" >1</td>\n",
       "      <td id=\"T_7a069_row214_col6\" class=\"data row214 col6\" >1</td>\n",
       "      <td id=\"T_7a069_row214_col7\" class=\"data row214 col7\" >0</td>\n",
       "    </tr>\n",
       "    <tr>\n",
       "      <th id=\"T_7a069_level0_row215\" class=\"row_heading level0 row215\" >0xd7 (215)</th>\n",
       "      <td id=\"T_7a069_row215_col0\" class=\"data row215 col0\" >1</td>\n",
       "      <td id=\"T_7a069_row215_col1\" class=\"data row215 col1\" >1</td>\n",
       "      <td id=\"T_7a069_row215_col2\" class=\"data row215 col2\" >0</td>\n",
       "      <td id=\"T_7a069_row215_col3\" class=\"data row215 col3\" >1</td>\n",
       "      <td id=\"T_7a069_row215_col4\" class=\"data row215 col4\" >0</td>\n",
       "      <td id=\"T_7a069_row215_col5\" class=\"data row215 col5\" >1</td>\n",
       "      <td id=\"T_7a069_row215_col6\" class=\"data row215 col6\" >1</td>\n",
       "      <td id=\"T_7a069_row215_col7\" class=\"data row215 col7\" >1</td>\n",
       "    </tr>\n",
       "    <tr>\n",
       "      <th id=\"T_7a069_level0_row216\" class=\"row_heading level0 row216\" >0xd8 (216)</th>\n",
       "      <td id=\"T_7a069_row216_col0\" class=\"data row216 col0\" >1</td>\n",
       "      <td id=\"T_7a069_row216_col1\" class=\"data row216 col1\" >1</td>\n",
       "      <td id=\"T_7a069_row216_col2\" class=\"data row216 col2\" >0</td>\n",
       "      <td id=\"T_7a069_row216_col3\" class=\"data row216 col3\" >1</td>\n",
       "      <td id=\"T_7a069_row216_col4\" class=\"data row216 col4\" >1</td>\n",
       "      <td id=\"T_7a069_row216_col5\" class=\"data row216 col5\" >0</td>\n",
       "      <td id=\"T_7a069_row216_col6\" class=\"data row216 col6\" >0</td>\n",
       "      <td id=\"T_7a069_row216_col7\" class=\"data row216 col7\" >0</td>\n",
       "    </tr>\n",
       "    <tr>\n",
       "      <th id=\"T_7a069_level0_row217\" class=\"row_heading level0 row217\" >0xd9 (217)</th>\n",
       "      <td id=\"T_7a069_row217_col0\" class=\"data row217 col0\" >1</td>\n",
       "      <td id=\"T_7a069_row217_col1\" class=\"data row217 col1\" >1</td>\n",
       "      <td id=\"T_7a069_row217_col2\" class=\"data row217 col2\" >0</td>\n",
       "      <td id=\"T_7a069_row217_col3\" class=\"data row217 col3\" >1</td>\n",
       "      <td id=\"T_7a069_row217_col4\" class=\"data row217 col4\" >1</td>\n",
       "      <td id=\"T_7a069_row217_col5\" class=\"data row217 col5\" >0</td>\n",
       "      <td id=\"T_7a069_row217_col6\" class=\"data row217 col6\" >0</td>\n",
       "      <td id=\"T_7a069_row217_col7\" class=\"data row217 col7\" >1</td>\n",
       "    </tr>\n",
       "    <tr>\n",
       "      <th id=\"T_7a069_level0_row218\" class=\"row_heading level0 row218\" >0xda (218)</th>\n",
       "      <td id=\"T_7a069_row218_col0\" class=\"data row218 col0\" >1</td>\n",
       "      <td id=\"T_7a069_row218_col1\" class=\"data row218 col1\" >1</td>\n",
       "      <td id=\"T_7a069_row218_col2\" class=\"data row218 col2\" >0</td>\n",
       "      <td id=\"T_7a069_row218_col3\" class=\"data row218 col3\" >1</td>\n",
       "      <td id=\"T_7a069_row218_col4\" class=\"data row218 col4\" >1</td>\n",
       "      <td id=\"T_7a069_row218_col5\" class=\"data row218 col5\" >0</td>\n",
       "      <td id=\"T_7a069_row218_col6\" class=\"data row218 col6\" >1</td>\n",
       "      <td id=\"T_7a069_row218_col7\" class=\"data row218 col7\" >0</td>\n",
       "    </tr>\n",
       "    <tr>\n",
       "      <th id=\"T_7a069_level0_row219\" class=\"row_heading level0 row219\" >0xdb (219)</th>\n",
       "      <td id=\"T_7a069_row219_col0\" class=\"data row219 col0\" >1</td>\n",
       "      <td id=\"T_7a069_row219_col1\" class=\"data row219 col1\" >1</td>\n",
       "      <td id=\"T_7a069_row219_col2\" class=\"data row219 col2\" >0</td>\n",
       "      <td id=\"T_7a069_row219_col3\" class=\"data row219 col3\" >1</td>\n",
       "      <td id=\"T_7a069_row219_col4\" class=\"data row219 col4\" >1</td>\n",
       "      <td id=\"T_7a069_row219_col5\" class=\"data row219 col5\" >0</td>\n",
       "      <td id=\"T_7a069_row219_col6\" class=\"data row219 col6\" >1</td>\n",
       "      <td id=\"T_7a069_row219_col7\" class=\"data row219 col7\" >1</td>\n",
       "    </tr>\n",
       "    <tr>\n",
       "      <th id=\"T_7a069_level0_row220\" class=\"row_heading level0 row220\" >0xdc (220)</th>\n",
       "      <td id=\"T_7a069_row220_col0\" class=\"data row220 col0\" >1</td>\n",
       "      <td id=\"T_7a069_row220_col1\" class=\"data row220 col1\" >1</td>\n",
       "      <td id=\"T_7a069_row220_col2\" class=\"data row220 col2\" >0</td>\n",
       "      <td id=\"T_7a069_row220_col3\" class=\"data row220 col3\" >1</td>\n",
       "      <td id=\"T_7a069_row220_col4\" class=\"data row220 col4\" >1</td>\n",
       "      <td id=\"T_7a069_row220_col5\" class=\"data row220 col5\" >1</td>\n",
       "      <td id=\"T_7a069_row220_col6\" class=\"data row220 col6\" >0</td>\n",
       "      <td id=\"T_7a069_row220_col7\" class=\"data row220 col7\" >0</td>\n",
       "    </tr>\n",
       "    <tr>\n",
       "      <th id=\"T_7a069_level0_row221\" class=\"row_heading level0 row221\" >0xdd (221)</th>\n",
       "      <td id=\"T_7a069_row221_col0\" class=\"data row221 col0\" >1</td>\n",
       "      <td id=\"T_7a069_row221_col1\" class=\"data row221 col1\" >1</td>\n",
       "      <td id=\"T_7a069_row221_col2\" class=\"data row221 col2\" >0</td>\n",
       "      <td id=\"T_7a069_row221_col3\" class=\"data row221 col3\" >1</td>\n",
       "      <td id=\"T_7a069_row221_col4\" class=\"data row221 col4\" >1</td>\n",
       "      <td id=\"T_7a069_row221_col5\" class=\"data row221 col5\" >1</td>\n",
       "      <td id=\"T_7a069_row221_col6\" class=\"data row221 col6\" >0</td>\n",
       "      <td id=\"T_7a069_row221_col7\" class=\"data row221 col7\" >1</td>\n",
       "    </tr>\n",
       "    <tr>\n",
       "      <th id=\"T_7a069_level0_row222\" class=\"row_heading level0 row222\" >0xde (222)</th>\n",
       "      <td id=\"T_7a069_row222_col0\" class=\"data row222 col0\" >1</td>\n",
       "      <td id=\"T_7a069_row222_col1\" class=\"data row222 col1\" >1</td>\n",
       "      <td id=\"T_7a069_row222_col2\" class=\"data row222 col2\" >0</td>\n",
       "      <td id=\"T_7a069_row222_col3\" class=\"data row222 col3\" >1</td>\n",
       "      <td id=\"T_7a069_row222_col4\" class=\"data row222 col4\" >1</td>\n",
       "      <td id=\"T_7a069_row222_col5\" class=\"data row222 col5\" >1</td>\n",
       "      <td id=\"T_7a069_row222_col6\" class=\"data row222 col6\" >1</td>\n",
       "      <td id=\"T_7a069_row222_col7\" class=\"data row222 col7\" >0</td>\n",
       "    </tr>\n",
       "    <tr>\n",
       "      <th id=\"T_7a069_level0_row223\" class=\"row_heading level0 row223\" >0xdf (223)</th>\n",
       "      <td id=\"T_7a069_row223_col0\" class=\"data row223 col0\" >1</td>\n",
       "      <td id=\"T_7a069_row223_col1\" class=\"data row223 col1\" >1</td>\n",
       "      <td id=\"T_7a069_row223_col2\" class=\"data row223 col2\" >0</td>\n",
       "      <td id=\"T_7a069_row223_col3\" class=\"data row223 col3\" >1</td>\n",
       "      <td id=\"T_7a069_row223_col4\" class=\"data row223 col4\" >1</td>\n",
       "      <td id=\"T_7a069_row223_col5\" class=\"data row223 col5\" >1</td>\n",
       "      <td id=\"T_7a069_row223_col6\" class=\"data row223 col6\" >1</td>\n",
       "      <td id=\"T_7a069_row223_col7\" class=\"data row223 col7\" >1</td>\n",
       "    </tr>\n",
       "    <tr>\n",
       "      <th id=\"T_7a069_level0_row224\" class=\"row_heading level0 row224\" >0xe0 (224)</th>\n",
       "      <td id=\"T_7a069_row224_col0\" class=\"data row224 col0\" >1</td>\n",
       "      <td id=\"T_7a069_row224_col1\" class=\"data row224 col1\" >1</td>\n",
       "      <td id=\"T_7a069_row224_col2\" class=\"data row224 col2\" >1</td>\n",
       "      <td id=\"T_7a069_row224_col3\" class=\"data row224 col3\" >0</td>\n",
       "      <td id=\"T_7a069_row224_col4\" class=\"data row224 col4\" >0</td>\n",
       "      <td id=\"T_7a069_row224_col5\" class=\"data row224 col5\" >0</td>\n",
       "      <td id=\"T_7a069_row224_col6\" class=\"data row224 col6\" >0</td>\n",
       "      <td id=\"T_7a069_row224_col7\" class=\"data row224 col7\" >0</td>\n",
       "    </tr>\n",
       "    <tr>\n",
       "      <th id=\"T_7a069_level0_row225\" class=\"row_heading level0 row225\" >0xe1 (225)</th>\n",
       "      <td id=\"T_7a069_row225_col0\" class=\"data row225 col0\" >1</td>\n",
       "      <td id=\"T_7a069_row225_col1\" class=\"data row225 col1\" >1</td>\n",
       "      <td id=\"T_7a069_row225_col2\" class=\"data row225 col2\" >1</td>\n",
       "      <td id=\"T_7a069_row225_col3\" class=\"data row225 col3\" >0</td>\n",
       "      <td id=\"T_7a069_row225_col4\" class=\"data row225 col4\" >0</td>\n",
       "      <td id=\"T_7a069_row225_col5\" class=\"data row225 col5\" >0</td>\n",
       "      <td id=\"T_7a069_row225_col6\" class=\"data row225 col6\" >0</td>\n",
       "      <td id=\"T_7a069_row225_col7\" class=\"data row225 col7\" >1</td>\n",
       "    </tr>\n",
       "    <tr>\n",
       "      <th id=\"T_7a069_level0_row226\" class=\"row_heading level0 row226\" >0xe2 (226)</th>\n",
       "      <td id=\"T_7a069_row226_col0\" class=\"data row226 col0\" >1</td>\n",
       "      <td id=\"T_7a069_row226_col1\" class=\"data row226 col1\" >1</td>\n",
       "      <td id=\"T_7a069_row226_col2\" class=\"data row226 col2\" >1</td>\n",
       "      <td id=\"T_7a069_row226_col3\" class=\"data row226 col3\" >0</td>\n",
       "      <td id=\"T_7a069_row226_col4\" class=\"data row226 col4\" >0</td>\n",
       "      <td id=\"T_7a069_row226_col5\" class=\"data row226 col5\" >0</td>\n",
       "      <td id=\"T_7a069_row226_col6\" class=\"data row226 col6\" >1</td>\n",
       "      <td id=\"T_7a069_row226_col7\" class=\"data row226 col7\" >0</td>\n",
       "    </tr>\n",
       "    <tr>\n",
       "      <th id=\"T_7a069_level0_row227\" class=\"row_heading level0 row227\" >0xe3 (227)</th>\n",
       "      <td id=\"T_7a069_row227_col0\" class=\"data row227 col0\" >1</td>\n",
       "      <td id=\"T_7a069_row227_col1\" class=\"data row227 col1\" >1</td>\n",
       "      <td id=\"T_7a069_row227_col2\" class=\"data row227 col2\" >1</td>\n",
       "      <td id=\"T_7a069_row227_col3\" class=\"data row227 col3\" >0</td>\n",
       "      <td id=\"T_7a069_row227_col4\" class=\"data row227 col4\" >0</td>\n",
       "      <td id=\"T_7a069_row227_col5\" class=\"data row227 col5\" >0</td>\n",
       "      <td id=\"T_7a069_row227_col6\" class=\"data row227 col6\" >1</td>\n",
       "      <td id=\"T_7a069_row227_col7\" class=\"data row227 col7\" >1</td>\n",
       "    </tr>\n",
       "    <tr>\n",
       "      <th id=\"T_7a069_level0_row228\" class=\"row_heading level0 row228\" >0xe4 (228)</th>\n",
       "      <td id=\"T_7a069_row228_col0\" class=\"data row228 col0\" >1</td>\n",
       "      <td id=\"T_7a069_row228_col1\" class=\"data row228 col1\" >1</td>\n",
       "      <td id=\"T_7a069_row228_col2\" class=\"data row228 col2\" >1</td>\n",
       "      <td id=\"T_7a069_row228_col3\" class=\"data row228 col3\" >0</td>\n",
       "      <td id=\"T_7a069_row228_col4\" class=\"data row228 col4\" >0</td>\n",
       "      <td id=\"T_7a069_row228_col5\" class=\"data row228 col5\" >1</td>\n",
       "      <td id=\"T_7a069_row228_col6\" class=\"data row228 col6\" >0</td>\n",
       "      <td id=\"T_7a069_row228_col7\" class=\"data row228 col7\" >0</td>\n",
       "    </tr>\n",
       "    <tr>\n",
       "      <th id=\"T_7a069_level0_row229\" class=\"row_heading level0 row229\" >0xe5 (229)</th>\n",
       "      <td id=\"T_7a069_row229_col0\" class=\"data row229 col0\" >1</td>\n",
       "      <td id=\"T_7a069_row229_col1\" class=\"data row229 col1\" >1</td>\n",
       "      <td id=\"T_7a069_row229_col2\" class=\"data row229 col2\" >1</td>\n",
       "      <td id=\"T_7a069_row229_col3\" class=\"data row229 col3\" >0</td>\n",
       "      <td id=\"T_7a069_row229_col4\" class=\"data row229 col4\" >0</td>\n",
       "      <td id=\"T_7a069_row229_col5\" class=\"data row229 col5\" >1</td>\n",
       "      <td id=\"T_7a069_row229_col6\" class=\"data row229 col6\" >0</td>\n",
       "      <td id=\"T_7a069_row229_col7\" class=\"data row229 col7\" >1</td>\n",
       "    </tr>\n",
       "    <tr>\n",
       "      <th id=\"T_7a069_level0_row230\" class=\"row_heading level0 row230\" >0xe6 (230)</th>\n",
       "      <td id=\"T_7a069_row230_col0\" class=\"data row230 col0\" >1</td>\n",
       "      <td id=\"T_7a069_row230_col1\" class=\"data row230 col1\" >1</td>\n",
       "      <td id=\"T_7a069_row230_col2\" class=\"data row230 col2\" >1</td>\n",
       "      <td id=\"T_7a069_row230_col3\" class=\"data row230 col3\" >0</td>\n",
       "      <td id=\"T_7a069_row230_col4\" class=\"data row230 col4\" >0</td>\n",
       "      <td id=\"T_7a069_row230_col5\" class=\"data row230 col5\" >1</td>\n",
       "      <td id=\"T_7a069_row230_col6\" class=\"data row230 col6\" >1</td>\n",
       "      <td id=\"T_7a069_row230_col7\" class=\"data row230 col7\" >0</td>\n",
       "    </tr>\n",
       "    <tr>\n",
       "      <th id=\"T_7a069_level0_row231\" class=\"row_heading level0 row231\" >0xe7 (231)</th>\n",
       "      <td id=\"T_7a069_row231_col0\" class=\"data row231 col0\" >1</td>\n",
       "      <td id=\"T_7a069_row231_col1\" class=\"data row231 col1\" >1</td>\n",
       "      <td id=\"T_7a069_row231_col2\" class=\"data row231 col2\" >1</td>\n",
       "      <td id=\"T_7a069_row231_col3\" class=\"data row231 col3\" >0</td>\n",
       "      <td id=\"T_7a069_row231_col4\" class=\"data row231 col4\" >0</td>\n",
       "      <td id=\"T_7a069_row231_col5\" class=\"data row231 col5\" >1</td>\n",
       "      <td id=\"T_7a069_row231_col6\" class=\"data row231 col6\" >1</td>\n",
       "      <td id=\"T_7a069_row231_col7\" class=\"data row231 col7\" >1</td>\n",
       "    </tr>\n",
       "    <tr>\n",
       "      <th id=\"T_7a069_level0_row232\" class=\"row_heading level0 row232\" >0xe8 (232)</th>\n",
       "      <td id=\"T_7a069_row232_col0\" class=\"data row232 col0\" >1</td>\n",
       "      <td id=\"T_7a069_row232_col1\" class=\"data row232 col1\" >1</td>\n",
       "      <td id=\"T_7a069_row232_col2\" class=\"data row232 col2\" >1</td>\n",
       "      <td id=\"T_7a069_row232_col3\" class=\"data row232 col3\" >0</td>\n",
       "      <td id=\"T_7a069_row232_col4\" class=\"data row232 col4\" >1</td>\n",
       "      <td id=\"T_7a069_row232_col5\" class=\"data row232 col5\" >0</td>\n",
       "      <td id=\"T_7a069_row232_col6\" class=\"data row232 col6\" >0</td>\n",
       "      <td id=\"T_7a069_row232_col7\" class=\"data row232 col7\" >0</td>\n",
       "    </tr>\n",
       "    <tr>\n",
       "      <th id=\"T_7a069_level0_row233\" class=\"row_heading level0 row233\" >0xe9 (233)</th>\n",
       "      <td id=\"T_7a069_row233_col0\" class=\"data row233 col0\" >1</td>\n",
       "      <td id=\"T_7a069_row233_col1\" class=\"data row233 col1\" >1</td>\n",
       "      <td id=\"T_7a069_row233_col2\" class=\"data row233 col2\" >1</td>\n",
       "      <td id=\"T_7a069_row233_col3\" class=\"data row233 col3\" >0</td>\n",
       "      <td id=\"T_7a069_row233_col4\" class=\"data row233 col4\" >1</td>\n",
       "      <td id=\"T_7a069_row233_col5\" class=\"data row233 col5\" >0</td>\n",
       "      <td id=\"T_7a069_row233_col6\" class=\"data row233 col6\" >0</td>\n",
       "      <td id=\"T_7a069_row233_col7\" class=\"data row233 col7\" >1</td>\n",
       "    </tr>\n",
       "    <tr>\n",
       "      <th id=\"T_7a069_level0_row234\" class=\"row_heading level0 row234\" >0xea (234)</th>\n",
       "      <td id=\"T_7a069_row234_col0\" class=\"data row234 col0\" >1</td>\n",
       "      <td id=\"T_7a069_row234_col1\" class=\"data row234 col1\" >1</td>\n",
       "      <td id=\"T_7a069_row234_col2\" class=\"data row234 col2\" >1</td>\n",
       "      <td id=\"T_7a069_row234_col3\" class=\"data row234 col3\" >0</td>\n",
       "      <td id=\"T_7a069_row234_col4\" class=\"data row234 col4\" >1</td>\n",
       "      <td id=\"T_7a069_row234_col5\" class=\"data row234 col5\" >0</td>\n",
       "      <td id=\"T_7a069_row234_col6\" class=\"data row234 col6\" >1</td>\n",
       "      <td id=\"T_7a069_row234_col7\" class=\"data row234 col7\" >0</td>\n",
       "    </tr>\n",
       "    <tr>\n",
       "      <th id=\"T_7a069_level0_row235\" class=\"row_heading level0 row235\" >0xeb (235)</th>\n",
       "      <td id=\"T_7a069_row235_col0\" class=\"data row235 col0\" >1</td>\n",
       "      <td id=\"T_7a069_row235_col1\" class=\"data row235 col1\" >1</td>\n",
       "      <td id=\"T_7a069_row235_col2\" class=\"data row235 col2\" >1</td>\n",
       "      <td id=\"T_7a069_row235_col3\" class=\"data row235 col3\" >0</td>\n",
       "      <td id=\"T_7a069_row235_col4\" class=\"data row235 col4\" >1</td>\n",
       "      <td id=\"T_7a069_row235_col5\" class=\"data row235 col5\" >0</td>\n",
       "      <td id=\"T_7a069_row235_col6\" class=\"data row235 col6\" >1</td>\n",
       "      <td id=\"T_7a069_row235_col7\" class=\"data row235 col7\" >1</td>\n",
       "    </tr>\n",
       "    <tr>\n",
       "      <th id=\"T_7a069_level0_row236\" class=\"row_heading level0 row236\" >0xec (236)</th>\n",
       "      <td id=\"T_7a069_row236_col0\" class=\"data row236 col0\" >1</td>\n",
       "      <td id=\"T_7a069_row236_col1\" class=\"data row236 col1\" >1</td>\n",
       "      <td id=\"T_7a069_row236_col2\" class=\"data row236 col2\" >1</td>\n",
       "      <td id=\"T_7a069_row236_col3\" class=\"data row236 col3\" >0</td>\n",
       "      <td id=\"T_7a069_row236_col4\" class=\"data row236 col4\" >1</td>\n",
       "      <td id=\"T_7a069_row236_col5\" class=\"data row236 col5\" >1</td>\n",
       "      <td id=\"T_7a069_row236_col6\" class=\"data row236 col6\" >0</td>\n",
       "      <td id=\"T_7a069_row236_col7\" class=\"data row236 col7\" >0</td>\n",
       "    </tr>\n",
       "    <tr>\n",
       "      <th id=\"T_7a069_level0_row237\" class=\"row_heading level0 row237\" >0xed (237)</th>\n",
       "      <td id=\"T_7a069_row237_col0\" class=\"data row237 col0\" >1</td>\n",
       "      <td id=\"T_7a069_row237_col1\" class=\"data row237 col1\" >1</td>\n",
       "      <td id=\"T_7a069_row237_col2\" class=\"data row237 col2\" >1</td>\n",
       "      <td id=\"T_7a069_row237_col3\" class=\"data row237 col3\" >0</td>\n",
       "      <td id=\"T_7a069_row237_col4\" class=\"data row237 col4\" >1</td>\n",
       "      <td id=\"T_7a069_row237_col5\" class=\"data row237 col5\" >1</td>\n",
       "      <td id=\"T_7a069_row237_col6\" class=\"data row237 col6\" >0</td>\n",
       "      <td id=\"T_7a069_row237_col7\" class=\"data row237 col7\" >1</td>\n",
       "    </tr>\n",
       "    <tr>\n",
       "      <th id=\"T_7a069_level0_row238\" class=\"row_heading level0 row238\" >0xee (238)</th>\n",
       "      <td id=\"T_7a069_row238_col0\" class=\"data row238 col0\" >1</td>\n",
       "      <td id=\"T_7a069_row238_col1\" class=\"data row238 col1\" >1</td>\n",
       "      <td id=\"T_7a069_row238_col2\" class=\"data row238 col2\" >1</td>\n",
       "      <td id=\"T_7a069_row238_col3\" class=\"data row238 col3\" >0</td>\n",
       "      <td id=\"T_7a069_row238_col4\" class=\"data row238 col4\" >1</td>\n",
       "      <td id=\"T_7a069_row238_col5\" class=\"data row238 col5\" >1</td>\n",
       "      <td id=\"T_7a069_row238_col6\" class=\"data row238 col6\" >1</td>\n",
       "      <td id=\"T_7a069_row238_col7\" class=\"data row238 col7\" >0</td>\n",
       "    </tr>\n",
       "    <tr>\n",
       "      <th id=\"T_7a069_level0_row239\" class=\"row_heading level0 row239\" >0xef (239)</th>\n",
       "      <td id=\"T_7a069_row239_col0\" class=\"data row239 col0\" >1</td>\n",
       "      <td id=\"T_7a069_row239_col1\" class=\"data row239 col1\" >1</td>\n",
       "      <td id=\"T_7a069_row239_col2\" class=\"data row239 col2\" >1</td>\n",
       "      <td id=\"T_7a069_row239_col3\" class=\"data row239 col3\" >0</td>\n",
       "      <td id=\"T_7a069_row239_col4\" class=\"data row239 col4\" >1</td>\n",
       "      <td id=\"T_7a069_row239_col5\" class=\"data row239 col5\" >1</td>\n",
       "      <td id=\"T_7a069_row239_col6\" class=\"data row239 col6\" >1</td>\n",
       "      <td id=\"T_7a069_row239_col7\" class=\"data row239 col7\" >1</td>\n",
       "    </tr>\n",
       "    <tr>\n",
       "      <th id=\"T_7a069_level0_row240\" class=\"row_heading level0 row240\" >0xf0 (240)</th>\n",
       "      <td id=\"T_7a069_row240_col0\" class=\"data row240 col0\" >1</td>\n",
       "      <td id=\"T_7a069_row240_col1\" class=\"data row240 col1\" >1</td>\n",
       "      <td id=\"T_7a069_row240_col2\" class=\"data row240 col2\" >1</td>\n",
       "      <td id=\"T_7a069_row240_col3\" class=\"data row240 col3\" >1</td>\n",
       "      <td id=\"T_7a069_row240_col4\" class=\"data row240 col4\" >0</td>\n",
       "      <td id=\"T_7a069_row240_col5\" class=\"data row240 col5\" >0</td>\n",
       "      <td id=\"T_7a069_row240_col6\" class=\"data row240 col6\" >0</td>\n",
       "      <td id=\"T_7a069_row240_col7\" class=\"data row240 col7\" >0</td>\n",
       "    </tr>\n",
       "    <tr>\n",
       "      <th id=\"T_7a069_level0_row241\" class=\"row_heading level0 row241\" >0xf1 (241)</th>\n",
       "      <td id=\"T_7a069_row241_col0\" class=\"data row241 col0\" >1</td>\n",
       "      <td id=\"T_7a069_row241_col1\" class=\"data row241 col1\" >1</td>\n",
       "      <td id=\"T_7a069_row241_col2\" class=\"data row241 col2\" >1</td>\n",
       "      <td id=\"T_7a069_row241_col3\" class=\"data row241 col3\" >1</td>\n",
       "      <td id=\"T_7a069_row241_col4\" class=\"data row241 col4\" >0</td>\n",
       "      <td id=\"T_7a069_row241_col5\" class=\"data row241 col5\" >0</td>\n",
       "      <td id=\"T_7a069_row241_col6\" class=\"data row241 col6\" >0</td>\n",
       "      <td id=\"T_7a069_row241_col7\" class=\"data row241 col7\" >1</td>\n",
       "    </tr>\n",
       "    <tr>\n",
       "      <th id=\"T_7a069_level0_row242\" class=\"row_heading level0 row242\" >0xf2 (242)</th>\n",
       "      <td id=\"T_7a069_row242_col0\" class=\"data row242 col0\" >1</td>\n",
       "      <td id=\"T_7a069_row242_col1\" class=\"data row242 col1\" >1</td>\n",
       "      <td id=\"T_7a069_row242_col2\" class=\"data row242 col2\" >1</td>\n",
       "      <td id=\"T_7a069_row242_col3\" class=\"data row242 col3\" >1</td>\n",
       "      <td id=\"T_7a069_row242_col4\" class=\"data row242 col4\" >0</td>\n",
       "      <td id=\"T_7a069_row242_col5\" class=\"data row242 col5\" >0</td>\n",
       "      <td id=\"T_7a069_row242_col6\" class=\"data row242 col6\" >1</td>\n",
       "      <td id=\"T_7a069_row242_col7\" class=\"data row242 col7\" >0</td>\n",
       "    </tr>\n",
       "    <tr>\n",
       "      <th id=\"T_7a069_level0_row243\" class=\"row_heading level0 row243\" >0xf3 (243)</th>\n",
       "      <td id=\"T_7a069_row243_col0\" class=\"data row243 col0\" >1</td>\n",
       "      <td id=\"T_7a069_row243_col1\" class=\"data row243 col1\" >1</td>\n",
       "      <td id=\"T_7a069_row243_col2\" class=\"data row243 col2\" >1</td>\n",
       "      <td id=\"T_7a069_row243_col3\" class=\"data row243 col3\" >1</td>\n",
       "      <td id=\"T_7a069_row243_col4\" class=\"data row243 col4\" >0</td>\n",
       "      <td id=\"T_7a069_row243_col5\" class=\"data row243 col5\" >0</td>\n",
       "      <td id=\"T_7a069_row243_col6\" class=\"data row243 col6\" >1</td>\n",
       "      <td id=\"T_7a069_row243_col7\" class=\"data row243 col7\" >1</td>\n",
       "    </tr>\n",
       "    <tr>\n",
       "      <th id=\"T_7a069_level0_row244\" class=\"row_heading level0 row244\" >0xf4 (244)</th>\n",
       "      <td id=\"T_7a069_row244_col0\" class=\"data row244 col0\" >1</td>\n",
       "      <td id=\"T_7a069_row244_col1\" class=\"data row244 col1\" >1</td>\n",
       "      <td id=\"T_7a069_row244_col2\" class=\"data row244 col2\" >1</td>\n",
       "      <td id=\"T_7a069_row244_col3\" class=\"data row244 col3\" >1</td>\n",
       "      <td id=\"T_7a069_row244_col4\" class=\"data row244 col4\" >0</td>\n",
       "      <td id=\"T_7a069_row244_col5\" class=\"data row244 col5\" >1</td>\n",
       "      <td id=\"T_7a069_row244_col6\" class=\"data row244 col6\" >0</td>\n",
       "      <td id=\"T_7a069_row244_col7\" class=\"data row244 col7\" >0</td>\n",
       "    </tr>\n",
       "    <tr>\n",
       "      <th id=\"T_7a069_level0_row245\" class=\"row_heading level0 row245\" >0xf5 (245)</th>\n",
       "      <td id=\"T_7a069_row245_col0\" class=\"data row245 col0\" >1</td>\n",
       "      <td id=\"T_7a069_row245_col1\" class=\"data row245 col1\" >1</td>\n",
       "      <td id=\"T_7a069_row245_col2\" class=\"data row245 col2\" >1</td>\n",
       "      <td id=\"T_7a069_row245_col3\" class=\"data row245 col3\" >1</td>\n",
       "      <td id=\"T_7a069_row245_col4\" class=\"data row245 col4\" >0</td>\n",
       "      <td id=\"T_7a069_row245_col5\" class=\"data row245 col5\" >1</td>\n",
       "      <td id=\"T_7a069_row245_col6\" class=\"data row245 col6\" >0</td>\n",
       "      <td id=\"T_7a069_row245_col7\" class=\"data row245 col7\" >1</td>\n",
       "    </tr>\n",
       "    <tr>\n",
       "      <th id=\"T_7a069_level0_row246\" class=\"row_heading level0 row246\" >0xf6 (246)</th>\n",
       "      <td id=\"T_7a069_row246_col0\" class=\"data row246 col0\" >1</td>\n",
       "      <td id=\"T_7a069_row246_col1\" class=\"data row246 col1\" >1</td>\n",
       "      <td id=\"T_7a069_row246_col2\" class=\"data row246 col2\" >1</td>\n",
       "      <td id=\"T_7a069_row246_col3\" class=\"data row246 col3\" >1</td>\n",
       "      <td id=\"T_7a069_row246_col4\" class=\"data row246 col4\" >0</td>\n",
       "      <td id=\"T_7a069_row246_col5\" class=\"data row246 col5\" >1</td>\n",
       "      <td id=\"T_7a069_row246_col6\" class=\"data row246 col6\" >1</td>\n",
       "      <td id=\"T_7a069_row246_col7\" class=\"data row246 col7\" >0</td>\n",
       "    </tr>\n",
       "    <tr>\n",
       "      <th id=\"T_7a069_level0_row247\" class=\"row_heading level0 row247\" >0xf7 (247)</th>\n",
       "      <td id=\"T_7a069_row247_col0\" class=\"data row247 col0\" >1</td>\n",
       "      <td id=\"T_7a069_row247_col1\" class=\"data row247 col1\" >1</td>\n",
       "      <td id=\"T_7a069_row247_col2\" class=\"data row247 col2\" >1</td>\n",
       "      <td id=\"T_7a069_row247_col3\" class=\"data row247 col3\" >1</td>\n",
       "      <td id=\"T_7a069_row247_col4\" class=\"data row247 col4\" >0</td>\n",
       "      <td id=\"T_7a069_row247_col5\" class=\"data row247 col5\" >1</td>\n",
       "      <td id=\"T_7a069_row247_col6\" class=\"data row247 col6\" >1</td>\n",
       "      <td id=\"T_7a069_row247_col7\" class=\"data row247 col7\" >1</td>\n",
       "    </tr>\n",
       "    <tr>\n",
       "      <th id=\"T_7a069_level0_row248\" class=\"row_heading level0 row248\" >0xf8 (248)</th>\n",
       "      <td id=\"T_7a069_row248_col0\" class=\"data row248 col0\" >1</td>\n",
       "      <td id=\"T_7a069_row248_col1\" class=\"data row248 col1\" >1</td>\n",
       "      <td id=\"T_7a069_row248_col2\" class=\"data row248 col2\" >1</td>\n",
       "      <td id=\"T_7a069_row248_col3\" class=\"data row248 col3\" >1</td>\n",
       "      <td id=\"T_7a069_row248_col4\" class=\"data row248 col4\" >1</td>\n",
       "      <td id=\"T_7a069_row248_col5\" class=\"data row248 col5\" >0</td>\n",
       "      <td id=\"T_7a069_row248_col6\" class=\"data row248 col6\" >0</td>\n",
       "      <td id=\"T_7a069_row248_col7\" class=\"data row248 col7\" >0</td>\n",
       "    </tr>\n",
       "    <tr>\n",
       "      <th id=\"T_7a069_level0_row249\" class=\"row_heading level0 row249\" >0xf9 (249)</th>\n",
       "      <td id=\"T_7a069_row249_col0\" class=\"data row249 col0\" >1</td>\n",
       "      <td id=\"T_7a069_row249_col1\" class=\"data row249 col1\" >1</td>\n",
       "      <td id=\"T_7a069_row249_col2\" class=\"data row249 col2\" >1</td>\n",
       "      <td id=\"T_7a069_row249_col3\" class=\"data row249 col3\" >1</td>\n",
       "      <td id=\"T_7a069_row249_col4\" class=\"data row249 col4\" >1</td>\n",
       "      <td id=\"T_7a069_row249_col5\" class=\"data row249 col5\" >0</td>\n",
       "      <td id=\"T_7a069_row249_col6\" class=\"data row249 col6\" >0</td>\n",
       "      <td id=\"T_7a069_row249_col7\" class=\"data row249 col7\" >1</td>\n",
       "    </tr>\n",
       "    <tr>\n",
       "      <th id=\"T_7a069_level0_row250\" class=\"row_heading level0 row250\" >0xfa (250)</th>\n",
       "      <td id=\"T_7a069_row250_col0\" class=\"data row250 col0\" >1</td>\n",
       "      <td id=\"T_7a069_row250_col1\" class=\"data row250 col1\" >1</td>\n",
       "      <td id=\"T_7a069_row250_col2\" class=\"data row250 col2\" >1</td>\n",
       "      <td id=\"T_7a069_row250_col3\" class=\"data row250 col3\" >1</td>\n",
       "      <td id=\"T_7a069_row250_col4\" class=\"data row250 col4\" >1</td>\n",
       "      <td id=\"T_7a069_row250_col5\" class=\"data row250 col5\" >0</td>\n",
       "      <td id=\"T_7a069_row250_col6\" class=\"data row250 col6\" >1</td>\n",
       "      <td id=\"T_7a069_row250_col7\" class=\"data row250 col7\" >0</td>\n",
       "    </tr>\n",
       "    <tr>\n",
       "      <th id=\"T_7a069_level0_row251\" class=\"row_heading level0 row251\" >0xfb (251)</th>\n",
       "      <td id=\"T_7a069_row251_col0\" class=\"data row251 col0\" >1</td>\n",
       "      <td id=\"T_7a069_row251_col1\" class=\"data row251 col1\" >1</td>\n",
       "      <td id=\"T_7a069_row251_col2\" class=\"data row251 col2\" >1</td>\n",
       "      <td id=\"T_7a069_row251_col3\" class=\"data row251 col3\" >1</td>\n",
       "      <td id=\"T_7a069_row251_col4\" class=\"data row251 col4\" >1</td>\n",
       "      <td id=\"T_7a069_row251_col5\" class=\"data row251 col5\" >0</td>\n",
       "      <td id=\"T_7a069_row251_col6\" class=\"data row251 col6\" >1</td>\n",
       "      <td id=\"T_7a069_row251_col7\" class=\"data row251 col7\" >1</td>\n",
       "    </tr>\n",
       "    <tr>\n",
       "      <th id=\"T_7a069_level0_row252\" class=\"row_heading level0 row252\" >0xfc (252)</th>\n",
       "      <td id=\"T_7a069_row252_col0\" class=\"data row252 col0\" >1</td>\n",
       "      <td id=\"T_7a069_row252_col1\" class=\"data row252 col1\" >1</td>\n",
       "      <td id=\"T_7a069_row252_col2\" class=\"data row252 col2\" >1</td>\n",
       "      <td id=\"T_7a069_row252_col3\" class=\"data row252 col3\" >1</td>\n",
       "      <td id=\"T_7a069_row252_col4\" class=\"data row252 col4\" >1</td>\n",
       "      <td id=\"T_7a069_row252_col5\" class=\"data row252 col5\" >1</td>\n",
       "      <td id=\"T_7a069_row252_col6\" class=\"data row252 col6\" >0</td>\n",
       "      <td id=\"T_7a069_row252_col7\" class=\"data row252 col7\" >0</td>\n",
       "    </tr>\n",
       "    <tr>\n",
       "      <th id=\"T_7a069_level0_row253\" class=\"row_heading level0 row253\" >0xfd (253)</th>\n",
       "      <td id=\"T_7a069_row253_col0\" class=\"data row253 col0\" >1</td>\n",
       "      <td id=\"T_7a069_row253_col1\" class=\"data row253 col1\" >1</td>\n",
       "      <td id=\"T_7a069_row253_col2\" class=\"data row253 col2\" >1</td>\n",
       "      <td id=\"T_7a069_row253_col3\" class=\"data row253 col3\" >1</td>\n",
       "      <td id=\"T_7a069_row253_col4\" class=\"data row253 col4\" >1</td>\n",
       "      <td id=\"T_7a069_row253_col5\" class=\"data row253 col5\" >1</td>\n",
       "      <td id=\"T_7a069_row253_col6\" class=\"data row253 col6\" >0</td>\n",
       "      <td id=\"T_7a069_row253_col7\" class=\"data row253 col7\" >1</td>\n",
       "    </tr>\n",
       "    <tr>\n",
       "      <th id=\"T_7a069_level0_row254\" class=\"row_heading level0 row254\" >0xfe (254)</th>\n",
       "      <td id=\"T_7a069_row254_col0\" class=\"data row254 col0\" >1</td>\n",
       "      <td id=\"T_7a069_row254_col1\" class=\"data row254 col1\" >1</td>\n",
       "      <td id=\"T_7a069_row254_col2\" class=\"data row254 col2\" >1</td>\n",
       "      <td id=\"T_7a069_row254_col3\" class=\"data row254 col3\" >1</td>\n",
       "      <td id=\"T_7a069_row254_col4\" class=\"data row254 col4\" >1</td>\n",
       "      <td id=\"T_7a069_row254_col5\" class=\"data row254 col5\" >1</td>\n",
       "      <td id=\"T_7a069_row254_col6\" class=\"data row254 col6\" >1</td>\n",
       "      <td id=\"T_7a069_row254_col7\" class=\"data row254 col7\" >0</td>\n",
       "    </tr>\n",
       "    <tr>\n",
       "      <th id=\"T_7a069_level0_row255\" class=\"row_heading level0 row255\" >0xff (255)</th>\n",
       "      <td id=\"T_7a069_row255_col0\" class=\"data row255 col0\" >1</td>\n",
       "      <td id=\"T_7a069_row255_col1\" class=\"data row255 col1\" >1</td>\n",
       "      <td id=\"T_7a069_row255_col2\" class=\"data row255 col2\" >1</td>\n",
       "      <td id=\"T_7a069_row255_col3\" class=\"data row255 col3\" >1</td>\n",
       "      <td id=\"T_7a069_row255_col4\" class=\"data row255 col4\" >1</td>\n",
       "      <td id=\"T_7a069_row255_col5\" class=\"data row255 col5\" >1</td>\n",
       "      <td id=\"T_7a069_row255_col6\" class=\"data row255 col6\" >1</td>\n",
       "      <td id=\"T_7a069_row255_col7\" class=\"data row255 col7\" >1</td>\n",
       "    </tr>\n",
       "  </tbody>\n",
       "</table>\n",
       "</div>"
      ],
      "text/plain": [
       "<IPython.core.display.HTML object>"
      ]
     },
     "metadata": {},
     "output_type": "display_data"
    }
   ],
   "source": [
    "displayBytes(bytes=[[i] for i in range(256)], labelstitle=\"HEX (DEC)\", labels=[\"0x\"+format(i,\"02x\")+ \" (\" + format(i,\"03d\") +\")\" for i in range(256)], center=True)"
   ]
  },
  {
   "cell_type": "markdown",
   "id": "773547a6",
   "metadata": {
    "cell_style": "split",
    "tags": []
   },
   "source": [
    "This table shows all 256 patterns of bits that a single byte could have.  On the left is how we would refer to the value in both Hex and (decimal)"
   ]
  },
  {
   "cell_type": "markdown",
   "id": "f99d82ac-468c-4578-ab75-94a66ec01e3c",
   "metadata": {
    "slideshow": {
     "slide_type": "skip"
    },
    "tags": []
   },
   "source": [
    "<hr>"
   ]
  },
  {
   "cell_type": "markdown",
   "id": "3608f838",
   "metadata": {
    "slideshow": {
     "slide_type": "slide"
    }
   },
   "source": [
    "### Files - Data"
   ]
  },
  {
   "cell_type": "markdown",
   "id": "926a2aea-1e3b-4923-be3a-e20129ebde51",
   "metadata": {
    "slideshow": {
     "slide_type": "skip"
    },
    "tags": []
   },
   "source": [
    "<hr>"
   ]
  },
  {
   "cell_type": "markdown",
   "id": "b443e42b-c0da-4ec9-964f-5ff6cc5cf299",
   "metadata": {
    "cell_style": "split",
    "hide_input": false,
    "slideshow": {
     "slide_type": "slide"
    },
    "tags": []
   },
   "source": [
    "### The information a file contains is its data"
   ]
  },
  {
   "cell_type": "markdown",
   "id": "80ac7912-01ca-44f1-90f7-4805214a112a",
   "metadata": {
    "slideshow": {
     "slide_type": "skip"
    },
    "tags": []
   },
   "source": [
    "<hr>"
   ]
  },
  {
   "cell_type": "markdown",
   "id": "991cb34f-d953-4d2e-a572-878940e6e671",
   "metadata": {
    "cell_style": "split",
    "hide_input": false,
    "slideshow": {
     "slide_type": "slide"
    },
    "tags": []
   },
   "source": [
    "<table>\n",
    "    <tr>\n",
    "        <td>\n",
    "<img align=\"left\" src=\"../images/file.png\">\n",
    "        </td>\n",
    "        <td>\n",
    "            <p>\n",
    "                \n",
    "**Data:** is a collection of bytes:\n",
    "\n",
    "In Unix there is no explicit type that tells us what the bytes \"are\" <br>\n",
    "- they could be human readable program code\n",
    "- they could be pixel data of an image\n",
    "                </p>\n",
    "        </td>\n",
    "    </tr>\n",
    "</table>"
   ]
  },
  {
   "cell_type": "markdown",
   "id": "7476564d-6c6f-4efd-9507-324a00f712b2",
   "metadata": {
    "slideshow": {
     "slide_type": "skip"
    },
    "tags": []
   },
   "source": [
    "<hr>"
   ]
  },
  {
   "cell_type": "markdown",
   "id": "0afee1a7",
   "metadata": {
    "cell_style": "center",
    "slideshow": {
     "slide_type": "slide"
    },
    "tags": []
   },
   "source": [
    "We are free to try and interpret the bytes in any way we like depending on what programs we use to process them. \n",
    "\n",
    "UNIX assumes we know what we are doing!\n",
    "\n",
    "There are many tools that let us just work with raw bytes so we can always use these tools with any file! (eg dump its data as hexadecimal values)"
   ]
  },
  {
   "cell_type": "markdown",
   "id": "5cf4cdcf-c4a2-4def-a289-06a2b54f01ec",
   "metadata": {
    "slideshow": {
     "slide_type": "skip"
    },
    "tags": []
   },
   "source": [
    "<hr>"
   ]
  },
  {
   "cell_type": "markdown",
   "id": "1e63650a",
   "metadata": {
    "cell_style": "split",
    "slideshow": {
     "slide_type": "slide"
    }
   },
   "source": [
    "### Files - Meta Data"
   ]
  },
  {
   "cell_type": "markdown",
   "id": "0b44f41b-cb90-4e86-85b8-d1f387bf737a",
   "metadata": {
    "slideshow": {
     "slide_type": "skip"
    },
    "tags": []
   },
   "source": [
    "<hr>"
   ]
  },
  {
   "cell_type": "markdown",
   "id": "5f955cdb-ea8c-4c35-b423-89e73f446112",
   "metadata": {
    "cell_style": "split",
    "slideshow": {
     "slide_type": "slide"
    },
    "tags": []
   },
   "source": [
    "### Information describing other properties of the file."
   ]
  },
  {
   "cell_type": "markdown",
   "id": "c1b09271-cd7b-435d-99e9-329755036044",
   "metadata": {
    "slideshow": {
     "slide_type": "skip"
    },
    "tags": []
   },
   "source": [
    "<hr>"
   ]
  },
  {
   "cell_type": "markdown",
   "id": "7daf8707-2769-4f52-bbb8-8274bbe54f30",
   "metadata": {
    "cell_style": "split",
    "slideshow": {
     "slide_type": "slide"
    },
    "tags": []
   },
   "source": [
    "<table>\n",
    "<tr>\n",
    "   <td width=\"40%\">\n",
    "      <img  src=\"../images/file.png\">\n",
    "    </td>\n",
    "   <td> \n",
    "      <p>\n",
    "          \n",
    "**Meta-data:** Bytes that encode extra descriptive facts:\n",
    "- who owns the file \n",
    "- the length of the file (measured in bytes)\n",
    "- who has permissions to read or write its contents \n",
    "- the time the contents was last modified\n",
    "- the time that it was last read\n",
    "- the time that the descriptive facts where last changed (eg the file permissions were modified)\n",
    "                 </p>\n",
    "    </td>\n",
    "</table>    "
   ]
  },
  {
   "cell_type": "markdown",
   "id": "51fd4ae6-2306-4c86-a549-d63cd62c0556",
   "metadata": {
    "slideshow": {
     "slide_type": "skip"
    },
    "tags": []
   },
   "source": [
    "<hr>"
   ]
  },
  {
   "cell_type": "markdown",
   "id": "83451e2a-61a9-49a8-98fb-0a726bdd7a83",
   "metadata": {
    "slideshow": {
     "slide_type": "slide"
    },
    "tags": []
   },
   "source": [
    "The meta data is key to use being able to control access to the data of a file."
   ]
  },
  {
   "cell_type": "markdown",
   "id": "898df2b2-4416-4cac-b813-83b3d7e8198e",
   "metadata": {
    "slideshow": {
     "slide_type": "skip"
    },
    "tags": []
   },
   "source": [
    "<hr>"
   ]
  },
  {
   "cell_type": "markdown",
   "id": "dd42c25c",
   "metadata": {
    "cell_style": "split",
    "slideshow": {
     "slide_type": "slide"
    },
    "tags": []
   },
   "source": [
    "\n",
    "<img src=\"../images/359px-ENC_SYSTEME_FIGURE.jpeg\" width=\"40%\" style=\"margin:2em 1em 0em 0em\" align=\"left\" >\n",
    "\n",
    "## Hierarchy -- Trees and Directories\n",
    "\n",
    "Files are a good start but not enough to stay organized\n",
    "\n",
    "Must have a way for naming and finding files that flexible and can be easily understood and organized by the users\n",
    "\n",
    "**Directory:** a list of names each name identifies either a single file or another directory. Entries of this are *in* the directory.\n",
    "\n",
    "**Sub-directory:** contained with a parent directory\n",
    "\n",
    "Like files directories have meta-data but the data is just its list of entries. Results in a tree and the name of any file is a path within the tree.\n",
    "\n",
    "Users are empowered to organized their files as they see fit both in names and directory structure.  \n",
    "\n"
   ]
  },
  {
   "cell_type": "markdown",
   "id": "6c5a1a8f-b003-4ad6-8807-0930dc56af50",
   "metadata": {
    "slideshow": {
     "slide_type": "skip"
    },
    "tags": []
   },
   "source": [
    "<hr>"
   ]
  },
  {
   "cell_type": "markdown",
   "id": "c55bf30b",
   "metadata": {
    "cell_style": "center",
    "slideshow": {
     "slide_type": "slide"
    }
   },
   "source": [
    "### PATHS and the ROOT"
   ]
  },
  {
   "cell_type": "markdown",
   "id": "1ad99143-c79d-4306-a452-2a52356d5c9e",
   "metadata": {
    "slideshow": {
     "slide_type": "skip"
    },
    "tags": []
   },
   "source": [
    "<hr>"
   ]
  },
  {
   "cell_type": "markdown",
   "id": "b00878c8",
   "metadata": {
    "cell_style": "split",
    "slideshow": {
     "slide_type": "slide"
    },
    "tags": []
   },
   "source": [
    "<!-- produced by: \n",
    "htmlFig(\"[{'src': '../images/dirtree.png'}]\", \n",
    "        id=\"\", \n",
    "        align=\"center\", \n",
    "        width=\"80%\",\n",
    "        margin=\"auto auto auto auto\",\n",
    "        caption=\"\", \n",
    "        captionalign=\"left\")\n",
    "-->\n",
    "<table align=\"left\" width=\"40%\" cellpadding=\"0\" cellspacing=\"0\" border=\"0\" style=\"border-collapse: collapse; margin: auto auto auto auto\">\n",
    "    <tr style=\"padding: 0; margin: 0;\"> \n",
    "        <td colspan=\"1\" width=\"100%\" style=\"padding: 0; margin: 0 0 0 0; background-color:inherit;\">\n",
    "            <div style=\"padding: 0; margin: 0 0 0 0;\">\n",
    "              <figure style=\"padding: 0; margin: 0 0 0 0; width:100%;\">\n",
    "                   <img src=\"../images/dirtree.png\" width=\"100%\" style=\"padding: 0; margin: 0;\">\n",
    "                </figure>\n",
    "            </div>\n",
    "        </td>\n",
    "    </tr>\n",
    "</table>\n",
    "\n",
    "\n",
    "`/` $+$ `home` $+$ `jonathan` $+$ `Classes` $+$ `CS` $+$ `210` $+$ `Assignment 1` $+$ `Problem 1`     \n",
    "\n",
    "`/` $+$ `home` $+$ `jonathan` $+$ `Classes` $+$ `CS` $+$ `210` $+$ `Assignment 2` $+$ `Problem 1` \n",
    "\n",
    "`/` $+$ `home` $+$ `jonathan` $+$ `Classes` $+$ `CS` $+$ `210` $+$ `Assignment 3` $+$ `Problem 1` \n",
    "\n",
    "\"Full\" path name: join independent components with the \"/\" character.  So the above three files as proper unix path names would be:\n",
    "\n",
    "`/home/jonathan/Classes/CS/210/Assignment 1/Problem 1\n",
    "/home/jonathan/Classes/CS/210/Assignment 2/Problem 1\n",
    "/home/jonathan/Classes/CS/210/Assignment 3/Problem 1`"
   ]
  },
  {
   "cell_type": "markdown",
   "id": "1a2e90fe",
   "metadata": {
    "cell_style": "center",
    "slideshow": {
     "slide_type": "notes"
    }
   },
   "source": [
    "- Talk through the example draw as necessary to highlight idea of a path\n",
    "- note the notion of root as an anchor\n",
    "- later we will get to relative paths and lack of constraints on file names"
   ]
  },
  {
   "cell_type": "markdown",
   "id": "8c0021e8-4cef-4b65-aa73-d56b4e99e044",
   "metadata": {
    "slideshow": {
     "slide_type": "skip"
    },
    "tags": []
   },
   "source": [
    "<hr>"
   ]
  },
  {
   "cell_type": "markdown",
   "id": "f1ebd5d5",
   "metadata": {
    "cell_style": "center",
    "slideshow": {
     "slide_type": "slide"
    }
   },
   "source": [
    "### ASCII - One more thing\n",
    "- An important encoding of bytes that many Unix tools assume is ASCII\n",
    "<img src=\"../images/ascii.png\" width=\"70%\">\n",
    "- ASCII provides a simple code that maps bytes to English letters, numbers, punctuation, and some text orient controls. \n",
    "- The \"base\" encoding that programs use."
   ]
  },
  {
   "cell_type": "markdown",
   "id": "4673ea83-7459-4701-84d6-74cefabad9d0",
   "metadata": {
    "slideshow": {
     "slide_type": "skip"
    },
    "tags": []
   },
   "source": [
    "<hr>"
   ]
  },
  {
   "cell_type": "markdown",
   "id": "9cd1fb0e",
   "metadata": {
    "slideshow": {
     "slide_type": "slide"
    }
   },
   "source": [
    "## Terminal and the Shell - Here we go\n",
    "\n",
    "Finally ready to get on with it \n",
    "- a computer - the hardware\n",
    "- with the Unix kernel booted and running on it waiting for us!"
   ]
  },
  {
   "cell_type": "markdown",
   "id": "058c076a",
   "metadata": {
    "cell_style": "center",
    "hide_input": false,
    "slideshow": {
     "slide_type": "notes"
    }
   },
   "source": [
    "### Shell: One program to \"rule/run\" them all\n",
    "- Every story has to start somewhere\n",
    "  - every new terminal connection made to the UNIX system starts a shell and directs its input and output to the the terminal\n",
    "  - Shell is designed to have a text based conversation with a programmer --\n",
    "      - the conversation is exchanges between the programmer and the shell - eg.  \n",
    "```\n",
    "SHLL -> READY\n",
    "PGMR -> <enter> '\\n'\n",
    "SHLL -> READY\n",
    "SHLL -> #<enter> \n",
    "SHLL -> READY\n",
    "PGMR -> echo \"Hello\"\n",
    "SHLL -> Hello\n",
    "SHLL -> READY\n",
    "PGMR -> for ((i=0; i<3; i++)); do echo $i; done\n",
    "SHLL -> 0 \n",
    "SHLL -> 1\n",
    "SHLL -> 2\n",
    "SHLL -> READY\n",
    "PGMR -> Bye \n",
    "SHLL EXITS AND KERNELENDS THE TERMINAL SESSION\n",
    "          \n",
    "      - the shell begins the conversation by send a prompt \"string\" to the terminal\n",
    "      - the programmer sends requests to the shell in a \"line oriented\" way \n",
    "          - A line is a set of ASCII characters terminated by a single \"newline\" character\n",
    "              - '10', '0x0a', '\\n'\n",
    "              - the terminal sends this character when the programmer presses the \"return\" or \"enter\" key\n",
    "          \n",
    "  - Internal vs External command"
   ]
  },
  {
   "cell_type": "markdown",
   "id": "5bfda414-920c-4c9d-918f-306254681cb6",
   "metadata": {
    "slideshow": {
     "slide_type": "skip"
    },
    "tags": []
   },
   "source": [
    "<hr>"
   ]
  },
  {
   "cell_type": "markdown",
   "id": "a75358c6-2113-4fe2-880b-a1aca6fc65d1",
   "metadata": {
    "cell_style": "center",
    "hide_input": true,
    "slideshow": {
     "slide_type": "-"
    },
    "tags": [
     "remove-input"
    ]
   },
   "source": [
    "<img src=\"../images/UnixL01_SHCHT/00SHLLChat.png\" width=\"1024\" style=\"border:0px; margin: 0px 0px; background-color: #00000000; display: block; margin-left: auto; margin-right: auto;\">"
   ]
  },
  {
   "cell_type": "markdown",
   "id": "95023864-6788-4246-89fd-88946df9ca91",
   "metadata": {
    "slideshow": {
     "slide_type": "skip"
    },
    "tags": []
   },
   "source": [
    "<hr>"
   ]
  },
  {
   "cell_type": "markdown",
   "id": "441e7cd2",
   "metadata": {
    "cell_style": "split",
    "slideshow": {
     "slide_type": "slide"
    }
   },
   "source": [
    "<img src=\"../images/UnixL01_SHCHT/01SHLLChat.png\" width=\"1024\" style=\"border:0px; margin: 0px 0px; background-color: #00000000; display: block; margin-left: auto; margin-right: auto;\"> "
   ]
  },
  {
   "cell_type": "markdown",
   "id": "1d622e6f",
   "metadata": {
    "cell_style": "split",
    "slideshow": {
     "slide_type": "-"
    }
   },
   "source": [
    "### Connect a Terminal\n",
    "\n",
    "- Connect a terminal so that the system can communicate with a user via ASCII data\n",
    "- Unix kernel awaits for a user to login on the terminal"
   ]
  },
  {
   "cell_type": "markdown",
   "id": "c0ce2aab-c415-4912-8aea-dbc4668ec924",
   "metadata": {
    "slideshow": {
     "slide_type": "skip"
    },
    "tags": []
   },
   "source": [
    "<hr>"
   ]
  },
  {
   "cell_type": "markdown",
   "id": "9fa17d67",
   "metadata": {
    "cell_style": "split",
    "slideshow": {
     "slide_type": "slide"
    }
   },
   "source": [
    "<img src=\"../images/UnixL01_SHCHT/02SHLLChat.png\" width=\"1024\" style=\"border:0px; margin: 0px 0px; background-color: #00000000; display: block; margin-left: auto; margin-right: auto;\">"
   ]
  },
  {
   "cell_type": "markdown",
   "id": "d03d9116-672d-423d-a923-d6c447b8bf2e",
   "metadata": {
    "slideshow": {
     "slide_type": "skip"
    },
    "tags": []
   },
   "source": [
    "<hr>"
   ]
  },
  {
   "cell_type": "markdown",
   "id": "ddac223f-2438-45a9-8f90-bb2cc0e1020a",
   "metadata": {
    "slideshow": {
     "slide_type": "slide"
    },
    "tags": []
   },
   "source": [
    "<img src=\"../images/shellsystemcalls2.png\" width=\"1024\" style=\"border:0px; margin: 0px 0px; background-color: #00000000; display: block; margin-left: auto; margin-right: auto;\">"
   ]
  },
  {
   "cell_type": "markdown",
   "id": "a9929cf7-5891-448e-8190-de8af57aa5a1",
   "metadata": {
    "slideshow": {
     "slide_type": "skip"
    },
    "tags": []
   },
   "source": [
    "<hr>"
   ]
  },
  {
   "cell_type": "markdown",
   "id": "2c368e6f",
   "metadata": {
    "cell_style": "split",
    "slideshow": {
     "slide_type": "slide"
    },
    "tags": []
   },
   "source": [
    "### Start a Shell \n",
    "\n",
    "- Terminal prints/displays ASCII sent\n",
    "    - ASCII Byte $\\rightarrow$ character image on screen\n",
    "- User presses keys terminals sends ASCII byte\n",
    "    - key press $\\rightarrow$ ASCII Byte\n",
    "- After Login\n",
    "  - Kernel Starts users specified shell\n",
    "- The Kernel will ensure that:\n",
    "    1. Shell output $\\rightarrow$ Terminal\n",
    "    2. Terminal $\\rightarrow$ Shell "
   ]
  },
  {
   "cell_type": "markdown",
   "id": "f465348e",
   "metadata": {
    "slideshow": {
     "slide_type": "notes"
    }
   },
   "source": [
    "- Terminal prints ASCII sent to on the screen as appropriate images of the corresponding characters\n",
    "- User presses keys on the keyboard to have the Terminal send the corresponding ASCII values to the Kernel\n",
    "- After Login the kernel launches an instance of the user's chosen shell program\n",
    "- Default on Linux is Bash (Bourne Again Shell), however, there are others (eg. csh, ksh, zsh, sh, ...) \n",
    "- The Kernel will ensure that:\n",
    "    1. Shell's output will be sent to the Terminal \n",
    "    2. and values sent by the Terminal will be available to the Shell as input "
   ]
  },
  {
   "cell_type": "markdown",
   "id": "35f9f771-39c7-4811-be5f-acacdd3ae8c6",
   "metadata": {
    "slideshow": {
     "slide_type": "skip"
    },
    "tags": []
   },
   "source": [
    "<hr>"
   ]
  },
  {
   "cell_type": "markdown",
   "id": "662c93e8",
   "metadata": {
    "cell_style": "split",
    "slideshow": {
     "slide_type": "slide"
    }
   },
   "source": [
    "<img src=\"../images/UnixL01_SHCHT/03SHLLChat.png\" width=\"1024\" style=\"border:0px; margin: 0px 0px; background-color: #00000000; display: block; margin-left: auto; margin-right: auto;\">"
   ]
  },
  {
   "cell_type": "markdown",
   "id": "18586703",
   "metadata": {
    "cell_style": "split"
   },
   "source": [
    "## Shell Conversation    \n",
    "\n",
    "Exchanges:\n",
    "\n",
    "1. Request -- Command <b>line</b> sent by the user \n",
    "2. Reply -- Response sent by shell\n",
    "\n",
    "Shell Loop:\n",
    "\n",
    "``` \n",
    "while true:\n",
    "    Wait for a command \"line\"\n",
    "    Process line sending output as reply\n",
    "```\n",
    "\n",
    "Newlines `\\n` -- `0xa` mark end-of-line\n",
    "```\n",
    "hello\\n\n",
    "```"
   ]
  },
  {
   "cell_type": "markdown",
   "id": "ab8d7a22",
   "metadata": {
    "slideshow": {
     "slide_type": "notes"
    }
   },
   "source": [
    "    \n",
    "- The shell is an ASCII line oriented interface program\n",
    "- Communication is structured as a conversation between the user and the shell\n",
    "   1. Request -- Command <b>line</b> sent by the user \n",
    "   2. Reply -- Response sent by shell\n",
    "\n",
    "``` \n",
    "while true:\n",
    "    Wait for a command \"line\"\n",
    "    Process line sending output as reply\n",
    "```\n",
    "\n",
    "Lines are a sequence of ASCII characters terminated by a `\\n` -- `0xa` eg.\n",
    "```\n",
    "hello\\n\n",
    "```"
   ]
  },
  {
   "cell_type": "markdown",
   "id": "42ca1993-0f86-4687-95e7-3c8cb496f285",
   "metadata": {
    "slideshow": {
     "slide_type": "skip"
    },
    "tags": []
   },
   "source": [
    "<hr>"
   ]
  },
  {
   "cell_type": "markdown",
   "id": "2f566e57",
   "metadata": {
    "cell_style": "split",
    "slideshow": {
     "slide_type": "slide"
    }
   },
   "source": [
    "<img src=\"../images/UnixL01_SHCHT/04SHLLChat.png\" width=\"1024\" style=\"border:0px; margin: 0px 0px; background-color: #00000000; display: block; margin-left: auto; margin-right: auto;\">"
   ]
  },
  {
   "cell_type": "markdown",
   "id": "178e5f54",
   "metadata": {
    "cell_style": "split"
   },
   "source": [
    "## The Prompt\n",
    "- The prompt a string of characters that the shell sends when it is ready for input \n",
    "- It is the responsibility of the user to recognize that the shell is Ready for the their next request.\n",
    "- Here we assume the Prompt is set to be dollar sign followed by a space `$ ` or there byte values in hex `0x24,0x20` \n",
    "   - We will see later how you can customize the prompt string to your liking "
   ]
  },
  {
   "cell_type": "markdown",
   "id": "32e6f208-8a3e-4946-b3da-3d2ec9f75923",
   "metadata": {
    "slideshow": {
     "slide_type": "skip"
    },
    "tags": []
   },
   "source": [
    "<hr>"
   ]
  },
  {
   "cell_type": "markdown",
   "id": "bdb46e7e",
   "metadata": {
    "slideshow": {
     "slide_type": "slide"
    }
   },
   "source": [
    "## Terminals vs Terminal Emulators "
   ]
  },
  {
   "cell_type": "markdown",
   "id": "7b2e3a1e-d3ce-44e3-8f2b-cf754942b286",
   "metadata": {
    "slideshow": {
     "slide_type": "skip"
    },
    "tags": []
   },
   "source": [
    "<hr>"
   ]
  },
  {
   "cell_type": "code",
   "execution_count": 33,
   "id": "c2aa94bf-b175-4d7b-867e-5811a6a42e0f",
   "metadata": {
    "jupyter": {
     "source_hidden": true
    },
    "slideshow": {
     "slide_type": "slide"
    },
    "tags": [
     "remove-input"
    ]
   },
   "outputs": [
    {
     "data": {
      "text/html": [
       "<!-- produced by: \n",
       "htmlFig(\"[[{'src': '../images/UnixL01_SHCHT/041SHLLChat.png', 'cellwidth': '47.5%', 'bgcolor': 'white'}, {'src': '../images/terminalroom.jpg', 'cellwidth': '54%', 'bgcolor': 'white'}]]\", \n",
       "        id=\"\", \n",
       "        align=\"center\", \n",
       "        width=\"1024\",\n",
       "        margin=\"auto auto auto auto\",\n",
       "        caption=\"\", \n",
       "        captionalign=\"left\")\n",
       "-->\n",
       "<table align=\"center\" width=\"1024\" cellpadding=\"0\" cellspacing=\"0\" border=\"0\" style=\"border-collapse: collapse; margin: auto auto auto auto\">\n",
       "    <tr style=\"padding: 0; margin: 0;\"> \n",
       "        <td colspan=\"1\" width=\"47.5%\" style=\"padding: 0; margin: 0 0 0 0; background-color:white;\">\n",
       "            <div style=\"padding: 0; margin: 0 0 0 0;\">\n",
       "              <figure style=\"padding: 0; margin: 0 0 0 0; width:100%;\">\n",
       "                   <img src=\"../images/UnixL01_SHCHT/041SHLLChat.png\" width=\"100%\" style=\"padding: 0; margin: 0;\">\n",
       "                </figure>\n",
       "            </div>\n",
       "        </td>\n",
       "        <td colspan=\"1\" width=\"54%\" style=\"padding: 0; margin: 0 0 0 0; background-color:white;\">\n",
       "            <div style=\"padding: 0; margin: 0 0 0 0;\">\n",
       "              <figure style=\"padding: 0; margin: 0 0 0 0; width:100%;\">\n",
       "                   <img src=\"../images/terminalroom.jpg\" width=\"100%\" style=\"padding: 0; margin: 0;\">\n",
       "                </figure>\n",
       "            </div>\n",
       "        </td>\n",
       "    </tr>\n",
       "</table>\n"
      ],
      "text/plain": [
       "<IPython.core.display.HTML object>"
      ]
     },
     "metadata": {},
     "output_type": "display_data"
    }
   ],
   "source": [
    "display(HTML(htmlFig(\n",
    "    [[\n",
    "        {'src':\"../images/UnixL01_SHCHT/041SHLLChat.png\",\n",
    "         'cellwidth': '47.5%',\n",
    "         'bgcolor' : 'white'\n",
    "        },\n",
    "        {'src':\"../images/terminalroom.jpg\",\n",
    "         'cellwidth': '54%',\n",
    "         'bgcolor': 'white'\n",
    "        }\n",
    "     ]], width=\"1024\"\n",
    ")))"
   ]
  },
  {
   "cell_type": "markdown",
   "id": "e8e84501-51a7-46b6-a7b2-70488f7b0be1",
   "metadata": {
    "slideshow": {
     "slide_type": "skip"
    },
    "tags": []
   },
   "source": [
    "<hr>"
   ]
  },
  {
   "cell_type": "markdown",
   "id": "5bf48b60",
   "metadata": {
    "cell_style": "split",
    "hide_input": false,
    "slideshow": {
     "slide_type": "slide"
    },
    "tags": []
   },
   "source": [
    "<img src=\"../images/UnixL01_SHCHT/042SHLLChat.png\" width=\"1024\" style=\"border:0px; margin: 0px 0px; background-color: #00000000; display: block; margin-left: auto; margin-right: auto;\">"
   ]
  },
  {
   "cell_type": "markdown",
   "id": "a7241ebc",
   "metadata": {
    "hide_input": false,
    "slideshow": {
     "slide_type": "fragment"
    }
   },
   "source": [
    "- Today a single user can create many \"terminal\" connections to organize their work.  Eg.\n",
    "   1. One to run arbitrary shell commands\n",
    "   2. One to run an ascii text editor \n",
    "   3. One to run an ascii email client\n",
    "- A Terminal is now just a program called a Terminal Emulator:\n",
    "   - You can run one to create a terminal \"session/connection\" on  your personal computers:\n",
    "       - [\"Terminal\"](https://en.wikipedia.org/wiki/Terminal_(macOS)) App on OSX\n",
    "       - [\"Windows Terminal\"](https://docs.microsoft.com/en-us/windows/terminal/) on Windows\n",
    "       - [\"xterm\"](https://en.wikipedia.org/wiki/Xterm) on Linux\n",
    "       - Or as in our case [xterm.js](https://xtermjs.org) which lets us run terminals within a web-browser (to the right) -- nice thing is then that we don't need any extra software"
   ]
  },
  {
   "cell_type": "markdown",
   "id": "c8c782c2-2fba-44fb-83fa-3d87d6c3d5f9",
   "metadata": {
    "slideshow": {
     "slide_type": "skip"
    },
    "tags": []
   },
   "source": [
    "<hr>"
   ]
  },
  {
   "cell_type": "markdown",
   "id": "0212e77e",
   "metadata": {
    "slideshow": {
     "slide_type": "slide"
    }
   },
   "source": [
    "## Shell: Lets have a conversation\n",
    "\n",
    "Lets build up our understanding by poking around a little"
   ]
  },
  {
   "cell_type": "markdown",
   "id": "7d6c1211-d978-4bdc-ab98-23fa420e9873",
   "metadata": {
    "slideshow": {
     "slide_type": "skip"
    },
    "tags": []
   },
   "source": [
    "<hr>"
   ]
  },
  {
   "cell_type": "markdown",
   "id": "7cb5a3d9-37ad-4598-aa47-d841eaff0e0a",
   "metadata": {
    "slideshow": {
     "slide_type": "slide"
    },
    "tags": []
   },
   "source": [
    "<img src=\"../images/UnixL01_SHCHT/05SHLLChat.png\" width=\"1024\" style=\"border:0px; margin: 0px 0px; background-color: #00000000; display: block; margin-left: auto; margin-right: auto;\">"
   ]
  },
  {
   "cell_type": "markdown",
   "id": "f707354f-b0a8-4ec8-9747-385288ba6141",
   "metadata": {
    "slideshow": {
     "slide_type": "skip"
    },
    "tags": []
   },
   "source": [
    "<hr>"
   ]
  },
  {
   "cell_type": "markdown",
   "id": "1aed4cfd-b96c-4cc6-bc80-c965635640d5",
   "metadata": {
    "slideshow": {
     "slide_type": "slide"
    },
    "tags": []
   },
   "source": [
    "<img src=\"../images/UnixL01_SHCHT/06SHLLChat.png\" width=\"1024\" style=\"border:0px; margin: 0px 0px; background-color: #00000000; display: block; margin-left: auto; margin-right: auto;\">"
   ]
  },
  {
   "cell_type": "markdown",
   "id": "70b451dc-9c75-41b5-82f1-a8dc4f0d106f",
   "metadata": {
    "slideshow": {
     "slide_type": "skip"
    },
    "tags": []
   },
   "source": [
    "<hr>"
   ]
  },
  {
   "cell_type": "markdown",
   "id": "d822ff70-344f-4ba5-b21b-21e2862f4f7d",
   "metadata": {
    "slideshow": {
     "slide_type": "slide"
    },
    "tags": []
   },
   "source": [
    "<img src=\"../images/UnixL01_SHCHT/08SHLLChat.png\" width=\"1024\" style=\"border:0px; margin: 0px 0px; background-color: #00000000; display: block; margin-left: auto; margin-right: auto;\">"
   ]
  },
  {
   "cell_type": "markdown",
   "id": "45a1e29c-b90c-4113-9266-c7e78bfa1246",
   "metadata": {
    "slideshow": {
     "slide_type": "skip"
    },
    "tags": []
   },
   "source": [
    "<hr>"
   ]
  },
  {
   "cell_type": "markdown",
   "id": "7bbee1ca-6de1-4cee-bcb7-9dd70d4e3574",
   "metadata": {
    "slideshow": {
     "slide_type": "slide"
    },
    "tags": []
   },
   "source": [
    "<img src=\"../images/UnixL01_SHCHT/09SHLLChat.png\" width=\"1024\" style=\"border:0px; margin: 0px 0px; background-color: #00000000; display: block; margin-left: auto; margin-right: auto;\">"
   ]
  },
  {
   "cell_type": "markdown",
   "id": "00d1bd60-b0b7-4efc-9ade-f024646e628b",
   "metadata": {
    "slideshow": {
     "slide_type": "skip"
    },
    "tags": []
   },
   "source": [
    "<hr>"
   ]
  },
  {
   "cell_type": "markdown",
   "id": "582d2816-b864-46aa-a93b-4d2e619034b3",
   "metadata": {
    "slideshow": {
     "slide_type": "slide"
    },
    "tags": []
   },
   "source": [
    "<img src=\"../images/UnixL01_SHCHT/11SHLLChat.png\" width=\"1024\" style=\"border:0px; margin: 0px 0px; background-color: #00000000; display: block; margin-left: auto; margin-right: auto;\">"
   ]
  },
  {
   "cell_type": "markdown",
   "id": "55f9e025-d323-4268-bfa1-251cc5c8feb7",
   "metadata": {
    "slideshow": {
     "slide_type": "slide"
    },
    "tags": []
   },
   "source": [
    "<img src=\"../images/UnixL01_SHCHT/12SHLLChat.png\" width=\"1024\" style=\"border:0px; margin: 0px 0px; background-color: #00000000; display: block; margin-left: auto; margin-right: auto;\">"
   ]
  },
  {
   "cell_type": "markdown",
   "id": "4a2c3570-fcc3-48de-bbbe-c3fa6bb9dd2c",
   "metadata": {
    "slideshow": {
     "slide_type": "skip"
    },
    "tags": []
   },
   "source": [
    "<hr>"
   ]
  },
  {
   "cell_type": "markdown",
   "id": "7af0f423-fa20-4535-b72e-37b865082e86",
   "metadata": {
    "slideshow": {
     "slide_type": "slide"
    },
    "tags": []
   },
   "source": [
    "<img src=\"../images/UnixL01_SHCHT/13SHLLChat.png\" width=\"1024\" style=\"border:0px; margin: 0px 0px; background-color: #00000000; display: block; margin-left: auto; margin-right: auto;\">"
   ]
  },
  {
   "cell_type": "markdown",
   "id": "a1364d30-724c-49c4-a598-782997c99f96",
   "metadata": {
    "slideshow": {
     "slide_type": "skip"
    },
    "tags": []
   },
   "source": [
    "<hr>"
   ]
  },
  {
   "cell_type": "markdown",
   "id": "3eef3ab1-2c3b-445e-9a31-b47a8c204858",
   "metadata": {
    "slideshow": {
     "slide_type": "slide"
    },
    "tags": []
   },
   "source": [
    "<img src=\"../images/UnixL01_SHCHT/14SHLLChat.png\" width=\"1024\" style=\"border:0px; margin: 0px 0px; background-color: #00000000; display: block; margin-left: auto; margin-right: auto;\">"
   ]
  },
  {
   "cell_type": "markdown",
   "id": "91ebf8a4-4a76-4d0c-b3a4-9ddf9f0a7026",
   "metadata": {
    "slideshow": {
     "slide_type": "skip"
    },
    "tags": []
   },
   "source": [
    "<hr>"
   ]
  },
  {
   "cell_type": "markdown",
   "id": "4998908c-ccba-4e30-9687-38b927073692",
   "metadata": {
    "slideshow": {
     "slide_type": "slide"
    },
    "tags": []
   },
   "source": [
    "<img src=\"../images/UnixL01_SHCHT/15SHLLChat.png\" width=\"1024\" style=\"border:0px; margin: 0px 0px; background-color: #00000000; display: block; margin-left: auto; margin-right: auto;\">"
   ]
  },
  {
   "cell_type": "markdown",
   "id": "e8264911-07e1-4f63-97ac-f7c28bd2a158",
   "metadata": {
    "slideshow": {
     "slide_type": "skip"
    },
    "tags": []
   },
   "source": [
    "<hr>"
   ]
  },
  {
   "cell_type": "markdown",
   "id": "9baee847-0b9a-43df-97ee-17f4a05b9b91",
   "metadata": {
    "slideshow": {
     "slide_type": "slide"
    },
    "tags": []
   },
   "source": [
    "<img src=\"../images/UnixL01_SHCHT/16SHLLChat.png\" width=\"1024\" style=\"border:0px; margin: 0px 0px; background-color: #00000000; display: block; margin-left: auto; margin-right: auto;\">"
   ]
  },
  {
   "cell_type": "markdown",
   "id": "6c7d342b-09ad-429d-859c-1f8ef46075ca",
   "metadata": {
    "slideshow": {
     "slide_type": "skip"
    },
    "tags": []
   },
   "source": [
    "<hr>"
   ]
  },
  {
   "cell_type": "markdown",
   "id": "f6604016-e86b-4568-8057-787188218f30",
   "metadata": {
    "slideshow": {
     "slide_type": "slide"
    },
    "tags": []
   },
   "source": [
    "<img src=\"../images/UnixL01_SHCHT/17SHLLChat.png\" width=\"1024\" style=\"border:0px; margin: 0px 0px; background-color: #00000000; display: block; margin-left: auto; margin-right: auto;\">"
   ]
  },
  {
   "cell_type": "markdown",
   "id": "5de6bf08-88f5-470e-800c-94b8c81f1938",
   "metadata": {
    "slideshow": {
     "slide_type": "skip"
    },
    "tags": []
   },
   "source": [
    "<hr>"
   ]
  },
  {
   "cell_type": "markdown",
   "id": "6270642e-c41b-4c62-87f5-8d6a6dce8fce",
   "metadata": {
    "slideshow": {
     "slide_type": "slide"
    },
    "tags": []
   },
   "source": [
    "<img src=\"../images/UnixL01_SHCHT/18SHLLChat.png\" width=\"1024\" style=\"border:0px; margin: 0px 0px; background-color: #00000000; display: block; margin-left: auto; margin-right: auto;\">"
   ]
  },
  {
   "cell_type": "markdown",
   "id": "980fffd2-6872-4e98-8aaf-e0e0c4def19c",
   "metadata": {
    "slideshow": {
     "slide_type": "skip"
    },
    "tags": []
   },
   "source": [
    "<hr>"
   ]
  },
  {
   "cell_type": "markdown",
   "id": "4a84341d-427d-412e-9496-18309f223061",
   "metadata": {
    "slideshow": {
     "slide_type": "slide"
    },
    "tags": []
   },
   "source": [
    "<img src=\"../images/UnixL01_SHCHT/19SHLLChat.png\" width=\"1024\" style=\"border:0px; margin: 0px 0px; background-color: #00000000; display: block; margin-left: auto; margin-right: auto;\">"
   ]
  },
  {
   "cell_type": "markdown",
   "id": "fe26e697-6776-49a8-a2f6-9490cdd8f55e",
   "metadata": {
    "slideshow": {
     "slide_type": "skip"
    },
    "tags": []
   },
   "source": [
    "<hr>"
   ]
  },
  {
   "cell_type": "markdown",
   "id": "c282873a",
   "metadata": {
    "slideshow": {
     "slide_type": "slide"
    }
   },
   "source": [
    "## Shell: Built-ins\n",
    "\n",
    "- So we can see that there is some  \"built-in\" behavior\n",
    "    - Actually \"built-in\" syntax forms an entire programming language ;-)\n",
    "    - more on these commands and language later\n",
    "- Lets dig deeper into the shell's inherent loop as there is more going on than you might think"
   ]
  },
  {
   "cell_type": "markdown",
   "id": "b79d18aa-40fa-4628-b0f5-3d4d317b8a28",
   "metadata": {
    "slideshow": {
     "slide_type": "skip"
    },
    "tags": []
   },
   "source": [
    "<hr>"
   ]
  },
  {
   "cell_type": "markdown",
   "id": "0761fe3f",
   "metadata": {
    "slideshow": {
     "slide_type": "slide"
    }
   },
   "source": [
    "### Shell: Processing a command line ... so far\n",
    "\n",
    "1. Splits line into blank (space or tab) separated `words`\n",
    "    - first word is the **Simple** Command to execute eg. `echo foo bar`,   `echo` is command\n",
    "        - later we will see that simple commands can be chained in interesting ways on one line\n",
    "        - optionally prefixing the command with some variable assignments\n",
    "    - remaining words are treated as arguments to the command   eg `echo foo bar`, arguments are `foo` and `bar`\n",
    "    - see [Shell Grammer](https://man7.org/linux/man-pages/man1/bash.1.html#SHELL_GRAMMAR) for the gory details \n",
    "2. Does expansions -- so far we have only seen one kind\n",
    "    - But there are actually 9 kinds of expansion \n",
    "        - we will cover aspects as we need to\n",
    "3. Execute the command\n",
    "    - If the simple command is one of the known built-ins then execute it\n",
    "    - But what happens if it is not"
   ]
  },
  {
   "cell_type": "markdown",
   "id": "e93ccef4-3c3b-4b74-aa85-65b9fb7edcb3",
   "metadata": {
    "slideshow": {
     "slide_type": "skip"
    },
    "tags": []
   },
   "source": [
    "<hr>"
   ]
  },
  {
   "cell_type": "code",
   "execution_count": 34,
   "id": "0f5076ac",
   "metadata": {
    "hide_input": true,
    "jupyter": {
     "source_hidden": true
    },
    "slideshow": {
     "slide_type": "slide"
    },
    "tags": [
     "remove-input"
    ]
   },
   "outputs": [
    {
     "data": {
      "application/vnd.jupyter.widget-view+json": {
       "model_id": "f5305856258e432bb12737290c994e54",
       "version_major": 2,
       "version_minor": 0
      },
      "text/plain": [
       "Output(layout=Layout(border='1px solid black', height='100%', overflow_y='scroll'))"
      ]
     },
     "metadata": {},
     "output_type": "display_data"
    }
   ],
   "source": [
    "bash.run('hello')"
   ]
  },
  {
   "cell_type": "markdown",
   "id": "f1a44a0d",
   "metadata": {
    "slideshow": {
     "slide_type": "fragment"
    }
   },
   "source": [
    "### This is where things get interesting\n",
    "### Its not quite as obvious as you might think"
   ]
  },
  {
   "cell_type": "markdown",
   "id": "2e50d330-1fda-4e79-93b7-b88e914112c2",
   "metadata": {
    "slideshow": {
     "slide_type": "skip"
    },
    "tags": []
   },
   "source": [
    "<hr>"
   ]
  },
  {
   "cell_type": "markdown",
   "id": "b82433f0",
   "metadata": {
    "cell_style": "center",
    "hide_input": true,
    "slideshow": {
     "slide_type": "slide"
    }
   },
   "source": [
    "## Shell: Externals\n",
    "\n",
    "So what happens if the first `word` of what you type does NOT match the name of a built in?\n",
    "First off what are the built-ins?\n"
   ]
  },
  {
   "cell_type": "markdown",
   "id": "a0cf9c3e",
   "metadata": {
    "slideshow": {
     "slide_type": "fragment"
    }
   },
   "source": [
    "### Bash: Built in `help` command \n",
    "\n",
    "Lets figure it out using the bash `help` built-in"
   ]
  },
  {
   "cell_type": "code",
   "execution_count": 35,
   "id": "e52e0349",
   "metadata": {
    "hide_input": false,
    "jupyter": {
     "source_hidden": true
    },
    "slideshow": {
     "slide_type": "fragment"
    },
    "tags": [
     "remove-input"
    ]
   },
   "outputs": [
    {
     "data": {
      "application/vnd.jupyter.widget-view+json": {
       "model_id": "70ec6ce1a106400aa542613c388b84b4",
       "version_major": 2,
       "version_minor": 0
      },
      "text/plain": [
       "Output(layout=Layout(border='1px solid black', height='10em', overflow_y='scroll'))"
      ]
     },
     "metadata": {},
     "output_type": "display_data"
    }
   ],
   "source": [
    "bash.run(\"help\", height=\"10em\")"
   ]
  },
  {
   "cell_type": "markdown",
   "id": "9be1f98f",
   "metadata": {},
   "source": [
    "No surprise we don't see a command called `hello` ... we also don't see `ls` but ..."
   ]
  },
  {
   "cell_type": "code",
   "execution_count": 36,
   "id": "b5d360a5",
   "metadata": {
    "hide_input": false,
    "jupyter": {
     "source_hidden": true
    },
    "slideshow": {
     "slide_type": "fragment"
    },
    "tags": [
     "remove-input"
    ]
   },
   "outputs": [
    {
     "data": {
      "application/vnd.jupyter.widget-view+json": {
       "model_id": "0292bea8b3ca4cac9bcdee7defde04db",
       "version_major": 2,
       "version_minor": 0
      },
      "text/plain": [
       "Output(layout=Layout(border='1px solid black', height='100%', overflow_y='scroll'))"
      ]
     },
     "metadata": {},
     "output_type": "display_data"
    }
   ],
   "source": [
    "bash.run(\"ls\")"
   ]
  },
  {
   "cell_type": "code",
   "execution_count": 37,
   "id": "22886aac",
   "metadata": {
    "hide_input": true,
    "jupyter": {
     "source_hidden": true
    },
    "slideshow": {
     "slide_type": "fragment"
    },
    "tags": [
     "remove-input"
    ]
   },
   "outputs": [
    {
     "data": {
      "application/vnd.jupyter.widget-view+json": {
       "model_id": "785cd061e07641b39173117850c1989b",
       "version_major": 2,
       "version_minor": 0
      },
      "text/plain": [
       "Output(layout=Layout(border='1px solid black', height='100%', overflow_y='scroll'))"
      ]
     },
     "metadata": {},
     "output_type": "display_data"
    }
   ],
   "source": [
    "bash.run(\"help ls\")"
   ]
  },
  {
   "cell_type": "markdown",
   "id": "4d7b4351",
   "metadata": {
    "slideshow": {
     "slide_type": "fragment"
    }
   },
   "source": [
    "What's going? If 'ls' is not an built-in?"
   ]
  },
  {
   "cell_type": "markdown",
   "id": "451d4fc0-2fc2-476d-8b94-f1fb1ad6b0a4",
   "metadata": {
    "slideshow": {
     "slide_type": "skip"
    },
    "tags": []
   },
   "source": [
    "<hr>"
   ]
  },
  {
   "cell_type": "markdown",
   "id": "aba08cd4-b80c-4dfd-94db-67214ad97b96",
   "metadata": {},
   "source": [
    "## The gory details\n",
    "<img src=\"../images/shellexecuteflowchart.png\" width=\"1024\" style=\"border:0px; margin: 0px 0px; background-color: #ffffff; display: block; margin-left: auto; margin-right: auto;\">"
   ]
  },
  {
   "cell_type": "markdown",
   "id": "69206d0a-1ddf-4fe3-837d-0e93e7e26352",
   "metadata": {
    "slideshow": {
     "slide_type": "slide"
    },
    "tags": []
   },
   "source": [
    "## Step 4B Execute as external command"
   ]
  },
  {
   "cell_type": "markdown",
   "id": "82e81270-c495-4593-aad0-f705cbc7586d",
   "metadata": {
    "slideshow": {
     "slide_type": "slide"
    },
    "tags": []
   },
   "source": [
    "<img src=\"../images/BashProcessExecution-Step4B.png\" width=\"1024\" style=\"border:0px; margin: 0px 0px; background-color: #00000000; display: block; margin-left: auto; margin-right: auto;\">"
   ]
  },
  {
   "cell_type": "markdown",
   "id": "e55eb040-5f58-4f92-ad82-a9015920b687",
   "metadata": {
    "slideshow": {
     "slide_type": "skip"
    },
    "tags": []
   },
   "source": [
    "<hr>"
   ]
  },
  {
   "cell_type": "markdown",
   "id": "fc9f4917-8935-4944-8d7e-f2884cabc00d",
   "metadata": {
    "slideshow": {
     "slide_type": "slide"
    },
    "tags": []
   },
   "source": [
    "<img src=\"../images/BashProcessExecution-Step4B-forkexec.png\" width=\"1024\" style=\"border:0px; margin: 0px 0px; background-color: #00000000; display: block; margin-left: auto; margin-right: auto;\">"
   ]
  },
  {
   "cell_type": "markdown",
   "id": "9ad4b74d-1c6d-4f31-9cad-d2c0d22aac3c",
   "metadata": {
    "slideshow": {
     "slide_type": "skip"
    },
    "tags": []
   },
   "source": [
    "<hr>"
   ]
  },
  {
   "cell_type": "markdown",
   "id": "b68b6d1b-2866-49bf-870b-1b189ce4a14d",
   "metadata": {
    "slideshow": {
     "slide_type": "slide"
    },
    "tags": []
   },
   "source": [
    "<img src=\"../images/BashProcessExecution-Step4B-lsrunning.png\" width=\"1024\" style=\"border:0px; margin: 0px 0px; background-color: #00000000; display: block; margin-left: auto; margin-right: auto;\">"
   ]
  },
  {
   "cell_type": "markdown",
   "id": "0fb8e677-20ee-48df-91a1-f9979a207298",
   "metadata": {
    "slideshow": {
     "slide_type": "skip"
    },
    "tags": []
   },
   "source": [
    "<hr>"
   ]
  },
  {
   "cell_type": "markdown",
   "id": "c09ec1cc-fee6-45cc-bed4-2e18319ffc5c",
   "metadata": {
    "slideshow": {
     "slide_type": "slide"
    },
    "tags": []
   },
   "source": [
    "### synchronous execution\n",
    "\n",
    "<img src=\"../images/BashProcessExecution-Step5-waitcalled.png\" width=\"1024\" style=\"border:0px; margin: 0px 0px; background-color: #00000000; display: block; margin-left: auto; margin-right: auto;\">"
   ]
  },
  {
   "cell_type": "markdown",
   "id": "205f58d6-799c-4753-ae39-916e69817ba8",
   "metadata": {
    "slideshow": {
     "slide_type": "skip"
    },
    "tags": []
   },
   "source": [
    "<hr>"
   ]
  },
  {
   "cell_type": "markdown",
   "id": "9ef418d1-d97f-4d71-bd62-b44d68abe731",
   "metadata": {
    "slideshow": {
     "slide_type": "slide"
    },
    "tags": []
   },
   "source": [
    "<img src=\"../images/BashProcessExecution-Step5-exitcall.png\" width=\"1024\" style=\"border:0px; margin: 0px 0px; background-color: #00000000; display: block; margin-left: auto; margin-right: auto;\">"
   ]
  },
  {
   "cell_type": "markdown",
   "id": "cfb23a96-1994-4717-aaca-24d7be162c03",
   "metadata": {
    "slideshow": {
     "slide_type": "skip"
    },
    "tags": []
   },
   "source": [
    "<hr>"
   ]
  },
  {
   "cell_type": "markdown",
   "id": "c84d4b14",
   "metadata": {
    "cell_style": "split",
    "hide_input": false,
    "slideshow": {
     "slide_type": "slide"
    },
    "tags": []
   },
   "source": [
    "## Practical summary\n",
    "\n",
    "1. Shell searches for Simple Command in PATH"
   ]
  },
  {
   "cell_type": "code",
   "execution_count": 38,
   "id": "43337591",
   "metadata": {
    "cell_style": "split",
    "hide_input": true,
    "jupyter": {
     "source_hidden": true
    },
    "slideshow": {
     "slide_type": "fragment"
    },
    "tags": [
     "remove-input"
    ]
   },
   "outputs": [
    {
     "data": {
      "application/vnd.jupyter.widget-view+json": {
       "model_id": "7fe21bfeaed1419a86bca2cff3718c5a",
       "version_major": 2,
       "version_minor": 0
      },
      "text/plain": [
       "Output(layout=Layout(border='1px solid black', height='100%', overflow_y='scroll'))"
      ]
     },
     "metadata": {},
     "output_type": "display_data"
    }
   ],
   "source": [
    "bash.run(\"echo $PATH\")"
   ]
  },
  {
   "cell_type": "markdown",
   "id": "00fe66ee",
   "metadata": {
    "cell_style": "split",
    "slideshow": {
     "slide_type": "fragment"
    }
   },
   "source": [
    "2. if matching name of executable \"in PATH\" with the help of the kernel **start program** connecting its output\n",
    "    - wait until it exits"
   ]
  },
  {
   "cell_type": "markdown",
   "id": "a83c6a98",
   "metadata": {
    "cell_style": "split",
    "slideshow": {
     "slide_type": "fragment"
    }
   },
   "source": [
    "3. `/bin/ls` runs - more about `ls` later\n",
    "   - output goes to the terminal"
   ]
  },
  {
   "cell_type": "markdown",
   "id": "c50d88d2",
   "metadata": {
    "cell_style": "split",
    "hide_input": true,
    "slideshow": {
     "slide_type": "fragment"
    }
   },
   "source": [
    "4. Exits and gets cleaned up by Kernel\n",
    "   - shell wake's up \n",
    "   - shell picks up return value"
   ]
  },
  {
   "cell_type": "markdown",
   "id": "43484250",
   "metadata": {
    "cell_style": "split",
    "slideshow": {
     "slide_type": "fragment"
    }
   },
   "source": [
    "5. Shell sets special variable `?` to return value\n",
    "   - prints prompt \n",
    "   \n",
    "This skips several of the details."
   ]
  },
  {
   "cell_type": "markdown",
   "id": "f6280f54",
   "metadata": {
    "slideshow": {
     "slide_type": "slide"
    }
   },
   "source": [
    "### PATH Variable and Alternative\n",
    "\n",
    "- PATH environment variable is\n",
    "   - colon ':' separated list of directories \n",
    "   - the shell search list, **in order**,  for an <u>*executable*</u> file who's name matches the command name entered.\n",
    "     - more about what an <u>*executable*</u> file is later\n",
    "       - and how to mark one as such\n",
    "     - first match is used so order of directories matters"
   ]
  },
  {
   "cell_type": "markdown",
   "id": "caf3225d",
   "metadata": {
    "slideshow": {
     "slide_type": "fragment"
    }
   },
   "source": [
    "- Alternatively if the command name has a slash anywhere in it Eg. `/home/joyvan/bin/foobar`\n",
    "   - then PATH search is skipped\n",
    "   - if there is an <u>*executable*</u> who's name matches run it"
   ]
  },
  {
   "cell_type": "markdown",
   "id": "defefbb4",
   "metadata": {
    "slideshow": {
     "slide_type": "fragment"
    }
   },
   "source": [
    "Two ways to get the shell to execute programs:\n",
    "1. Modify path so shell finds it\n",
    "2. Explicitly specify the full path name of the program as if it where a command\n",
    "\n",
    "Notes: \n",
    " - Current environment variables and their values are \"copied into the new program\"\n",
    " - extra arguments on the command line are \"copied into the new program command line arguments\""
   ]
  },
  {
   "cell_type": "markdown",
   "id": "c1a6afa5",
   "metadata": {
    "cell_style": "center",
    "hide_input": true,
    "slideshow": {
     "slide_type": "slide"
    }
   },
   "source": [
    "<center>\n",
    "    \n",
    "## PAY ATTENTION\n",
    "\n",
    "</center>\n",
    "\n",
    "\n",
    "- This is where a lot of the magic and confusion about the shell and Unix comes in."
   ]
  },
  {
   "cell_type": "markdown",
   "id": "3b376865",
   "metadata": {
    "cell_style": "center",
    "hide_input": true,
    "slideshow": {
     "slide_type": "fragment"
    }
   },
   "source": [
    "1. We now see how the shell is the program we use to find and run other programs!"
   ]
  },
  {
   "cell_type": "markdown",
   "id": "fcd7d1b1",
   "metadata": {
    "cell_style": "center",
    "hide_input": true,
    "slideshow": {
     "slide_type": "fragment"
    }
   },
   "source": [
    "2. Other programs, if written in the UNIX way, will feel like they are commands of the shell\n",
    "    - technically externals are not part of the shell\n",
    "    - but there is a whole set of standard external programs that come with UNIX that one relies on to do anything \n",
    "        - including navigating the file system\n",
    "            - see what files and programs exist\n",
    "            - adding, remove and organizing\n",
    "    - by initializing PATH these standard programs *'become'* shell commands\n",
    "    "
   ]
  },
  {
   "cell_type": "markdown",
   "id": "6bd1c7b4",
   "metadata": {
    "cell_style": "center",
    "hide_input": true,
    "slideshow": {
     "slide_type": "fragment"
    }
   },
   "source": [
    "3. A user's programs can naturally extend and customize their command line experience\n",
    "    - place your own programs in to directories eg. put `hello` into `$HOME/bin`\n",
    "    - add these directories to the `PATH` variable eg. `export PATH=$PATH:$HOME/bin`\n",
    "    - `hello` is now a 'shell command'"
   ]
  },
  {
   "cell_type": "markdown",
   "id": "96d3ab50",
   "metadata": {
    "cell_style": "center",
    "hide_input": false,
    "slideshow": {
     "slide_type": "slide"
    }
   },
   "source": [
    "    \n",
    "## The UNIX Way\n",
    "\n",
    "<center>\n",
    "\n",
    "### Don't  *Hard code* - Decompose and put the power in the hands of programmers!\n",
    "\n",
    "</center>\n",
    "\n",
    "- break things down into little independent units \n",
    "    - building blocks eg. programs like `ls`, `grep`, and `wc` (even `bash`)\n",
    "        - that compose with what exists \n",
    "        - naturally extends the current environment \n",
    "        - can also be easily over-ridden or customized\n",
    "    - make everything programmable!\n",
    "\n",
    "Pay attention and you will constantly see examples of the above as we explore Unix\n",
    "    "
   ]
  },
  {
   "cell_type": "markdown",
   "id": "d4390865",
   "metadata": {
    "slideshow": {
     "slide_type": "notes"
    }
   },
   "source": [
    "- ls : reads the contents of one or more directories and prints them out\n",
    "- grep : searches ascii data for specified target patterns \n",
    "- wc: can count characters, words and lines of ascii data"
   ]
  },
  {
   "cell_type": "markdown",
   "id": "127aa088",
   "metadata": {
    "slideshow": {
     "slide_type": "slide"
    },
    "tags": []
   },
   "source": [
    "## The Shell Way\n",
    "\n",
    "### lots of little programs that naturally feel like built-ins\n",
    "- `echo $PATH`\n",
    "   - `ls /bin`\n",
    "      - see `ls` there?\n",
    "      - notice `bash` ;-)\n",
    "   - how can we figure out where `ls` is coming from\n",
    "      - bash has handy built in called `type`\n",
    "        - `help type`\n",
    "        - `type -a ls`\n",
    "   - by tradition all preinstalled programs should have a manual page\n",
    "     - `man ls`\n",
    "     - `man bash`\n",
    "     - `man <something in /bin>`\n",
    "   - many programs also have a help flag \n",
    "        - `ls --help` \n",
    "\n",
    "### extending the shell is easy\n",
    "- set `PATH=\"$HOME/bin:$PATH`\n",
    "  - putting a program or script called `hello` in `$HOME/bin`\n",
    "    - now `$ hello` will feel like a built-in\n",
    "\n",
    "### overide what's there\n",
    "- putting `ls` in `$HOME/bin` will now overide the others\n",
    "- Even override a built in\n",
    "  - `function echo() { builtin echo -n \"myecho: \"; builtin echo $@ }`\n",
    "  - will talk about this one later\n",
    "\n",
    "#### natural ways of composing and extending via programming\n",
    "Two important ones:\n",
    "\n",
    "1. shell scripts\n",
    "2. command pipelines\n",
    "\n",
    "#### shell provide natural model for composition\n",
    "\n",
    "- put shell commands in a file : eg put this in `hello`\n",
    "``` bash\n",
    "#!/bin/bash\n",
    "echo \"My first shell script\"\n",
    "echo \"hello\"\n",
    "```\n",
    "- mark as executable\n",
    "- now shell will be able to run `hello`\n",
    "\n",
    "#### pipeline: allow programs to be easily composed\n",
    "\n",
    "- `ls -1` list files - one per line\n",
    "- `wc -l` counts lines\n",
    "- `ls -1 | wc -l` - tells us how man files in this direcotyr\n",
    "- `ls -1 /bin | wc -l`\n",
    "-  or to get really fancy\n",
    "  - exploit more knowledge about shell expansion abilities\n",
    "  - `echo $PATH`\n",
    "  - `echo ${PATH//:/ }`\n",
    "  - `ls -1 ${PATH//:/ } | wc -l`\n",
    "     - what do you think this did?  "
   ]
  },
  {
   "cell_type": "markdown",
   "id": "5a9887c3",
   "metadata": {
    "slideshow": {
     "slide_type": "slide"
    },
    "tags": []
   },
   "source": [
    "A lot of the above are just teasers we will be covering these topics in more detail now that we have a more general idea of how things work"
   ]
  },
  {
   "cell_type": "markdown",
   "id": "51037765",
   "metadata": {
    "slideshow": {
     "slide_type": "slide"
    }
   },
   "source": [
    "## Before we end lets reveal more of the Shell  Loop \n",
    "\n",
    "- explore aspects over the next few lectures and the rest of our lives ;-)\n",
    "\n",
    "\n"
   ]
  },
  {
   "cell_type": "markdown",
   "id": "374776f1",
   "metadata": {
    "slideshow": {
     "slide_type": "slide"
    }
   },
   "source": [
    "### Bash Processing Loop for simple commands\n",
    "\n",
    "0. Read input line"
   ]
  },
  {
   "cell_type": "markdown",
   "id": "de3c7c01",
   "metadata": {
    "slideshow": {
     "slide_type": "fragment"
    }
   },
   "source": [
    "1. Splits line into `words` and operators \n",
    "   - applies **quoting** rules as part of this step\n",
    "     - we will cover as much of this as we need to\n",
    "       - eg. examples of when to use `\"\"`, `''`, `/` and no quotes or escapes"
   ]
  },
  {
   "cell_type": "markdown",
   "id": "50653be7",
   "metadata": {
    "slideshow": {
     "slide_type": "fragment"
    }
   },
   "source": [
    "2. **Expansions**: Nine of them we will primarily focus on core aspect of these 3\n",
    "- tilde\n",
    "- variable\n",
    "- filename\n",
    "\n",
    "See notes for more info"
   ]
  },
  {
   "cell_type": "markdown",
   "id": "a2d3e3af",
   "metadata": {
    "slideshow": {
     "slide_type": "notes"
    }
   },
   "source": [
    "    1. Brace Expansion: useful but you can wait to learn about it\n",
    "    2. **Tilde Expansion** : simple and worth knowing\n",
    "    3. *Parameter and Variable Expansion*: really useful to know basics - rest can wait till later\n",
    "    4. Command Substitutions: useful but you can wait to learn about it\n",
    "    5. Arithmetic Expansion: useful but you can wait to learn about it \n",
    "    6. Process Substitutions: subtle you can really wait on this one\n",
    "    7. Word Splitting on expansion results: subtle you can wait on this one\n",
    "    8. **Filename expansion**: basics are a must know\n",
    "    9. Quote removal: nothing really fancy here just removal of left over quotes\n",
    "      - eg. echo \"hello\"\n",
    "      \n",
    "See https://www.gnu.org/software/bash/manual/bash.html#Command-Search-and-Execution\n",
    "\n",
    "See https://www.gnu.org/software/bash/manual/bash.html#Shell-Operation"
   ]
  },
  {
   "cell_type": "markdown",
   "id": "cd1beef1",
   "metadata": {
    "slideshow": {
     "slide_type": "fragment"
    }
   },
   "source": [
    "3. **Redirections**:  how we control where input and output goes\n",
    "   - very important we will cover the basics"
   ]
  },
  {
   "cell_type": "markdown",
   "id": "009bece8",
   "metadata": {
    "slideshow": {
     "slide_type": "fragment"
    }
   },
   "source": [
    "4. Execute the command: (steps 1, 2 and 3 affect how the execution will happen) \n",
    "    1. if command has no slashes '/'\n",
    "      - if there is a 'shell function' who's name matches invoke it: **DONE**\n",
    "      - else look for a matching built-in and invoke it: **DONE**\n",
    "      - else look for matching file in path\n",
    "        - if found then carry on to B\n",
    "        - else print error : **DONE**\n",
    "    2. External program execution: either command had a slash or was found in path\n",
    "      - ask kernel to run program passing copy of arguments and environment variables\n",
    "        - a command can be prefixed with some extra variable assignments\n",
    "      - if kernel request fails\n",
    "        - if failure was due to file not being executable (and it is not a directory)\n",
    "           - then try attempt to run it as a shell script (eg. bash /tmp/hello) : **DONE**\n",
    "        - else print error: **DONE**\n",
    "        \n",
    "5. Optionally waits for command to complete and get return code\n",
    "   - update `$?`  \n",
    " \n",
    "6. Print prompt if Interactive"
   ]
  },
  {
   "cell_type": "markdown",
   "id": "afdcc5b3",
   "metadata": {
    "cell_style": "split",
    "slideshow": {
     "slide_type": "slide"
    }
   },
   "source": [
    "#### Two basic modes\n",
    "1. Interactive:\n",
    "   - Command lines are read from the terminal connection\n",
    "   \n",
    "2. Non-Interactive: \n",
    "   1. Command lines read from a file (Shell scripts)\n",
    "      - explicit: \n",
    "   2. Command line passed "
   ]
  },
  {
   "cell_type": "markdown",
   "id": "0b2e62f1",
   "metadata": {
    "hide_input": true,
    "slideshow": {
     "slide_type": "notes"
    }
   },
   "source": [
    "## NEXT\n",
    "\n",
    "### Now that we understand some basic Terminal and Shell concepts we can get on with learning some more factual / functional information\n",
    "\n",
    "- Syntax of the shell as a programming language: \n",
    "  - What the shell does beyond simple commands:\n",
    "     - loops, if, case, functions, more about variables\n",
    "- More about some the expansions the shell performs\n",
    "- Working with files and directories\n",
    "  - current working directory\n",
    "  - changing directory\n",
    "  - relative vs full path\n",
    "- I/O redirection. \n",
    "- Processes and Process control\n",
    "\n",
    "### After that we will focus on some particular Programming Tools\n"
   ]
  },
  {
   "cell_type": "markdown",
   "id": "1151a7b0",
   "metadata": {
    "slideshow": {
     "slide_type": "slide"
    }
   },
   "source": [
    "## Things worth looking at.\n",
    "\n",
    "- `help`\n",
    "- `man intro`\n",
    "- `man man`\n",
    "- `info info`\n",
    "- `info bash`\n",
    "- `man bash`  This is very big and detailed. Best to skim it and see what catches you eye. Eg.\n",
    "  - Definitions\n",
    "  - Reserved Words\n",
    "  - Shell Grammar\n",
    "    - Simple Commands\n",
    "    - Pipelines\n",
    "    - Lists\n",
    "    - Compound Commands\n",
    "  - Shell Function Definitions\n",
    "  - Shell Variables\n",
    "  - Expansion \n",
    "- `man ls`\n",
    "- `man wc`\n",
    "- `man grep`\n",
    "- `man <cmd>`\n",
    "- `info info`\n",
    "- `info bash`\n",
    "\n",
    "- Online official bash manual: https://www.gnu.org/software/bash/manual/bash.html\n",
    "- `whatis` display one-line manual page descriptions\n",
    "  - `man whatis` \n",
    "  - eg.  `whatis ls`\n",
    "- `apropos` search the manual page names and descriptions\n",
    "  - `man apropos` \n",
    "  - eg `apropos games`"
   ]
  },
  {
   "cell_type": "code",
   "execution_count": 39,
   "id": "4ecb5401-7f50-4476-9529-312a1c1bb07f",
   "metadata": {
    "jupyter": {
     "source_hidden": true
    },
    "slideshow": {
     "slide_type": "skip"
    },
    "tags": [
     "remove-cell"
    ]
   },
   "outputs": [],
   "source": [
    "del bash"
   ]
  }
 ],
 "metadata": {
  "celltoolbar": "Slideshow",
  "hide_input": true,
  "kernelspec": {
   "display_name": "Python 3 (ipykernel)",
   "language": "python",
   "name": "python3"
  },
  "language_info": {
   "codemirror_mode": {
    "name": "ipython",
    "version": 3
   },
   "file_extension": ".py",
   "mimetype": "text/x-python",
   "name": "python",
   "nbconvert_exporter": "python",
   "pygments_lexer": "ipython3",
   "version": "3.10.5"
  },
  "rise": {
   "enable_chalkboard": true,
   "footer": "UCSLS -- Lecture 1",
   "header": "UNIX and Shell Intro",
   "rise": {
    "height": "90%",
    "width": "90%"
   },
   "scroll": true,
   "start_slideshow_at": "selected",
   "transition": "none"
  }
 },
 "nbformat": 4,
 "nbformat_minor": 5
}
